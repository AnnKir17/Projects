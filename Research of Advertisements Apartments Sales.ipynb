{
 "cells": [
  {
   "cell_type": "markdown",
   "metadata": {},
   "source": [
    "# Исследование объявлений о продаже квартир\n",
    "\n",
    "В вашем распоряжении данные сервиса Яндекс.Недвижимость — архив объявлений о продаже квартир в Санкт-Петербурге и соседних населённых пунктов за несколько лет. Нужно научиться определять рыночную стоимость объектов недвижимости. Ваша задача — установить параметры. Это позволит построить автоматизированную систему: она отследит аномалии и мошенническую деятельность. \n",
    "\n",
    "По каждой квартире на продажу доступны два вида данных. Первые вписаны пользователем, вторые — получены автоматически на основе картографических данных. Например, расстояние до центра, аэропорта, ближайшего парка и водоёма. "
   ]
  },
  {
   "cell_type": "markdown",
   "metadata": {},
   "source": [
    "### Откройте файл с данными и изучите общую информацию. "
   ]
  },
  {
   "cell_type": "code",
   "execution_count": 210,
   "metadata": {},
   "outputs": [],
   "source": [
    "#импорт библиотеки pandas \n",
    "import pandas as pd\n",
    "#импорт библиотеки matplot\n",
    "import matplotlib.pyplot as plt\n",
    "\n",
    "#чтение csv-файла\n",
    "data = pd.read_csv('/datasets/real_estate_data.csv', sep='\\t')"
   ]
  },
  {
   "cell_type": "markdown",
   "metadata": {},
   "source": [
    "### Предобработка данных"
   ]
  },
  {
   "cell_type": "code",
   "execution_count": 211,
   "metadata": {},
   "outputs": [
    {
     "name": "stdout",
     "output_type": "stream",
     "text": [
      "   total_images  last_price  total_area first_day_exposition  rooms  \\\n",
      "0            20  13000000.0      108.00  2019-03-07T00:00:00      3   \n",
      "1             7   3350000.0       40.40  2018-12-04T00:00:00      1   \n",
      "2            10   5196000.0       56.00  2015-08-20T00:00:00      2   \n",
      "3             0  64900000.0      159.00  2015-07-24T00:00:00      3   \n",
      "4             2  10000000.0      100.00  2018-06-19T00:00:00      2   \n",
      "5            10   2890000.0       30.40  2018-09-10T00:00:00      1   \n",
      "6             6   3700000.0       37.30  2017-11-02T00:00:00      1   \n",
      "7             5   7915000.0       71.60  2019-04-18T00:00:00      2   \n",
      "8            20   2900000.0       33.16  2018-05-23T00:00:00      1   \n",
      "9            18   5400000.0       61.00  2017-02-26T00:00:00      3   \n",
      "\n",
      "   ceiling_height  floors_total  living_area  floor is_apartment  ...  \\\n",
      "0            2.70          16.0        51.00      8          NaN  ...   \n",
      "1             NaN          11.0        18.60      1          NaN  ...   \n",
      "2             NaN           5.0        34.30      4          NaN  ...   \n",
      "3             NaN          14.0          NaN      9          NaN  ...   \n",
      "4            3.03          14.0        32.00     13          NaN  ...   \n",
      "5             NaN          12.0        14.40      5          NaN  ...   \n",
      "6             NaN          26.0        10.60      6          NaN  ...   \n",
      "7             NaN          24.0          NaN     22          NaN  ...   \n",
      "8             NaN          27.0        15.43     26          NaN  ...   \n",
      "9            2.50           9.0        43.60      7          NaN  ...   \n",
      "\n",
      "   kitchen_area  balcony              locality_name  airports_nearest  \\\n",
      "0         25.00      NaN            Санкт-Петербург           18863.0   \n",
      "1         11.00      2.0             посёлок Шушары           12817.0   \n",
      "2          8.30      0.0            Санкт-Петербург           21741.0   \n",
      "3           NaN      0.0            Санкт-Петербург           28098.0   \n",
      "4         41.00      NaN            Санкт-Петербург           31856.0   \n",
      "5          9.10      NaN  городской посёлок Янино-1               NaN   \n",
      "6         14.40      1.0          посёлок Парголово           52996.0   \n",
      "7         18.90      2.0            Санкт-Петербург           23982.0   \n",
      "8          8.81      NaN             посёлок Мурино               NaN   \n",
      "9          6.50      2.0            Санкт-Петербург           50898.0   \n",
      "\n",
      "  cityCenters_nearest  parks_around3000  parks_nearest  ponds_around3000  \\\n",
      "0             16028.0               1.0          482.0               2.0   \n",
      "1             18603.0               0.0            NaN               0.0   \n",
      "2             13933.0               1.0           90.0               2.0   \n",
      "3              6800.0               2.0           84.0               3.0   \n",
      "4              8098.0               2.0          112.0               1.0   \n",
      "5                 NaN               NaN            NaN               NaN   \n",
      "6             19143.0               0.0            NaN               0.0   \n",
      "7             11634.0               0.0            NaN               0.0   \n",
      "8                 NaN               NaN            NaN               NaN   \n",
      "9             15008.0               0.0            NaN               0.0   \n",
      "\n",
      "   ponds_nearest  days_exposition  \n",
      "0          755.0              NaN  \n",
      "1            NaN             81.0  \n",
      "2          574.0            558.0  \n",
      "3          234.0            424.0  \n",
      "4           48.0            121.0  \n",
      "5            NaN             55.0  \n",
      "6            NaN            155.0  \n",
      "7            NaN              NaN  \n",
      "8            NaN            189.0  \n",
      "9            NaN            289.0  \n",
      "\n",
      "[10 rows x 22 columns]\n"
     ]
    }
   ],
   "source": [
    "#вывод первых 10 строк датафрейма\n",
    "print(data.head(10))"
   ]
  },
  {
   "cell_type": "code",
   "execution_count": 212,
   "metadata": {},
   "outputs": [
    {
     "name": "stdout",
     "output_type": "stream",
     "text": [
      "<class 'pandas.core.frame.DataFrame'>\n",
      "RangeIndex: 23699 entries, 0 to 23698\n",
      "Data columns (total 22 columns):\n",
      " #   Column                Non-Null Count  Dtype  \n",
      "---  ------                --------------  -----  \n",
      " 0   total_images          23699 non-null  int64  \n",
      " 1   last_price            23699 non-null  float64\n",
      " 2   total_area            23699 non-null  float64\n",
      " 3   first_day_exposition  23699 non-null  object \n",
      " 4   rooms                 23699 non-null  int64  \n",
      " 5   ceiling_height        14504 non-null  float64\n",
      " 6   floors_total          23613 non-null  float64\n",
      " 7   living_area           21796 non-null  float64\n",
      " 8   floor                 23699 non-null  int64  \n",
      " 9   is_apartment          2775 non-null   object \n",
      " 10  studio                23699 non-null  bool   \n",
      " 11  open_plan             23699 non-null  bool   \n",
      " 12  kitchen_area          21421 non-null  float64\n",
      " 13  balcony               12180 non-null  float64\n",
      " 14  locality_name         23650 non-null  object \n",
      " 15  airports_nearest      18157 non-null  float64\n",
      " 16  cityCenters_nearest   18180 non-null  float64\n",
      " 17  parks_around3000      18181 non-null  float64\n",
      " 18  parks_nearest         8079 non-null   float64\n",
      " 19  ponds_around3000      18181 non-null  float64\n",
      " 20  ponds_nearest         9110 non-null   float64\n",
      " 21  days_exposition       20518 non-null  float64\n",
      "dtypes: bool(2), float64(14), int64(3), object(3)\n",
      "memory usage: 3.7+ MB\n"
     ]
    }
   ],
   "source": [
    "#вывод основной информации о датафрейме \n",
    "data.info()"
   ]
  },
  {
   "cell_type": "code",
   "execution_count": 213,
   "metadata": {},
   "outputs": [
    {
     "data": {
      "text/plain": [
       "array([[<AxesSubplot:title={'center':'total_images'}>,\n",
       "        <AxesSubplot:title={'center':'last_price'}>,\n",
       "        <AxesSubplot:title={'center':'total_area'}>,\n",
       "        <AxesSubplot:title={'center':'rooms'}>],\n",
       "       [<AxesSubplot:title={'center':'ceiling_height'}>,\n",
       "        <AxesSubplot:title={'center':'floors_total'}>,\n",
       "        <AxesSubplot:title={'center':'living_area'}>,\n",
       "        <AxesSubplot:title={'center':'floor'}>],\n",
       "       [<AxesSubplot:title={'center':'kitchen_area'}>,\n",
       "        <AxesSubplot:title={'center':'balcony'}>,\n",
       "        <AxesSubplot:title={'center':'airports_nearest'}>,\n",
       "        <AxesSubplot:title={'center':'cityCenters_nearest'}>],\n",
       "       [<AxesSubplot:title={'center':'parks_around3000'}>,\n",
       "        <AxesSubplot:title={'center':'parks_nearest'}>,\n",
       "        <AxesSubplot:title={'center':'ponds_around3000'}>,\n",
       "        <AxesSubplot:title={'center':'ponds_nearest'}>],\n",
       "       [<AxesSubplot:title={'center':'days_exposition'}>, <AxesSubplot:>,\n",
       "        <AxesSubplot:>, <AxesSubplot:>]], dtype=object)"
      ]
     },
     "execution_count": 213,
     "metadata": {},
     "output_type": "execute_result"
    },
    {
     "data": {
      "image/png": "[encoded data removed]",
      "text/plain": [
       "<Figure size 1080x1440 with 20 Axes>"
      ]
     },
     "metadata": {
      "needs_background": "light"
     },
     "output_type": "display_data"
    }
   ],
   "source": [
    "#построение общей гистограммы для всех числовых столбцов датафрейма \n",
    "data.hist(figsize=(15, 20))"
   ]
  },
  {
   "cell_type": "code",
   "execution_count": 214,
   "metadata": {},
   "outputs": [
    {
     "data": {
      "text/plain": [
       "total_images                0\n",
       "last_price                  0\n",
       "total_area                  0\n",
       "first_day_exposition        0\n",
       "rooms                       0\n",
       "ceiling_height           9195\n",
       "floors_total               86\n",
       "living_area              1903\n",
       "floor                       0\n",
       "is_apartment            20924\n",
       "studio                      0\n",
       "open_plan                   0\n",
       "kitchen_area             2278\n",
       "balcony                 11519\n",
       "locality_name              49\n",
       "airports_nearest         5542\n",
       "cityCenters_nearest      5519\n",
       "parks_around3000         5518\n",
       "parks_nearest           15620\n",
       "ponds_around3000         5518\n",
       "ponds_nearest           14589\n",
       "days_exposition          3181\n",
       "dtype: int64"
      ]
     },
     "execution_count": 214,
     "metadata": {},
     "output_type": "execute_result"
    }
   ],
   "source": [
    "#вывод количества пропущенных значений для каждого столбца\n",
    "data.isnull().sum()"
   ]
  },
  {
   "cell_type": "code",
   "execution_count": 215,
   "metadata": {},
   "outputs": [
    {
     "data": {
      "text/plain": [
       "0"
      ]
     },
     "execution_count": 215,
     "metadata": {},
     "output_type": "execute_result"
    }
   ],
   "source": [
    "#проверка датафрейма на наличие явных дубликатов \n",
    "data.duplicated().sum()"
   ]
  },
  {
   "cell_type": "markdown",
   "metadata": {},
   "source": [
    "Пояснения: предлагается заменить пропущенные значения в столбце ceiling_height и floors_total медианным значением, а далее устранить выбивающиеся значения, в столбце balcony пропущенные значения заменить на 0, есть вероятность, что в этих квартирах нет балконов, в столбце locality_name пропущенные значения заменим на \"неопределены\", в столбце park_round3000 также заменим значения на 0, так как возможно в радиусе 3 км нет парков, в столбце ponds_around3000  также заменим значения на 0, так как возможно в радиусе 3 км нет водоемов "
   ]
  },
  {
   "cell_type": "code",
   "execution_count": 216,
   "metadata": {},
   "outputs": [
    {
     "name": "stdout",
     "output_type": "stream",
     "text": [
      "0\n"
     ]
    }
   ],
   "source": [
    "#замена пропущенных значений и вывод количества пропусков \n",
    "data['balcony'] = data['balcony'].fillna(0)\n",
    "print(data['balcony'].isna().sum())"
   ]
  },
  {
   "cell_type": "code",
   "execution_count": 217,
   "metadata": {},
   "outputs": [
    {
     "name": "stdout",
     "output_type": "stream",
     "text": [
      "0\n"
     ]
    }
   ],
   "source": [
    "#замена пропущенных значений в столбце ceiling_height и вывод количества пропусков \n",
    "median_ceiling_height = data['ceiling_height'].median()\n",
    "data['ceiling_height'] = data['ceiling_height'].fillna(median_ceiling_height)\n",
    "print(data['ceiling_height'].isna().sum())"
   ]
  },
  {
   "cell_type": "code",
   "execution_count": 218,
   "metadata": {},
   "outputs": [
    {
     "name": "stdout",
     "output_type": "stream",
     "text": [
      "0\n"
     ]
    }
   ],
   "source": [
    "#заполнение пропущенных значений в столбце locality_name и вывод количества пропусков \n",
    "data['locality_name'] = data['locality_name'].fillna('undefined')\n",
    "print(data['locality_name'].isna().sum())"
   ]
  },
  {
   "cell_type": "code",
   "execution_count": 219,
   "metadata": {},
   "outputs": [
    {
     "name": "stdout",
     "output_type": "stream",
     "text": [
      "0\n"
     ]
    }
   ],
   "source": [
    "#заполнение пропущенных значений в столбце floors_total и вывод количества пропущенных значений \n",
    "median_floors_total = data['floors_total'].median()\n",
    "data['floors_total'] = data['floors_total'].fillna(median_floors_total)\n",
    "print(data['floors_total'].isna().sum())"
   ]
  },
  {
   "cell_type": "code",
   "execution_count": 220,
   "metadata": {},
   "outputs": [
    {
     "name": "stdout",
     "output_type": "stream",
     "text": [
      "0\n"
     ]
    }
   ],
   "source": [
    "#устранение пропусков в столбце is_apartment и вывод количества пропущенных значений\n",
    "data['is_apartment'] = data['is_apartment'].fillna('False')\n",
    "print(data['is_apartment'].isna().sum())"
   ]
  },
  {
   "cell_type": "code",
   "execution_count": 221,
   "metadata": {},
   "outputs": [
    {
     "name": "stdout",
     "output_type": "stream",
     "text": [
      "0\n"
     ]
    }
   ],
   "source": [
    "#устранение пропусков в столбце parks_around3000 и вывод количества пропущенных значений\n",
    "data['parks_around3000'] = data['parks_around3000'].fillna(0)\n",
    "print(data['parks_around3000'].isna().sum())"
   ]
  },
  {
   "cell_type": "code",
   "execution_count": 222,
   "metadata": {},
   "outputs": [
    {
     "name": "stdout",
     "output_type": "stream",
     "text": [
      "0\n"
     ]
    }
   ],
   "source": [
    "#устранение пропусков в столбце ponds_around3000 и вывод количества пропущенных значений\n",
    "data['ponds_around3000'] = data['ponds_around3000'].fillna(0)\n",
    "print(data['ponds_around3000'].isna().sum())"
   ]
  },
  {
   "cell_type": "code",
   "execution_count": 223,
   "metadata": {},
   "outputs": [
    {
     "name": "stdout",
     "output_type": "stream",
     "text": [
      "   total_images  last_price  total_area first_day_exposition  rooms  \\\n",
      "0            20  13000000.0      108.00  2019-03-07T00:00:00      3   \n",
      "1             7   3350000.0       40.40  2018-12-04T00:00:00      1   \n",
      "2            10   5196000.0       56.00  2015-08-20T00:00:00      2   \n",
      "3             0  64900000.0      159.00  2015-07-24T00:00:00      3   \n",
      "4             2  10000000.0      100.00  2018-06-19T00:00:00      2   \n",
      "5            10   2890000.0       30.40  2018-09-10T00:00:00      1   \n",
      "6             6   3700000.0       37.30  2017-11-02T00:00:00      1   \n",
      "7             5   7915000.0       71.60  2019-04-18T00:00:00      2   \n",
      "8            20   2900000.0       33.16  2018-05-23T00:00:00      1   \n",
      "9            18   5400000.0       61.00  2017-02-26T00:00:00      3   \n",
      "\n",
      "   ceiling_height  floors_total  living_area  floor is_apartment  ...  \\\n",
      "0            2.70          16.0        51.00      8        False  ...   \n",
      "1            2.65          11.0        18.60      1        False  ...   \n",
      "2            2.65           5.0        34.30      4        False  ...   \n",
      "3            2.65          14.0          NaN      9        False  ...   \n",
      "4            3.03          14.0        32.00     13        False  ...   \n",
      "5            2.65          12.0        14.40      5        False  ...   \n",
      "6            2.65          26.0        10.60      6        False  ...   \n",
      "7            2.65          24.0          NaN     22        False  ...   \n",
      "8            2.65          27.0        15.43     26        False  ...   \n",
      "9            2.50           9.0        43.60      7        False  ...   \n",
      "\n",
      "   kitchen_area  balcony              locality_name  airports_nearest  \\\n",
      "0         25.00      0.0            Санкт-Петербург           18863.0   \n",
      "1         11.00      2.0             посёлок Шушары           12817.0   \n",
      "2          8.30      0.0            Санкт-Петербург           21741.0   \n",
      "3           NaN      0.0            Санкт-Петербург           28098.0   \n",
      "4         41.00      0.0            Санкт-Петербург           31856.0   \n",
      "5          9.10      0.0  городской посёлок Янино-1               NaN   \n",
      "6         14.40      1.0          посёлок Парголово           52996.0   \n",
      "7         18.90      2.0            Санкт-Петербург           23982.0   \n",
      "8          8.81      0.0             посёлок Мурино               NaN   \n",
      "9          6.50      2.0            Санкт-Петербург           50898.0   \n",
      "\n",
      "  cityCenters_nearest  parks_around3000  parks_nearest  ponds_around3000  \\\n",
      "0             16028.0               1.0          482.0               2.0   \n",
      "1             18603.0               0.0            NaN               0.0   \n",
      "2             13933.0               1.0           90.0               2.0   \n",
      "3              6800.0               2.0           84.0               3.0   \n",
      "4              8098.0               2.0          112.0               1.0   \n",
      "5                 NaN               0.0            NaN               0.0   \n",
      "6             19143.0               0.0            NaN               0.0   \n",
      "7             11634.0               0.0            NaN               0.0   \n",
      "8                 NaN               0.0            NaN               0.0   \n",
      "9             15008.0               0.0            NaN               0.0   \n",
      "\n",
      "   ponds_nearest  days_exposition  \n",
      "0          755.0              NaN  \n",
      "1            NaN             81.0  \n",
      "2          574.0            558.0  \n",
      "3          234.0            424.0  \n",
      "4           48.0            121.0  \n",
      "5            NaN             55.0  \n",
      "6            NaN            155.0  \n",
      "7            NaN              NaN  \n",
      "8            NaN            189.0  \n",
      "9            NaN            289.0  \n",
      "\n",
      "[10 rows x 22 columns]\n"
     ]
    }
   ],
   "source": [
    "#устранение некорректных значений в столбце floors_total\n",
    "def floors(row):\n",
    "    floor = row['floor']\n",
    "    floors_total = row['floors_total']\n",
    "    if floor > floors_total:\n",
    "        return floor\n",
    "    else:\n",
    "        return floors_total\n",
    "data['floors_total'] = data[['floors_total', 'floor']].apply(floors, axis=1)\n",
    "print(data.head(10))"
   ]
  },
  {
   "cell_type": "code",
   "execution_count": 224,
   "metadata": {},
   "outputs": [
    {
     "name": "stdout",
     "output_type": "stream",
     "text": [
      "<class 'pandas.core.frame.DataFrame'>\n",
      "RangeIndex: 23699 entries, 0 to 23698\n",
      "Data columns (total 22 columns):\n",
      " #   Column                Non-Null Count  Dtype         \n",
      "---  ------                --------------  -----         \n",
      " 0   total_images          23699 non-null  int64         \n",
      " 1   last_price            23699 non-null  float64       \n",
      " 2   total_area            23699 non-null  float64       \n",
      " 3   first_day_exposition  23699 non-null  datetime64[ns]\n",
      " 4   rooms                 23699 non-null  int64         \n",
      " 5   ceiling_height        23699 non-null  float64       \n",
      " 6   floors_total          23699 non-null  int64         \n",
      " 7   living_area           21796 non-null  float64       \n",
      " 8   floor                 23699 non-null  int64         \n",
      " 9   is_apartment          23699 non-null  bool          \n",
      " 10  studio                23699 non-null  bool          \n",
      " 11  open_plan             23699 non-null  bool          \n",
      " 12  kitchen_area          21421 non-null  float64       \n",
      " 13  balcony               23699 non-null  float64       \n",
      " 14  locality_name         23699 non-null  object        \n",
      " 15  airports_nearest      18157 non-null  float64       \n",
      " 16  cityCenters_nearest   18180 non-null  float64       \n",
      " 17  parks_around3000      23699 non-null  float64       \n",
      " 18  parks_nearest         8079 non-null   float64       \n",
      " 19  ponds_around3000      23699 non-null  float64       \n",
      " 20  ponds_nearest         9110 non-null   float64       \n",
      " 21  days_exposition       20518 non-null  float64       \n",
      "dtypes: bool(3), datetime64[ns](1), float64(13), int64(4), object(1)\n",
      "memory usage: 3.5+ MB\n"
     ]
    }
   ],
   "source": [
    "#изменение типа данных для столбца total_images \n",
    "data['total_images'] = data['total_images'].astype('int')\n",
    "\n",
    "#изменение типа данных для столбца is_apartament\n",
    "data['is_apartment'] = data['is_apartment'].astype('bool')\n",
    "\n",
    "#изменение типа данных для столбца ceiling_height\n",
    "data['ceiling_height'] = data['ceiling_height'].astype('float')\n",
    "\n",
    "#приведение столбца first_day_exposition в datatime \n",
    "data['first_day_exposition'] = pd.to_datetime(data['first_day_exposition'], format='%Y-%m-%dT%H:%M:%S')\n",
    "\n",
    "#изменение типа данных для столбца floors_total \n",
    "data['floors_total'] = data['floors_total'].astype('int')\n",
    "\n",
    "#изменение типа данных для столбца rooms\n",
    "data['rooms'] = data['rooms'].astype('int')\n",
    "\n",
    "#вывод информации по датафрейму\n",
    "data.info()"
   ]
  },
  {
   "cell_type": "markdown",
   "metadata": {},
   "source": [
    "Пояснения: total_images приводим к целому числу, is_apartment - приводим к булевому типу данных, celing_height приводим к дробному числу,  first_day_exposition приводим к типа дататайм,  floors_total приводим к целому числу, rooms приводим к целому числу.  \n",
    "Изменение типов данных обсуловлено для удобства манипуляции с данными и приведением к удобному виду. "
   ]
  },
  {
   "cell_type": "code",
   "execution_count": 225,
   "metadata": {},
   "outputs": [
    {
     "data": {
      "text/plain": [
       "Санкт-Петербург            15721\n",
       "посёлок Мурино               522\n",
       "посёлок Шушары               440\n",
       "Всеволожск                   398\n",
       "Пушкин                       369\n",
       "                           ...  \n",
       "посёлок Петро-Славянка         1\n",
       "посёлок Дзержинского           1\n",
       "деревня Иссад                  1\n",
       "деревня Малая Романовка        1\n",
       "посёлок Сумино                 1\n",
       "Name: locality_name, Length: 365, dtype: int64"
      ]
     },
     "execution_count": 225,
     "metadata": {},
     "output_type": "execute_result"
    }
   ],
   "source": [
    "#вывод уникальных значений в столбце locality_name\n",
    "data['locality_name'].value_counts()"
   ]
  },
  {
   "cell_type": "code",
   "execution_count": 226,
   "metadata": {},
   "outputs": [
    {
     "data": {
      "text/plain": [
       "array(['Санкт-Петербург', 'посёлок Шушары', 'городской посёлок Янино-1',\n",
       "       'посёлок Парголово', 'посёлок Мурино', 'Ломоносов', 'Сертолово',\n",
       "       'Петергоф', 'Пушкин', 'деревня Кудрово', 'Коммунар', 'Колпино',\n",
       "       'поселок городского типа Красный Бор', 'Гатчина', 'поселок Мурино',\n",
       "       'деревня Фёдоровское', 'Выборг', 'Кронштадт', 'Кировск',\n",
       "       'деревня Новое Девяткино', 'посёлок Металлострой',\n",
       "       'посёлок городского типа Лебяжье',\n",
       "       'посёлок городского типа Сиверский', 'поселок Молодцово',\n",
       "       'поселок городского типа Кузьмоловский',\n",
       "       'садовое товарищество Новая Ропша', 'Павловск',\n",
       "       'деревня Пикколово', 'Всеволожск', 'Волхов', 'Кингисепп',\n",
       "       'Приозерск', 'Сестрорецк', 'деревня Куттузи', 'посёлок Аннино',\n",
       "       'поселок городского типа Ефимовский', 'посёлок Плодовое',\n",
       "       'деревня Заклинье', 'поселок Торковичи', 'поселок Первомайское',\n",
       "       'Красное Село', 'посёлок Понтонный', 'Сясьстрой', 'деревня Старая',\n",
       "       'деревня Лесколово', 'посёлок Новый Свет', 'Сланцы',\n",
       "       'село Путилово', 'Ивангород', 'Мурино', 'Шлиссельбург',\n",
       "       'Никольское', 'Зеленогорск', 'Сосновый Бор', 'поселок Новый Свет',\n",
       "       'деревня Оржицы', 'деревня Кальтино', 'Кудрово',\n",
       "       'поселок Романовка', 'посёлок Бугры', 'поселок Бугры',\n",
       "       'поселок городского типа Рощино', 'Кириши', 'Луга', 'Волосово',\n",
       "       'Отрадное', 'село Павлово', 'поселок Оредеж', 'село Копорье',\n",
       "       'посёлок городского типа Красный Бор', 'посёлок Молодёжное',\n",
       "       'Тихвин', 'посёлок Победа', 'деревня Нурма',\n",
       "       'поселок городского типа Синявино', 'Тосно',\n",
       "       'посёлок городского типа Кузьмоловский', 'посёлок Стрельна',\n",
       "       'Бокситогорск', 'посёлок Александровская', 'деревня Лопухинка',\n",
       "       'Пикалёво', 'поселок Терволово',\n",
       "       'поселок городского типа Советский', 'Подпорожье',\n",
       "       'посёлок Петровское', 'посёлок городского типа Токсово',\n",
       "       'поселок Сельцо', 'посёлок городского типа Вырица',\n",
       "       'деревня Кипень', 'деревня Келози', 'деревня Вартемяги',\n",
       "       'посёлок Тельмана', 'поселок Севастьяново',\n",
       "       'городской поселок Большая Ижора', 'undefined',\n",
       "       'городской посёлок Павлово', 'деревня Агалатово',\n",
       "       'посёлок Новогорелово', 'городской посёлок Лесогорский',\n",
       "       'деревня Лаголово', 'поселок Цвелодубово',\n",
       "       'поселок городского типа Рахья', 'поселок городского типа Вырица',\n",
       "       'деревня Белогорка', 'поселок Заводской',\n",
       "       'городской посёлок Новоселье', 'деревня Большие Колпаны',\n",
       "       'деревня Горбунки', 'деревня Батово', 'деревня Заневка',\n",
       "       'деревня Иссад', 'Приморск', 'городской посёлок Фёдоровское',\n",
       "       'деревня Мистолово', 'Новая Ладога', 'поселок Зимитицы',\n",
       "       'поселок Барышево', 'деревня Разметелево',\n",
       "       'поселок городского типа имени Свердлова', 'деревня Пеники',\n",
       "       'поселок Рябово', 'деревня Пудомяги', 'поселок станции Корнево',\n",
       "       'деревня Низино', 'деревня Бегуницы', 'посёлок Поляны',\n",
       "       'городской посёлок Мга', 'поселок Елизаветино',\n",
       "       'посёлок городского типа Кузнечное', 'деревня Колтуши',\n",
       "       'поселок Запорожское', 'посёлок городского типа Рощино',\n",
       "       'деревня Гостилицы', 'деревня Малое Карлино',\n",
       "       'посёлок Мичуринское', 'посёлок городского типа имени Морозова',\n",
       "       'посёлок Песочный', 'посёлок Сосново', 'деревня Аро',\n",
       "       'поселок Ильичёво', 'посёлок городского типа Тайцы',\n",
       "       'деревня Малое Верево', 'деревня Извара', 'поселок станции Вещево',\n",
       "       'село Паша', 'деревня Калитино',\n",
       "       'посёлок городского типа Ульяновка', 'деревня Чудской Бор',\n",
       "       'поселок городского типа Дубровка', 'деревня Мины',\n",
       "       'поселок Войсковицы', 'посёлок городского типа имени Свердлова',\n",
       "       'деревня Коркино', 'посёлок Ропша',\n",
       "       'поселок городского типа Приладожский', 'посёлок Щеглово',\n",
       "       'посёлок Гаврилово', 'Лодейное Поле', 'деревня Рабитицы',\n",
       "       'поселок городского типа Никольский', 'деревня Кузьмолово',\n",
       "       'деревня Малые Колпаны', 'поселок Тельмана',\n",
       "       'посёлок Петро-Славянка', 'городской посёлок Назия',\n",
       "       'посёлок Репино', 'посёлок Ильичёво', 'поселок Углово',\n",
       "       'поселок Старая Малукса', 'садовое товарищество Рахья',\n",
       "       'поселок Аннино', 'поселок Победа', 'деревня Меньково',\n",
       "       'деревня Старые Бегуницы', 'посёлок Сапёрный', 'поселок Семрино',\n",
       "       'поселок Гаврилово', 'поселок Глажево', 'поселок Кобринское',\n",
       "       'деревня Гарболово', 'деревня Юкки',\n",
       "       'поселок станции Приветнинское', 'деревня Мануйлово',\n",
       "       'деревня Пчева', 'поселок Поляны', 'поселок Цвылёво',\n",
       "       'поселок Мельниково', 'посёлок Пудость', 'посёлок Усть-Луга',\n",
       "       'Светогорск', 'Любань', 'поселок Селезнёво',\n",
       "       'поселок городского типа Рябово', 'Каменногорск', 'деревня Кривко',\n",
       "       'поселок Глебычево', 'деревня Парицы', 'поселок Жилпосёлок',\n",
       "       'посёлок городского типа Мга', 'городской поселок Янино-1',\n",
       "       'посёлок Войскорово', 'село Никольское', 'посёлок Терволово',\n",
       "       'поселок Стеклянный', 'посёлок городского типа Важины',\n",
       "       'посёлок Мыза-Ивановка', 'село Русско-Высоцкое',\n",
       "       'поселок городского типа Лебяжье',\n",
       "       'поселок городского типа Форносово', 'село Старая Ладога',\n",
       "       'поселок Житково', 'городской посёлок Виллози', 'деревня Лампово',\n",
       "       'деревня Шпаньково', 'деревня Лаврики', 'посёлок Сумино',\n",
       "       'посёлок Возрождение', 'деревня Старосиверская',\n",
       "       'посёлок Кикерино', 'поселок Возрождение',\n",
       "       'деревня Старое Хинколово', 'посёлок Пригородный',\n",
       "       'посёлок Торфяное', 'городской посёлок Будогощь',\n",
       "       'поселок Суходолье', 'поселок Красная Долина', 'деревня Хапо-Ое',\n",
       "       'поселок городского типа Дружная Горка', 'поселок Лисий Нос',\n",
       "       'деревня Яльгелево', 'посёлок Стеклянный', 'село Рождествено',\n",
       "       'деревня Старополье', 'посёлок Левашово', 'деревня Сяськелево',\n",
       "       'деревня Камышовка',\n",
       "       'садоводческое некоммерческое товарищество Лесная Поляна',\n",
       "       'деревня Хязельки', 'поселок Жилгородок',\n",
       "       'посёлок городского типа Павлово', 'деревня Ялгино',\n",
       "       'поселок Новый Учхоз', 'городской посёлок Рощино',\n",
       "       'поселок Гончарово', 'поселок Почап', 'посёлок Сапёрное',\n",
       "       'посёлок Платформа 69-й километр', 'поселок Каложицы',\n",
       "       'деревня Фалилеево', 'деревня Пельгора',\n",
       "       'поселок городского типа Лесогорский', 'деревня Торошковичи',\n",
       "       'посёлок Белоостров', 'посёлок Алексеевка', 'поселок Серебрянский',\n",
       "       'поселок Лукаши', 'поселок Петровское', 'деревня Щеглово',\n",
       "       'поселок Мичуринское', 'деревня Тарасово', 'поселок Кингисеппский',\n",
       "       'посёлок при железнодорожной станции Вещево', 'поселок Ушаки',\n",
       "       'деревня Котлы', 'деревня Сижно', 'деревня Торосово',\n",
       "       'посёлок Форт Красная Горка', 'поселок городского типа Токсово',\n",
       "       'деревня Новолисино', 'посёлок станции Громово', 'деревня Глинка',\n",
       "       'посёлок Мельниково', 'поселок городского типа Назия',\n",
       "       'деревня Старая Пустошь', 'поселок Коммунары', 'поселок Починок',\n",
       "       'посёлок городского типа Вознесенье', 'деревня Разбегаево',\n",
       "       'посёлок городского типа Рябово', 'поселок Гладкое',\n",
       "       'посёлок при железнодорожной станции Приветнинское',\n",
       "       'поселок Тёсово-4', 'посёлок Жилгородок', 'деревня Бор',\n",
       "       'посёлок Коробицыно', 'деревня Большая Вруда', 'деревня Курковицы',\n",
       "       'посёлок Лисий Нос', 'городской посёлок Советский',\n",
       "       'посёлок Кобралово', 'деревня Суоранда', 'поселок Кобралово',\n",
       "       'поселок городского типа Кондратьево',\n",
       "       'коттеджный поселок Счастье', 'поселок Любань', 'деревня Реброво',\n",
       "       'деревня Зимитицы', 'деревня Тойворово', 'поселок Семиозерье',\n",
       "       'поселок Лесное', 'поселок Совхозный', 'поселок Усть-Луга',\n",
       "       'посёлок Ленинское', 'посёлок Суйда',\n",
       "       'посёлок городского типа Форносово', 'деревня Нижние Осельки',\n",
       "       'посёлок станции Свирь', 'поселок Перово', 'Высоцк',\n",
       "       'поселок Гарболово', 'село Шум', 'поселок Котельский',\n",
       "       'поселок станции Лужайка', 'деревня Большая Пустомержа',\n",
       "       'поселок Красносельское', 'деревня Вахнова Кара', 'деревня Пижма',\n",
       "       'коттеджный поселок Кивеннапа Север', 'поселок Коробицыно',\n",
       "       'поселок Ромашки', 'посёлок Перово', 'деревня Каськово',\n",
       "       'деревня Куровицы', 'посёлок Плоское', 'поселок Сумино',\n",
       "       'поселок городского типа Большая Ижора', 'поселок Кирпичное',\n",
       "       'деревня Ям-Тесово', 'деревня Раздолье', 'деревня Терпилицы',\n",
       "       'посёлок Шугозеро', 'деревня Ваганово', 'поселок Пушное',\n",
       "       'садовое товарищество Садко', 'посёлок Усть-Ижора',\n",
       "       'деревня Выскатка', 'городской посёлок Свирьстрой',\n",
       "       'поселок Громово', 'деревня Кисельня', 'посёлок Старая Малукса',\n",
       "       'деревня Трубников Бор', 'поселок Калитино',\n",
       "       'посёлок Высокоключевой', 'садовое товарищество Приладожский',\n",
       "       'посёлок Пансионат Зелёный Бор', 'деревня Ненимяки',\n",
       "       'поселок Пансионат Зелёный Бор', 'деревня Снегирёвка',\n",
       "       'деревня Рапполово', 'деревня Пустынка', 'поселок Рабитицы',\n",
       "       'деревня Большой Сабск', 'деревня Русско', 'деревня Лупполово',\n",
       "       'деревня Большое Рейзино', 'деревня Малая Романовка',\n",
       "       'поселок Дружноселье', 'поселок Пчевжа', 'поселок Володарское',\n",
       "       'деревня Нижняя', 'коттеджный посёлок Лесное', 'деревня Тихковицы',\n",
       "       'деревня Борисова Грива', 'посёлок Дзержинского'], dtype=object)"
      ]
     },
     "execution_count": 226,
     "metadata": {},
     "output_type": "execute_result"
    }
   ],
   "source": [
    "#поиск дубликатов в столбце locality_name\n",
    "data['locality_name'].unique()"
   ]
  },
  {
   "cell_type": "code",
   "execution_count": 227,
   "metadata": {},
   "outputs": [
    {
     "name": "stdout",
     "output_type": "stream",
     "text": [
      "0    Санкт-Петербург\n",
      "1             Шушары\n",
      "2    Санкт-Петербург\n",
      "3    Санкт-Петербург\n",
      "4    Санкт-Петербург\n",
      "5            Янино-1\n",
      "6          Парголово\n",
      "7    Санкт-Петербург\n",
      "8             Мурино\n",
      "9    Санкт-Петербург\n",
      "Name: locality_name, dtype: object\n"
     ]
    }
   ],
   "source": [
    "#устранение неявных дубликатов\n",
    "def local_name(row):\n",
    "    if 'Шушары' in row:\n",
    "        return 'Шушары'\n",
    "    elif 'Янино-1' in row:\n",
    "        return 'Янино-1'\n",
    "    elif 'Парголово' in row:\n",
    "        return 'Парголово'\n",
    "    elif 'Мурино' in row:\n",
    "        return 'Мурино'\n",
    "    elif 'Кудрово' in row:\n",
    "        return 'Кудрово'\n",
    "    elif 'Красный Бор' in row:\n",
    "        return 'Красный Бор'\n",
    "    elif 'Фёдоровское' in row:\n",
    "        return 'Фёдоровское'\n",
    "    elif 'Новое Девяткино' in row:\n",
    "        return 'Новое Девяткино'\n",
    "    elif 'Металлострой' in row:\n",
    "        return 'Металлострой'\n",
    "    elif 'Лебяжье' in row:\n",
    "        return 'Лебяжье'\n",
    "    elif 'Северский' in row:\n",
    "        return 'Северский'\n",
    "    elif 'Молодцово' in row:\n",
    "        return 'Молодцово'\n",
    "    elif 'Кузьмоловский' in row:\n",
    "        return 'Кузьмоловский'\n",
    "    elif 'Аннино' in row:\n",
    "        return 'Аннино'\n",
    "    elif 'Новая Ропша' in row:\n",
    "        return 'Новая Ропша'\n",
    "    elif 'Пикколово' in row:\n",
    "        return 'Пикколово'\n",
    "    elif 'Куттузи' in row:\n",
    "        return 'Куттузи'\n",
    "    elif 'Ефимовский' in row:\n",
    "        return 'Ефимовский'\n",
    "    elif 'Плодовое' in row:\n",
    "        return 'Плодовое'\n",
    "    elif 'Заклинье' in row:\n",
    "        return 'Заклинье'\n",
    "    elif 'Торковичи' in row:\n",
    "        return 'Торковичи'\n",
    "    elif 'Первомайское' in row:\n",
    "        return 'Первомайское'\n",
    "    elif 'Понтонный' in row:\n",
    "        return 'Понтонный'\n",
    "    elif 'Токсово' in row:\n",
    "        return 'Токсово'\n",
    "    elif 'Старая Малукса' in row:\n",
    "        return 'Старая Малукса'\n",
    "    elif 'Путилово' in row:\n",
    "        return 'Путилово'\n",
    "    elif 'Никольское' in row:\n",
    "        return 'Никольское'\n",
    "    elif 'Корнево' in row:\n",
    "        return 'Корнево'\n",
    "    elif 'Морозова' in row:\n",
    "        return 'Морозова'\n",
    "    elif 'Новогорелово' in row:\n",
    "        return 'Новогорелово'\n",
    "    elif 'Павлово' in row:\n",
    "        return 'село Павлово'\n",
    "    elif 'Победа' in row:\n",
    "        return 'Победа'\n",
    "    elif 'Терволово' in row:\n",
    "        return 'Терволово'\n",
    "    elif 'Советский' in row:\n",
    "        return 'Советский'\n",
    "    elif 'Вырица' in row:\n",
    "        return 'Вырица'\n",
    "    elif 'Тельмана' in row:\n",
    "        return 'Тельмана'\n",
    "    elif 'Большая Ижора' in row:\n",
    "        return 'Большая Ижора'\n",
    "    elif 'Рахья' in row:\n",
    "        return 'Рахья'\n",
    "    elif 'Зимитицы' in row:\n",
    "        return 'Зимитицы'\n",
    "    elif 'Свердлова' in row:\n",
    "        return 'Свердлова'\n",
    "    elif 'Рябово' in row:\n",
    "        return 'Рябово'\n",
    "    elif 'Поляны' in row:\n",
    "        return 'Поляны'\n",
    "    elif 'Мга' in row:\n",
    "        return 'Мга'\n",
    "    elif 'Ильичёво' in row:\n",
    "        return 'Ильичёво'\n",
    "    elif 'Гаврилово' in row:\n",
    "        return 'Гаврилово'\n",
    "    elif 'Назия' in row:\n",
    "        return 'Назия'\n",
    "    elif 'Гарболово' in row:\n",
    "        return 'Гарболово'\n",
    "    elif 'Приветнинское' in row:\n",
    "        return 'Приветнинское'\n",
    "    elif 'Мельниково' in row:\n",
    "        return 'Мельниково'\n",
    "    elif 'Усть-Луга' in row:\n",
    "        return 'Усть-Луга'\n",
    "    elif 'Любань' in row:\n",
    "        return 'Любань'\n",
    "    elif 'Стеклянный' in row:\n",
    "        return 'Стеклянный'\n",
    "    elif 'Форносово' in row:\n",
    "        return 'Форносово'\n",
    "    elif 'Сумино' in row:\n",
    "        return 'Сумино'\n",
    "    elif 'Возрождение' in row:\n",
    "        return 'Возрождение'\n",
    "    elif 'Лисий Нос' in row:\n",
    "        return 'Лисий Нос'\n",
    "    elif 'Жилгородок' in row:\n",
    "        return 'Жилгородок'\n",
    "    elif 'Громово' in row:\n",
    "        return 'Громово'\n",
    "    elif 'Ромашки' in row:\n",
    "        return 'Ромашки'\n",
    "    elif 'Кобралово' in row:\n",
    "        return 'Кобралово'\n",
    "    elif 'Перово' in row:\n",
    "        return 'Перово'\n",
    "    elif 'Пансионат Зелёный Бор' in row:\n",
    "        return 'Пансионат Зелёный Бор'\n",
    "    elif 'Свирьстрой' in row:\n",
    "        return 'Свирьстрой'\n",
    "    elif 'Репино' in row:\n",
    "        return 'Репино'\n",
    "    elif 'Мистолово' in row:\n",
    "        return 'Мистолово'\n",
    "    elif 'Левашово' in row:\n",
    "        return 'Левашово'\n",
    "    else:\n",
    "        return row\n",
    "\n",
    "data['locality_name'] = data['locality_name'].apply(local_name)\n",
    "print(data['locality_name'].head(10))"
   ]
  },
  {
   "cell_type": "code",
   "execution_count": 228,
   "metadata": {},
   "outputs": [
    {
     "data": {
      "text/html": [
       "<div>\n",
       "<style scoped>\n",
       "    .dataframe tbody tr th:only-of-type {\n",
       "        vertical-align: middle;\n",
       "    }\n",
       "\n",
       "    .dataframe tbody tr th {\n",
       "        vertical-align: top;\n",
       "    }\n",
       "\n",
       "    .dataframe thead th {\n",
       "        text-align: right;\n",
       "    }\n",
       "</style>\n",
       "<table border=\"1\" class=\"dataframe\">\n",
       "  <thead>\n",
       "    <tr style=\"text-align: right;\">\n",
       "      <th></th>\n",
       "      <th>total_images</th>\n",
       "      <th>last_price</th>\n",
       "      <th>total_area</th>\n",
       "      <th>first_day_exposition</th>\n",
       "      <th>rooms</th>\n",
       "      <th>ceiling_height</th>\n",
       "      <th>floors_total</th>\n",
       "      <th>living_area</th>\n",
       "      <th>floor</th>\n",
       "      <th>is_apartment</th>\n",
       "      <th>...</th>\n",
       "      <th>kitchen_area</th>\n",
       "      <th>balcony</th>\n",
       "      <th>locality_name</th>\n",
       "      <th>airports_nearest</th>\n",
       "      <th>cityCenters_nearest</th>\n",
       "      <th>parks_around3000</th>\n",
       "      <th>parks_nearest</th>\n",
       "      <th>ponds_around3000</th>\n",
       "      <th>ponds_nearest</th>\n",
       "      <th>days_exposition</th>\n",
       "    </tr>\n",
       "  </thead>\n",
       "  <tbody>\n",
       "    <tr>\n",
       "      <th>0</th>\n",
       "      <td>20</td>\n",
       "      <td>13000000.0</td>\n",
       "      <td>108.0</td>\n",
       "      <td>2019-03-07</td>\n",
       "      <td>3</td>\n",
       "      <td>2.70</td>\n",
       "      <td>16</td>\n",
       "      <td>51.0</td>\n",
       "      <td>8</td>\n",
       "      <td>True</td>\n",
       "      <td>...</td>\n",
       "      <td>25.0</td>\n",
       "      <td>0.0</td>\n",
       "      <td>Санкт-Петербург</td>\n",
       "      <td>18863.0</td>\n",
       "      <td>16028.0</td>\n",
       "      <td>1.0</td>\n",
       "      <td>482.0</td>\n",
       "      <td>2.0</td>\n",
       "      <td>755.0</td>\n",
       "      <td>NaN</td>\n",
       "    </tr>\n",
       "    <tr>\n",
       "      <th>1</th>\n",
       "      <td>7</td>\n",
       "      <td>3350000.0</td>\n",
       "      <td>40.4</td>\n",
       "      <td>2018-12-04</td>\n",
       "      <td>1</td>\n",
       "      <td>2.65</td>\n",
       "      <td>11</td>\n",
       "      <td>18.6</td>\n",
       "      <td>1</td>\n",
       "      <td>True</td>\n",
       "      <td>...</td>\n",
       "      <td>11.0</td>\n",
       "      <td>2.0</td>\n",
       "      <td>Шушары</td>\n",
       "      <td>12817.0</td>\n",
       "      <td>18603.0</td>\n",
       "      <td>0.0</td>\n",
       "      <td>NaN</td>\n",
       "      <td>0.0</td>\n",
       "      <td>NaN</td>\n",
       "      <td>81.0</td>\n",
       "    </tr>\n",
       "    <tr>\n",
       "      <th>2</th>\n",
       "      <td>10</td>\n",
       "      <td>5196000.0</td>\n",
       "      <td>56.0</td>\n",
       "      <td>2015-08-20</td>\n",
       "      <td>2</td>\n",
       "      <td>2.65</td>\n",
       "      <td>5</td>\n",
       "      <td>34.3</td>\n",
       "      <td>4</td>\n",
       "      <td>True</td>\n",
       "      <td>...</td>\n",
       "      <td>8.3</td>\n",
       "      <td>0.0</td>\n",
       "      <td>Санкт-Петербург</td>\n",
       "      <td>21741.0</td>\n",
       "      <td>13933.0</td>\n",
       "      <td>1.0</td>\n",
       "      <td>90.0</td>\n",
       "      <td>2.0</td>\n",
       "      <td>574.0</td>\n",
       "      <td>558.0</td>\n",
       "    </tr>\n",
       "    <tr>\n",
       "      <th>3</th>\n",
       "      <td>0</td>\n",
       "      <td>64900000.0</td>\n",
       "      <td>159.0</td>\n",
       "      <td>2015-07-24</td>\n",
       "      <td>3</td>\n",
       "      <td>2.65</td>\n",
       "      <td>14</td>\n",
       "      <td>NaN</td>\n",
       "      <td>9</td>\n",
       "      <td>True</td>\n",
       "      <td>...</td>\n",
       "      <td>NaN</td>\n",
       "      <td>0.0</td>\n",
       "      <td>Санкт-Петербург</td>\n",
       "      <td>28098.0</td>\n",
       "      <td>6800.0</td>\n",
       "      <td>2.0</td>\n",
       "      <td>84.0</td>\n",
       "      <td>3.0</td>\n",
       "      <td>234.0</td>\n",
       "      <td>424.0</td>\n",
       "    </tr>\n",
       "    <tr>\n",
       "      <th>4</th>\n",
       "      <td>2</td>\n",
       "      <td>10000000.0</td>\n",
       "      <td>100.0</td>\n",
       "      <td>2018-06-19</td>\n",
       "      <td>2</td>\n",
       "      <td>3.03</td>\n",
       "      <td>14</td>\n",
       "      <td>32.0</td>\n",
       "      <td>13</td>\n",
       "      <td>True</td>\n",
       "      <td>...</td>\n",
       "      <td>41.0</td>\n",
       "      <td>0.0</td>\n",
       "      <td>Санкт-Петербург</td>\n",
       "      <td>31856.0</td>\n",
       "      <td>8098.0</td>\n",
       "      <td>2.0</td>\n",
       "      <td>112.0</td>\n",
       "      <td>1.0</td>\n",
       "      <td>48.0</td>\n",
       "      <td>121.0</td>\n",
       "    </tr>\n",
       "  </tbody>\n",
       "</table>\n",
       "<p>5 rows × 22 columns</p>\n",
       "</div>"
      ],
      "text/plain": [
       "   total_images  last_price  total_area first_day_exposition  rooms  \\\n",
       "0            20  13000000.0       108.0           2019-03-07      3   \n",
       "1             7   3350000.0        40.4           2018-12-04      1   \n",
       "2            10   5196000.0        56.0           2015-08-20      2   \n",
       "3             0  64900000.0       159.0           2015-07-24      3   \n",
       "4             2  10000000.0       100.0           2018-06-19      2   \n",
       "\n",
       "   ceiling_height  floors_total  living_area  floor  is_apartment  ...  \\\n",
       "0            2.70            16         51.0      8          True  ...   \n",
       "1            2.65            11         18.6      1          True  ...   \n",
       "2            2.65             5         34.3      4          True  ...   \n",
       "3            2.65            14          NaN      9          True  ...   \n",
       "4            3.03            14         32.0     13          True  ...   \n",
       "\n",
       "   kitchen_area  balcony    locality_name  airports_nearest  \\\n",
       "0          25.0      0.0  Санкт-Петербург           18863.0   \n",
       "1          11.0      2.0           Шушары           12817.0   \n",
       "2           8.3      0.0  Санкт-Петербург           21741.0   \n",
       "3           NaN      0.0  Санкт-Петербург           28098.0   \n",
       "4          41.0      0.0  Санкт-Петербург           31856.0   \n",
       "\n",
       "  cityCenters_nearest  parks_around3000  parks_nearest  ponds_around3000  \\\n",
       "0             16028.0               1.0          482.0               2.0   \n",
       "1             18603.0               0.0            NaN               0.0   \n",
       "2             13933.0               1.0           90.0               2.0   \n",
       "3              6800.0               2.0           84.0               3.0   \n",
       "4              8098.0               2.0          112.0               1.0   \n",
       "\n",
       "   ponds_nearest  days_exposition  \n",
       "0          755.0              NaN  \n",
       "1            NaN             81.0  \n",
       "2          574.0            558.0  \n",
       "3          234.0            424.0  \n",
       "4           48.0            121.0  \n",
       "\n",
       "[5 rows x 22 columns]"
      ]
     },
     "execution_count": 228,
     "metadata": {},
     "output_type": "execute_result"
    }
   ],
   "source": [
    "#проверка выбивающихся значений датафрейма\n",
    "\n",
    "data.head()"
   ]
  },
  {
   "cell_type": "code",
   "execution_count": 229,
   "metadata": {},
   "outputs": [
    {
     "data": {
      "text/plain": [
       "<AxesSubplot:>"
      ]
     },
     "execution_count": 229,
     "metadata": {},
     "output_type": "execute_result"
    },
    {
     "data": {
      "image/png": "[encoded data removed]",
      "text/plain": [
       "<Figure size 432x288 with 1 Axes>"
      ]
     },
     "metadata": {
      "needs_background": "light"
     },
     "output_type": "display_data"
    }
   ],
   "source": [
    "#проверка выбивающихся значений total_images посредством построения гистограммы\n",
    "data['total_images'].hist(bins = 20)"
   ]
  },
  {
   "cell_type": "code",
   "execution_count": 230,
   "metadata": {},
   "outputs": [
    {
     "data": {
      "text/plain": [
       "<AxesSubplot:>"
      ]
     },
     "execution_count": 230,
     "metadata": {},
     "output_type": "execute_result"
    },
    {
     "data": {
      "image/png": "[encoded data removed]",
      "text/plain": [
       "<Figure size 720x360 with 1 Axes>"
      ]
     },
     "metadata": {
      "needs_background": "light"
     },
     "output_type": "display_data"
    }
   ],
   "source": [
    "#проверка выбивающихся значений last_price посредством построения гистограмм\n",
    "data['last_price'].hist(bins=30, range=(100000000, 1000000000), figsize=(10,5))"
   ]
  },
  {
   "cell_type": "code",
   "execution_count": 231,
   "metadata": {},
   "outputs": [
    {
     "data": {
      "text/plain": [
       "(-100.0, 1000000000.0)"
      ]
     },
     "execution_count": 231,
     "metadata": {},
     "output_type": "execute_result"
    },
    {
     "data": {
      "image/png": "[encoded data removed]",
      "text/plain": [
       "<Figure size 432x288 with 1 Axes>"
      ]
     },
     "metadata": {
      "needs_background": "light"
     },
     "output_type": "display_data"
    }
   ],
   "source": [
    "#построение диаграммы размаха для столбца last_price\n",
    "data.boxplot(column = 'last_price')\n",
    "plt.ylim(-100, 1000000000)"
   ]
  },
  {
   "cell_type": "code",
   "execution_count": 232,
   "metadata": {},
   "outputs": [
    {
     "data": {
      "image/png": "[encoded data removed]",
      "text/plain": [
       "<Figure size 432x288 with 1 Axes>"
      ]
     },
     "metadata": {
      "needs_background": "light"
     },
     "output_type": "display_data"
    }
   ],
   "source": [
    "#проверка выбивающихся значений total_area посредством построения гистограммы\n",
    "data['total_area'].hist(bins=20,  range=(100, 1000))\n",
    "plt.show()"
   ]
  },
  {
   "cell_type": "code",
   "execution_count": 233,
   "metadata": {},
   "outputs": [
    {
     "data": {
      "text/plain": [
       "(-100.0, 1000.0)"
      ]
     },
     "execution_count": 233,
     "metadata": {},
     "output_type": "execute_result"
    },
    {
     "data": {
      "image/png": "[encoded data removed]",
      "text/plain": [
       "<Figure size 432x288 with 1 Axes>"
      ]
     },
     "metadata": {
      "needs_background": "light"
     },
     "output_type": "display_data"
    }
   ],
   "source": [
    "#построение диаграммы размаха для столбца total_area\n",
    "data.boxplot(column = 'total_area')\n",
    "plt.ylim(-100, 1000)"
   ]
  },
  {
   "cell_type": "code",
   "execution_count": 234,
   "metadata": {},
   "outputs": [
    {
     "data": {
      "image/png": "[encoded data removed]",
      "text/plain": [
       "<Figure size 432x288 with 1 Axes>"
      ]
     },
     "metadata": {
      "needs_background": "light"
     },
     "output_type": "display_data"
    }
   ],
   "source": [
    "#проверка выбивающихся значений rooms посредством построения гистограммы\n",
    "data['rooms'].hist(range=(0,20))\n",
    "plt.show()"
   ]
  },
  {
   "cell_type": "code",
   "execution_count": 235,
   "metadata": {},
   "outputs": [
    {
     "data": {
      "text/plain": [
       "(-10.0, 20.0)"
      ]
     },
     "execution_count": 235,
     "metadata": {},
     "output_type": "execute_result"
    },
    {
     "data": {
      "image/png": "[encoded data removed]",
      "text/plain": [
       "<Figure size 432x288 with 1 Axes>"
      ]
     },
     "metadata": {
      "needs_background": "light"
     },
     "output_type": "display_data"
    }
   ],
   "source": [
    "#построение диаграммы размаха для столбца rooms\n",
    "data.boxplot(column = 'rooms')\n",
    "plt.ylim(-10, 20)"
   ]
  },
  {
   "cell_type": "code",
   "execution_count": 236,
   "metadata": {},
   "outputs": [
    {
     "data": {
      "text/plain": [
       "(0.0, 100.0)"
      ]
     },
     "execution_count": 236,
     "metadata": {},
     "output_type": "execute_result"
    },
    {
     "data": {
      "image/png": "[encoded data removed]",
      "text/plain": [
       "<Figure size 432x288 with 1 Axes>"
      ]
     },
     "metadata": {
      "needs_background": "light"
     },
     "output_type": "display_data"
    }
   ],
   "source": [
    "#построение диаграммы размаха для столбца ceiling_height\n",
    "data.boxplot(column = 'ceiling_height')\n",
    "plt.ylim(0, 100)"
   ]
  },
  {
   "cell_type": "code",
   "execution_count": 237,
   "metadata": {},
   "outputs": [
    {
     "data": {
      "text/plain": [
       "(0.0, 40.0)"
      ]
     },
     "execution_count": 237,
     "metadata": {},
     "output_type": "execute_result"
    },
    {
     "data": {
      "image/png": "[encoded data removed]",
      "text/plain": [
       "<Figure size 432x288 with 1 Axes>"
      ]
     },
     "metadata": {
      "needs_background": "light"
     },
     "output_type": "display_data"
    }
   ],
   "source": [
    "#построение диаграммы размаха для столбца floors_total\n",
    "data.boxplot(column = 'ceiling_height')\n",
    "plt.ylim(0, 40)"
   ]
  },
  {
   "cell_type": "code",
   "execution_count": 238,
   "metadata": {},
   "outputs": [
    {
     "name": "stdout",
     "output_type": "stream",
     "text": [
      "[20  7 10  0  2  6  5 18  9  1 16 11  8 12 13  3 15 17 14 19 32  4 35 39\n",
      " 23 21 27 30 24 25 28 31 22 29 26 50 42 37]\n",
      "[  2.7    2.65   3.03   2.5    2.67   2.56   3.05   2.75   2.6    2.9\n",
      "   2.8    2.55   3.     3.2    2.61   3.25   3.45   2.77   2.85   2.64\n",
      "   2.57   4.15   3.5    3.3    2.71   4.     2.47   2.73   2.84   3.1\n",
      "   2.34   3.4    3.06   2.72   2.54   2.51   2.78   2.76  25.     2.58\n",
      "   3.7    2.52   5.2    2.87   2.66   2.59   2.     2.45   3.6    2.92\n",
      "   3.11   3.13   3.8    3.15   3.55   3.16   3.62   3.12   2.53   2.74\n",
      "   2.96   2.46   5.3    5.     2.79   2.95   4.06   2.94   3.82   3.54\n",
      "   3.53   2.83   4.7    2.4    3.38   3.01   5.6    3.65   3.9    3.18\n",
      "   3.35   2.3    3.57   2.48   2.62   2.82   3.98   2.63   3.83   3.52\n",
      "   3.95   3.75   2.88   3.67   3.87   3.66   3.85   3.86   4.19   3.24\n",
      "   4.8    4.5    4.2    3.36  32.     3.08   3.68   3.07   3.37   3.09\n",
      "   8.     3.26   3.34   2.81   3.44   2.97   3.14   4.37   2.68   3.22\n",
      "   3.27  27.     4.1    2.93   3.46  24.     3.47   3.33   3.63   3.32\n",
      "  26.     1.2    8.3    2.98   2.86   3.17   4.4    3.28   3.04   4.45\n",
      "   5.5    3.84   3.23   3.02   3.21   3.43   3.78   4.3    3.39   2.69\n",
      "   3.31   4.65   3.56   2.2    3.51   3.93   3.42   2.99   3.49  14.\n",
      "   4.14   2.91   3.88   1.75   4.25   3.29  20.     2.25   3.76   3.69\n",
      "   6.    22.6    2.89   3.58   5.8   27.5    2.49   4.9    3.48  10.3\n",
      "   1.   100.     3.59]\n",
      "[0. 2. 1. 5. 4. 3.]\n",
      "[108.    40.4   56.   ...  66.86 133.81  76.75]\n",
      "[16 11  5 14 12 26 24 27  9  6 17 25  3 23 19 18  4 22  8  2 10  7 13 15\n",
      " 20 28 36 21 35 34 60  1 29 33 52 37]\n",
      "[ 3  1  2  4  5  6  0  7 11  8 14 10 15  9 19 16 12]\n"
     ]
    }
   ],
   "source": [
    "#проверка выбивайющихся значений \n",
    "print(data['total_images'].unique())\n",
    "print(data['ceiling_height'].unique())\n",
    "print(data['balcony'].unique())\n",
    "print(data['total_area'].unique())\n",
    "print(data['floors_total'].unique())\n",
    "print(data['rooms'].unique())"
   ]
  },
  {
   "cell_type": "code",
   "execution_count": 239,
   "metadata": {},
   "outputs": [],
   "source": [
    "#устранение выбивающихся значений столбца total_area\n",
    "data = data.query('total_area < 200')"
   ]
  },
  {
   "cell_type": "markdown",
   "metadata": {},
   "source": [
    "Данное значение выбранно по итогам диаграммы размаха, построенного для столбца total_area"
   ]
  },
  {
   "cell_type": "code",
   "execution_count": 240,
   "metadata": {},
   "outputs": [],
   "source": [
    "#устранение выбивающихся значений столбца rooms\n",
    "data = data.query('rooms <= 6')"
   ]
  },
  {
   "cell_type": "markdown",
   "metadata": {},
   "source": [
    "Данное значение выбранно по итогам диаграммы размаха, построенного для столбца rooms "
   ]
  },
  {
   "cell_type": "code",
   "execution_count": 274,
   "metadata": {},
   "outputs": [
    {
     "name": "stdout",
     "output_type": "stream",
     "text": [
      "22869    10.0\n",
      "5863      8.3\n",
      "3474      8.0\n",
      "17442     8.0\n",
      "15743     8.0\n",
      "         ... \n",
      "13775     2.5\n",
      "13773     2.5\n",
      "13770     2.5\n",
      "13766     2.5\n",
      "23698     2.5\n",
      "Name: ceiling_height, Length: 22912, dtype: float64\n"
     ]
    }
   ],
   "source": [
    "#устранение выбивающихся значений столбца ceiling_height через создание функции (2.5 м < все потолки > 10)\n",
    "def ceiling_height(row):\n",
    "    if row['ceiling_height'] > 10:\n",
    "        return row['ceiling_height'] * 0.1\n",
    "    elif row['ceiling_height'] < 2.5:\n",
    "        return row['ceiling_height'] * 2.5\n",
    "    else:\n",
    "        return row['ceiling_height']\n",
    "data['ceiling_height'] = data.apply(ceiling_height, axis=1)\n",
    "\n",
    "#вывод уникальных значений столбца ceiling_height\n",
    "print(data['ceiling_height'].sort_values(ascending = False))"
   ]
  },
  {
   "cell_type": "markdown",
   "metadata": {},
   "source": [
    "Данное значение выбранно по итогам диаграммы размаха, построенного для столбца ceiling_height "
   ]
  },
  {
   "cell_type": "code",
   "execution_count": 242,
   "metadata": {},
   "outputs": [],
   "source": [
    "#устранение выбивающихся значений столбца floors_total\n",
    "data = data.query('floors_total <= 25')"
   ]
  },
  {
   "cell_type": "markdown",
   "metadata": {},
   "source": [
    "Данное значение выбранно по итогам диаграммы размаха, построенного для столбца floors_total"
   ]
  },
  {
   "cell_type": "code",
   "execution_count": 243,
   "metadata": {},
   "outputs": [
    {
     "data": {
      "text/html": [
       "<div>\n",
       "<style scoped>\n",
       "    .dataframe tbody tr th:only-of-type {\n",
       "        vertical-align: middle;\n",
       "    }\n",
       "\n",
       "    .dataframe tbody tr th {\n",
       "        vertical-align: top;\n",
       "    }\n",
       "\n",
       "    .dataframe thead th {\n",
       "        text-align: right;\n",
       "    }\n",
       "</style>\n",
       "<table border=\"1\" class=\"dataframe\">\n",
       "  <thead>\n",
       "    <tr style=\"text-align: right;\">\n",
       "      <th></th>\n",
       "      <th>total_images</th>\n",
       "      <th>last_price</th>\n",
       "      <th>total_area</th>\n",
       "      <th>first_day_exposition</th>\n",
       "      <th>rooms</th>\n",
       "      <th>ceiling_height</th>\n",
       "      <th>floors_total</th>\n",
       "      <th>living_area</th>\n",
       "      <th>floor</th>\n",
       "      <th>is_apartment</th>\n",
       "      <th>...</th>\n",
       "      <th>kitchen_area</th>\n",
       "      <th>balcony</th>\n",
       "      <th>locality_name</th>\n",
       "      <th>airports_nearest</th>\n",
       "      <th>cityCenters_nearest</th>\n",
       "      <th>parks_around3000</th>\n",
       "      <th>parks_nearest</th>\n",
       "      <th>ponds_around3000</th>\n",
       "      <th>ponds_nearest</th>\n",
       "      <th>days_exposition</th>\n",
       "    </tr>\n",
       "  </thead>\n",
       "  <tbody>\n",
       "    <tr>\n",
       "      <th>0</th>\n",
       "      <td>20</td>\n",
       "      <td>13000000.0</td>\n",
       "      <td>108.0</td>\n",
       "      <td>2019-03-07</td>\n",
       "      <td>3</td>\n",
       "      <td>2.70</td>\n",
       "      <td>16</td>\n",
       "      <td>51.0</td>\n",
       "      <td>8</td>\n",
       "      <td>True</td>\n",
       "      <td>...</td>\n",
       "      <td>25.0</td>\n",
       "      <td>0.0</td>\n",
       "      <td>Санкт-Петербург</td>\n",
       "      <td>18863.0</td>\n",
       "      <td>16028.0</td>\n",
       "      <td>1.0</td>\n",
       "      <td>482.0</td>\n",
       "      <td>2.0</td>\n",
       "      <td>755.0</td>\n",
       "      <td>NaN</td>\n",
       "    </tr>\n",
       "    <tr>\n",
       "      <th>1</th>\n",
       "      <td>7</td>\n",
       "      <td>3350000.0</td>\n",
       "      <td>40.4</td>\n",
       "      <td>2018-12-04</td>\n",
       "      <td>1</td>\n",
       "      <td>2.65</td>\n",
       "      <td>11</td>\n",
       "      <td>18.6</td>\n",
       "      <td>1</td>\n",
       "      <td>True</td>\n",
       "      <td>...</td>\n",
       "      <td>11.0</td>\n",
       "      <td>2.0</td>\n",
       "      <td>Шушары</td>\n",
       "      <td>12817.0</td>\n",
       "      <td>18603.0</td>\n",
       "      <td>0.0</td>\n",
       "      <td>NaN</td>\n",
       "      <td>0.0</td>\n",
       "      <td>NaN</td>\n",
       "      <td>81.0</td>\n",
       "    </tr>\n",
       "    <tr>\n",
       "      <th>2</th>\n",
       "      <td>10</td>\n",
       "      <td>5196000.0</td>\n",
       "      <td>56.0</td>\n",
       "      <td>2015-08-20</td>\n",
       "      <td>2</td>\n",
       "      <td>2.65</td>\n",
       "      <td>5</td>\n",
       "      <td>34.3</td>\n",
       "      <td>4</td>\n",
       "      <td>True</td>\n",
       "      <td>...</td>\n",
       "      <td>8.3</td>\n",
       "      <td>0.0</td>\n",
       "      <td>Санкт-Петербург</td>\n",
       "      <td>21741.0</td>\n",
       "      <td>13933.0</td>\n",
       "      <td>1.0</td>\n",
       "      <td>90.0</td>\n",
       "      <td>2.0</td>\n",
       "      <td>574.0</td>\n",
       "      <td>558.0</td>\n",
       "    </tr>\n",
       "    <tr>\n",
       "      <th>3</th>\n",
       "      <td>0</td>\n",
       "      <td>64900000.0</td>\n",
       "      <td>159.0</td>\n",
       "      <td>2015-07-24</td>\n",
       "      <td>3</td>\n",
       "      <td>2.65</td>\n",
       "      <td>14</td>\n",
       "      <td>NaN</td>\n",
       "      <td>9</td>\n",
       "      <td>True</td>\n",
       "      <td>...</td>\n",
       "      <td>NaN</td>\n",
       "      <td>0.0</td>\n",
       "      <td>Санкт-Петербург</td>\n",
       "      <td>28098.0</td>\n",
       "      <td>6800.0</td>\n",
       "      <td>2.0</td>\n",
       "      <td>84.0</td>\n",
       "      <td>3.0</td>\n",
       "      <td>234.0</td>\n",
       "      <td>424.0</td>\n",
       "    </tr>\n",
       "    <tr>\n",
       "      <th>4</th>\n",
       "      <td>2</td>\n",
       "      <td>10000000.0</td>\n",
       "      <td>100.0</td>\n",
       "      <td>2018-06-19</td>\n",
       "      <td>2</td>\n",
       "      <td>3.03</td>\n",
       "      <td>14</td>\n",
       "      <td>32.0</td>\n",
       "      <td>13</td>\n",
       "      <td>True</td>\n",
       "      <td>...</td>\n",
       "      <td>41.0</td>\n",
       "      <td>0.0</td>\n",
       "      <td>Санкт-Петербург</td>\n",
       "      <td>31856.0</td>\n",
       "      <td>8098.0</td>\n",
       "      <td>2.0</td>\n",
       "      <td>112.0</td>\n",
       "      <td>1.0</td>\n",
       "      <td>48.0</td>\n",
       "      <td>121.0</td>\n",
       "    </tr>\n",
       "    <tr>\n",
       "      <th>5</th>\n",
       "      <td>10</td>\n",
       "      <td>2890000.0</td>\n",
       "      <td>30.4</td>\n",
       "      <td>2018-09-10</td>\n",
       "      <td>1</td>\n",
       "      <td>2.65</td>\n",
       "      <td>12</td>\n",
       "      <td>14.4</td>\n",
       "      <td>5</td>\n",
       "      <td>True</td>\n",
       "      <td>...</td>\n",
       "      <td>9.1</td>\n",
       "      <td>0.0</td>\n",
       "      <td>Янино-1</td>\n",
       "      <td>NaN</td>\n",
       "      <td>NaN</td>\n",
       "      <td>0.0</td>\n",
       "      <td>NaN</td>\n",
       "      <td>0.0</td>\n",
       "      <td>NaN</td>\n",
       "      <td>55.0</td>\n",
       "    </tr>\n",
       "    <tr>\n",
       "      <th>7</th>\n",
       "      <td>5</td>\n",
       "      <td>7915000.0</td>\n",
       "      <td>71.6</td>\n",
       "      <td>2019-04-18</td>\n",
       "      <td>2</td>\n",
       "      <td>2.65</td>\n",
       "      <td>24</td>\n",
       "      <td>NaN</td>\n",
       "      <td>22</td>\n",
       "      <td>True</td>\n",
       "      <td>...</td>\n",
       "      <td>18.9</td>\n",
       "      <td>2.0</td>\n",
       "      <td>Санкт-Петербург</td>\n",
       "      <td>23982.0</td>\n",
       "      <td>11634.0</td>\n",
       "      <td>0.0</td>\n",
       "      <td>NaN</td>\n",
       "      <td>0.0</td>\n",
       "      <td>NaN</td>\n",
       "      <td>NaN</td>\n",
       "    </tr>\n",
       "    <tr>\n",
       "      <th>9</th>\n",
       "      <td>18</td>\n",
       "      <td>5400000.0</td>\n",
       "      <td>61.0</td>\n",
       "      <td>2017-02-26</td>\n",
       "      <td>3</td>\n",
       "      <td>2.50</td>\n",
       "      <td>9</td>\n",
       "      <td>43.6</td>\n",
       "      <td>7</td>\n",
       "      <td>True</td>\n",
       "      <td>...</td>\n",
       "      <td>6.5</td>\n",
       "      <td>2.0</td>\n",
       "      <td>Санкт-Петербург</td>\n",
       "      <td>50898.0</td>\n",
       "      <td>15008.0</td>\n",
       "      <td>0.0</td>\n",
       "      <td>NaN</td>\n",
       "      <td>0.0</td>\n",
       "      <td>NaN</td>\n",
       "      <td>289.0</td>\n",
       "    </tr>\n",
       "    <tr>\n",
       "      <th>10</th>\n",
       "      <td>5</td>\n",
       "      <td>5050000.0</td>\n",
       "      <td>39.6</td>\n",
       "      <td>2017-11-16</td>\n",
       "      <td>1</td>\n",
       "      <td>2.67</td>\n",
       "      <td>12</td>\n",
       "      <td>20.3</td>\n",
       "      <td>3</td>\n",
       "      <td>True</td>\n",
       "      <td>...</td>\n",
       "      <td>8.5</td>\n",
       "      <td>0.0</td>\n",
       "      <td>Санкт-Петербург</td>\n",
       "      <td>38357.0</td>\n",
       "      <td>13878.0</td>\n",
       "      <td>1.0</td>\n",
       "      <td>310.0</td>\n",
       "      <td>2.0</td>\n",
       "      <td>553.0</td>\n",
       "      <td>137.0</td>\n",
       "    </tr>\n",
       "    <tr>\n",
       "      <th>11</th>\n",
       "      <td>9</td>\n",
       "      <td>3300000.0</td>\n",
       "      <td>44.0</td>\n",
       "      <td>2018-08-27</td>\n",
       "      <td>2</td>\n",
       "      <td>2.65</td>\n",
       "      <td>5</td>\n",
       "      <td>31.0</td>\n",
       "      <td>4</td>\n",
       "      <td>False</td>\n",
       "      <td>...</td>\n",
       "      <td>6.0</td>\n",
       "      <td>1.0</td>\n",
       "      <td>Ломоносов</td>\n",
       "      <td>48252.0</td>\n",
       "      <td>51677.0</td>\n",
       "      <td>0.0</td>\n",
       "      <td>NaN</td>\n",
       "      <td>0.0</td>\n",
       "      <td>NaN</td>\n",
       "      <td>7.0</td>\n",
       "    </tr>\n",
       "  </tbody>\n",
       "</table>\n",
       "<p>10 rows × 22 columns</p>\n",
       "</div>"
      ],
      "text/plain": [
       "    total_images  last_price  total_area first_day_exposition  rooms  \\\n",
       "0             20  13000000.0       108.0           2019-03-07      3   \n",
       "1              7   3350000.0        40.4           2018-12-04      1   \n",
       "2             10   5196000.0        56.0           2015-08-20      2   \n",
       "3              0  64900000.0       159.0           2015-07-24      3   \n",
       "4              2  10000000.0       100.0           2018-06-19      2   \n",
       "5             10   2890000.0        30.4           2018-09-10      1   \n",
       "7              5   7915000.0        71.6           2019-04-18      2   \n",
       "9             18   5400000.0        61.0           2017-02-26      3   \n",
       "10             5   5050000.0        39.6           2017-11-16      1   \n",
       "11             9   3300000.0        44.0           2018-08-27      2   \n",
       "\n",
       "    ceiling_height  floors_total  living_area  floor  is_apartment  ...  \\\n",
       "0             2.70            16         51.0      8          True  ...   \n",
       "1             2.65            11         18.6      1          True  ...   \n",
       "2             2.65             5         34.3      4          True  ...   \n",
       "3             2.65            14          NaN      9          True  ...   \n",
       "4             3.03            14         32.0     13          True  ...   \n",
       "5             2.65            12         14.4      5          True  ...   \n",
       "7             2.65            24          NaN     22          True  ...   \n",
       "9             2.50             9         43.6      7          True  ...   \n",
       "10            2.67            12         20.3      3          True  ...   \n",
       "11            2.65             5         31.0      4         False  ...   \n",
       "\n",
       "    kitchen_area  balcony    locality_name  airports_nearest  \\\n",
       "0           25.0      0.0  Санкт-Петербург           18863.0   \n",
       "1           11.0      2.0           Шушары           12817.0   \n",
       "2            8.3      0.0  Санкт-Петербург           21741.0   \n",
       "3            NaN      0.0  Санкт-Петербург           28098.0   \n",
       "4           41.0      0.0  Санкт-Петербург           31856.0   \n",
       "5            9.1      0.0          Янино-1               NaN   \n",
       "7           18.9      2.0  Санкт-Петербург           23982.0   \n",
       "9            6.5      2.0  Санкт-Петербург           50898.0   \n",
       "10           8.5      0.0  Санкт-Петербург           38357.0   \n",
       "11           6.0      1.0        Ломоносов           48252.0   \n",
       "\n",
       "   cityCenters_nearest  parks_around3000  parks_nearest  ponds_around3000  \\\n",
       "0              16028.0               1.0          482.0               2.0   \n",
       "1              18603.0               0.0            NaN               0.0   \n",
       "2              13933.0               1.0           90.0               2.0   \n",
       "3               6800.0               2.0           84.0               3.0   \n",
       "4               8098.0               2.0          112.0               1.0   \n",
       "5                  NaN               0.0            NaN               0.0   \n",
       "7              11634.0               0.0            NaN               0.0   \n",
       "9              15008.0               0.0            NaN               0.0   \n",
       "10             13878.0               1.0          310.0               2.0   \n",
       "11             51677.0               0.0            NaN               0.0   \n",
       "\n",
       "    ponds_nearest  days_exposition  \n",
       "0           755.0              NaN  \n",
       "1             NaN             81.0  \n",
       "2           574.0            558.0  \n",
       "3           234.0            424.0  \n",
       "4            48.0            121.0  \n",
       "5             NaN             55.0  \n",
       "7             NaN              NaN  \n",
       "9             NaN            289.0  \n",
       "10          553.0            137.0  \n",
       "11            NaN              7.0  \n",
       "\n",
       "[10 rows x 22 columns]"
      ]
     },
     "execution_count": 243,
     "metadata": {},
     "output_type": "execute_result"
    }
   ],
   "source": [
    "data.head(10)"
   ]
  },
  {
   "cell_type": "markdown",
   "metadata": {},
   "source": [
    "# Вывод по разделу 2: "
   ]
  },
  {
   "cell_type": "markdown",
   "metadata": {},
   "source": [
    "Была проведена предобработка данных, выявлены пропущенные значения, а также заполнены пропущенные значения медианами в столбцах ceiling_height, и 0 в столбцах balcony, floors_total, is_apartment, parks_around3000, ponds_around3000, изменены типы данных для удобства вычислений и представления данных, устранены неявные дубликаты в столбце locality_name, а пропуски в данном столбце заменены на \"неопределен\", по итогам построения диаграмм размаха были устранены выбивающие значения столбцов total_area, rooms, ceiling_height, floors_total. "
   ]
  },
  {
   "cell_type": "markdown",
   "metadata": {},
   "source": [
    "### Посчитайте и добавьте в таблицу новые столбцы"
   ]
  },
  {
   "cell_type": "code",
   "execution_count": 244,
   "metadata": {},
   "outputs": [
    {
     "name": "stdout",
     "output_type": "stream",
     "text": [
      "   total_images  last_price  total_area first_day_exposition  rooms  \\\n",
      "0            20  13000000.0       108.0           2019-03-07      3   \n",
      "1             7   3350000.0        40.4           2018-12-04      1   \n",
      "2            10   5196000.0        56.0           2015-08-20      2   \n",
      "3             0  64900000.0       159.0           2015-07-24      3   \n",
      "4             2  10000000.0       100.0           2018-06-19      2   \n",
      "\n",
      "   ceiling_height  floors_total  living_area  floor  is_apartment  ...  \\\n",
      "0            2.70            16         51.0      8          True  ...   \n",
      "1            2.65            11         18.6      1          True  ...   \n",
      "2            2.65             5         34.3      4          True  ...   \n",
      "3            2.65            14          NaN      9          True  ...   \n",
      "4            3.03            14         32.0     13          True  ...   \n",
      "\n",
      "   parks_nearest  ponds_around3000  ponds_nearest  days_exposition  \\\n",
      "0          482.0               2.0          755.0              NaN   \n",
      "1            NaN               0.0            NaN             81.0   \n",
      "2           90.0               2.0          574.0            558.0   \n",
      "3           84.0               3.0          234.0            424.0   \n",
      "4          112.0               1.0           48.0            121.0   \n",
      "\n",
      "      price_area  day_publication  month_publication  year_publication  \\\n",
      "0  120370.370370                3                  3              2019   \n",
      "1   82920.792079                1                 12              2018   \n",
      "2   92785.714286                3                  8              2015   \n",
      "3  408176.100629                4                  7              2015   \n",
      "4  100000.000000                1                  6              2018   \n",
      "\n",
      "   type_floor  cityCenters_nearest_km  \n",
      "0      другой                    16.0  \n",
      "1      первый                    19.0  \n",
      "2      другой                    14.0  \n",
      "3      другой                     7.0  \n",
      "4      другой                     8.0  \n",
      "\n",
      "[5 rows x 28 columns]\n"
     ]
    }
   ],
   "source": [
    "#добавление столбца цена за 1 квадратный метр price_area\n",
    "data['price_area'] = data['last_price'] / data['total_area']\n",
    "#print(data.head())\n",
    "\n",
    "#добавление столбца день недели публикации объявления day_publication \n",
    "data['day_publication'] = data['first_day_exposition'].dt.weekday\n",
    "#print(data.head())\n",
    "\n",
    "#добавление столбца месяц публикации объявления month_publication \n",
    "data['month_publication'] = data['first_day_exposition'].dt.month\n",
    "#print(data.head())\n",
    "\n",
    "#добавление столбца год публикации объявления year_publication \n",
    "data['year_publication'] = data['first_day_exposition'].dt.year\n",
    "#print(data.head())\n",
    "\n",
    "#добавление столбца тип этажа квартиры type_floor\n",
    "def type(row):\n",
    "    floor = row['floor']\n",
    "    if floor == 1:\n",
    "        return 'первый'\n",
    "    if 2 <= floor <= 24: \n",
    "        return 'другой'\n",
    "    if floor == 25: \n",
    "        return 'последний'\n",
    "data['type_floor'] = data.apply(type, axis=1)\n",
    "#print(data.head()) \n",
    "\n",
    "#добавление столбца расстояние до центра города в километрах cityCenters_nearest_km \n",
    "data['cityCenters_nearest_km'] = round(data['cityCenters_nearest'] / 1000)\n",
    "\n",
    "#вывод получившегося датафрейма\n",
    "print(data.head(5))"
   ]
  },
  {
   "cell_type": "markdown",
   "metadata": {},
   "source": [
    "# Вывод по разделу 3:"
   ]
  },
  {
   "cell_type": "markdown",
   "metadata": {},
   "source": [
    "В датафрейм добавлены новые столбцы: price_area, day_publication, month_publication, year_publication, type_floor, cityCenters_nearest_km."
   ]
  },
  {
   "cell_type": "markdown",
   "metadata": {},
   "source": [
    "### Проведите исследовательский анализ данных"
   ]
  },
  {
   "cell_type": "code",
   "execution_count": 245,
   "metadata": {},
   "outputs": [
    {
     "name": "stdout",
     "output_type": "stream",
     "text": [
      "    total_area  living_area  kitchen_area  rooms type_floor  floors_total  \\\n",
      "0        108.0         51.0          25.0      3     другой            16   \n",
      "1         40.4         18.6          11.0      1     первый            11   \n",
      "2         56.0         34.3           8.3      2     другой             5   \n",
      "3        159.0          NaN           NaN      3     другой            14   \n",
      "4        100.0         32.0          41.0      2     другой            14   \n",
      "5         30.4         14.4           9.1      1     другой            12   \n",
      "7         71.6          NaN          18.9      2     другой            24   \n",
      "9         61.0         43.6           6.5      3     другой             9   \n",
      "10        39.6         20.3           8.5      1     другой            12   \n",
      "11        44.0         31.0           6.0      2     другой             5   \n",
      "\n",
      "    cityCenters_nearest  airports_nearest  parks_nearest  day_publication  \\\n",
      "0               16028.0           18863.0          482.0                3   \n",
      "1               18603.0           12817.0            NaN                1   \n",
      "2               13933.0           21741.0           90.0                3   \n",
      "3                6800.0           28098.0           84.0                4   \n",
      "4                8098.0           31856.0          112.0                1   \n",
      "5                   NaN               NaN            NaN                0   \n",
      "7               11634.0           23982.0            NaN                3   \n",
      "9               15008.0           50898.0            NaN                6   \n",
      "10              13878.0           38357.0          310.0                3   \n",
      "11              51677.0           48252.0            NaN                0   \n",
      "\n",
      "    month_publication  \n",
      "0                   3  \n",
      "1                  12  \n",
      "2                   8  \n",
      "3                   7  \n",
      "4                   6  \n",
      "5                   9  \n",
      "7                   4  \n",
      "9                   2  \n",
      "10                 11  \n",
      "11                  8  \n",
      "<class 'pandas.core.frame.DataFrame'>\n",
      "Int64Index: 23102 entries, 0 to 23698\n",
      "Data columns (total 11 columns):\n",
      " #   Column               Non-Null Count  Dtype  \n",
      "---  ------               --------------  -----  \n",
      " 0   total_area           23102 non-null  float64\n",
      " 1   living_area          21251 non-null  float64\n",
      " 2   kitchen_area         20882 non-null  float64\n",
      " 3   rooms                23102 non-null  int64  \n",
      " 4   type_floor           23102 non-null  object \n",
      " 5   floors_total         23102 non-null  int64  \n",
      " 6   cityCenters_nearest  17676 non-null  float64\n",
      " 7   airports_nearest     17656 non-null  float64\n",
      " 8   parks_nearest        7883 non-null   float64\n",
      " 9   day_publication      23102 non-null  int64  \n",
      " 10  month_publication    23102 non-null  int64  \n",
      "dtypes: float64(6), int64(4), object(1)\n",
      "memory usage: 2.1+ MB\n"
     ]
    }
   ],
   "source": [
    "#создание нового датафрейма для анализа данных\n",
    "new_data = data[['total_area','living_area', 'kitchen_area', 'rooms', 'type_floor', 'floors_total', 'cityCenters_nearest','airports_nearest','parks_nearest','day_publication', 'month_publication']].copy()\n",
    "print(new_data.head(10))\n",
    "\n",
    "new_data.info()"
   ]
  },
  {
   "cell_type": "code",
   "execution_count": 246,
   "metadata": {},
   "outputs": [
    {
     "data": {
      "text/plain": [
       "<AxesSubplot:>"
      ]
     },
     "execution_count": 246,
     "metadata": {},
     "output_type": "execute_result"
    },
    {
     "data": {
      "image/png": "[encoded data removed]",
      "text/plain": [
       "<Figure size 360x360 with 1 Axes>"
      ]
     },
     "metadata": {
      "needs_background": "light"
     },
     "output_type": "display_data"
    }
   ],
   "source": [
    "#построение гистограммы для столбца total_area нового датафрейма new_data\n",
    "new_data['total_area'].hist(range = (0, 200), bins = 100, figsize=(5, 5))"
   ]
  },
  {
   "cell_type": "markdown",
   "metadata": {},
   "source": [
    "Вывод: основной диапазон площадей квартир варьируется в промежутке от 15 кв.м до 100 кв.м."
   ]
  },
  {
   "cell_type": "code",
   "execution_count": 247,
   "metadata": {},
   "outputs": [
    {
     "data": {
      "text/plain": [
       "<AxesSubplot:>"
      ]
     },
     "execution_count": 247,
     "metadata": {},
     "output_type": "execute_result"
    },
    {
     "data": {
      "image/png": "[encoded data removed]",
      "text/plain": [
       "<Figure size 360x360 with 1 Axes>"
      ]
     },
     "metadata": {
      "needs_background": "light"
     },
     "output_type": "display_data"
    }
   ],
   "source": [
    "#построение гистограммы для столбца living_area нового датафрейма new_data\n",
    "new_data['living_area'].hist(range = (0, 150), bins = 100, figsize=(5, 5))"
   ]
  },
  {
   "cell_type": "markdown",
   "metadata": {},
   "source": [
    "Вывод: основной диапазон жилой площади квартир варьируется в промежутке от 15 кв.м до 125-130 кв.м."
   ]
  },
  {
   "cell_type": "code",
   "execution_count": 248,
   "metadata": {},
   "outputs": [
    {
     "data": {
      "text/plain": [
       "<AxesSubplot:>"
      ]
     },
     "execution_count": 248,
     "metadata": {},
     "output_type": "execute_result"
    },
    {
     "data": {
      "image/png": "[encoded data removed]",
      "text/plain": [
       "<Figure size 360x360 with 1 Axes>"
      ]
     },
     "metadata": {
      "needs_background": "light"
     },
     "output_type": "display_data"
    }
   ],
   "source": [
    "#построение гистограммы для столбца kitchen_area нового датафрейма new_data\n",
    "new_data['kitchen_area'].hist(range = (0, 80), bins = 100, figsize=(5, 5))"
   ]
  },
  {
   "cell_type": "markdown",
   "metadata": {},
   "source": [
    "Вывод: основной диапазон кухонной площади квартир варьируется в промежутке от 3 кв.м до 55 кв.м."
   ]
  },
  {
   "cell_type": "code",
   "execution_count": 249,
   "metadata": {},
   "outputs": [
    {
     "data": {
      "text/plain": [
       "<AxesSubplot:>"
      ]
     },
     "execution_count": 249,
     "metadata": {},
     "output_type": "execute_result"
    },
    {
     "data": {
      "image/png": "[encoded data removed]",
      "text/plain": [
       "<Figure size 360x360 with 1 Axes>"
      ]
     },
     "metadata": {
      "needs_background": "light"
     },
     "output_type": "display_data"
    }
   ],
   "source": [
    "#построение гистограммы для столбца rooms нового датафрейма new_data\n",
    "new_data['rooms'].hist(range = (0, 10), bins = 10, figsize=(5, 5))"
   ]
  },
  {
   "cell_type": "markdown",
   "metadata": {},
   "source": [
    "Вывод: основной диапазон количества комнат квартир варьируется в промежутке от 1 до 7. "
   ]
  },
  {
   "cell_type": "code",
   "execution_count": 250,
   "metadata": {},
   "outputs": [
    {
     "data": {
      "text/plain": [
       "<AxesSubplot:>"
      ]
     },
     "execution_count": 250,
     "metadata": {},
     "output_type": "execute_result"
    },
    {
     "data": {
      "image/png": "[encoded data removed]",
      "text/plain": [
       "<Figure size 360x360 with 1 Axes>"
      ]
     },
     "metadata": {
      "needs_background": "light"
     },
     "output_type": "display_data"
    }
   ],
   "source": [
    "#построение гистограммы для столбца type_floor нового датафрейма new_data\n",
    "new_data['type_floor'].hist(range = (0, 5), bins = 10, figsize=(5, 5))"
   ]
  },
  {
   "cell_type": "markdown",
   "metadata": {},
   "source": [
    "Вывод: большое количество опубликованных квартир имеют этаж, отличный от первого и последнего, затем по количеству опубликованных объявлений лидируют квартиры, находящиеся на первом этаже, далее - на последнем. "
   ]
  },
  {
   "cell_type": "code",
   "execution_count": 251,
   "metadata": {},
   "outputs": [
    {
     "data": {
      "text/plain": [
       "<AxesSubplot:>"
      ]
     },
     "execution_count": 251,
     "metadata": {},
     "output_type": "execute_result"
    },
    {
     "data": {
      "image/png": "[encoded data removed]",
      "text/plain": [
       "<Figure size 360x360 with 1 Axes>"
      ]
     },
     "metadata": {
      "needs_background": "light"
     },
     "output_type": "display_data"
    }
   ],
   "source": [
    "#построение гистограммы для столбца floors_total нового датафрейма new_data\n",
    "new_data['floors_total'].hist(range = (0, 30), bins = 10, figsize=(5, 5))"
   ]
  },
  {
   "cell_type": "markdown",
   "metadata": {},
   "source": [
    "Вывод: основной диапазон количества этажей в доме варьируется в промежутке от 1 до 30. "
   ]
  },
  {
   "cell_type": "code",
   "execution_count": 252,
   "metadata": {},
   "outputs": [
    {
     "data": {
      "text/plain": [
       "<AxesSubplot:>"
      ]
     },
     "execution_count": 252,
     "metadata": {},
     "output_type": "execute_result"
    },
    {
     "data": {
      "image/png": "[encoded data removed]",
      "text/plain": [
       "<Figure size 360x360 with 1 Axes>"
      ]
     },
     "metadata": {
      "needs_background": "light"
     },
     "output_type": "display_data"
    }
   ],
   "source": [
    "#построение гистограммы для столбца cityCenters_nearest нового датафрейма new_data\n",
    "new_data['cityCenters_nearest'].hist(range = (0, 60000), bins = 30, figsize=(5, 5))"
   ]
  },
  {
   "cell_type": "markdown",
   "metadata": {},
   "source": [
    "Вывод: основное количество опубликованных квартир имеют удаленность от центра в промежутке от 0 до 25.000 м. "
   ]
  },
  {
   "cell_type": "code",
   "execution_count": 253,
   "metadata": {},
   "outputs": [
    {
     "data": {
      "text/plain": [
       "<AxesSubplot:>"
      ]
     },
     "execution_count": 253,
     "metadata": {},
     "output_type": "execute_result"
    },
    {
     "data": {
      "image/png": "[encoded data removed]",
      "text/plain": [
       "<Figure size 360x360 with 1 Axes>"
      ]
     },
     "metadata": {
      "needs_background": "light"
     },
     "output_type": "display_data"
    }
   ],
   "source": [
    "#построение гистограммы для столбца airports_nearest нового датафрейма new_data\n",
    "new_data['airports_nearest'].hist(range = (0, 100000), bins = 100, figsize=(5, 5))"
   ]
  },
  {
   "cell_type": "markdown",
   "metadata": {},
   "source": [
    "Вывод: основное количество опубликованных квартир имеют удаленность от аэропорта в промежутке от 15.000 до 58.000 м. "
   ]
  },
  {
   "cell_type": "code",
   "execution_count": 254,
   "metadata": {},
   "outputs": [
    {
     "data": {
      "text/plain": [
       "<AxesSubplot:>"
      ]
     },
     "execution_count": 254,
     "metadata": {},
     "output_type": "execute_result"
    },
    {
     "data": {
      "image/png": "[encoded data removed]",
      "text/plain": [
       "<Figure size 360x360 with 1 Axes>"
      ]
     },
     "metadata": {
      "needs_background": "light"
     },
     "output_type": "display_data"
    }
   ],
   "source": [
    "#построение гистограммы для столбца parks_nearest нового датафрейма new_data\n",
    "new_data['parks_nearest'].hist(range = (0, 1500), bins = 50, figsize=(5, 5))"
   ]
  },
  {
   "cell_type": "markdown",
   "metadata": {},
   "source": [
    "Вывод: основное количество опубликованных квартир имеют удаленность от парков в пределах 1.000 м. "
   ]
  },
  {
   "cell_type": "code",
   "execution_count": 255,
   "metadata": {},
   "outputs": [
    {
     "data": {
      "text/plain": [
       "<AxesSubplot:>"
      ]
     },
     "execution_count": 255,
     "metadata": {},
     "output_type": "execute_result"
    },
    {
     "data": {
      "image/png": "[encoded data removed]",
      "text/plain": [
       "<Figure size 360x360 with 1 Axes>"
      ]
     },
     "metadata": {
      "needs_background": "light"
     },
     "output_type": "display_data"
    }
   ],
   "source": [
    "#построение гистограммы для столбца day_publication нового датафрейма new_data\n",
    "new_data['day_publication'].hist(range = (0, 7), bins = 20, figsize=(5, 5))"
   ]
  },
  {
   "cell_type": "markdown",
   "metadata": {},
   "source": [
    "Вывод: объявления о продаже квартир публикуются на постоянной основе, меньше всего публикаций - суббота и воскресенье, т.к выходные дни.  "
   ]
  },
  {
   "cell_type": "code",
   "execution_count": 256,
   "metadata": {},
   "outputs": [
    {
     "data": {
      "text/plain": [
       "<AxesSubplot:>"
      ]
     },
     "execution_count": 256,
     "metadata": {},
     "output_type": "execute_result"
    },
    {
     "data": {
      "image/png": "[encoded data removed]",
      "text/plain": [
       "<Figure size 360x360 with 1 Axes>"
      ]
     },
     "metadata": {
      "needs_background": "light"
     },
     "output_type": "display_data"
    }
   ],
   "source": [
    "#построение гистограммы для столбца month_publication нового датафрейма new_data\n",
    "new_data['month_publication'].hist(range = (0, 12), bins = 30, figsize=(5, 5))"
   ]
  },
  {
   "cell_type": "markdown",
   "metadata": {},
   "source": [
    "Вывод: объявления о продаже квартир публикуются на постоянной основе, больше всего публикаций приходится на февраль, март, апрель, ноябрь месяц, меньше всего публикаций в январе, мае, декабре, что может быть вызвано праздничными днями, отпусками."
   ]
  },
  {
   "cell_type": "markdown",
   "metadata": {},
   "source": [
    "# Выполнение задания \"Изучите, как быстро продавались квартиры (столбец days_exposition). Этот параметр показывает, сколько дней «висело» каждое объявление.\""
   ]
  },
  {
   "cell_type": "code",
   "execution_count": 257,
   "metadata": {},
   "outputs": [
    {
     "data": {
      "text/plain": [
       "<AxesSubplot:>"
      ]
     },
     "execution_count": 257,
     "metadata": {},
     "output_type": "execute_result"
    },
    {
     "data": {
      "image/png": "[encoded data removed]",
      "text/plain": [
       "<Figure size 1440x720 with 1 Axes>"
      ]
     },
     "metadata": {
      "needs_background": "light"
     },
     "output_type": "display_data"
    }
   ],
   "source": [
    "#построение гистограммы для столбца days_exposition\n",
    "data['days_exposition'].hist(range = (0, 300), bins = 100, figsize=(20, 10))"
   ]
  },
  {
   "cell_type": "code",
   "execution_count": 258,
   "metadata": {},
   "outputs": [
    {
     "name": "stdout",
     "output_type": "stream",
     "text": [
      "Среднее количество дней продажи 180\n",
      "Медиана количества дней продажи 95\n"
     ]
    }
   ],
   "source": [
    "#подсчет метрик для столбца days_exposition\n",
    "print('Среднее количество дней продажи', round(data['days_exposition'].mean()))\n",
    "print('Медиана количества дней продажи', round(data['days_exposition'].median()))"
   ]
  },
  {
   "cell_type": "markdown",
   "metadata": {},
   "source": [
    "# Вывод: \n",
    "Среднее время продажи квартиры составляет до 100 дней. \n",
    "Быстрой продажей можно считать квартиры, которые были проданы менее, чем 50 дней. Долгой продажей можно считать квартиры, которые были проданы более, чем 300 дней. "
   ]
  },
  {
   "cell_type": "markdown",
   "metadata": {},
   "source": [
    "# Выполнение задания \"Какие факторы больше всего влияют на общую (полную) стоимость объекта?\""
   ]
  },
  {
   "cell_type": "code",
   "execution_count": 259,
   "metadata": {},
   "outputs": [
    {
     "data": {
      "image/png": "[encoded data removed]",
      "text/plain": [
       "<Figure size 720x720 with 1 Axes>"
      ]
     },
     "metadata": {
      "needs_background": "light"
     },
     "output_type": "display_data"
    },
    {
     "name": "stdout",
     "output_type": "stream",
     "text": [
      "Зависимость общей стоимости от общей площади 0.6569848932463875\n"
     ]
    }
   ],
   "source": [
    "#зависимость общей стоимости объекта от общей площади помещения \n",
    "(\n",
    "    data.pivot_table(index='total_area', values='last_price')\n",
    "    .plot(grid=True, style='o', figsize=(10, 10), alpha = 0.3)\n",
    ")\n",
    "plt.show()\n",
    "print('Зависимость общей стоимости от общей площади', data['last_price'].corr(data['total_area']))"
   ]
  },
  {
   "cell_type": "code",
   "execution_count": 260,
   "metadata": {},
   "outputs": [
    {
     "data": {
      "image/png": "[encoded data removed]",
      "text/plain": [
       "<Figure size 720x720 with 1 Axes>"
      ]
     },
     "metadata": {
      "needs_background": "light"
     },
     "output_type": "display_data"
    },
    {
     "name": "stdout",
     "output_type": "stream",
     "text": [
      "Зависимость общей стоимости от жилой площади 0.5378680018491871\n"
     ]
    }
   ],
   "source": [
    "#зависимость общей стоимости объекта от жилой площади помещения \n",
    "(\n",
    "    data.pivot_table(index='living_area', values='last_price')\n",
    "    .plot(grid=True, style='o', figsize=(10, 10), alpha = 0.3)\n",
    ")\n",
    "plt.show()\n",
    "print('Зависимость общей стоимости от жилой площади', data['last_price'].corr(data['living_area']))"
   ]
  },
  {
   "cell_type": "code",
   "execution_count": 261,
   "metadata": {},
   "outputs": [
    {
     "data": {
      "image/png": "[encoded data removed]",
      "text/plain": [
       "<Figure size 720x720 with 1 Axes>"
      ]
     },
     "metadata": {
      "needs_background": "light"
     },
     "output_type": "display_data"
    },
    {
     "name": "stdout",
     "output_type": "stream",
     "text": [
      "Зависимость общей стоимости от кухонной площади 0.5204755425701953\n"
     ]
    }
   ],
   "source": [
    "#зависимость общей стоимости объекта от размера кухонной площади  \n",
    "(\n",
    "    data.pivot_table(index='kitchen_area', values='last_price')\n",
    "    .plot(grid=True, style='o', figsize=(10, 10), alpha = 0.3)\n",
    ")\n",
    "plt.show()\n",
    "print('Зависимость общей стоимости от кухонной площади', data['last_price'].corr(data['kitchen_area']))"
   ]
  },
  {
   "cell_type": "code",
   "execution_count": 262,
   "metadata": {},
   "outputs": [
    {
     "data": {
      "image/png": "[encoded data removed]",
      "text/plain": [
       "<Figure size 360x360 with 1 Axes>"
      ]
     },
     "metadata": {
      "needs_background": "light"
     },
     "output_type": "display_data"
    },
    {
     "name": "stdout",
     "output_type": "stream",
     "text": [
      "Зависимость общей стоимости от количества комнат 0.3718198622619011\n"
     ]
    }
   ],
   "source": [
    "#зависимость общей стоимости объекта от количества комнат  \n",
    "data = data.query('rooms > 0')\n",
    "(\n",
    "    data.pivot_table(index='rooms', values='last_price')\n",
    "    .plot(grid=True, style='o', figsize=(5, 5))\n",
    ")\n",
    "plt.show()\n",
    "print('Зависимость общей стоимости от количества комнат', data['last_price'].corr(data['rooms']))"
   ]
  },
  {
   "cell_type": "code",
   "execution_count": 263,
   "metadata": {},
   "outputs": [
    {
     "data": {
      "image/png": "[encoded data removed]",
      "text/plain": [
       "<Figure size 360x360 with 1 Axes>"
      ]
     },
     "metadata": {
      "needs_background": "light"
     },
     "output_type": "display_data"
    }
   ],
   "source": [
    "#зависимость общей стоимости объекта от типа этажа\n",
    "(\n",
    "    data.pivot_table(index='type_floor', values='last_price')\n",
    "    .plot(grid=True, kind='bar', figsize=(5, 5))\n",
    ")\n",
    "plt.show()"
   ]
  },
  {
   "cell_type": "code",
   "execution_count": 264,
   "metadata": {},
   "outputs": [
    {
     "data": {
      "image/png": "[encoded data removed]",
      "text/plain": [
       "<Figure size 360x360 with 1 Axes>"
      ]
     },
     "metadata": {
      "needs_background": "light"
     },
     "output_type": "display_data"
    }
   ],
   "source": [
    "#зависимость общей стоимости объекта от дня публикации\n",
    "(\n",
    "    data.pivot_table(index='day_publication', values='last_price')\n",
    "    .plot(grid=True, style='o', figsize=(5, 5))\n",
    ")\n",
    "plt.show()"
   ]
  },
  {
   "cell_type": "code",
   "execution_count": 265,
   "metadata": {},
   "outputs": [
    {
     "data": {
      "image/png": "[encoded data removed]",
      "text/plain": [
       "<Figure size 360x360 with 1 Axes>"
      ]
     },
     "metadata": {
      "needs_background": "light"
     },
     "output_type": "display_data"
    }
   ],
   "source": [
    "#зависимость общей стоимости объекта от месяца публикации\n",
    "(\n",
    "    data.pivot_table(index='month_publication', values='last_price')\n",
    "    .plot(grid=True, kind='bar', figsize=(5, 5))\n",
    ")\n",
    "plt.show()"
   ]
  },
  {
   "cell_type": "code",
   "execution_count": 266,
   "metadata": {},
   "outputs": [
    {
     "data": {
      "image/png": "[encoded data removed]",
      "text/plain": [
       "<Figure size 360x360 with 1 Axes>"
      ]
     },
     "metadata": {
      "needs_background": "light"
     },
     "output_type": "display_data"
    }
   ],
   "source": [
    "#зависимость общей стоимости объекта от года публикации\n",
    "(\n",
    "    data.pivot_table(index='year_publication', values='last_price')\n",
    "    .plot(grid=True, kind='bar', figsize=(5, 5))\n",
    ")\n",
    "plt.show()"
   ]
  },
  {
   "cell_type": "markdown",
   "metadata": {},
   "source": [
    "# Вывод: \n",
    "Зависимость между общей стоимостью объекта от общей площади объекта составляет: 66%\n",
    "Зависимость между общей стоимостью объекта от жилой площади объекта составляет: 54%\n",
    "Зависимость между общей стоимостью объекта от размера кухонной площади объекта составляет: 52%\n",
    "Зависимость между общей стоимостью объекта от количества комнат объекта составляет: 37%\n",
    "Зависимость между типом этажа и стоимостью объекта: квартиры с типом этажа \"другой\" и \"последний\" дороже. \n",
    "Зависимости между общей стоимостью объекта от дня публикации нет. \n",
    "Зависимости между общей стоимостью объекта от месяца публикации нет. \n",
    "Зависимость между общей стоимостью объекта от года публикации: с 2015 по 2018 идет спад стоимости квартир, в 2019 квартиры начинают снова повышаться в цене."
   ]
  },
  {
   "cell_type": "markdown",
   "metadata": {},
   "source": [
    "# Выполнение задания \"Посчитайте среднюю цену одного квадратного метра в 10 населённых пунктах с наибольшим числом объявлений.\""
   ]
  },
  {
   "cell_type": "code",
   "execution_count": 267,
   "metadata": {},
   "outputs": [
    {
     "name": "stdout",
     "output_type": "stream",
     "text": [
      "Санкт-Петербург    15247\n",
      "Мурино               480\n",
      "Кудрово              450\n",
      "Шушары               432\n",
      "Всеволожск           392\n",
      "Пушкин               364\n",
      "Колпино              337\n",
      "Гатчина              307\n",
      "Выборг               237\n",
      "Парголово            202\n",
      "Name: locality_name, dtype: int64\n"
     ]
    }
   ],
   "source": [
    "#выявление топ 10 локаций с наибольшим количеством объявлений \n",
    "last_price_10 = data['locality_name'].value_counts()\n",
    "print(last_price_10.head(10))"
   ]
  },
  {
   "cell_type": "code",
   "execution_count": 272,
   "metadata": {},
   "outputs": [
    {
     "data": {
      "text/html": [
       "<div>\n",
       "<style scoped>\n",
       "    .dataframe tbody tr th:only-of-type {\n",
       "        vertical-align: middle;\n",
       "    }\n",
       "\n",
       "    .dataframe tbody tr th {\n",
       "        vertical-align: top;\n",
       "    }\n",
       "\n",
       "    .dataframe thead th {\n",
       "        text-align: right;\n",
       "    }\n",
       "</style>\n",
       "<table border=\"1\" class=\"dataframe\">\n",
       "  <thead>\n",
       "    <tr style=\"text-align: right;\">\n",
       "      <th></th>\n",
       "      <th>price_area</th>\n",
       "    </tr>\n",
       "    <tr>\n",
       "      <th>locality_name</th>\n",
       "      <th></th>\n",
       "    </tr>\n",
       "  </thead>\n",
       "  <tbody>\n",
       "    <tr>\n",
       "      <th>Санкт-Петербург</th>\n",
       "      <td>113463.480887</td>\n",
       "    </tr>\n",
       "    <tr>\n",
       "      <th>Пушкин</th>\n",
       "      <td>103122.538840</td>\n",
       "    </tr>\n",
       "    <tr>\n",
       "      <th>Кудрово</th>\n",
       "      <td>95173.854772</td>\n",
       "    </tr>\n",
       "    <tr>\n",
       "      <th>Парголово</th>\n",
       "      <td>86021.402416</td>\n",
       "    </tr>\n",
       "    <tr>\n",
       "      <th>Мурино</th>\n",
       "      <td>85527.745082</td>\n",
       "    </tr>\n",
       "    <tr>\n",
       "      <th>Шушары</th>\n",
       "      <td>78613.541810</td>\n",
       "    </tr>\n",
       "    <tr>\n",
       "      <th>Колпино</th>\n",
       "      <td>75333.295801</td>\n",
       "    </tr>\n",
       "    <tr>\n",
       "      <th>Гатчина</th>\n",
       "      <td>68746.146763</td>\n",
       "    </tr>\n",
       "    <tr>\n",
       "      <th>Всеволожск</th>\n",
       "      <td>68618.013712</td>\n",
       "    </tr>\n",
       "    <tr>\n",
       "      <th>Выборг</th>\n",
       "      <td>58141.909153</td>\n",
       "    </tr>\n",
       "  </tbody>\n",
       "</table>\n",
       "</div>"
      ],
      "text/plain": [
       "                    price_area\n",
       "locality_name                 \n",
       "Санкт-Петербург  113463.480887\n",
       "Пушкин           103122.538840\n",
       "Кудрово           95173.854772\n",
       "Парголово         86021.402416\n",
       "Мурино            85527.745082\n",
       "Шушары            78613.541810\n",
       "Колпино           75333.295801\n",
       "Гатчина           68746.146763\n",
       "Всеволожск        68618.013712\n",
       "Выборг            58141.909153"
      ]
     },
     "execution_count": 272,
     "metadata": {},
     "output_type": "execute_result"
    }
   ],
   "source": [
    "#нахождение средней цены одного квадратного метра в 10 населённых пунктах с наибольшим числом объявлений\n",
    "last_price_10 = data['locality_name'].value_counts().head(10)\n",
    "last_price_10 = data.query('locality_name in @last_price_10.index').pivot_table(values='price_area', index='locality_name')\n",
    "last_price_10.sort_values('price_area', ascending=False)"
   ]
  },
  {
   "cell_type": "markdown",
   "metadata": {},
   "source": [
    "# Вывод: \n",
    "Населенные пункты с самым дорогим квадратным метром: Санкт-Петербург, Пушкин, Кудрово, Парголово, Мурино, Шушары, Колпино, Гатчина, Всеволожск, Выборг."
   ]
  },
  {
   "cell_type": "markdown",
   "metadata": {},
   "source": [
    "# Выполнение задания \"Ранее вы посчитали расстояние до центра в километрах. Теперь выделите квартиры в Санкт-Петербурге с помощью столбца locality_name и вычислите среднюю цену каждого километра\""
   ]
  },
  {
   "cell_type": "code",
   "execution_count": 269,
   "metadata": {},
   "outputs": [
    {
     "name": "stdout",
     "output_type": "stream",
     "text": [
      "0    8.125000e+05\n",
      "1    1.763158e+05\n",
      "2    3.711429e+05\n",
      "3    9.271429e+06\n",
      "4    1.250000e+06\n",
      "Name: price_km, dtype: float64\n"
     ]
    }
   ],
   "source": [
    "#добавление столбца цена за 1 метр до центра Санкт-Петербурга price_km\n",
    "data['price_km'] = data['last_price'] / data['cityCenters_nearest_km']\n",
    "print(data['price_km'].head())"
   ]
  },
  {
   "cell_type": "code",
   "execution_count": 270,
   "metadata": {},
   "outputs": [],
   "source": [
    "#создание датафрейма по средней стоимости каждого километра расстояния до центра в Санкт-Петербурге \n",
    "price_km = (\n",
    "    data.query('locality_name == \"Санкт-Петербург\"')\n",
    "    .pivot_table(index='cityCenters_nearest_km', values='last_price', aggfunc='mean')\n",
    ")"
   ]
  },
  {
   "cell_type": "code",
   "execution_count": 271,
   "metadata": {},
   "outputs": [
    {
     "data": {
      "image/png": "[encoded data removed]",
      "text/plain": [
       "<Figure size 720x720 with 1 Axes>"
      ]
     },
     "metadata": {
      "needs_background": "light"
     },
     "output_type": "display_data"
    }
   ],
   "source": [
    "#построение графика \n",
    "price_km.plot(grid=True, kind='bar', figsize=(10, 10))\n",
    "plt.show()"
   ]
  },
  {
   "cell_type": "markdown",
   "metadata": {},
   "source": [
    "# Вывод: \n",
    "Исходя из графика, можно сделать вывод, что стоимость квартир с удаленностью до 2 км от центра самая дорогая. Наиболее низкая стоимость квартир прослеживается с удаленностью от 10 км. \n",
    "Также большой скачок можно проследить с удаленность 27 км, это может быть обусловлено продажей недвижимости в элитном районе. "
   ]
  },
  {
   "cell_type": "markdown",
   "metadata": {},
   "source": [
    "### Общий вывод:\n",
    "В результате выполнения проекта проанализированы данные сервиса Яндекс.Недвижимость (архив объявлений о продаже квартир в Санкт-Петербурге и соседних населённых пунктов за несколько лет). Проведена предобработка данных (определены пропущенные значения, заполнены пропущенные значения, изменены типы данных, устранены неявные дубликаты, устранены редкие и выбивающиеся значения). Проведен исследовательский анализ данных (создан новый датафрейм, построены гистрограммы). \n",
    "По выполненным заданиям: быстрой продажей недвижимости можно считать объекты, проданные менее, чем 50 дней, долгой продажей можно считать квартиры, которые были проданы более, чем 300 дней; основой фактор, влияющий на стоимость квартир - общая площадь; стоимость квартир с удаленностью до 2 км от центра самая дорогая, наиболее низкая стоимость квартир прослеживается с удаленностью от 10 км. "
   ]
  }
 ],
 "metadata": {
  "ExecuteTimeLog": [
   {
    "duration": 408,
    "start_time": "2023-01-06T10:35:40.555Z"
   },
   {
    "duration": 308,
    "start_time": "2023-01-06T10:35:50.333Z"
   },
   {
    "duration": 7,
    "start_time": "2023-01-06T10:36:39.051Z"
   },
   {
    "duration": 12,
    "start_time": "2023-01-06T10:41:22.504Z"
   },
   {
    "duration": 83,
    "start_time": "2023-01-06T10:49:28.983Z"
   },
   {
    "duration": 4,
    "start_time": "2023-01-06T10:52:04.087Z"
   },
   {
    "duration": 49,
    "start_time": "2023-01-06T10:58:44.604Z"
   },
   {
    "duration": 41,
    "start_time": "2023-01-06T10:59:14.189Z"
   },
   {
    "duration": 38,
    "start_time": "2023-01-06T10:59:29.624Z"
   },
   {
    "duration": 69,
    "start_time": "2023-01-06T11:05:29.073Z"
   },
   {
    "duration": 48,
    "start_time": "2023-01-06T11:08:30.101Z"
   },
   {
    "duration": 54,
    "start_time": "2023-01-06T11:08:45.318Z"
   },
   {
    "duration": 46,
    "start_time": "2023-01-06T11:09:07.516Z"
   },
   {
    "duration": 37,
    "start_time": "2023-01-06T11:09:16.796Z"
   },
   {
    "duration": 10,
    "start_time": "2023-01-06T11:09:40.968Z"
   },
   {
    "duration": 9,
    "start_time": "2023-01-06T11:11:16.916Z"
   },
   {
    "duration": 9,
    "start_time": "2023-01-06T11:11:41.763Z"
   },
   {
    "duration": 9,
    "start_time": "2023-01-06T11:12:07.884Z"
   },
   {
    "duration": 82,
    "start_time": "2023-01-06T11:12:25.316Z"
   },
   {
    "duration": 4,
    "start_time": "2023-01-06T11:12:25.400Z"
   },
   {
    "duration": 11,
    "start_time": "2023-01-06T11:12:25.406Z"
   },
   {
    "duration": 18,
    "start_time": "2023-01-06T11:12:25.418Z"
   },
   {
    "duration": 54,
    "start_time": "2023-01-06T11:12:25.438Z"
   },
   {
    "duration": 70,
    "start_time": "2023-01-06T11:13:46.705Z"
   },
   {
    "duration": 89,
    "start_time": "2023-01-06T11:18:21.744Z"
   },
   {
    "duration": 20,
    "start_time": "2023-01-06T11:18:24.167Z"
   },
   {
    "duration": 15,
    "start_time": "2023-01-06T11:19:45.802Z"
   },
   {
    "duration": 12,
    "start_time": "2023-01-06T11:20:09.603Z"
   },
   {
    "duration": 2312,
    "start_time": "2023-01-06T11:23:05.555Z"
   },
   {
    "duration": 9,
    "start_time": "2023-01-06T11:25:05.015Z"
   },
   {
    "duration": 5,
    "start_time": "2023-01-06T11:41:00.154Z"
   },
   {
    "duration": 92,
    "start_time": "2023-01-06T11:49:50.430Z"
   },
   {
    "duration": 18,
    "start_time": "2023-01-06T11:49:50.548Z"
   },
   {
    "duration": 1876,
    "start_time": "2023-01-06T11:49:50.568Z"
   },
   {
    "duration": 10,
    "start_time": "2023-01-06T11:49:52.446Z"
   },
   {
    "duration": 24078,
    "start_time": "2023-01-06T11:49:52.457Z"
   },
   {
    "duration": 19,
    "start_time": "2023-01-06T11:50:16.537Z"
   },
   {
    "duration": 4,
    "start_time": "2023-01-06T11:51:37.756Z"
   },
   {
    "duration": 5,
    "start_time": "2023-01-06T11:51:41.180Z"
   },
   {
    "duration": 5,
    "start_time": "2023-01-06T12:00:37.011Z"
   },
   {
    "duration": 6,
    "start_time": "2023-01-06T12:02:47.262Z"
   },
   {
    "duration": 13,
    "start_time": "2023-01-06T12:03:10.861Z"
   },
   {
    "duration": 5,
    "start_time": "2023-01-06T12:03:36.243Z"
   },
   {
    "duration": 25,
    "start_time": "2023-01-06T12:05:36.674Z"
   },
   {
    "duration": 14,
    "start_time": "2023-01-06T12:07:12.557Z"
   },
   {
    "duration": 16,
    "start_time": "2023-01-06T12:07:40.754Z"
   },
   {
    "duration": 5,
    "start_time": "2023-01-06T12:07:51.868Z"
   },
   {
    "duration": 7,
    "start_time": "2023-01-06T12:10:13.147Z"
   },
   {
    "duration": 6,
    "start_time": "2023-01-06T12:14:40.518Z"
   },
   {
    "duration": 9,
    "start_time": "2023-01-06T12:15:17.713Z"
   },
   {
    "duration": 16,
    "start_time": "2023-01-06T12:15:39.513Z"
   },
   {
    "duration": 12,
    "start_time": "2023-01-06T12:16:02.247Z"
   },
   {
    "duration": 10,
    "start_time": "2023-01-06T12:16:17.953Z"
   },
   {
    "duration": 8,
    "start_time": "2023-01-06T12:16:27.862Z"
   },
   {
    "duration": 8,
    "start_time": "2023-01-06T12:17:33.939Z"
   },
   {
    "duration": 84,
    "start_time": "2023-01-06T12:17:40.660Z"
   },
   {
    "duration": 17,
    "start_time": "2023-01-06T12:17:40.746Z"
   },
   {
    "duration": 32,
    "start_time": "2023-01-06T12:17:40.764Z"
   },
   {
    "duration": 1906,
    "start_time": "2023-01-06T12:17:40.798Z"
   },
   {
    "duration": 10,
    "start_time": "2023-01-06T12:17:42.706Z"
   },
   {
    "duration": 6,
    "start_time": "2023-01-06T12:17:42.718Z"
   },
   {
    "duration": 8,
    "start_time": "2023-01-06T12:17:42.726Z"
   },
   {
    "duration": 8,
    "start_time": "2023-01-06T12:17:42.735Z"
   },
   {
    "duration": 10,
    "start_time": "2023-01-06T12:17:42.744Z"
   },
   {
    "duration": 9,
    "start_time": "2023-01-06T12:19:29.652Z"
   },
   {
    "duration": 225,
    "start_time": "2023-01-06T12:20:12.384Z"
   },
   {
    "duration": 15,
    "start_time": "2023-01-06T12:20:27.394Z"
   },
   {
    "duration": 5,
    "start_time": "2023-01-06T12:20:33.263Z"
   },
   {
    "duration": 8,
    "start_time": "2023-01-06T12:20:41.194Z"
   },
   {
    "duration": 5,
    "start_time": "2023-01-06T12:20:51.113Z"
   },
   {
    "duration": 4,
    "start_time": "2023-01-06T12:21:03.765Z"
   },
   {
    "duration": 5,
    "start_time": "2023-01-06T12:21:44.073Z"
   },
   {
    "duration": 88,
    "start_time": "2023-01-06T12:22:10.194Z"
   },
   {
    "duration": 16,
    "start_time": "2023-01-06T12:22:10.285Z"
   },
   {
    "duration": 16,
    "start_time": "2023-01-06T12:22:10.303Z"
   },
   {
    "duration": 1940,
    "start_time": "2023-01-06T12:22:10.321Z"
   },
   {
    "duration": 10,
    "start_time": "2023-01-06T12:22:12.264Z"
   },
   {
    "duration": 7,
    "start_time": "2023-01-06T12:22:12.277Z"
   },
   {
    "duration": 27,
    "start_time": "2023-01-06T12:22:12.286Z"
   },
   {
    "duration": 9,
    "start_time": "2023-01-06T12:22:12.315Z"
   },
   {
    "duration": 12,
    "start_time": "2023-01-06T12:22:12.326Z"
   },
   {
    "duration": 24,
    "start_time": "2023-01-06T12:24:22.586Z"
   },
   {
    "duration": 8,
    "start_time": "2023-01-06T12:24:42.250Z"
   },
   {
    "duration": 9,
    "start_time": "2023-01-06T12:25:02.563Z"
   },
   {
    "duration": 6,
    "start_time": "2023-01-06T12:25:11.552Z"
   },
   {
    "duration": 28,
    "start_time": "2023-01-06T12:27:09.318Z"
   },
   {
    "duration": 6,
    "start_time": "2023-01-06T12:30:19.658Z"
   },
   {
    "duration": 47,
    "start_time": "2023-01-06T16:00:22.404Z"
   },
   {
    "duration": 720,
    "start_time": "2023-01-06T16:00:28.788Z"
   },
   {
    "duration": 18,
    "start_time": "2023-01-06T16:00:29.510Z"
   },
   {
    "duration": 14,
    "start_time": "2023-01-06T16:00:29.529Z"
   },
   {
    "duration": 2339,
    "start_time": "2023-01-06T16:00:29.545Z"
   },
   {
    "duration": 9,
    "start_time": "2023-01-06T16:00:31.886Z"
   },
   {
    "duration": 5,
    "start_time": "2023-01-06T16:00:31.897Z"
   },
   {
    "duration": 6,
    "start_time": "2023-01-06T16:00:31.903Z"
   },
   {
    "duration": 11,
    "start_time": "2023-01-06T16:00:31.910Z"
   },
   {
    "duration": 8,
    "start_time": "2023-01-06T16:00:31.923Z"
   },
   {
    "duration": 17,
    "start_time": "2023-01-06T16:00:31.932Z"
   },
   {
    "duration": 40,
    "start_time": "2023-01-06T16:00:31.951Z"
   },
   {
    "duration": 5,
    "start_time": "2023-01-06T16:04:41.991Z"
   },
   {
    "duration": 39,
    "start_time": "2023-01-06T16:07:37.391Z"
   },
   {
    "duration": 10,
    "start_time": "2023-01-06T16:08:24.077Z"
   },
   {
    "duration": 11,
    "start_time": "2023-01-06T16:08:44.807Z"
   },
   {
    "duration": 98,
    "start_time": "2023-01-06T16:09:54.025Z"
   },
   {
    "duration": 15,
    "start_time": "2023-01-06T16:09:54.125Z"
   },
   {
    "duration": 16,
    "start_time": "2023-01-06T16:09:54.142Z"
   },
   {
    "duration": 1992,
    "start_time": "2023-01-06T16:09:54.160Z"
   },
   {
    "duration": 12,
    "start_time": "2023-01-06T16:09:56.153Z"
   },
   {
    "duration": 6,
    "start_time": "2023-01-06T16:09:56.167Z"
   },
   {
    "duration": 11,
    "start_time": "2023-01-06T16:09:56.175Z"
   },
   {
    "duration": 25,
    "start_time": "2023-01-06T16:09:56.188Z"
   },
   {
    "duration": 5,
    "start_time": "2023-01-06T16:09:56.215Z"
   },
   {
    "duration": 14,
    "start_time": "2023-01-06T16:09:56.222Z"
   },
   {
    "duration": 18,
    "start_time": "2023-01-06T16:09:56.237Z"
   },
   {
    "duration": 10,
    "start_time": "2023-01-06T16:10:04.403Z"
   },
   {
    "duration": 16,
    "start_time": "2023-01-06T16:10:40.836Z"
   },
   {
    "duration": 4,
    "start_time": "2023-01-06T16:10:57.688Z"
   },
   {
    "duration": 10,
    "start_time": "2023-01-06T16:12:01.077Z"
   },
   {
    "duration": 9,
    "start_time": "2023-01-06T16:12:21.319Z"
   },
   {
    "duration": 4,
    "start_time": "2023-01-06T16:12:46.679Z"
   },
   {
    "duration": 13,
    "start_time": "2023-01-06T16:13:39.049Z"
   },
   {
    "duration": 10,
    "start_time": "2023-01-06T16:13:45.286Z"
   },
   {
    "duration": 5,
    "start_time": "2023-01-06T16:14:36.593Z"
   },
   {
    "duration": 222,
    "start_time": "2023-01-06T16:20:06.524Z"
   },
   {
    "duration": 6,
    "start_time": "2023-01-06T16:20:20.147Z"
   },
   {
    "duration": 24,
    "start_time": "2023-01-06T16:20:29.641Z"
   },
   {
    "duration": 7,
    "start_time": "2023-01-06T16:20:46.813Z"
   },
   {
    "duration": 4,
    "start_time": "2023-01-06T16:21:28.080Z"
   },
   {
    "duration": 4,
    "start_time": "2023-01-06T16:21:31.890Z"
   },
   {
    "duration": 82,
    "start_time": "2023-01-06T16:21:42.905Z"
   },
   {
    "duration": 16,
    "start_time": "2023-01-06T16:21:42.988Z"
   },
   {
    "duration": 15,
    "start_time": "2023-01-06T16:21:43.006Z"
   },
   {
    "duration": 1868,
    "start_time": "2023-01-06T16:21:43.023Z"
   },
   {
    "duration": 8,
    "start_time": "2023-01-06T16:21:44.893Z"
   },
   {
    "duration": 12,
    "start_time": "2023-01-06T16:21:44.902Z"
   },
   {
    "duration": 7,
    "start_time": "2023-01-06T16:21:44.915Z"
   },
   {
    "duration": 10,
    "start_time": "2023-01-06T16:21:44.924Z"
   },
   {
    "duration": 13,
    "start_time": "2023-01-06T16:21:44.935Z"
   },
   {
    "duration": 11,
    "start_time": "2023-01-06T16:21:44.950Z"
   },
   {
    "duration": 4,
    "start_time": "2023-01-06T16:21:44.963Z"
   },
   {
    "duration": 15,
    "start_time": "2023-01-06T16:21:44.968Z"
   },
   {
    "duration": 6,
    "start_time": "2023-01-06T16:22:17.457Z"
   },
   {
    "duration": 10,
    "start_time": "2023-01-06T16:29:39.991Z"
   },
   {
    "duration": 6,
    "start_time": "2023-01-06T16:30:54.114Z"
   },
   {
    "duration": 6,
    "start_time": "2023-01-06T16:32:56.007Z"
   },
   {
    "duration": 6,
    "start_time": "2023-01-06T16:33:48.969Z"
   },
   {
    "duration": 6,
    "start_time": "2023-01-06T16:34:38.868Z"
   },
   {
    "duration": 7,
    "start_time": "2023-01-06T16:35:37.186Z"
   },
   {
    "duration": 22,
    "start_time": "2023-01-06T16:37:24.716Z"
   },
   {
    "duration": 15,
    "start_time": "2023-01-06T16:37:32.848Z"
   },
   {
    "duration": 8,
    "start_time": "2023-01-06T16:37:51.198Z"
   },
   {
    "duration": 0,
    "start_time": "2023-01-06T16:54:10.386Z"
   },
   {
    "duration": 7,
    "start_time": "2023-01-06T16:54:14.295Z"
   },
   {
    "duration": 8,
    "start_time": "2023-01-06T16:54:45.442Z"
   },
   {
    "duration": 15,
    "start_time": "2023-01-06T16:55:32.769Z"
   },
   {
    "duration": 8,
    "start_time": "2023-01-06T16:55:48.777Z"
   },
   {
    "duration": 7,
    "start_time": "2023-01-06T16:56:43.756Z"
   },
   {
    "duration": 10,
    "start_time": "2023-01-06T16:57:34.921Z"
   },
   {
    "duration": 56,
    "start_time": "2023-01-07T12:19:00.238Z"
   },
   {
    "duration": 598,
    "start_time": "2023-01-07T12:19:06.921Z"
   },
   {
    "duration": 17,
    "start_time": "2023-01-07T12:19:07.522Z"
   },
   {
    "duration": 14,
    "start_time": "2023-01-07T12:19:07.541Z"
   },
   {
    "duration": 2220,
    "start_time": "2023-01-07T12:19:07.557Z"
   },
   {
    "duration": 9,
    "start_time": "2023-01-07T12:19:09.779Z"
   },
   {
    "duration": 5,
    "start_time": "2023-01-07T12:19:09.790Z"
   },
   {
    "duration": 9,
    "start_time": "2023-01-07T12:19:09.803Z"
   },
   {
    "duration": 6,
    "start_time": "2023-01-07T12:19:09.814Z"
   },
   {
    "duration": 10,
    "start_time": "2023-01-07T12:19:09.821Z"
   },
   {
    "duration": 18,
    "start_time": "2023-01-07T12:19:09.832Z"
   },
   {
    "duration": 9,
    "start_time": "2023-01-07T12:19:09.851Z"
   },
   {
    "duration": 18,
    "start_time": "2023-01-07T12:19:09.861Z"
   },
   {
    "duration": 6,
    "start_time": "2023-01-07T12:19:18.848Z"
   },
   {
    "duration": 56,
    "start_time": "2023-01-07T12:21:58.360Z"
   },
   {
    "duration": 13,
    "start_time": "2023-01-07T12:22:09.090Z"
   },
   {
    "duration": 14,
    "start_time": "2023-01-07T12:22:17.958Z"
   },
   {
    "duration": 21,
    "start_time": "2023-01-07T12:23:40.401Z"
   },
   {
    "duration": 12,
    "start_time": "2023-01-07T12:23:59.270Z"
   },
   {
    "duration": 15,
    "start_time": "2023-01-07T12:24:14.301Z"
   },
   {
    "duration": 16,
    "start_time": "2023-01-07T12:27:37.152Z"
   },
   {
    "duration": 15,
    "start_time": "2023-01-07T12:28:16.171Z"
   },
   {
    "duration": 566,
    "start_time": "2023-01-07T12:36:40.377Z"
   },
   {
    "duration": 8,
    "start_time": "2023-01-07T12:37:23.603Z"
   },
   {
    "duration": 10,
    "start_time": "2023-01-07T12:39:27.727Z"
   },
   {
    "duration": 5,
    "start_time": "2023-01-07T12:39:41.920Z"
   },
   {
    "duration": 100,
    "start_time": "2023-01-07T12:39:49.225Z"
   },
   {
    "duration": 15,
    "start_time": "2023-01-07T12:39:49.327Z"
   },
   {
    "duration": 17,
    "start_time": "2023-01-07T12:39:49.343Z"
   },
   {
    "duration": 1904,
    "start_time": "2023-01-07T12:39:49.363Z"
   },
   {
    "duration": 10,
    "start_time": "2023-01-07T12:39:51.268Z"
   },
   {
    "duration": 4,
    "start_time": "2023-01-07T12:39:51.279Z"
   },
   {
    "duration": 12,
    "start_time": "2023-01-07T12:39:51.304Z"
   },
   {
    "duration": 6,
    "start_time": "2023-01-07T12:39:51.318Z"
   },
   {
    "duration": 13,
    "start_time": "2023-01-07T12:39:51.325Z"
   },
   {
    "duration": 14,
    "start_time": "2023-01-07T12:39:51.340Z"
   },
   {
    "duration": 11,
    "start_time": "2023-01-07T12:39:51.356Z"
   },
   {
    "duration": 39,
    "start_time": "2023-01-07T12:39:51.368Z"
   },
   {
    "duration": 16,
    "start_time": "2023-01-07T12:39:51.409Z"
   },
   {
    "duration": 16,
    "start_time": "2023-01-07T12:40:14.568Z"
   },
   {
    "duration": 1144,
    "start_time": "2023-01-07T12:48:09.464Z"
   },
   {
    "duration": 17,
    "start_time": "2023-01-07T12:48:19.249Z"
   },
   {
    "duration": 18,
    "start_time": "2023-01-07T12:51:17.992Z"
   },
   {
    "duration": 16,
    "start_time": "2023-01-07T12:54:34.361Z"
   },
   {
    "duration": 9,
    "start_time": "2023-01-07T13:00:24.967Z"
   },
   {
    "duration": 1178,
    "start_time": "2023-01-07T13:00:59.871Z"
   },
   {
    "duration": 1103,
    "start_time": "2023-01-07T13:01:07.153Z"
   },
   {
    "duration": 9,
    "start_time": "2023-01-07T13:01:24.720Z"
   },
   {
    "duration": 21,
    "start_time": "2023-01-07T13:05:10.391Z"
   },
   {
    "duration": 19,
    "start_time": "2023-01-07T13:05:34.678Z"
   },
   {
    "duration": 24,
    "start_time": "2023-01-07T13:10:45.874Z"
   },
   {
    "duration": 30,
    "start_time": "2023-01-07T13:11:36.371Z"
   },
   {
    "duration": 23,
    "start_time": "2023-01-07T13:12:46.764Z"
   },
   {
    "duration": 74,
    "start_time": "2023-01-07T13:13:44.389Z"
   },
   {
    "duration": 22,
    "start_time": "2023-01-07T13:13:58.342Z"
   },
   {
    "duration": 13,
    "start_time": "2023-01-07T13:16:35.811Z"
   },
   {
    "duration": 14,
    "start_time": "2023-01-07T13:17:58.933Z"
   },
   {
    "duration": 21,
    "start_time": "2023-01-07T13:18:11.865Z"
   },
   {
    "duration": 14,
    "start_time": "2023-01-07T13:18:44.335Z"
   },
   {
    "duration": 21,
    "start_time": "2023-01-07T13:18:51.870Z"
   },
   {
    "duration": 9,
    "start_time": "2023-01-07T13:31:00.907Z"
   },
   {
    "duration": 73,
    "start_time": "2023-01-07T13:32:09.493Z"
   },
   {
    "duration": 70,
    "start_time": "2023-01-07T13:32:20.677Z"
   },
   {
    "duration": 94,
    "start_time": "2023-01-07T13:32:25.341Z"
   },
   {
    "duration": 7,
    "start_time": "2023-01-07T13:33:01.832Z"
   },
   {
    "duration": 91,
    "start_time": "2023-01-07T13:33:05.507Z"
   },
   {
    "duration": 16,
    "start_time": "2023-01-07T13:33:05.600Z"
   },
   {
    "duration": 28,
    "start_time": "2023-01-07T13:33:05.617Z"
   },
   {
    "duration": 1908,
    "start_time": "2023-01-07T13:33:05.647Z"
   },
   {
    "duration": 10,
    "start_time": "2023-01-07T13:33:07.557Z"
   },
   {
    "duration": 5,
    "start_time": "2023-01-07T13:33:07.569Z"
   },
   {
    "duration": 44,
    "start_time": "2023-01-07T13:33:07.575Z"
   },
   {
    "duration": 6,
    "start_time": "2023-01-07T13:33:07.620Z"
   },
   {
    "duration": 9,
    "start_time": "2023-01-07T13:33:07.628Z"
   },
   {
    "duration": 13,
    "start_time": "2023-01-07T13:33:07.640Z"
   },
   {
    "duration": 9,
    "start_time": "2023-01-07T13:33:07.655Z"
   },
   {
    "duration": 39,
    "start_time": "2023-01-07T13:33:07.666Z"
   },
   {
    "duration": 24,
    "start_time": "2023-01-07T13:33:07.707Z"
   },
   {
    "duration": 9,
    "start_time": "2023-01-07T13:33:07.733Z"
   },
   {
    "duration": 10,
    "start_time": "2023-01-07T13:34:40.498Z"
   },
   {
    "duration": 13,
    "start_time": "2023-01-07T13:40:25.427Z"
   },
   {
    "duration": 12,
    "start_time": "2023-01-07T13:40:54.118Z"
   },
   {
    "duration": 11,
    "start_time": "2023-01-07T13:41:07.873Z"
   },
   {
    "duration": 1291,
    "start_time": "2023-01-07T13:42:20.743Z"
   },
   {
    "duration": 211,
    "start_time": "2023-01-07T13:46:36.065Z"
   },
   {
    "duration": 276,
    "start_time": "2023-01-07T13:46:48.544Z"
   },
   {
    "duration": 137,
    "start_time": "2023-01-07T13:46:54.426Z"
   },
   {
    "duration": 5,
    "start_time": "2023-01-07T13:49:56.998Z"
   },
   {
    "duration": 4,
    "start_time": "2023-01-07T13:50:41.463Z"
   },
   {
    "duration": 5,
    "start_time": "2023-01-07T13:51:03.559Z"
   },
   {
    "duration": 6,
    "start_time": "2023-01-07T13:51:13.660Z"
   },
   {
    "duration": 7,
    "start_time": "2023-01-07T13:51:32.502Z"
   },
   {
    "duration": 5,
    "start_time": "2023-01-07T14:39:41.055Z"
   },
   {
    "duration": 18,
    "start_time": "2023-01-07T14:42:23.134Z"
   },
   {
    "duration": 4,
    "start_time": "2023-01-07T14:42:36.258Z"
   },
   {
    "duration": 3,
    "start_time": "2023-01-07T14:42:44.601Z"
   },
   {
    "duration": 9,
    "start_time": "2023-01-07T14:44:31.754Z"
   },
   {
    "duration": 5,
    "start_time": "2023-01-07T14:44:38.074Z"
   },
   {
    "duration": 18,
    "start_time": "2023-01-07T14:44:43.011Z"
   },
   {
    "duration": 11,
    "start_time": "2023-01-07T14:45:38.360Z"
   },
   {
    "duration": 6,
    "start_time": "2023-01-07T14:46:21.470Z"
   },
   {
    "duration": 109,
    "start_time": "2023-01-07T14:48:00.008Z"
   },
   {
    "duration": 76,
    "start_time": "2023-01-07T14:48:07.851Z"
   },
   {
    "duration": 68,
    "start_time": "2023-01-07T14:48:20.948Z"
   },
   {
    "duration": 13,
    "start_time": "2023-01-07T14:48:29.034Z"
   },
   {
    "duration": 86,
    "start_time": "2023-01-07T14:49:00.005Z"
   },
   {
    "duration": 40,
    "start_time": "2023-01-07T14:49:00.093Z"
   },
   {
    "duration": 36,
    "start_time": "2023-01-07T14:49:00.136Z"
   },
   {
    "duration": 1973,
    "start_time": "2023-01-07T14:49:00.174Z"
   },
   {
    "duration": 13,
    "start_time": "2023-01-07T14:49:02.149Z"
   },
   {
    "duration": 6,
    "start_time": "2023-01-07T14:49:02.164Z"
   },
   {
    "duration": 63,
    "start_time": "2023-01-07T14:49:02.172Z"
   },
   {
    "duration": 6,
    "start_time": "2023-01-07T14:49:02.237Z"
   },
   {
    "duration": 8,
    "start_time": "2023-01-07T14:49:02.245Z"
   },
   {
    "duration": 16,
    "start_time": "2023-01-07T14:49:02.256Z"
   },
   {
    "duration": 38,
    "start_time": "2023-01-07T14:49:02.274Z"
   },
   {
    "duration": 18,
    "start_time": "2023-01-07T14:49:02.315Z"
   },
   {
    "duration": 27,
    "start_time": "2023-01-07T14:49:02.336Z"
   },
   {
    "duration": 11,
    "start_time": "2023-01-07T14:49:02.365Z"
   },
   {
    "duration": 1612,
    "start_time": "2023-01-07T14:49:02.404Z"
   },
   {
    "duration": 84,
    "start_time": "2023-01-07T14:49:04.019Z"
   },
   {
    "duration": 0,
    "start_time": "2023-01-07T14:49:04.105Z"
   },
   {
    "duration": 0,
    "start_time": "2023-01-07T14:49:04.106Z"
   },
   {
    "duration": 175,
    "start_time": "2023-01-07T14:49:13.995Z"
   },
   {
    "duration": 5,
    "start_time": "2023-01-07T14:49:18.779Z"
   },
   {
    "duration": 71,
    "start_time": "2023-01-07T14:49:22.106Z"
   },
   {
    "duration": 11,
    "start_time": "2023-01-07T14:51:21.270Z"
   },
   {
    "duration": 15,
    "start_time": "2023-01-07T14:51:34.093Z"
   },
   {
    "duration": 17,
    "start_time": "2023-01-07T14:54:43.841Z"
   },
   {
    "duration": 13,
    "start_time": "2023-01-07T14:54:49.838Z"
   },
   {
    "duration": 15,
    "start_time": "2023-01-07T14:55:04.580Z"
   },
   {
    "duration": 19,
    "start_time": "2023-01-07T14:58:22.836Z"
   },
   {
    "duration": 18,
    "start_time": "2023-01-07T14:58:45.370Z"
   },
   {
    "duration": 5,
    "start_time": "2023-01-07T14:58:53.432Z"
   },
   {
    "duration": 4,
    "start_time": "2023-01-07T14:59:08.635Z"
   },
   {
    "duration": 7,
    "start_time": "2023-01-07T15:03:15.020Z"
   },
   {
    "duration": 106,
    "start_time": "2023-01-07T15:03:17.654Z"
   },
   {
    "duration": 23,
    "start_time": "2023-01-07T15:03:17.763Z"
   },
   {
    "duration": 34,
    "start_time": "2023-01-07T15:03:17.788Z"
   },
   {
    "duration": 2097,
    "start_time": "2023-01-07T15:03:17.825Z"
   },
   {
    "duration": 13,
    "start_time": "2023-01-07T15:03:19.924Z"
   },
   {
    "duration": 11,
    "start_time": "2023-01-07T15:03:19.939Z"
   },
   {
    "duration": 22,
    "start_time": "2023-01-07T15:03:19.952Z"
   },
   {
    "duration": 5,
    "start_time": "2023-01-07T15:03:19.976Z"
   },
   {
    "duration": 26,
    "start_time": "2023-01-07T15:03:19.983Z"
   },
   {
    "duration": 14,
    "start_time": "2023-01-07T15:03:20.012Z"
   },
   {
    "duration": 10,
    "start_time": "2023-01-07T15:03:20.028Z"
   },
   {
    "duration": 8,
    "start_time": "2023-01-07T15:03:20.040Z"
   },
   {
    "duration": 65,
    "start_time": "2023-01-07T15:03:20.049Z"
   },
   {
    "duration": 16,
    "start_time": "2023-01-07T15:03:20.116Z"
   },
   {
    "duration": 1596,
    "start_time": "2023-01-07T15:03:20.134Z"
   },
   {
    "duration": 147,
    "start_time": "2023-01-07T15:03:21.733Z"
   },
   {
    "duration": 4,
    "start_time": "2023-01-07T15:03:21.882Z"
   },
   {
    "duration": 25,
    "start_time": "2023-01-07T15:03:21.887Z"
   },
   {
    "duration": 6,
    "start_time": "2023-01-07T15:03:21.914Z"
   },
   {
    "duration": 19,
    "start_time": "2023-01-07T15:04:28.407Z"
   },
   {
    "duration": 4,
    "start_time": "2023-01-07T15:07:46.616Z"
   },
   {
    "duration": 4,
    "start_time": "2023-01-07T15:08:02.067Z"
   },
   {
    "duration": 4,
    "start_time": "2023-01-07T15:08:21.052Z"
   },
   {
    "duration": 5,
    "start_time": "2023-01-07T15:08:30.255Z"
   },
   {
    "duration": 4,
    "start_time": "2023-01-07T15:09:09.212Z"
   },
   {
    "duration": 4,
    "start_time": "2023-01-07T15:09:19.827Z"
   },
   {
    "duration": 5,
    "start_time": "2023-01-07T15:11:52.911Z"
   },
   {
    "duration": 4,
    "start_time": "2023-01-07T15:12:49.874Z"
   },
   {
    "duration": 19,
    "start_time": "2023-01-07T15:15:16.550Z"
   },
   {
    "duration": 21,
    "start_time": "2023-01-07T15:15:34.730Z"
   },
   {
    "duration": 23,
    "start_time": "2023-01-07T15:17:28.619Z"
   },
   {
    "duration": 25,
    "start_time": "2023-01-07T15:18:04.726Z"
   },
   {
    "duration": 28,
    "start_time": "2023-01-07T15:21:23.582Z"
   },
   {
    "duration": 31,
    "start_time": "2023-01-07T15:21:53.518Z"
   },
   {
    "duration": 28,
    "start_time": "2023-01-07T15:22:19.755Z"
   },
   {
    "duration": 18,
    "start_time": "2023-01-07T15:22:53.324Z"
   },
   {
    "duration": 6,
    "start_time": "2023-01-07T15:27:50.275Z"
   },
   {
    "duration": 88,
    "start_time": "2023-01-07T15:27:54.479Z"
   },
   {
    "duration": 15,
    "start_time": "2023-01-07T15:27:54.569Z"
   },
   {
    "duration": 15,
    "start_time": "2023-01-07T15:27:54.605Z"
   },
   {
    "duration": 1831,
    "start_time": "2023-01-07T15:27:54.622Z"
   },
   {
    "duration": 11,
    "start_time": "2023-01-07T15:27:56.455Z"
   },
   {
    "duration": 17,
    "start_time": "2023-01-07T15:27:56.468Z"
   },
   {
    "duration": 45,
    "start_time": "2023-01-07T15:27:56.487Z"
   },
   {
    "duration": 8,
    "start_time": "2023-01-07T15:27:56.534Z"
   },
   {
    "duration": 9,
    "start_time": "2023-01-07T15:27:56.543Z"
   },
   {
    "duration": 15,
    "start_time": "2023-01-07T15:27:56.554Z"
   },
   {
    "duration": 10,
    "start_time": "2023-01-07T15:27:56.570Z"
   },
   {
    "duration": 24,
    "start_time": "2023-01-07T15:27:56.582Z"
   },
   {
    "duration": 28,
    "start_time": "2023-01-07T15:27:56.607Z"
   },
   {
    "duration": 18,
    "start_time": "2023-01-07T15:27:56.636Z"
   },
   {
    "duration": 1671,
    "start_time": "2023-01-07T15:27:56.656Z"
   },
   {
    "duration": 148,
    "start_time": "2023-01-07T15:27:58.328Z"
   },
   {
    "duration": 7,
    "start_time": "2023-01-07T15:27:58.478Z"
   },
   {
    "duration": 27,
    "start_time": "2023-01-07T15:27:58.486Z"
   },
   {
    "duration": 33,
    "start_time": "2023-01-07T15:27:58.515Z"
   },
   {
    "duration": 24,
    "start_time": "2023-01-07T15:29:07.779Z"
   },
   {
    "duration": 39,
    "start_time": "2023-01-08T09:27:02.853Z"
   },
   {
    "duration": 481,
    "start_time": "2023-01-08T09:27:08.051Z"
   },
   {
    "duration": 15,
    "start_time": "2023-01-08T09:27:08.534Z"
   },
   {
    "duration": 12,
    "start_time": "2023-01-08T09:27:08.551Z"
   },
   {
    "duration": 2172,
    "start_time": "2023-01-08T09:27:08.565Z"
   },
   {
    "duration": 10,
    "start_time": "2023-01-08T09:27:10.739Z"
   },
   {
    "duration": 7,
    "start_time": "2023-01-08T09:27:10.750Z"
   },
   {
    "duration": 23,
    "start_time": "2023-01-08T09:27:10.759Z"
   },
   {
    "duration": 7,
    "start_time": "2023-01-08T09:27:10.783Z"
   },
   {
    "duration": 7,
    "start_time": "2023-01-08T09:27:10.791Z"
   },
   {
    "duration": 17,
    "start_time": "2023-01-08T09:27:10.801Z"
   },
   {
    "duration": 9,
    "start_time": "2023-01-08T09:27:10.819Z"
   },
   {
    "duration": 7,
    "start_time": "2023-01-08T09:27:10.830Z"
   },
   {
    "duration": 22,
    "start_time": "2023-01-08T09:27:10.838Z"
   },
   {
    "duration": 16,
    "start_time": "2023-01-08T09:27:10.861Z"
   },
   {
    "duration": 1281,
    "start_time": "2023-01-08T09:27:10.878Z"
   },
   {
    "duration": 114,
    "start_time": "2023-01-08T09:27:12.160Z"
   },
   {
    "duration": 5,
    "start_time": "2023-01-08T09:27:12.275Z"
   },
   {
    "duration": 13,
    "start_time": "2023-01-08T09:27:12.281Z"
   },
   {
    "duration": 20,
    "start_time": "2023-01-08T09:27:12.313Z"
   },
   {
    "duration": 20,
    "start_time": "2023-01-08T09:27:12.334Z"
   },
   {
    "duration": 4,
    "start_time": "2023-01-08T09:36:34.082Z"
   },
   {
    "duration": 3,
    "start_time": "2023-01-08T09:39:59.770Z"
   },
   {
    "duration": 83,
    "start_time": "2023-01-08T09:40:08.776Z"
   },
   {
    "duration": 15,
    "start_time": "2023-01-08T09:40:08.861Z"
   },
   {
    "duration": 40,
    "start_time": "2023-01-08T09:40:08.877Z"
   },
   {
    "duration": 1717,
    "start_time": "2023-01-08T09:40:08.919Z"
   },
   {
    "duration": 8,
    "start_time": "2023-01-08T09:40:10.637Z"
   },
   {
    "duration": 34,
    "start_time": "2023-01-08T09:40:10.647Z"
   },
   {
    "duration": 43,
    "start_time": "2023-01-08T09:40:10.683Z"
   },
   {
    "duration": 27,
    "start_time": "2023-01-08T09:40:10.728Z"
   },
   {
    "duration": 21,
    "start_time": "2023-01-08T09:40:10.757Z"
   },
   {
    "duration": 32,
    "start_time": "2023-01-08T09:40:10.780Z"
   },
   {
    "duration": 127,
    "start_time": "2023-01-08T09:40:10.814Z"
   },
   {
    "duration": 14,
    "start_time": "2023-01-08T09:40:10.943Z"
   },
   {
    "duration": 195,
    "start_time": "2023-01-08T09:40:10.959Z"
   },
   {
    "duration": 20,
    "start_time": "2023-01-08T09:40:11.156Z"
   },
   {
    "duration": 1079,
    "start_time": "2023-01-08T09:40:11.179Z"
   },
   {
    "duration": 131,
    "start_time": "2023-01-08T09:40:12.260Z"
   },
   {
    "duration": 6,
    "start_time": "2023-01-08T09:40:12.393Z"
   },
   {
    "duration": 71,
    "start_time": "2023-01-08T09:40:12.400Z"
   },
   {
    "duration": 42,
    "start_time": "2023-01-08T09:40:12.473Z"
   },
   {
    "duration": 36,
    "start_time": "2023-01-08T09:40:12.516Z"
   },
   {
    "duration": 79,
    "start_time": "2023-01-08T09:48:42.108Z"
   },
   {
    "duration": 5,
    "start_time": "2023-01-08T09:48:47.569Z"
   },
   {
    "duration": 5,
    "start_time": "2023-01-08T09:48:59.311Z"
   },
   {
    "duration": 3,
    "start_time": "2023-01-08T09:49:14.717Z"
   },
   {
    "duration": 79,
    "start_time": "2023-01-08T09:49:57.399Z"
   },
   {
    "duration": 16,
    "start_time": "2023-01-08T09:49:57.480Z"
   },
   {
    "duration": 20,
    "start_time": "2023-01-08T09:49:57.498Z"
   },
   {
    "duration": 1762,
    "start_time": "2023-01-08T09:49:57.520Z"
   },
   {
    "duration": 9,
    "start_time": "2023-01-08T09:49:59.283Z"
   },
   {
    "duration": 20,
    "start_time": "2023-01-08T09:49:59.293Z"
   },
   {
    "duration": 21,
    "start_time": "2023-01-08T09:49:59.314Z"
   },
   {
    "duration": 7,
    "start_time": "2023-01-08T09:49:59.336Z"
   },
   {
    "duration": 7,
    "start_time": "2023-01-08T09:49:59.344Z"
   },
   {
    "duration": 4,
    "start_time": "2023-01-08T09:49:59.353Z"
   },
   {
    "duration": 13,
    "start_time": "2023-01-08T09:49:59.359Z"
   },
   {
    "duration": 11,
    "start_time": "2023-01-08T09:49:59.374Z"
   },
   {
    "duration": 154,
    "start_time": "2023-01-08T09:49:59.414Z"
   },
   {
    "duration": 22,
    "start_time": "2023-01-08T09:49:59.569Z"
   },
   {
    "duration": 1328,
    "start_time": "2023-01-08T09:49:59.592Z"
   },
   {
    "duration": 137,
    "start_time": "2023-01-08T09:50:00.922Z"
   },
   {
    "duration": 4,
    "start_time": "2023-01-08T09:50:01.061Z"
   },
   {
    "duration": 31,
    "start_time": "2023-01-08T09:50:01.067Z"
   },
   {
    "duration": 34,
    "start_time": "2023-01-08T09:50:01.099Z"
   },
   {
    "duration": 20,
    "start_time": "2023-01-08T09:50:01.135Z"
   },
   {
    "duration": 6,
    "start_time": "2023-01-08T09:51:47.000Z"
   },
   {
    "duration": 7,
    "start_time": "2023-01-08T09:51:52.518Z"
   },
   {
    "duration": 16,
    "start_time": "2023-01-08T09:59:59.709Z"
   },
   {
    "duration": 6,
    "start_time": "2023-01-08T10:00:27.261Z"
   },
   {
    "duration": 6,
    "start_time": "2023-01-08T10:01:08.200Z"
   },
   {
    "duration": 34,
    "start_time": "2023-01-08T10:16:39.844Z"
   },
   {
    "duration": 7,
    "start_time": "2023-01-08T10:17:23.375Z"
   },
   {
    "duration": 4,
    "start_time": "2023-01-08T10:31:03.545Z"
   },
   {
    "duration": 6,
    "start_time": "2023-01-08T10:36:28.674Z"
   },
   {
    "duration": 46,
    "start_time": "2023-01-08T12:37:58.916Z"
   },
   {
    "duration": 691,
    "start_time": "2023-01-08T12:38:03.983Z"
   },
   {
    "duration": 17,
    "start_time": "2023-01-08T12:38:04.676Z"
   },
   {
    "duration": 14,
    "start_time": "2023-01-08T12:38:04.695Z"
   },
   {
    "duration": 2265,
    "start_time": "2023-01-08T12:38:04.711Z"
   },
   {
    "duration": 9,
    "start_time": "2023-01-08T12:38:06.978Z"
   },
   {
    "duration": 6,
    "start_time": "2023-01-08T12:38:06.988Z"
   },
   {
    "duration": 27,
    "start_time": "2023-01-08T12:38:06.996Z"
   },
   {
    "duration": 7,
    "start_time": "2023-01-08T12:38:07.024Z"
   },
   {
    "duration": 8,
    "start_time": "2023-01-08T12:38:07.032Z"
   },
   {
    "duration": 19,
    "start_time": "2023-01-08T12:38:07.042Z"
   },
   {
    "duration": 18,
    "start_time": "2023-01-08T12:38:07.062Z"
   },
   {
    "duration": 16,
    "start_time": "2023-01-08T12:38:07.081Z"
   },
   {
    "duration": 167,
    "start_time": "2023-01-08T12:38:07.099Z"
   },
   {
    "duration": 19,
    "start_time": "2023-01-08T12:38:07.268Z"
   },
   {
    "duration": 1187,
    "start_time": "2023-01-08T12:38:07.288Z"
   },
   {
    "duration": 156,
    "start_time": "2023-01-08T12:38:08.477Z"
   },
   {
    "duration": 5,
    "start_time": "2023-01-08T12:38:08.635Z"
   },
   {
    "duration": 26,
    "start_time": "2023-01-08T12:38:08.642Z"
   },
   {
    "duration": 25,
    "start_time": "2023-01-08T12:38:08.670Z"
   },
   {
    "duration": 42,
    "start_time": "2023-01-08T12:38:08.696Z"
   },
   {
    "duration": 740,
    "start_time": "2023-01-08T12:53:40.162Z"
   },
   {
    "duration": 30,
    "start_time": "2023-01-08T12:54:16.583Z"
   },
   {
    "duration": 12,
    "start_time": "2023-01-08T12:54:39.381Z"
   },
   {
    "duration": 51,
    "start_time": "2023-01-08T12:54:54.929Z"
   },
   {
    "duration": 55,
    "start_time": "2023-01-08T12:55:03.537Z"
   },
   {
    "duration": 43,
    "start_time": "2023-01-08T12:55:18.362Z"
   },
   {
    "duration": 176,
    "start_time": "2023-01-08T12:55:50.068Z"
   },
   {
    "duration": 185,
    "start_time": "2023-01-08T12:56:41.848Z"
   },
   {
    "duration": 182,
    "start_time": "2023-01-08T12:57:39.553Z"
   },
   {
    "duration": 4,
    "start_time": "2023-01-08T13:00:37.517Z"
   },
   {
    "duration": 7,
    "start_time": "2023-01-08T13:00:42.115Z"
   },
   {
    "duration": 84,
    "start_time": "2023-01-08T13:00:59.003Z"
   },
   {
    "duration": 14,
    "start_time": "2023-01-08T13:00:59.089Z"
   },
   {
    "duration": 27,
    "start_time": "2023-01-08T13:00:59.105Z"
   },
   {
    "duration": 1788,
    "start_time": "2023-01-08T13:00:59.133Z"
   },
   {
    "duration": 10,
    "start_time": "2023-01-08T13:01:00.923Z"
   },
   {
    "duration": 19,
    "start_time": "2023-01-08T13:01:00.934Z"
   },
   {
    "duration": 49,
    "start_time": "2023-01-08T13:01:00.955Z"
   },
   {
    "duration": 0,
    "start_time": "2023-01-08T13:01:01.006Z"
   },
   {
    "duration": 0,
    "start_time": "2023-01-08T13:01:01.007Z"
   },
   {
    "duration": 0,
    "start_time": "2023-01-08T13:01:01.009Z"
   },
   {
    "duration": 0,
    "start_time": "2023-01-08T13:01:01.010Z"
   },
   {
    "duration": 0,
    "start_time": "2023-01-08T13:01:01.011Z"
   },
   {
    "duration": 0,
    "start_time": "2023-01-08T13:01:01.012Z"
   },
   {
    "duration": 0,
    "start_time": "2023-01-08T13:01:01.013Z"
   },
   {
    "duration": 0,
    "start_time": "2023-01-08T13:01:01.015Z"
   },
   {
    "duration": 0,
    "start_time": "2023-01-08T13:01:01.015Z"
   },
   {
    "duration": 0,
    "start_time": "2023-01-08T13:01:01.016Z"
   },
   {
    "duration": 0,
    "start_time": "2023-01-08T13:01:01.017Z"
   },
   {
    "duration": 0,
    "start_time": "2023-01-08T13:01:01.018Z"
   },
   {
    "duration": 0,
    "start_time": "2023-01-08T13:01:01.019Z"
   },
   {
    "duration": 0,
    "start_time": "2023-01-08T13:01:01.020Z"
   },
   {
    "duration": 23,
    "start_time": "2023-01-08T13:01:20.269Z"
   },
   {
    "duration": 8,
    "start_time": "2023-01-08T13:01:24.523Z"
   },
   {
    "duration": 5,
    "start_time": "2023-01-08T13:01:29.437Z"
   },
   {
    "duration": 12,
    "start_time": "2023-01-08T13:01:32.572Z"
   },
   {
    "duration": 6,
    "start_time": "2023-01-08T13:01:39.055Z"
   },
   {
    "duration": 57,
    "start_time": "2023-01-08T13:01:46.638Z"
   },
   {
    "duration": 6,
    "start_time": "2023-01-08T13:06:23.102Z"
   },
   {
    "duration": 4,
    "start_time": "2023-01-08T13:07:09.954Z"
   },
   {
    "duration": 6,
    "start_time": "2023-01-08T13:07:13.900Z"
   },
   {
    "duration": 61,
    "start_time": "2023-01-08T13:19:54.633Z"
   },
   {
    "duration": 62,
    "start_time": "2023-01-08T13:20:29.591Z"
   },
   {
    "duration": 63,
    "start_time": "2023-01-08T13:23:28.816Z"
   },
   {
    "duration": 61,
    "start_time": "2023-01-08T13:23:35.976Z"
   },
   {
    "duration": 13,
    "start_time": "2023-01-08T13:23:47.676Z"
   },
   {
    "duration": 12,
    "start_time": "2023-01-08T13:23:56.519Z"
   },
   {
    "duration": 7,
    "start_time": "2023-01-08T13:30:24.593Z"
   },
   {
    "duration": 4,
    "start_time": "2023-01-08T13:31:18.894Z"
   },
   {
    "duration": 7,
    "start_time": "2023-01-08T13:31:21.129Z"
   },
   {
    "duration": 5,
    "start_time": "2023-01-08T13:31:31.714Z"
   },
   {
    "duration": 6,
    "start_time": "2023-01-08T13:35:21.730Z"
   },
   {
    "duration": 43,
    "start_time": "2023-01-08T13:39:15.920Z"
   },
   {
    "duration": 42,
    "start_time": "2023-01-08T13:39:29.598Z"
   },
   {
    "duration": 7,
    "start_time": "2023-01-08T13:39:37.323Z"
   },
   {
    "duration": 8,
    "start_time": "2023-01-08T13:40:21.384Z"
   },
   {
    "duration": 42,
    "start_time": "2023-01-08T13:40:27.014Z"
   },
   {
    "duration": 11,
    "start_time": "2023-01-08T13:40:32.738Z"
   },
   {
    "duration": 12,
    "start_time": "2023-01-08T13:41:10.305Z"
   },
   {
    "duration": 88,
    "start_time": "2023-01-08T13:41:39.905Z"
   },
   {
    "duration": 19,
    "start_time": "2023-01-08T13:41:39.995Z"
   },
   {
    "duration": 14,
    "start_time": "2023-01-08T13:41:40.022Z"
   },
   {
    "duration": 1879,
    "start_time": "2023-01-08T13:41:40.038Z"
   },
   {
    "duration": 9,
    "start_time": "2023-01-08T13:41:41.918Z"
   },
   {
    "duration": 5,
    "start_time": "2023-01-08T13:41:41.928Z"
   },
   {
    "duration": 9,
    "start_time": "2023-01-08T13:41:41.934Z"
   },
   {
    "duration": 8,
    "start_time": "2023-01-08T13:41:41.944Z"
   },
   {
    "duration": 6,
    "start_time": "2023-01-08T13:41:41.954Z"
   },
   {
    "duration": 30,
    "start_time": "2023-01-08T13:41:41.962Z"
   },
   {
    "duration": 29,
    "start_time": "2023-01-08T13:41:41.993Z"
   },
   {
    "duration": 8,
    "start_time": "2023-01-08T13:41:42.023Z"
   },
   {
    "duration": 60,
    "start_time": "2023-01-08T13:41:42.033Z"
   },
   {
    "duration": 29,
    "start_time": "2023-01-08T13:41:42.095Z"
   },
   {
    "duration": 12,
    "start_time": "2023-01-08T13:41:42.126Z"
   },
   {
    "duration": 240,
    "start_time": "2023-01-08T13:41:42.139Z"
   },
   {
    "duration": 20,
    "start_time": "2023-01-08T13:41:42.380Z"
   },
   {
    "duration": 1320,
    "start_time": "2023-01-08T13:41:42.401Z"
   },
   {
    "duration": 145,
    "start_time": "2023-01-08T13:41:43.722Z"
   },
   {
    "duration": 6,
    "start_time": "2023-01-08T13:41:43.868Z"
   },
   {
    "duration": 17,
    "start_time": "2023-01-08T13:41:43.875Z"
   },
   {
    "duration": 39,
    "start_time": "2023-01-08T13:41:43.894Z"
   },
   {
    "duration": 20,
    "start_time": "2023-01-08T13:41:43.935Z"
   },
   {
    "duration": 11,
    "start_time": "2023-01-08T13:43:09.481Z"
   },
   {
    "duration": 25,
    "start_time": "2023-01-08T13:43:18.593Z"
   },
   {
    "duration": 7,
    "start_time": "2023-01-08T13:43:29.475Z"
   },
   {
    "duration": 15,
    "start_time": "2023-01-08T13:43:50.788Z"
   },
   {
    "duration": 6,
    "start_time": "2023-01-08T13:44:06.642Z"
   },
   {
    "duration": 5,
    "start_time": "2023-01-08T14:45:11.071Z"
   },
   {
    "duration": 86,
    "start_time": "2023-01-08T14:45:15.302Z"
   },
   {
    "duration": 21,
    "start_time": "2023-01-08T14:45:15.391Z"
   },
   {
    "duration": 15,
    "start_time": "2023-01-08T14:45:15.422Z"
   },
   {
    "duration": 1866,
    "start_time": "2023-01-08T14:45:15.439Z"
   },
   {
    "duration": 16,
    "start_time": "2023-01-08T14:45:17.306Z"
   },
   {
    "duration": 5,
    "start_time": "2023-01-08T14:45:17.323Z"
   },
   {
    "duration": 15,
    "start_time": "2023-01-08T14:45:17.330Z"
   },
   {
    "duration": 7,
    "start_time": "2023-01-08T14:45:17.346Z"
   },
   {
    "duration": 9,
    "start_time": "2023-01-08T14:45:17.354Z"
   },
   {
    "duration": 23,
    "start_time": "2023-01-08T14:45:17.365Z"
   },
   {
    "duration": 7,
    "start_time": "2023-01-08T14:45:17.389Z"
   },
   {
    "duration": 23,
    "start_time": "2023-01-08T14:45:17.398Z"
   },
   {
    "duration": 584,
    "start_time": "2023-01-08T14:45:17.423Z"
   },
   {
    "duration": 0,
    "start_time": "2023-01-08T14:45:18.008Z"
   },
   {
    "duration": 0,
    "start_time": "2023-01-08T14:45:18.010Z"
   },
   {
    "duration": 0,
    "start_time": "2023-01-08T14:45:18.011Z"
   },
   {
    "duration": 0,
    "start_time": "2023-01-08T14:45:18.012Z"
   },
   {
    "duration": 0,
    "start_time": "2023-01-08T14:45:18.013Z"
   },
   {
    "duration": 0,
    "start_time": "2023-01-08T14:45:18.014Z"
   },
   {
    "duration": 0,
    "start_time": "2023-01-08T14:45:18.015Z"
   },
   {
    "duration": 0,
    "start_time": "2023-01-08T14:45:18.016Z"
   },
   {
    "duration": 0,
    "start_time": "2023-01-08T14:45:18.017Z"
   },
   {
    "duration": 0,
    "start_time": "2023-01-08T14:45:18.018Z"
   },
   {
    "duration": 183,
    "start_time": "2023-01-08T14:47:15.345Z"
   },
   {
    "duration": 8,
    "start_time": "2023-01-08T14:50:26.917Z"
   },
   {
    "duration": 13,
    "start_time": "2023-01-08T14:50:36.091Z"
   },
   {
    "duration": 83,
    "start_time": "2023-01-08T14:51:09.295Z"
   },
   {
    "duration": 15,
    "start_time": "2023-01-08T14:51:09.379Z"
   },
   {
    "duration": 29,
    "start_time": "2023-01-08T14:51:09.396Z"
   },
   {
    "duration": 1927,
    "start_time": "2023-01-08T14:51:09.427Z"
   },
   {
    "duration": 9,
    "start_time": "2023-01-08T14:51:11.355Z"
   },
   {
    "duration": 6,
    "start_time": "2023-01-08T14:51:11.366Z"
   },
   {
    "duration": 13,
    "start_time": "2023-01-08T14:51:11.373Z"
   },
   {
    "duration": 14,
    "start_time": "2023-01-08T14:51:11.388Z"
   },
   {
    "duration": 20,
    "start_time": "2023-01-08T14:51:11.403Z"
   },
   {
    "duration": 39,
    "start_time": "2023-01-08T14:51:11.425Z"
   },
   {
    "duration": 12,
    "start_time": "2023-01-08T14:51:11.466Z"
   },
   {
    "duration": 12,
    "start_time": "2023-01-08T14:51:11.479Z"
   },
   {
    "duration": 15,
    "start_time": "2023-01-08T14:51:11.493Z"
   },
   {
    "duration": 210,
    "start_time": "2023-01-08T14:51:11.510Z"
   },
   {
    "duration": 0,
    "start_time": "2023-01-08T14:51:11.721Z"
   },
   {
    "duration": 0,
    "start_time": "2023-01-08T14:51:11.723Z"
   },
   {
    "duration": 0,
    "start_time": "2023-01-08T14:51:11.723Z"
   },
   {
    "duration": 0,
    "start_time": "2023-01-08T14:51:11.724Z"
   },
   {
    "duration": 0,
    "start_time": "2023-01-08T14:51:11.725Z"
   },
   {
    "duration": 0,
    "start_time": "2023-01-08T14:51:11.726Z"
   },
   {
    "duration": 0,
    "start_time": "2023-01-08T14:51:11.727Z"
   },
   {
    "duration": 0,
    "start_time": "2023-01-08T14:51:11.728Z"
   },
   {
    "duration": 0,
    "start_time": "2023-01-08T14:51:11.729Z"
   },
   {
    "duration": 0,
    "start_time": "2023-01-08T14:51:11.730Z"
   },
   {
    "duration": 97,
    "start_time": "2023-01-08T14:51:57.934Z"
   },
   {
    "duration": 16,
    "start_time": "2023-01-08T14:51:58.033Z"
   },
   {
    "duration": 20,
    "start_time": "2023-01-08T14:51:58.051Z"
   },
   {
    "duration": 1978,
    "start_time": "2023-01-08T14:51:58.073Z"
   },
   {
    "duration": 9,
    "start_time": "2023-01-08T14:52:00.052Z"
   },
   {
    "duration": 24,
    "start_time": "2023-01-08T14:52:00.063Z"
   },
   {
    "duration": 24,
    "start_time": "2023-01-08T14:52:00.088Z"
   },
   {
    "duration": 8,
    "start_time": "2023-01-08T14:52:00.114Z"
   },
   {
    "duration": 28,
    "start_time": "2023-01-08T14:52:00.123Z"
   },
   {
    "duration": 41,
    "start_time": "2023-01-08T14:52:00.153Z"
   },
   {
    "duration": 12,
    "start_time": "2023-01-08T14:52:00.195Z"
   },
   {
    "duration": 15,
    "start_time": "2023-01-08T14:52:00.209Z"
   },
   {
    "duration": 28,
    "start_time": "2023-01-08T14:52:00.225Z"
   },
   {
    "duration": 70,
    "start_time": "2023-01-08T14:52:00.255Z"
   },
   {
    "duration": 12,
    "start_time": "2023-01-08T14:52:00.327Z"
   },
   {
    "duration": 15,
    "start_time": "2023-01-08T14:52:00.341Z"
   },
   {
    "duration": 40,
    "start_time": "2023-01-08T14:52:00.358Z"
   },
   {
    "duration": 49,
    "start_time": "2023-01-08T14:52:00.400Z"
   },
   {
    "duration": 1206,
    "start_time": "2023-01-08T14:52:00.451Z"
   },
   {
    "duration": 121,
    "start_time": "2023-01-08T14:52:01.658Z"
   },
   {
    "duration": 5,
    "start_time": "2023-01-08T14:52:01.781Z"
   },
   {
    "duration": 29,
    "start_time": "2023-01-08T14:52:01.787Z"
   },
   {
    "duration": 23,
    "start_time": "2023-01-08T14:52:01.820Z"
   },
   {
    "duration": 29,
    "start_time": "2023-01-08T14:52:01.845Z"
   },
   {
    "duration": 7,
    "start_time": "2023-01-08T14:54:17.076Z"
   },
   {
    "duration": 9,
    "start_time": "2023-01-08T14:55:31.964Z"
   },
   {
    "duration": 15,
    "start_time": "2023-01-08T14:55:48.325Z"
   },
   {
    "duration": 13,
    "start_time": "2023-01-08T14:56:48.419Z"
   },
   {
    "duration": 12,
    "start_time": "2023-01-08T14:56:54.712Z"
   },
   {
    "duration": 14,
    "start_time": "2023-01-08T14:58:16.093Z"
   },
   {
    "duration": 90,
    "start_time": "2023-01-08T14:58:23.262Z"
   },
   {
    "duration": 16,
    "start_time": "2023-01-08T14:58:23.353Z"
   },
   {
    "duration": 16,
    "start_time": "2023-01-08T14:58:23.370Z"
   },
   {
    "duration": 1899,
    "start_time": "2023-01-08T14:58:23.388Z"
   },
   {
    "duration": 10,
    "start_time": "2023-01-08T14:58:25.290Z"
   },
   {
    "duration": 20,
    "start_time": "2023-01-08T14:58:25.301Z"
   },
   {
    "duration": 22,
    "start_time": "2023-01-08T14:58:25.323Z"
   },
   {
    "duration": 20,
    "start_time": "2023-01-08T14:58:25.347Z"
   },
   {
    "duration": 12,
    "start_time": "2023-01-08T14:58:25.369Z"
   },
   {
    "duration": 38,
    "start_time": "2023-01-08T14:58:25.383Z"
   },
   {
    "duration": 26,
    "start_time": "2023-01-08T14:58:25.423Z"
   },
   {
    "duration": 15,
    "start_time": "2023-01-08T14:58:25.451Z"
   },
   {
    "duration": 9,
    "start_time": "2023-01-08T14:58:25.468Z"
   },
   {
    "duration": 8,
    "start_time": "2023-01-08T14:58:25.480Z"
   },
   {
    "duration": 89,
    "start_time": "2023-01-08T14:58:25.490Z"
   },
   {
    "duration": 13,
    "start_time": "2023-01-08T14:58:25.581Z"
   },
   {
    "duration": 31,
    "start_time": "2023-01-08T14:58:25.595Z"
   },
   {
    "duration": 461,
    "start_time": "2023-01-08T14:58:25.628Z"
   },
   {
    "duration": 20,
    "start_time": "2023-01-08T14:58:26.091Z"
   },
   {
    "duration": 1125,
    "start_time": "2023-01-08T14:58:26.121Z"
   },
   {
    "duration": 166,
    "start_time": "2023-01-08T14:58:27.248Z"
   },
   {
    "duration": 6,
    "start_time": "2023-01-08T14:58:27.421Z"
   },
   {
    "duration": 25,
    "start_time": "2023-01-08T14:58:27.428Z"
   },
   {
    "duration": 22,
    "start_time": "2023-01-08T14:58:27.454Z"
   },
   {
    "duration": 21,
    "start_time": "2023-01-08T14:58:27.477Z"
   },
   {
    "duration": 15,
    "start_time": "2023-01-08T14:59:13.326Z"
   },
   {
    "duration": 14,
    "start_time": "2023-01-08T15:00:01.934Z"
   },
   {
    "duration": 14,
    "start_time": "2023-01-08T15:00:05.146Z"
   },
   {
    "duration": 703,
    "start_time": "2023-01-08T15:03:26.675Z"
   },
   {
    "duration": 256,
    "start_time": "2023-01-08T15:03:38.637Z"
   },
   {
    "duration": 4,
    "start_time": "2023-01-08T15:07:48.407Z"
   },
   {
    "duration": 4,
    "start_time": "2023-01-08T15:07:53.649Z"
   },
   {
    "duration": 48,
    "start_time": "2023-01-08T15:08:06.628Z"
   },
   {
    "duration": 8,
    "start_time": "2023-01-08T15:08:20.127Z"
   },
   {
    "duration": 9,
    "start_time": "2023-01-08T15:08:28.248Z"
   },
   {
    "duration": 6,
    "start_time": "2023-01-08T15:08:36.284Z"
   },
   {
    "duration": 722,
    "start_time": "2023-01-08T15:10:35.240Z"
   },
   {
    "duration": 743,
    "start_time": "2023-01-08T15:12:12.166Z"
   },
   {
    "duration": 5,
    "start_time": "2023-01-08T15:12:46.127Z"
   },
   {
    "duration": 653,
    "start_time": "2023-01-08T15:12:55.907Z"
   },
   {
    "duration": 87,
    "start_time": "2023-01-08T15:14:14.347Z"
   },
   {
    "duration": 17,
    "start_time": "2023-01-08T15:14:14.436Z"
   },
   {
    "duration": 23,
    "start_time": "2023-01-08T15:14:14.455Z"
   },
   {
    "duration": 1855,
    "start_time": "2023-01-08T15:14:14.480Z"
   },
   {
    "duration": 9,
    "start_time": "2023-01-08T15:14:16.336Z"
   },
   {
    "duration": 6,
    "start_time": "2023-01-08T15:14:16.346Z"
   },
   {
    "duration": 4,
    "start_time": "2023-01-08T15:14:16.354Z"
   },
   {
    "duration": 10,
    "start_time": "2023-01-08T15:14:16.360Z"
   },
   {
    "duration": 11,
    "start_time": "2023-01-08T15:14:16.372Z"
   },
   {
    "duration": 799,
    "start_time": "2023-01-08T15:14:16.386Z"
   },
   {
    "duration": 23,
    "start_time": "2023-01-08T15:14:17.186Z"
   },
   {
    "duration": 14,
    "start_time": "2023-01-08T15:14:17.211Z"
   },
   {
    "duration": 10,
    "start_time": "2023-01-08T15:14:17.227Z"
   },
   {
    "duration": 63,
    "start_time": "2023-01-08T15:14:17.239Z"
   },
   {
    "duration": 293,
    "start_time": "2023-01-08T15:14:17.322Z"
   },
   {
    "duration": 16,
    "start_time": "2023-01-08T15:14:17.617Z"
   },
   {
    "duration": 12,
    "start_time": "2023-01-08T15:14:17.634Z"
   },
   {
    "duration": 240,
    "start_time": "2023-01-08T15:14:17.648Z"
   },
   {
    "duration": 20,
    "start_time": "2023-01-08T15:14:17.890Z"
   },
   {
    "duration": 1438,
    "start_time": "2023-01-08T15:14:17.921Z"
   },
   {
    "duration": 158,
    "start_time": "2023-01-08T15:14:19.361Z"
   },
   {
    "duration": 7,
    "start_time": "2023-01-08T15:14:19.521Z"
   },
   {
    "duration": 26,
    "start_time": "2023-01-08T15:14:19.530Z"
   },
   {
    "duration": 27,
    "start_time": "2023-01-08T15:14:19.558Z"
   },
   {
    "duration": 49,
    "start_time": "2023-01-08T15:14:19.587Z"
   },
   {
    "duration": 3,
    "start_time": "2023-01-08T15:17:25.086Z"
   },
   {
    "duration": 14,
    "start_time": "2023-01-08T15:17:34.324Z"
   },
   {
    "duration": 706,
    "start_time": "2023-01-08T15:21:01.543Z"
   },
   {
    "duration": 701,
    "start_time": "2023-01-08T15:21:10.603Z"
   },
   {
    "duration": 737,
    "start_time": "2023-01-08T15:21:40.265Z"
   },
   {
    "duration": 86,
    "start_time": "2023-01-08T15:22:46.858Z"
   },
   {
    "duration": 15,
    "start_time": "2023-01-08T15:22:46.946Z"
   },
   {
    "duration": 22,
    "start_time": "2023-01-08T15:22:46.963Z"
   },
   {
    "duration": 1788,
    "start_time": "2023-01-08T15:22:46.987Z"
   },
   {
    "duration": 9,
    "start_time": "2023-01-08T15:22:48.777Z"
   },
   {
    "duration": 15,
    "start_time": "2023-01-08T15:22:48.787Z"
   },
   {
    "duration": 20,
    "start_time": "2023-01-08T15:22:48.803Z"
   },
   {
    "duration": 16,
    "start_time": "2023-01-08T15:22:48.824Z"
   },
   {
    "duration": 34,
    "start_time": "2023-01-08T15:22:48.841Z"
   },
   {
    "duration": 810,
    "start_time": "2023-01-08T15:22:48.878Z"
   },
   {
    "duration": 259,
    "start_time": "2023-01-08T15:22:49.690Z"
   },
   {
    "duration": 6,
    "start_time": "2023-01-08T15:22:49.951Z"
   },
   {
    "duration": 18,
    "start_time": "2023-01-08T15:22:49.959Z"
   },
   {
    "duration": 59,
    "start_time": "2023-01-08T15:22:49.978Z"
   },
   {
    "duration": 9,
    "start_time": "2023-01-08T15:22:50.039Z"
   },
   {
    "duration": 22,
    "start_time": "2023-01-08T15:22:50.049Z"
   },
   {
    "duration": 82,
    "start_time": "2023-01-08T15:22:50.073Z"
   },
   {
    "duration": 12,
    "start_time": "2023-01-08T15:22:50.157Z"
   },
   {
    "duration": 3,
    "start_time": "2023-01-08T15:22:50.171Z"
   },
   {
    "duration": 278,
    "start_time": "2023-01-08T15:22:50.175Z"
   },
   {
    "duration": 22,
    "start_time": "2023-01-08T15:22:50.455Z"
   },
   {
    "duration": 1183,
    "start_time": "2023-01-08T15:22:50.478Z"
   },
   {
    "duration": 161,
    "start_time": "2023-01-08T15:22:51.663Z"
   },
   {
    "duration": 5,
    "start_time": "2023-01-08T15:22:51.826Z"
   },
   {
    "duration": 18,
    "start_time": "2023-01-08T15:22:51.833Z"
   },
   {
    "duration": 22,
    "start_time": "2023-01-08T15:22:51.853Z"
   },
   {
    "duration": 70,
    "start_time": "2023-01-08T15:22:51.876Z"
   },
   {
    "duration": 0,
    "start_time": "2023-01-08T15:52:24.659Z"
   },
   {
    "duration": 0,
    "start_time": "2023-01-08T15:52:24.661Z"
   },
   {
    "duration": 10,
    "start_time": "2023-01-08T15:52:27.886Z"
   },
   {
    "duration": 909,
    "start_time": "2023-01-08T15:52:39.287Z"
   },
   {
    "duration": 34,
    "start_time": "2023-01-08T15:52:40.198Z"
   },
   {
    "duration": 42,
    "start_time": "2023-01-08T15:52:40.236Z"
   },
   {
    "duration": 3307,
    "start_time": "2023-01-08T15:52:40.279Z"
   },
   {
    "duration": 14,
    "start_time": "2023-01-08T15:52:43.590Z"
   },
   {
    "duration": 9,
    "start_time": "2023-01-08T15:52:43.607Z"
   },
   {
    "duration": 52,
    "start_time": "2023-01-08T15:52:43.620Z"
   },
   {
    "duration": 8,
    "start_time": "2023-01-08T15:52:43.675Z"
   },
   {
    "duration": 11,
    "start_time": "2023-01-08T15:52:43.686Z"
   },
   {
    "duration": 105,
    "start_time": "2023-01-08T15:52:43.699Z"
   },
   {
    "duration": 0,
    "start_time": "2023-01-08T15:52:43.806Z"
   },
   {
    "duration": 0,
    "start_time": "2023-01-08T15:52:43.808Z"
   },
   {
    "duration": 0,
    "start_time": "2023-01-08T15:52:43.810Z"
   },
   {
    "duration": 0,
    "start_time": "2023-01-08T15:52:43.811Z"
   },
   {
    "duration": 0,
    "start_time": "2023-01-08T15:52:43.814Z"
   },
   {
    "duration": 0,
    "start_time": "2023-01-08T15:52:43.815Z"
   },
   {
    "duration": 0,
    "start_time": "2023-01-08T15:52:43.816Z"
   },
   {
    "duration": 0,
    "start_time": "2023-01-08T15:52:43.818Z"
   },
   {
    "duration": 0,
    "start_time": "2023-01-08T15:52:43.819Z"
   },
   {
    "duration": 0,
    "start_time": "2023-01-08T15:52:43.820Z"
   },
   {
    "duration": 0,
    "start_time": "2023-01-08T15:52:43.821Z"
   },
   {
    "duration": 0,
    "start_time": "2023-01-08T15:52:43.823Z"
   },
   {
    "duration": 0,
    "start_time": "2023-01-08T15:52:43.824Z"
   },
   {
    "duration": 0,
    "start_time": "2023-01-08T15:52:43.825Z"
   },
   {
    "duration": 0,
    "start_time": "2023-01-08T15:52:43.827Z"
   },
   {
    "duration": 0,
    "start_time": "2023-01-08T15:52:43.828Z"
   },
   {
    "duration": 0,
    "start_time": "2023-01-08T15:52:43.829Z"
   },
   {
    "duration": 0,
    "start_time": "2023-01-08T15:52:43.831Z"
   },
   {
    "duration": 26,
    "start_time": "2023-01-08T15:52:56.278Z"
   },
   {
    "duration": 44,
    "start_time": "2023-01-08T15:53:19.508Z"
   },
   {
    "duration": 33,
    "start_time": "2023-01-08T15:53:36.306Z"
   },
   {
    "duration": 1198,
    "start_time": "2023-01-08T15:53:49.173Z"
   },
   {
    "duration": 480,
    "start_time": "2023-01-08T15:53:55.885Z"
   },
   {
    "duration": 8,
    "start_time": "2023-01-08T15:54:01.000Z"
   },
   {
    "duration": 5,
    "start_time": "2023-01-08T15:54:57.683Z"
   },
   {
    "duration": 7,
    "start_time": "2023-01-08T15:55:53.979Z"
   },
   {
    "duration": 481,
    "start_time": "2023-01-08T15:56:12.192Z"
   },
   {
    "duration": 6,
    "start_time": "2023-01-08T15:56:24.387Z"
   },
   {
    "duration": 1094,
    "start_time": "2023-01-08T15:57:11.488Z"
   },
   {
    "duration": 1262,
    "start_time": "2023-01-08T15:57:19.694Z"
   },
   {
    "duration": 36,
    "start_time": "2023-01-08T15:57:26.939Z"
   },
   {
    "duration": 11,
    "start_time": "2023-01-08T15:57:35.001Z"
   },
   {
    "duration": 8,
    "start_time": "2023-01-08T15:57:39.647Z"
   },
   {
    "duration": 9,
    "start_time": "2023-01-08T15:57:44.763Z"
   },
   {
    "duration": 148,
    "start_time": "2023-01-08T15:57:48.555Z"
   },
   {
    "duration": 20,
    "start_time": "2023-01-08T15:57:58.768Z"
   },
   {
    "duration": 135,
    "start_time": "2023-01-08T15:58:06.569Z"
   },
   {
    "duration": 33,
    "start_time": "2023-01-08T15:58:06.706Z"
   },
   {
    "duration": 62,
    "start_time": "2023-01-08T15:58:06.747Z"
   },
   {
    "duration": 2519,
    "start_time": "2023-01-08T15:58:06.819Z"
   },
   {
    "duration": 18,
    "start_time": "2023-01-08T15:58:09.340Z"
   },
   {
    "duration": 15,
    "start_time": "2023-01-08T15:58:09.362Z"
   },
   {
    "duration": 7,
    "start_time": "2023-01-08T15:58:09.380Z"
   },
   {
    "duration": 10,
    "start_time": "2023-01-08T15:58:09.389Z"
   },
   {
    "duration": 73,
    "start_time": "2023-01-08T15:58:09.401Z"
   },
   {
    "duration": 16,
    "start_time": "2023-01-08T15:58:09.480Z"
   },
   {
    "duration": 443,
    "start_time": "2023-01-08T15:58:09.499Z"
   },
   {
    "duration": 12,
    "start_time": "2023-01-08T15:58:09.951Z"
   },
   {
    "duration": 45,
    "start_time": "2023-01-08T15:58:09.966Z"
   },
   {
    "duration": 28,
    "start_time": "2023-01-08T15:58:10.025Z"
   },
   {
    "duration": 14,
    "start_time": "2023-01-08T15:58:10.058Z"
   },
   {
    "duration": 97,
    "start_time": "2023-01-08T15:58:10.074Z"
   },
   {
    "duration": 19,
    "start_time": "2023-01-08T15:58:10.178Z"
   },
   {
    "duration": 3,
    "start_time": "2023-01-08T15:58:10.199Z"
   },
   {
    "duration": 410,
    "start_time": "2023-01-08T15:58:10.204Z"
   },
   {
    "duration": 38,
    "start_time": "2023-01-08T15:58:10.619Z"
   },
   {
    "duration": 1632,
    "start_time": "2023-01-08T15:58:10.658Z"
   },
   {
    "duration": 201,
    "start_time": "2023-01-08T15:58:12.292Z"
   },
   {
    "duration": 6,
    "start_time": "2023-01-08T15:58:12.495Z"
   },
   {
    "duration": 73,
    "start_time": "2023-01-08T15:58:12.502Z"
   },
   {
    "duration": 33,
    "start_time": "2023-01-08T15:58:12.578Z"
   },
   {
    "duration": 35,
    "start_time": "2023-01-08T15:58:12.620Z"
   },
   {
    "duration": 4,
    "start_time": "2023-01-08T16:01:03.773Z"
   },
   {
    "duration": 20,
    "start_time": "2023-01-08T16:03:15.834Z"
   },
   {
    "duration": 29,
    "start_time": "2023-01-08T16:04:00.977Z"
   },
   {
    "duration": 31,
    "start_time": "2023-01-08T16:04:07.468Z"
   },
   {
    "duration": 18,
    "start_time": "2023-01-08T16:05:48.709Z"
   },
   {
    "duration": 163,
    "start_time": "2023-01-08T16:08:00.574Z"
   },
   {
    "duration": 141,
    "start_time": "2023-01-08T16:08:25.366Z"
   },
   {
    "duration": 165,
    "start_time": "2023-01-08T16:09:11.412Z"
   },
   {
    "duration": 106,
    "start_time": "2023-01-08T16:11:00.603Z"
   },
   {
    "duration": 22,
    "start_time": "2023-01-08T16:11:00.711Z"
   },
   {
    "duration": 60,
    "start_time": "2023-01-08T16:11:00.736Z"
   },
   {
    "duration": 2047,
    "start_time": "2023-01-08T16:11:00.799Z"
   },
   {
    "duration": 10,
    "start_time": "2023-01-08T16:11:02.847Z"
   },
   {
    "duration": 6,
    "start_time": "2023-01-08T16:11:02.858Z"
   },
   {
    "duration": 10,
    "start_time": "2023-01-08T16:11:02.865Z"
   },
   {
    "duration": 7,
    "start_time": "2023-01-08T16:11:02.877Z"
   },
   {
    "duration": 36,
    "start_time": "2023-01-08T16:11:02.885Z"
   },
   {
    "duration": 330,
    "start_time": "2023-01-08T16:11:02.926Z"
   },
   {
    "duration": 5,
    "start_time": "2023-01-08T16:11:03.258Z"
   },
   {
    "duration": 33,
    "start_time": "2023-01-08T16:11:03.265Z"
   },
   {
    "duration": 53,
    "start_time": "2023-01-08T16:11:03.300Z"
   },
   {
    "duration": 38,
    "start_time": "2023-01-08T16:11:03.355Z"
   },
   {
    "duration": 55,
    "start_time": "2023-01-08T16:11:03.395Z"
   },
   {
    "duration": 70,
    "start_time": "2023-01-08T16:11:03.452Z"
   },
   {
    "duration": 36,
    "start_time": "2023-01-08T16:11:03.528Z"
   },
   {
    "duration": 56,
    "start_time": "2023-01-08T16:11:03.565Z"
   },
   {
    "duration": 228,
    "start_time": "2023-01-08T16:11:03.624Z"
   },
   {
    "duration": 184,
    "start_time": "2023-01-08T16:11:03.854Z"
   },
   {
    "duration": 443,
    "start_time": "2023-01-08T16:11:04.039Z"
   },
   {
    "duration": 41,
    "start_time": "2023-01-08T16:11:04.487Z"
   },
   {
    "duration": 1544,
    "start_time": "2023-01-08T16:11:04.531Z"
   },
   {
    "duration": 191,
    "start_time": "2023-01-08T16:11:06.076Z"
   },
   {
    "duration": 7,
    "start_time": "2023-01-08T16:11:06.269Z"
   },
   {
    "duration": 43,
    "start_time": "2023-01-08T16:11:06.278Z"
   },
   {
    "duration": 43,
    "start_time": "2023-01-08T16:11:06.323Z"
   },
   {
    "duration": 93,
    "start_time": "2023-01-08T16:11:06.370Z"
   },
   {
    "duration": 43,
    "start_time": "2023-01-08T16:14:37.833Z"
   },
   {
    "duration": 152,
    "start_time": "2023-01-08T16:14:43.860Z"
   },
   {
    "duration": 180,
    "start_time": "2023-01-08T16:17:05.099Z"
   },
   {
    "duration": 166,
    "start_time": "2023-01-08T16:17:12.668Z"
   },
   {
    "duration": 190,
    "start_time": "2023-01-08T16:17:34.021Z"
   },
   {
    "duration": 185,
    "start_time": "2023-01-08T16:18:57.148Z"
   },
   {
    "duration": 262,
    "start_time": "2023-01-08T16:19:46.336Z"
   },
   {
    "duration": 202,
    "start_time": "2023-01-08T16:20:19.688Z"
   },
   {
    "duration": 208,
    "start_time": "2023-01-08T16:21:29.615Z"
   },
   {
    "duration": 203,
    "start_time": "2023-01-08T16:21:49.630Z"
   },
   {
    "duration": 374,
    "start_time": "2023-01-08T16:22:23.252Z"
   },
   {
    "duration": 216,
    "start_time": "2023-01-08T16:22:44.025Z"
   },
   {
    "duration": 188,
    "start_time": "2023-01-08T16:22:49.838Z"
   },
   {
    "duration": 302,
    "start_time": "2023-01-08T16:22:56.349Z"
   },
   {
    "duration": 210,
    "start_time": "2023-01-08T16:23:02.069Z"
   },
   {
    "duration": 224,
    "start_time": "2023-01-08T16:23:29.403Z"
   },
   {
    "duration": 191,
    "start_time": "2023-01-08T16:23:44.834Z"
   },
   {
    "duration": 161,
    "start_time": "2023-01-08T16:25:03.917Z"
   },
   {
    "duration": 173,
    "start_time": "2023-01-08T16:25:11.678Z"
   },
   {
    "duration": 184,
    "start_time": "2023-01-08T16:25:14.714Z"
   },
   {
    "duration": 180,
    "start_time": "2023-01-08T16:25:19.776Z"
   },
   {
    "duration": 195,
    "start_time": "2023-01-08T16:25:43.299Z"
   },
   {
    "duration": 178,
    "start_time": "2023-01-08T16:25:59.485Z"
   },
   {
    "duration": 195,
    "start_time": "2023-01-08T16:26:06.833Z"
   },
   {
    "duration": 186,
    "start_time": "2023-01-08T16:26:13.848Z"
   },
   {
    "duration": 188,
    "start_time": "2023-01-08T16:26:17.082Z"
   },
   {
    "duration": 185,
    "start_time": "2023-01-08T16:26:25.702Z"
   },
   {
    "duration": 206,
    "start_time": "2023-01-08T16:26:40.483Z"
   },
   {
    "duration": 11,
    "start_time": "2023-01-08T16:27:58.850Z"
   },
   {
    "duration": 1055,
    "start_time": "2023-01-08T16:28:06.253Z"
   },
   {
    "duration": 168,
    "start_time": "2023-01-08T16:28:46.576Z"
   },
   {
    "duration": 155,
    "start_time": "2023-01-08T16:29:08.912Z"
   },
   {
    "duration": 178,
    "start_time": "2023-01-08T16:31:02.999Z"
   },
   {
    "duration": 192,
    "start_time": "2023-01-08T16:31:15.841Z"
   },
   {
    "duration": 169,
    "start_time": "2023-01-08T16:31:54.402Z"
   },
   {
    "duration": 157,
    "start_time": "2023-01-08T16:32:05.594Z"
   },
   {
    "duration": 143,
    "start_time": "2023-01-08T16:32:23.042Z"
   },
   {
    "duration": 129,
    "start_time": "2023-01-08T16:33:08.392Z"
   },
   {
    "duration": 157,
    "start_time": "2023-01-08T16:35:51.647Z"
   },
   {
    "duration": 137,
    "start_time": "2023-01-08T16:36:34.484Z"
   },
   {
    "duration": 32,
    "start_time": "2023-01-08T16:36:34.629Z"
   },
   {
    "duration": 25,
    "start_time": "2023-01-08T16:36:34.663Z"
   },
   {
    "duration": 2254,
    "start_time": "2023-01-08T16:36:34.691Z"
   },
   {
    "duration": 15,
    "start_time": "2023-01-08T16:36:36.951Z"
   },
   {
    "duration": 78,
    "start_time": "2023-01-08T16:36:36.974Z"
   },
   {
    "duration": 45,
    "start_time": "2023-01-08T16:36:37.053Z"
   },
   {
    "duration": 16,
    "start_time": "2023-01-08T16:36:37.101Z"
   },
   {
    "duration": 75,
    "start_time": "2023-01-08T16:36:37.121Z"
   },
   {
    "duration": 416,
    "start_time": "2023-01-08T16:36:37.200Z"
   },
   {
    "duration": 6,
    "start_time": "2023-01-08T16:36:37.618Z"
   },
   {
    "duration": 39,
    "start_time": "2023-01-08T16:36:37.628Z"
   },
   {
    "duration": 282,
    "start_time": "2023-01-08T16:36:37.669Z"
   },
   {
    "duration": 9,
    "start_time": "2023-01-08T16:36:37.954Z"
   },
   {
    "duration": 19,
    "start_time": "2023-01-08T16:36:37.965Z"
   },
   {
    "duration": 111,
    "start_time": "2023-01-08T16:36:37.987Z"
   },
   {
    "duration": 41,
    "start_time": "2023-01-08T16:36:38.100Z"
   },
   {
    "duration": 55,
    "start_time": "2023-01-08T16:36:38.146Z"
   },
   {
    "duration": 225,
    "start_time": "2023-01-08T16:36:38.203Z"
   },
   {
    "duration": 274,
    "start_time": "2023-01-08T16:36:38.437Z"
   },
   {
    "duration": 139,
    "start_time": "2023-01-08T16:36:38.725Z"
   },
   {
    "duration": 166,
    "start_time": "2023-01-08T16:36:38.866Z"
   },
   {
    "duration": 144,
    "start_time": "2023-01-08T16:36:39.034Z"
   },
   {
    "duration": 214,
    "start_time": "2023-01-08T16:36:39.180Z"
   },
   {
    "duration": 287,
    "start_time": "2023-01-08T16:36:39.396Z"
   },
   {
    "duration": 38,
    "start_time": "2023-01-08T16:36:39.685Z"
   },
   {
    "duration": 1344,
    "start_time": "2023-01-08T16:36:39.725Z"
   },
   {
    "duration": 171,
    "start_time": "2023-01-08T16:36:41.072Z"
   },
   {
    "duration": 5,
    "start_time": "2023-01-08T16:36:41.249Z"
   },
   {
    "duration": 18,
    "start_time": "2023-01-08T16:36:41.256Z"
   },
   {
    "duration": 24,
    "start_time": "2023-01-08T16:36:41.275Z"
   },
   {
    "duration": 45,
    "start_time": "2023-01-08T16:36:41.300Z"
   },
   {
    "duration": 176,
    "start_time": "2023-01-08T16:37:06.185Z"
   },
   {
    "duration": 140,
    "start_time": "2023-01-08T16:37:39.514Z"
   },
   {
    "duration": 130,
    "start_time": "2023-01-08T16:40:19.507Z"
   },
   {
    "duration": 145,
    "start_time": "2023-01-08T16:40:58.959Z"
   },
   {
    "duration": 153,
    "start_time": "2023-01-08T16:41:14.937Z"
   },
   {
    "duration": 26,
    "start_time": "2023-01-08T16:41:56.064Z"
   },
   {
    "duration": 106,
    "start_time": "2023-01-08T16:42:00.759Z"
   },
   {
    "duration": 18,
    "start_time": "2023-01-08T16:42:00.868Z"
   },
   {
    "duration": 50,
    "start_time": "2023-01-08T16:42:00.889Z"
   },
   {
    "duration": 2389,
    "start_time": "2023-01-08T16:42:00.945Z"
   },
   {
    "duration": 13,
    "start_time": "2023-01-08T16:42:03.335Z"
   },
   {
    "duration": 12,
    "start_time": "2023-01-08T16:42:03.349Z"
   },
   {
    "duration": 10,
    "start_time": "2023-01-08T16:42:03.364Z"
   },
   {
    "duration": 19,
    "start_time": "2023-01-08T16:42:03.375Z"
   },
   {
    "duration": 9,
    "start_time": "2023-01-08T16:42:03.396Z"
   },
   {
    "duration": 310,
    "start_time": "2023-01-08T16:42:03.407Z"
   },
   {
    "duration": 9,
    "start_time": "2023-01-08T16:42:03.718Z"
   },
   {
    "duration": 26,
    "start_time": "2023-01-08T16:42:03.729Z"
   },
   {
    "duration": 24,
    "start_time": "2023-01-08T16:42:03.759Z"
   },
   {
    "duration": 8,
    "start_time": "2023-01-08T16:42:03.785Z"
   },
   {
    "duration": 17,
    "start_time": "2023-01-08T16:42:03.795Z"
   },
   {
    "duration": 85,
    "start_time": "2023-01-08T16:42:03.815Z"
   },
   {
    "duration": 52,
    "start_time": "2023-01-08T16:42:03.902Z"
   },
   {
    "duration": 16,
    "start_time": "2023-01-08T16:42:03.956Z"
   },
   {
    "duration": 131,
    "start_time": "2023-01-08T16:42:03.974Z"
   },
   {
    "duration": 239,
    "start_time": "2023-01-08T16:42:04.107Z"
   },
   {
    "duration": 119,
    "start_time": "2023-01-08T16:42:04.347Z"
   },
   {
    "duration": 154,
    "start_time": "2023-01-08T16:42:04.468Z"
   },
   {
    "duration": 120,
    "start_time": "2023-01-08T16:42:04.628Z"
   },
   {
    "duration": 174,
    "start_time": "2023-01-08T16:42:04.750Z"
   },
   {
    "duration": 159,
    "start_time": "2023-01-08T16:42:04.934Z"
   },
   {
    "duration": 152,
    "start_time": "2023-01-08T16:42:05.096Z"
   },
   {
    "duration": 293,
    "start_time": "2023-01-08T16:42:05.252Z"
   },
   {
    "duration": 29,
    "start_time": "2023-01-08T16:42:05.551Z"
   },
   {
    "duration": 1976,
    "start_time": "2023-01-08T16:42:05.582Z"
   },
   {
    "duration": 165,
    "start_time": "2023-01-08T16:42:07.560Z"
   },
   {
    "duration": 10,
    "start_time": "2023-01-08T16:42:07.730Z"
   },
   {
    "duration": 41,
    "start_time": "2023-01-08T16:42:07.745Z"
   },
   {
    "duration": 33,
    "start_time": "2023-01-08T16:42:07.788Z"
   },
   {
    "duration": 48,
    "start_time": "2023-01-08T16:42:07.829Z"
   },
   {
    "duration": 166,
    "start_time": "2023-01-08T16:42:30.427Z"
   },
   {
    "duration": 125,
    "start_time": "2023-01-08T16:43:52.827Z"
   },
   {
    "duration": 144,
    "start_time": "2023-01-08T16:44:41.050Z"
   },
   {
    "duration": 145,
    "start_time": "2023-01-08T16:44:59.633Z"
   },
   {
    "duration": 200,
    "start_time": "2023-01-08T16:45:06.255Z"
   },
   {
    "duration": 125,
    "start_time": "2023-01-08T16:45:47.747Z"
   },
   {
    "duration": 10,
    "start_time": "2023-01-08T16:46:37.548Z"
   },
   {
    "duration": 144,
    "start_time": "2023-01-08T16:47:28.511Z"
   },
   {
    "duration": 22,
    "start_time": "2023-01-08T16:53:02.751Z"
   },
   {
    "duration": 13,
    "start_time": "2023-01-08T16:53:28.528Z"
   },
   {
    "duration": 9,
    "start_time": "2023-01-08T16:54:30.991Z"
   },
   {
    "duration": 320,
    "start_time": "2023-01-08T16:57:42.565Z"
   },
   {
    "duration": 259,
    "start_time": "2023-01-08T16:58:47.645Z"
   },
   {
    "duration": 8,
    "start_time": "2023-01-08T16:59:52.043Z"
   },
   {
    "duration": 30,
    "start_time": "2023-01-08T17:00:08.207Z"
   },
   {
    "duration": 115,
    "start_time": "2023-01-08T17:01:10.628Z"
   },
   {
    "duration": 21,
    "start_time": "2023-01-08T17:01:10.745Z"
   },
   {
    "duration": 13,
    "start_time": "2023-01-08T17:01:10.768Z"
   },
   {
    "duration": 1897,
    "start_time": "2023-01-08T17:01:10.782Z"
   },
   {
    "duration": 8,
    "start_time": "2023-01-08T17:01:12.681Z"
   },
   {
    "duration": 27,
    "start_time": "2023-01-08T17:01:12.691Z"
   },
   {
    "duration": 9,
    "start_time": "2023-01-08T17:01:12.719Z"
   },
   {
    "duration": 6,
    "start_time": "2023-01-08T17:01:12.730Z"
   },
   {
    "duration": 6,
    "start_time": "2023-01-08T17:01:12.738Z"
   },
   {
    "duration": 291,
    "start_time": "2023-01-08T17:01:12.747Z"
   },
   {
    "duration": 4,
    "start_time": "2023-01-08T17:01:13.040Z"
   },
   {
    "duration": 6,
    "start_time": "2023-01-08T17:01:13.045Z"
   },
   {
    "duration": 323,
    "start_time": "2023-01-08T17:01:13.052Z"
   },
   {
    "duration": 8,
    "start_time": "2023-01-08T17:01:13.377Z"
   },
   {
    "duration": 9,
    "start_time": "2023-01-08T17:01:13.386Z"
   },
   {
    "duration": 70,
    "start_time": "2023-01-08T17:01:13.412Z"
   },
   {
    "duration": 38,
    "start_time": "2023-01-08T17:01:13.484Z"
   },
   {
    "duration": 149,
    "start_time": "2023-01-08T17:01:13.523Z"
   },
   {
    "duration": 204,
    "start_time": "2023-01-08T17:01:13.674Z"
   },
   {
    "duration": 120,
    "start_time": "2023-01-08T17:01:13.879Z"
   },
   {
    "duration": 142,
    "start_time": "2023-01-08T17:01:14.001Z"
   },
   {
    "duration": 128,
    "start_time": "2023-01-08T17:01:14.144Z"
   },
   {
    "duration": 160,
    "start_time": "2023-01-08T17:01:14.274Z"
   },
   {
    "duration": 129,
    "start_time": "2023-01-08T17:01:14.436Z"
   },
   {
    "duration": 124,
    "start_time": "2023-01-08T17:01:14.567Z"
   },
   {
    "duration": 138,
    "start_time": "2023-01-08T17:01:14.693Z"
   },
   {
    "duration": 10,
    "start_time": "2023-01-08T17:01:14.833Z"
   },
   {
    "duration": 13,
    "start_time": "2023-01-08T17:01:14.846Z"
   },
   {
    "duration": 17,
    "start_time": "2023-01-08T17:01:14.861Z"
   },
   {
    "duration": 306,
    "start_time": "2023-01-08T17:01:14.880Z"
   },
   {
    "duration": 9,
    "start_time": "2023-01-08T17:01:15.188Z"
   },
   {
    "duration": 44,
    "start_time": "2023-01-08T17:01:15.199Z"
   },
   {
    "duration": 245,
    "start_time": "2023-01-08T17:01:15.244Z"
   },
   {
    "duration": 29,
    "start_time": "2023-01-08T17:01:15.490Z"
   },
   {
    "duration": 1293,
    "start_time": "2023-01-08T17:01:15.527Z"
   },
   {
    "duration": 152,
    "start_time": "2023-01-08T17:01:16.822Z"
   },
   {
    "duration": 7,
    "start_time": "2023-01-08T17:01:16.975Z"
   },
   {
    "duration": 42,
    "start_time": "2023-01-08T17:01:16.983Z"
   },
   {
    "duration": 24,
    "start_time": "2023-01-08T17:01:17.027Z"
   },
   {
    "duration": 26,
    "start_time": "2023-01-08T17:01:17.053Z"
   },
   {
    "duration": 254,
    "start_time": "2023-01-08T17:02:26.184Z"
   },
   {
    "duration": 51,
    "start_time": "2023-01-09T07:41:17.427Z"
   },
   {
    "duration": 1075,
    "start_time": "2023-01-09T07:41:22.167Z"
   },
   {
    "duration": 19,
    "start_time": "2023-01-09T07:41:23.245Z"
   },
   {
    "duration": 16,
    "start_time": "2023-01-09T07:41:23.266Z"
   },
   {
    "duration": 1904,
    "start_time": "2023-01-09T07:41:23.283Z"
   },
   {
    "duration": 8,
    "start_time": "2023-01-09T07:41:25.190Z"
   },
   {
    "duration": 11,
    "start_time": "2023-01-09T07:41:25.200Z"
   },
   {
    "duration": 5,
    "start_time": "2023-01-09T07:41:25.212Z"
   },
   {
    "duration": 7,
    "start_time": "2023-01-09T07:41:25.219Z"
   },
   {
    "duration": 5,
    "start_time": "2023-01-09T07:41:25.228Z"
   },
   {
    "duration": 283,
    "start_time": "2023-01-09T07:41:25.234Z"
   },
   {
    "duration": 5,
    "start_time": "2023-01-09T07:41:25.518Z"
   },
   {
    "duration": 7,
    "start_time": "2023-01-09T07:41:25.524Z"
   },
   {
    "duration": 23,
    "start_time": "2023-01-09T07:41:25.532Z"
   },
   {
    "duration": 7,
    "start_time": "2023-01-09T07:41:25.557Z"
   },
   {
    "duration": 12,
    "start_time": "2023-01-09T07:41:25.566Z"
   },
   {
    "duration": 75,
    "start_time": "2023-01-09T07:41:25.579Z"
   },
   {
    "duration": 24,
    "start_time": "2023-01-09T07:41:25.655Z"
   },
   {
    "duration": 137,
    "start_time": "2023-01-09T07:41:25.681Z"
   },
   {
    "duration": 187,
    "start_time": "2023-01-09T07:41:25.819Z"
   },
   {
    "duration": 137,
    "start_time": "2023-01-09T07:41:26.009Z"
   },
   {
    "duration": 148,
    "start_time": "2023-01-09T07:41:26.149Z"
   },
   {
    "duration": 130,
    "start_time": "2023-01-09T07:41:26.299Z"
   },
   {
    "duration": 244,
    "start_time": "2023-01-09T07:41:26.432Z"
   },
   {
    "duration": 109,
    "start_time": "2023-01-09T07:41:26.677Z"
   },
   {
    "duration": 120,
    "start_time": "2023-01-09T07:41:26.787Z"
   },
   {
    "duration": 127,
    "start_time": "2023-01-09T07:41:26.913Z"
   },
   {
    "duration": 8,
    "start_time": "2023-01-09T07:41:27.042Z"
   },
   {
    "duration": 14,
    "start_time": "2023-01-09T07:41:27.052Z"
   },
   {
    "duration": 7,
    "start_time": "2023-01-09T07:41:27.068Z"
   },
   {
    "duration": 282,
    "start_time": "2023-01-09T07:41:27.076Z"
   },
   {
    "duration": 7,
    "start_time": "2023-01-09T07:41:27.359Z"
   },
   {
    "duration": 31,
    "start_time": "2023-01-09T07:41:27.367Z"
   },
   {
    "duration": 243,
    "start_time": "2023-01-09T07:41:27.400Z"
   },
   {
    "duration": 21,
    "start_time": "2023-01-09T07:41:27.645Z"
   },
   {
    "duration": 1295,
    "start_time": "2023-01-09T07:41:27.667Z"
   },
   {
    "duration": 129,
    "start_time": "2023-01-09T07:41:28.964Z"
   },
   {
    "duration": 17,
    "start_time": "2023-01-09T07:41:29.095Z"
   },
   {
    "duration": 20,
    "start_time": "2023-01-09T07:41:29.114Z"
   },
   {
    "duration": 24,
    "start_time": "2023-01-09T07:41:29.136Z"
   },
   {
    "duration": 267,
    "start_time": "2023-01-09T07:45:49.033Z"
   },
   {
    "duration": 333,
    "start_time": "2023-01-09T07:45:56.434Z"
   },
   {
    "duration": 418,
    "start_time": "2023-01-09T07:46:04.670Z"
   },
   {
    "duration": 286,
    "start_time": "2023-01-09T07:46:11.423Z"
   },
   {
    "duration": 281,
    "start_time": "2023-01-09T07:52:09.728Z"
   },
   {
    "duration": 3,
    "start_time": "2023-01-09T08:00:51.320Z"
   },
   {
    "duration": 255,
    "start_time": "2023-01-09T08:11:53.816Z"
   },
   {
    "duration": 190,
    "start_time": "2023-01-09T08:12:23.132Z"
   },
   {
    "duration": 1227,
    "start_time": "2023-01-09T08:16:21.722Z"
   },
   {
    "duration": 200,
    "start_time": "2023-01-09T08:19:47.648Z"
   },
   {
    "duration": 201,
    "start_time": "2023-01-09T08:20:07.311Z"
   },
   {
    "duration": 184,
    "start_time": "2023-01-09T08:20:22.847Z"
   },
   {
    "duration": 214,
    "start_time": "2023-01-09T08:20:39.176Z"
   },
   {
    "duration": 194,
    "start_time": "2023-01-09T08:21:29.230Z"
   },
   {
    "duration": 190,
    "start_time": "2023-01-09T08:23:05.613Z"
   },
   {
    "duration": 299,
    "start_time": "2023-01-09T08:24:18.143Z"
   },
   {
    "duration": 191,
    "start_time": "2023-01-09T08:25:57.747Z"
   },
   {
    "duration": 219,
    "start_time": "2023-01-09T08:26:08.967Z"
   },
   {
    "duration": 206,
    "start_time": "2023-01-09T08:26:44.828Z"
   },
   {
    "duration": 167,
    "start_time": "2023-01-09T08:27:36.068Z"
   },
   {
    "duration": 17,
    "start_time": "2023-01-09T08:27:47.935Z"
   },
   {
    "duration": 8,
    "start_time": "2023-01-09T08:27:58.711Z"
   },
   {
    "duration": 14,
    "start_time": "2023-01-09T08:31:37.268Z"
   },
   {
    "duration": 171,
    "start_time": "2023-01-09T08:31:47.447Z"
   },
   {
    "duration": 187,
    "start_time": "2023-01-09T08:31:55.368Z"
   },
   {
    "duration": 195,
    "start_time": "2023-01-09T08:33:33.219Z"
   },
   {
    "duration": 185,
    "start_time": "2023-01-09T08:33:37.449Z"
   },
   {
    "duration": 172,
    "start_time": "2023-01-09T08:33:41.819Z"
   },
   {
    "duration": 165,
    "start_time": "2023-01-09T08:33:46.762Z"
   },
   {
    "duration": 185,
    "start_time": "2023-01-09T08:34:37.967Z"
   },
   {
    "duration": 152,
    "start_time": "2023-01-09T08:34:52.815Z"
   },
   {
    "duration": 150,
    "start_time": "2023-01-09T08:35:00.595Z"
   },
   {
    "duration": 444,
    "start_time": "2023-01-09T08:35:46.048Z"
   },
   {
    "duration": 175,
    "start_time": "2023-01-09T08:46:20.213Z"
   },
   {
    "duration": 161,
    "start_time": "2023-01-09T08:47:08.928Z"
   },
   {
    "duration": 139,
    "start_time": "2023-01-09T08:47:23.321Z"
   },
   {
    "duration": 130,
    "start_time": "2023-01-09T08:47:52.168Z"
   },
   {
    "duration": 141,
    "start_time": "2023-01-09T08:49:28.448Z"
   },
   {
    "duration": 314,
    "start_time": "2023-01-09T08:49:57.748Z"
   },
   {
    "duration": 125,
    "start_time": "2023-01-09T08:51:17.868Z"
   },
   {
    "duration": 51,
    "start_time": "2023-01-09T12:07:23.448Z"
   },
   {
    "duration": 1207,
    "start_time": "2023-01-09T12:07:27.287Z"
   },
   {
    "duration": 21,
    "start_time": "2023-01-09T12:07:28.496Z"
   },
   {
    "duration": 17,
    "start_time": "2023-01-09T12:07:28.519Z"
   },
   {
    "duration": 2243,
    "start_time": "2023-01-09T12:07:28.538Z"
   },
   {
    "duration": 11,
    "start_time": "2023-01-09T12:07:30.783Z"
   },
   {
    "duration": 30,
    "start_time": "2023-01-09T12:07:30.795Z"
   },
   {
    "duration": 28,
    "start_time": "2023-01-09T12:07:30.828Z"
   },
   {
    "duration": 54,
    "start_time": "2023-01-09T12:07:30.858Z"
   },
   {
    "duration": 34,
    "start_time": "2023-01-09T12:07:30.914Z"
   },
   {
    "duration": 334,
    "start_time": "2023-01-09T12:07:30.950Z"
   },
   {
    "duration": 7,
    "start_time": "2023-01-09T12:07:31.285Z"
   },
   {
    "duration": 29,
    "start_time": "2023-01-09T12:07:31.293Z"
   },
   {
    "duration": 43,
    "start_time": "2023-01-09T12:07:31.324Z"
   },
   {
    "duration": 8,
    "start_time": "2023-01-09T12:07:31.370Z"
   },
   {
    "duration": 27,
    "start_time": "2023-01-09T12:07:31.380Z"
   },
   {
    "duration": 85,
    "start_time": "2023-01-09T12:07:31.409Z"
   },
   {
    "duration": 30,
    "start_time": "2023-01-09T12:07:31.496Z"
   },
   {
    "duration": 162,
    "start_time": "2023-01-09T12:07:31.528Z"
   },
   {
    "duration": 195,
    "start_time": "2023-01-09T12:07:31.691Z"
   },
   {
    "duration": 138,
    "start_time": "2023-01-09T12:07:31.889Z"
   },
   {
    "duration": 162,
    "start_time": "2023-01-09T12:07:32.029Z"
   },
   {
    "duration": 130,
    "start_time": "2023-01-09T12:07:32.192Z"
   },
   {
    "duration": 252,
    "start_time": "2023-01-09T12:07:32.323Z"
   },
   {
    "duration": 125,
    "start_time": "2023-01-09T12:07:32.577Z"
   },
   {
    "duration": 131,
    "start_time": "2023-01-09T12:07:32.704Z"
   },
   {
    "duration": 153,
    "start_time": "2023-01-09T12:07:32.837Z"
   },
   {
    "duration": 11,
    "start_time": "2023-01-09T12:07:32.992Z"
   },
   {
    "duration": 19,
    "start_time": "2023-01-09T12:07:33.005Z"
   },
   {
    "duration": 29,
    "start_time": "2023-01-09T12:07:33.025Z"
   },
   {
    "duration": 303,
    "start_time": "2023-01-09T12:07:33.056Z"
   },
   {
    "duration": 10,
    "start_time": "2023-01-09T12:07:33.361Z"
   },
   {
    "duration": 36,
    "start_time": "2023-01-09T12:07:33.373Z"
   },
   {
    "duration": 273,
    "start_time": "2023-01-09T12:07:33.411Z"
   },
   {
    "duration": 23,
    "start_time": "2023-01-09T12:07:33.686Z"
   },
   {
    "duration": 1399,
    "start_time": "2023-01-09T12:07:33.711Z"
   },
   {
    "duration": 320,
    "start_time": "2023-01-09T12:07:35.112Z"
   },
   {
    "duration": 18,
    "start_time": "2023-01-09T12:07:35.434Z"
   },
   {
    "duration": 207,
    "start_time": "2023-01-09T12:07:35.454Z"
   },
   {
    "duration": 206,
    "start_time": "2023-01-09T12:07:35.663Z"
   },
   {
    "duration": 183,
    "start_time": "2023-01-09T12:07:35.871Z"
   },
   {
    "duration": 167,
    "start_time": "2023-01-09T12:07:36.058Z"
   },
   {
    "duration": 278,
    "start_time": "2023-01-09T12:07:36.227Z"
   },
   {
    "duration": 0,
    "start_time": "2023-01-09T12:07:36.507Z"
   },
   {
    "duration": 0,
    "start_time": "2023-01-09T12:07:36.509Z"
   },
   {
    "duration": 0,
    "start_time": "2023-01-09T12:07:36.510Z"
   },
   {
    "duration": 163,
    "start_time": "2023-01-09T12:08:04.255Z"
   },
   {
    "duration": 157,
    "start_time": "2023-01-09T12:08:26.767Z"
   },
   {
    "duration": 153,
    "start_time": "2023-01-09T12:09:33.748Z"
   },
   {
    "duration": 144,
    "start_time": "2023-01-09T12:10:42.709Z"
   },
   {
    "duration": 154,
    "start_time": "2023-01-09T12:10:46.400Z"
   },
   {
    "duration": 150,
    "start_time": "2023-01-09T12:10:56.727Z"
   },
   {
    "duration": 186,
    "start_time": "2023-01-09T12:11:08.327Z"
   },
   {
    "duration": 8,
    "start_time": "2023-01-09T12:16:08.310Z"
   },
   {
    "duration": 8,
    "start_time": "2023-01-09T12:16:17.329Z"
   },
   {
    "duration": 9,
    "start_time": "2023-01-09T12:18:00.141Z"
   },
   {
    "duration": 204,
    "start_time": "2023-01-09T12:22:59.029Z"
   },
   {
    "duration": 103,
    "start_time": "2023-01-09T12:23:25.249Z"
   },
   {
    "duration": 124,
    "start_time": "2023-01-09T12:23:30.209Z"
   },
   {
    "duration": 24,
    "start_time": "2023-01-09T12:23:35.989Z"
   },
   {
    "duration": 70,
    "start_time": "2023-01-09T12:24:12.529Z"
   },
   {
    "duration": 76,
    "start_time": "2023-01-09T12:24:16.957Z"
   },
   {
    "duration": 18,
    "start_time": "2023-01-09T12:24:21.941Z"
   },
   {
    "duration": 33,
    "start_time": "2023-01-09T12:27:28.090Z"
   },
   {
    "duration": 6,
    "start_time": "2023-01-09T12:27:34.447Z"
   },
   {
    "duration": 21,
    "start_time": "2023-01-09T12:27:38.809Z"
   },
   {
    "duration": 15,
    "start_time": "2023-01-09T12:27:57.899Z"
   },
   {
    "duration": 20,
    "start_time": "2023-01-09T12:28:06.189Z"
   },
   {
    "duration": 8,
    "start_time": "2023-01-09T12:29:10.869Z"
   },
   {
    "duration": 75,
    "start_time": "2023-01-09T12:30:52.450Z"
   },
   {
    "duration": 35,
    "start_time": "2023-01-09T12:30:57.582Z"
   },
   {
    "duration": 39,
    "start_time": "2023-01-09T12:31:10.509Z"
   },
   {
    "duration": 33,
    "start_time": "2023-01-09T12:32:05.111Z"
   },
   {
    "duration": 28,
    "start_time": "2023-01-09T12:32:22.753Z"
   },
   {
    "duration": 29,
    "start_time": "2023-01-09T12:32:44.370Z"
   },
   {
    "duration": 29,
    "start_time": "2023-01-09T12:33:01.909Z"
   },
   {
    "duration": 23,
    "start_time": "2023-01-09T12:33:16.351Z"
   },
   {
    "duration": 7,
    "start_time": "2023-01-09T12:34:12.970Z"
   },
   {
    "duration": 24,
    "start_time": "2023-01-09T12:34:16.710Z"
   },
   {
    "duration": 105,
    "start_time": "2023-01-09T12:34:40.571Z"
   },
   {
    "duration": 21,
    "start_time": "2023-01-09T12:34:40.679Z"
   },
   {
    "duration": 22,
    "start_time": "2023-01-09T12:34:40.702Z"
   },
   {
    "duration": 1974,
    "start_time": "2023-01-09T12:34:40.726Z"
   },
   {
    "duration": 9,
    "start_time": "2023-01-09T12:34:42.702Z"
   },
   {
    "duration": 6,
    "start_time": "2023-01-09T12:34:42.713Z"
   },
   {
    "duration": 10,
    "start_time": "2023-01-09T12:34:42.720Z"
   },
   {
    "duration": 8,
    "start_time": "2023-01-09T12:34:42.751Z"
   },
   {
    "duration": 8,
    "start_time": "2023-01-09T12:34:42.760Z"
   },
   {
    "duration": 298,
    "start_time": "2023-01-09T12:34:42.769Z"
   },
   {
    "duration": 5,
    "start_time": "2023-01-09T12:34:43.069Z"
   },
   {
    "duration": 19,
    "start_time": "2023-01-09T12:34:43.076Z"
   },
   {
    "duration": 27,
    "start_time": "2023-01-09T12:34:43.097Z"
   },
   {
    "duration": 9,
    "start_time": "2023-01-09T12:34:43.127Z"
   },
   {
    "duration": 7,
    "start_time": "2023-01-09T12:34:43.151Z"
   },
   {
    "duration": 72,
    "start_time": "2023-01-09T12:34:43.160Z"
   },
   {
    "duration": 29,
    "start_time": "2023-01-09T12:34:43.251Z"
   },
   {
    "duration": 159,
    "start_time": "2023-01-09T12:34:43.281Z"
   },
   {
    "duration": 356,
    "start_time": "2023-01-09T12:34:43.442Z"
   },
   {
    "duration": 140,
    "start_time": "2023-01-09T12:34:43.800Z"
   },
   {
    "duration": 154,
    "start_time": "2023-01-09T12:34:43.942Z"
   },
   {
    "duration": 124,
    "start_time": "2023-01-09T12:34:44.097Z"
   },
   {
    "duration": 156,
    "start_time": "2023-01-09T12:34:44.223Z"
   },
   {
    "duration": 122,
    "start_time": "2023-01-09T12:34:44.381Z"
   },
   {
    "duration": 125,
    "start_time": "2023-01-09T12:34:44.505Z"
   },
   {
    "duration": 143,
    "start_time": "2023-01-09T12:34:44.631Z"
   },
   {
    "duration": 10,
    "start_time": "2023-01-09T12:34:44.775Z"
   },
   {
    "duration": 15,
    "start_time": "2023-01-09T12:34:44.787Z"
   },
   {
    "duration": 12,
    "start_time": "2023-01-09T12:34:44.804Z"
   },
   {
    "duration": 292,
    "start_time": "2023-01-09T12:34:44.817Z"
   },
   {
    "duration": 7,
    "start_time": "2023-01-09T12:34:45.111Z"
   },
   {
    "duration": 45,
    "start_time": "2023-01-09T12:34:45.119Z"
   },
   {
    "duration": 269,
    "start_time": "2023-01-09T12:34:45.166Z"
   },
   {
    "duration": 29,
    "start_time": "2023-01-09T12:34:45.437Z"
   },
   {
    "duration": 1473,
    "start_time": "2023-01-09T12:34:45.468Z"
   },
   {
    "duration": 345,
    "start_time": "2023-01-09T12:34:46.942Z"
   },
   {
    "duration": 6,
    "start_time": "2023-01-09T12:34:47.288Z"
   },
   {
    "duration": 222,
    "start_time": "2023-01-09T12:34:47.296Z"
   },
   {
    "duration": 222,
    "start_time": "2023-01-09T12:34:47.520Z"
   },
   {
    "duration": 209,
    "start_time": "2023-01-09T12:34:47.744Z"
   },
   {
    "duration": 174,
    "start_time": "2023-01-09T12:34:47.957Z"
   },
   {
    "duration": 154,
    "start_time": "2023-01-09T12:34:48.133Z"
   },
   {
    "duration": 153,
    "start_time": "2023-01-09T12:34:48.289Z"
   },
   {
    "duration": 188,
    "start_time": "2023-01-09T12:34:48.450Z"
   },
   {
    "duration": 152,
    "start_time": "2023-01-09T12:34:48.640Z"
   },
   {
    "duration": 8,
    "start_time": "2023-01-09T12:34:48.793Z"
   },
   {
    "duration": 29,
    "start_time": "2023-01-09T12:34:48.803Z"
   },
   {
    "duration": 22,
    "start_time": "2023-01-09T12:35:23.999Z"
   },
   {
    "duration": 22,
    "start_time": "2023-01-09T12:35:53.491Z"
   },
   {
    "duration": 22,
    "start_time": "2023-01-09T12:36:02.262Z"
   },
   {
    "duration": 70,
    "start_time": "2023-01-09T12:37:07.990Z"
   },
   {
    "duration": 17,
    "start_time": "2023-01-09T12:37:12.809Z"
   },
   {
    "duration": 7,
    "start_time": "2023-01-09T12:38:07.698Z"
   },
   {
    "duration": 7,
    "start_time": "2023-01-09T12:38:17.533Z"
   },
   {
    "duration": 6,
    "start_time": "2023-01-09T13:22:44.739Z"
   },
   {
    "duration": 5,
    "start_time": "2023-01-09T13:23:00.608Z"
   },
   {
    "duration": 33,
    "start_time": "2023-01-09T13:23:05.723Z"
   },
   {
    "duration": 46,
    "start_time": "2023-01-09T13:23:26.123Z"
   },
   {
    "duration": 7,
    "start_time": "2023-01-09T13:24:34.682Z"
   },
   {
    "duration": 31,
    "start_time": "2023-01-09T13:24:39.263Z"
   },
   {
    "duration": 427,
    "start_time": "2023-01-09T13:24:48.122Z"
   },
   {
    "duration": 31,
    "start_time": "2023-01-09T13:25:01.884Z"
   },
   {
    "duration": 10,
    "start_time": "2023-01-09T13:25:44.964Z"
   },
   {
    "duration": 32,
    "start_time": "2023-01-09T13:26:45.946Z"
   },
   {
    "duration": 32,
    "start_time": "2023-01-09T13:27:43.203Z"
   },
   {
    "duration": 31,
    "start_time": "2023-01-09T13:27:57.643Z"
   },
   {
    "duration": 7,
    "start_time": "2023-01-09T13:28:05.845Z"
   },
   {
    "duration": 110,
    "start_time": "2023-01-09T13:31:45.845Z"
   },
   {
    "duration": 26,
    "start_time": "2023-01-09T13:31:45.957Z"
   },
   {
    "duration": 43,
    "start_time": "2023-01-09T13:31:45.985Z"
   },
   {
    "duration": 2306,
    "start_time": "2023-01-09T13:31:46.031Z"
   },
   {
    "duration": 20,
    "start_time": "2023-01-09T13:31:48.339Z"
   },
   {
    "duration": 6,
    "start_time": "2023-01-09T13:31:48.362Z"
   },
   {
    "duration": 10,
    "start_time": "2023-01-09T13:31:48.370Z"
   },
   {
    "duration": 12,
    "start_time": "2023-01-09T13:31:48.382Z"
   },
   {
    "duration": 7,
    "start_time": "2023-01-09T13:31:48.395Z"
   },
   {
    "duration": 346,
    "start_time": "2023-01-09T13:31:48.405Z"
   },
   {
    "duration": 5,
    "start_time": "2023-01-09T13:31:48.753Z"
   },
   {
    "duration": 9,
    "start_time": "2023-01-09T13:31:48.760Z"
   },
   {
    "duration": 30,
    "start_time": "2023-01-09T13:31:48.771Z"
   },
   {
    "duration": 8,
    "start_time": "2023-01-09T13:31:48.803Z"
   },
   {
    "duration": 13,
    "start_time": "2023-01-09T13:31:48.813Z"
   },
   {
    "duration": 72,
    "start_time": "2023-01-09T13:31:48.851Z"
   },
   {
    "duration": 60,
    "start_time": "2023-01-09T13:31:48.926Z"
   },
   {
    "duration": 179,
    "start_time": "2023-01-09T13:31:48.988Z"
   },
   {
    "duration": 240,
    "start_time": "2023-01-09T13:31:49.169Z"
   },
   {
    "duration": 130,
    "start_time": "2023-01-09T13:31:49.411Z"
   },
   {
    "duration": 154,
    "start_time": "2023-01-09T13:31:49.550Z"
   },
   {
    "duration": 125,
    "start_time": "2023-01-09T13:31:49.705Z"
   },
   {
    "duration": 216,
    "start_time": "2023-01-09T13:31:49.832Z"
   },
   {
    "duration": 165,
    "start_time": "2023-01-09T13:31:50.051Z"
   },
   {
    "duration": 140,
    "start_time": "2023-01-09T13:31:50.218Z"
   },
   {
    "duration": 149,
    "start_time": "2023-01-09T13:31:50.360Z"
   },
   {
    "duration": 11,
    "start_time": "2023-01-09T13:31:50.510Z"
   },
   {
    "duration": 26,
    "start_time": "2023-01-09T13:31:50.526Z"
   },
   {
    "duration": 10,
    "start_time": "2023-01-09T13:31:50.554Z"
   },
   {
    "duration": 328,
    "start_time": "2023-01-09T13:31:50.566Z"
   },
   {
    "duration": 10,
    "start_time": "2023-01-09T13:31:50.896Z"
   },
   {
    "duration": 57,
    "start_time": "2023-01-09T13:31:50.908Z"
   },
   {
    "duration": 264,
    "start_time": "2023-01-09T13:31:50.966Z"
   },
   {
    "duration": 36,
    "start_time": "2023-01-09T13:31:51.232Z"
   },
   {
    "duration": 1370,
    "start_time": "2023-01-09T13:31:51.270Z"
   },
   {
    "duration": 570,
    "start_time": "2023-01-09T13:31:52.642Z"
   },
   {
    "duration": 6,
    "start_time": "2023-01-09T13:31:53.215Z"
   },
   {
    "duration": 222,
    "start_time": "2023-01-09T13:31:53.223Z"
   },
   {
    "duration": 216,
    "start_time": "2023-01-09T13:31:53.450Z"
   },
   {
    "duration": 202,
    "start_time": "2023-01-09T13:31:53.668Z"
   },
   {
    "duration": 190,
    "start_time": "2023-01-09T13:31:53.872Z"
   },
   {
    "duration": 167,
    "start_time": "2023-01-09T13:31:54.064Z"
   },
   {
    "duration": 162,
    "start_time": "2023-01-09T13:31:54.233Z"
   },
   {
    "duration": 204,
    "start_time": "2023-01-09T13:31:54.396Z"
   },
   {
    "duration": 167,
    "start_time": "2023-01-09T13:31:54.602Z"
   },
   {
    "duration": 8,
    "start_time": "2023-01-09T13:31:54.770Z"
   },
   {
    "duration": 22,
    "start_time": "2023-01-09T13:31:54.780Z"
   },
   {
    "duration": 6,
    "start_time": "2023-01-09T13:31:54.804Z"
   },
   {
    "duration": 7,
    "start_time": "2023-01-09T13:31:54.812Z"
   },
   {
    "duration": 57,
    "start_time": "2023-01-09T13:31:54.821Z"
   },
   {
    "duration": 17,
    "start_time": "2023-01-09T13:32:12.207Z"
   },
   {
    "duration": 34,
    "start_time": "2023-01-09T13:32:21.904Z"
   },
   {
    "duration": 32,
    "start_time": "2023-01-09T13:33:10.504Z"
   },
   {
    "duration": 33,
    "start_time": "2023-01-09T13:33:19.244Z"
   },
   {
    "duration": 32,
    "start_time": "2023-01-09T13:33:25.036Z"
   },
   {
    "duration": 33,
    "start_time": "2023-01-09T13:33:53.925Z"
   },
   {
    "duration": 37,
    "start_time": "2023-01-09T13:34:12.484Z"
   },
   {
    "duration": 20,
    "start_time": "2023-01-09T13:34:58.465Z"
   },
   {
    "duration": 23,
    "start_time": "2023-01-09T13:35:06.816Z"
   },
   {
    "duration": 14,
    "start_time": "2023-01-09T13:35:15.404Z"
   },
   {
    "duration": 19,
    "start_time": "2023-01-09T13:35:30.665Z"
   },
   {
    "duration": 117,
    "start_time": "2023-01-09T13:36:35.564Z"
   },
   {
    "duration": 82,
    "start_time": "2023-01-09T13:36:48.224Z"
   },
   {
    "duration": 77,
    "start_time": "2023-01-09T13:37:03.804Z"
   },
   {
    "duration": 74,
    "start_time": "2023-01-09T13:37:12.264Z"
   },
   {
    "duration": 6365,
    "start_time": "2023-01-09T13:37:17.344Z"
   },
   {
    "duration": 6227,
    "start_time": "2023-01-09T13:37:33.244Z"
   },
   {
    "duration": 280,
    "start_time": "2023-01-09T13:38:40.930Z"
   },
   {
    "duration": 305,
    "start_time": "2023-01-09T13:38:50.730Z"
   },
   {
    "duration": 57,
    "start_time": "2023-01-10T08:13:26.108Z"
   },
   {
    "duration": 1095,
    "start_time": "2023-01-10T08:13:30.975Z"
   },
   {
    "duration": 16,
    "start_time": "2023-01-10T08:13:32.072Z"
   },
   {
    "duration": 23,
    "start_time": "2023-01-10T08:13:32.090Z"
   },
   {
    "duration": 1755,
    "start_time": "2023-01-10T08:13:32.115Z"
   },
   {
    "duration": 9,
    "start_time": "2023-01-10T08:13:33.872Z"
   },
   {
    "duration": 13,
    "start_time": "2023-01-10T08:13:33.882Z"
   },
   {
    "duration": 6,
    "start_time": "2023-01-10T08:13:33.897Z"
   },
   {
    "duration": 30,
    "start_time": "2023-01-10T08:13:33.905Z"
   },
   {
    "duration": 21,
    "start_time": "2023-01-10T08:13:33.937Z"
   },
   {
    "duration": 280,
    "start_time": "2023-01-10T08:13:33.961Z"
   },
   {
    "duration": 4,
    "start_time": "2023-01-10T08:13:34.243Z"
   },
   {
    "duration": 29,
    "start_time": "2023-01-10T08:13:34.249Z"
   },
   {
    "duration": 24,
    "start_time": "2023-01-10T08:13:34.280Z"
   },
   {
    "duration": 7,
    "start_time": "2023-01-10T08:13:34.306Z"
   },
   {
    "duration": 16,
    "start_time": "2023-01-10T08:13:34.314Z"
   },
   {
    "duration": 69,
    "start_time": "2023-01-10T08:13:34.332Z"
   },
   {
    "duration": 37,
    "start_time": "2023-01-10T08:13:34.403Z"
   },
   {
    "duration": 155,
    "start_time": "2023-01-10T08:13:34.442Z"
   },
   {
    "duration": 202,
    "start_time": "2023-01-10T08:13:34.599Z"
   },
   {
    "duration": 114,
    "start_time": "2023-01-10T08:13:34.803Z"
   },
   {
    "duration": 128,
    "start_time": "2023-01-10T08:13:34.918Z"
   },
   {
    "duration": 108,
    "start_time": "2023-01-10T08:13:35.048Z"
   },
   {
    "duration": 201,
    "start_time": "2023-01-10T08:13:35.159Z"
   },
   {
    "duration": 117,
    "start_time": "2023-01-10T08:13:35.361Z"
   },
   {
    "duration": 130,
    "start_time": "2023-01-10T08:13:35.479Z"
   },
   {
    "duration": 142,
    "start_time": "2023-01-10T08:13:35.611Z"
   },
   {
    "duration": 10,
    "start_time": "2023-01-10T08:13:35.754Z"
   },
   {
    "duration": 31,
    "start_time": "2023-01-10T08:13:35.766Z"
   },
   {
    "duration": 10,
    "start_time": "2023-01-10T08:13:35.799Z"
   },
   {
    "duration": 287,
    "start_time": "2023-01-10T08:13:35.810Z"
   },
   {
    "duration": 7,
    "start_time": "2023-01-10T08:13:36.099Z"
   },
   {
    "duration": 37,
    "start_time": "2023-01-10T08:13:36.107Z"
   },
   {
    "duration": 253,
    "start_time": "2023-01-10T08:13:36.146Z"
   },
   {
    "duration": 18,
    "start_time": "2023-01-10T08:13:36.401Z"
   },
   {
    "duration": 1179,
    "start_time": "2023-01-10T08:13:36.421Z"
   },
   {
    "duration": 295,
    "start_time": "2023-01-10T08:13:37.603Z"
   },
   {
    "duration": 6,
    "start_time": "2023-01-10T08:13:37.899Z"
   },
   {
    "duration": 196,
    "start_time": "2023-01-10T08:13:37.906Z"
   },
   {
    "duration": 184,
    "start_time": "2023-01-10T08:13:38.103Z"
   },
   {
    "duration": 161,
    "start_time": "2023-01-10T08:13:38.289Z"
   },
   {
    "duration": 146,
    "start_time": "2023-01-10T08:13:38.455Z"
   },
   {
    "duration": 211,
    "start_time": "2023-01-10T08:13:38.603Z"
   },
   {
    "duration": 133,
    "start_time": "2023-01-10T08:13:38.816Z"
   },
   {
    "duration": 165,
    "start_time": "2023-01-10T08:13:38.950Z"
   },
   {
    "duration": 131,
    "start_time": "2023-01-10T08:13:39.116Z"
   },
   {
    "duration": 7,
    "start_time": "2023-01-10T08:13:39.249Z"
   },
   {
    "duration": 29,
    "start_time": "2023-01-10T08:13:39.257Z"
   },
   {
    "duration": 11,
    "start_time": "2023-01-10T08:13:39.288Z"
   },
   {
    "duration": 6,
    "start_time": "2023-01-10T08:13:39.301Z"
   },
   {
    "duration": 32,
    "start_time": "2023-01-10T08:13:39.309Z"
   },
   {
    "duration": 266,
    "start_time": "2023-01-10T08:13:39.342Z"
   },
   {
    "duration": 261,
    "start_time": "2023-01-10T08:15:49.354Z"
   },
   {
    "duration": 8,
    "start_time": "2023-01-10T08:15:57.206Z"
   },
   {
    "duration": 86,
    "start_time": "2023-01-10T08:25:26.037Z"
   },
   {
    "duration": 16,
    "start_time": "2023-01-10T08:25:26.125Z"
   },
   {
    "duration": 31,
    "start_time": "2023-01-10T08:25:26.142Z"
   },
   {
    "duration": 1854,
    "start_time": "2023-01-10T08:25:26.175Z"
   },
   {
    "duration": 9,
    "start_time": "2023-01-10T08:25:28.031Z"
   },
   {
    "duration": 10,
    "start_time": "2023-01-10T08:25:28.042Z"
   },
   {
    "duration": 19,
    "start_time": "2023-01-10T08:25:28.054Z"
   },
   {
    "duration": 25,
    "start_time": "2023-01-10T08:25:28.075Z"
   },
   {
    "duration": 15,
    "start_time": "2023-01-10T08:25:28.102Z"
   },
   {
    "duration": 17,
    "start_time": "2023-01-10T08:25:28.119Z"
   },
   {
    "duration": 6,
    "start_time": "2023-01-10T08:25:28.138Z"
   },
   {
    "duration": 827,
    "start_time": "2023-01-10T08:25:28.145Z"
   },
   {
    "duration": 0,
    "start_time": "2023-01-10T08:25:28.975Z"
   },
   {
    "duration": 0,
    "start_time": "2023-01-10T08:25:28.977Z"
   },
   {
    "duration": 0,
    "start_time": "2023-01-10T08:25:28.978Z"
   },
   {
    "duration": 0,
    "start_time": "2023-01-10T08:25:28.978Z"
   },
   {
    "duration": 0,
    "start_time": "2023-01-10T08:25:28.980Z"
   },
   {
    "duration": 0,
    "start_time": "2023-01-10T08:25:28.981Z"
   },
   {
    "duration": 0,
    "start_time": "2023-01-10T08:25:28.982Z"
   },
   {
    "duration": 0,
    "start_time": "2023-01-10T08:25:28.983Z"
   },
   {
    "duration": 0,
    "start_time": "2023-01-10T08:25:28.983Z"
   },
   {
    "duration": 0,
    "start_time": "2023-01-10T08:25:28.984Z"
   },
   {
    "duration": 0,
    "start_time": "2023-01-10T08:25:28.985Z"
   },
   {
    "duration": 0,
    "start_time": "2023-01-10T08:25:28.986Z"
   },
   {
    "duration": 0,
    "start_time": "2023-01-10T08:25:28.987Z"
   },
   {
    "duration": 0,
    "start_time": "2023-01-10T08:25:28.988Z"
   },
   {
    "duration": 0,
    "start_time": "2023-01-10T08:25:28.989Z"
   },
   {
    "duration": 0,
    "start_time": "2023-01-10T08:25:28.990Z"
   },
   {
    "duration": 0,
    "start_time": "2023-01-10T08:25:28.991Z"
   },
   {
    "duration": 0,
    "start_time": "2023-01-10T08:25:28.992Z"
   },
   {
    "duration": 0,
    "start_time": "2023-01-10T08:25:28.993Z"
   },
   {
    "duration": 0,
    "start_time": "2023-01-10T08:25:28.994Z"
   },
   {
    "duration": 0,
    "start_time": "2023-01-10T08:25:28.995Z"
   },
   {
    "duration": 0,
    "start_time": "2023-01-10T08:25:28.996Z"
   },
   {
    "duration": 0,
    "start_time": "2023-01-10T08:25:28.997Z"
   },
   {
    "duration": 0,
    "start_time": "2023-01-10T08:25:28.998Z"
   },
   {
    "duration": 0,
    "start_time": "2023-01-10T08:25:28.999Z"
   },
   {
    "duration": 0,
    "start_time": "2023-01-10T08:25:29.001Z"
   },
   {
    "duration": 0,
    "start_time": "2023-01-10T08:25:29.002Z"
   },
   {
    "duration": 0,
    "start_time": "2023-01-10T08:25:29.002Z"
   },
   {
    "duration": 0,
    "start_time": "2023-01-10T08:25:29.004Z"
   },
   {
    "duration": 0,
    "start_time": "2023-01-10T08:25:29.005Z"
   },
   {
    "duration": 0,
    "start_time": "2023-01-10T08:25:29.006Z"
   },
   {
    "duration": 0,
    "start_time": "2023-01-10T08:25:29.007Z"
   },
   {
    "duration": 0,
    "start_time": "2023-01-10T08:25:29.008Z"
   },
   {
    "duration": 0,
    "start_time": "2023-01-10T08:25:29.009Z"
   },
   {
    "duration": 0,
    "start_time": "2023-01-10T08:25:29.010Z"
   },
   {
    "duration": 0,
    "start_time": "2023-01-10T08:25:29.011Z"
   },
   {
    "duration": 0,
    "start_time": "2023-01-10T08:25:29.012Z"
   },
   {
    "duration": 0,
    "start_time": "2023-01-10T08:25:29.013Z"
   },
   {
    "duration": 0,
    "start_time": "2023-01-10T08:25:29.014Z"
   },
   {
    "duration": 0,
    "start_time": "2023-01-10T08:25:29.015Z"
   },
   {
    "duration": 6,
    "start_time": "2023-01-10T08:26:38.667Z"
   },
   {
    "duration": 5,
    "start_time": "2023-01-10T08:27:43.467Z"
   },
   {
    "duration": 834,
    "start_time": "2023-01-10T08:28:10.207Z"
   },
   {
    "duration": 4,
    "start_time": "2023-01-10T08:28:19.267Z"
   },
   {
    "duration": 83,
    "start_time": "2023-01-10T08:29:16.149Z"
   },
   {
    "duration": 17,
    "start_time": "2023-01-10T08:29:16.234Z"
   },
   {
    "duration": 17,
    "start_time": "2023-01-10T08:29:16.253Z"
   },
   {
    "duration": 1900,
    "start_time": "2023-01-10T08:29:16.271Z"
   },
   {
    "duration": 8,
    "start_time": "2023-01-10T08:29:18.174Z"
   },
   {
    "duration": 18,
    "start_time": "2023-01-10T08:29:18.184Z"
   },
   {
    "duration": 17,
    "start_time": "2023-01-10T08:29:18.205Z"
   },
   {
    "duration": 15,
    "start_time": "2023-01-10T08:29:18.224Z"
   },
   {
    "duration": 15,
    "start_time": "2023-01-10T08:29:18.241Z"
   },
   {
    "duration": 27,
    "start_time": "2023-01-10T08:29:18.257Z"
   },
   {
    "duration": 16,
    "start_time": "2023-01-10T08:29:18.286Z"
   },
   {
    "duration": 9,
    "start_time": "2023-01-10T08:29:18.304Z"
   },
   {
    "duration": 284,
    "start_time": "2023-01-10T08:29:18.315Z"
   },
   {
    "duration": 29,
    "start_time": "2023-01-10T08:29:18.603Z"
   },
   {
    "duration": 20,
    "start_time": "2023-01-10T08:29:18.637Z"
   },
   {
    "duration": 11,
    "start_time": "2023-01-10T08:29:18.659Z"
   },
   {
    "duration": 74,
    "start_time": "2023-01-10T08:29:18.672Z"
   },
   {
    "duration": 25,
    "start_time": "2023-01-10T08:29:18.748Z"
   },
   {
    "duration": 147,
    "start_time": "2023-01-10T08:29:18.775Z"
   },
   {
    "duration": 212,
    "start_time": "2023-01-10T08:29:18.924Z"
   },
   {
    "duration": 124,
    "start_time": "2023-01-10T08:29:19.138Z"
   },
   {
    "duration": 150,
    "start_time": "2023-01-10T08:29:19.264Z"
   },
   {
    "duration": 131,
    "start_time": "2023-01-10T08:29:19.416Z"
   },
   {
    "duration": 152,
    "start_time": "2023-01-10T08:29:19.549Z"
   },
   {
    "duration": 119,
    "start_time": "2023-01-10T08:29:19.703Z"
   },
   {
    "duration": 122,
    "start_time": "2023-01-10T08:29:19.824Z"
   },
   {
    "duration": 143,
    "start_time": "2023-01-10T08:29:19.947Z"
   },
   {
    "duration": 12,
    "start_time": "2023-01-10T08:29:20.097Z"
   },
   {
    "duration": 11,
    "start_time": "2023-01-10T08:29:20.111Z"
   },
   {
    "duration": 10,
    "start_time": "2023-01-10T08:29:20.124Z"
   },
   {
    "duration": 440,
    "start_time": "2023-01-10T08:29:20.135Z"
   },
   {
    "duration": 6,
    "start_time": "2023-01-10T08:29:20.577Z"
   },
   {
    "duration": 31,
    "start_time": "2023-01-10T08:29:20.596Z"
   },
   {
    "duration": 256,
    "start_time": "2023-01-10T08:29:20.629Z"
   },
   {
    "duration": 29,
    "start_time": "2023-01-10T08:29:20.886Z"
   },
   {
    "duration": 1171,
    "start_time": "2023-01-10T08:29:20.917Z"
   },
   {
    "duration": 293,
    "start_time": "2023-01-10T08:29:22.098Z"
   },
   {
    "duration": 5,
    "start_time": "2023-01-10T08:29:22.397Z"
   },
   {
    "duration": 199,
    "start_time": "2023-01-10T08:29:22.404Z"
   },
   {
    "duration": 193,
    "start_time": "2023-01-10T08:29:22.604Z"
   },
   {
    "duration": 179,
    "start_time": "2023-01-10T08:29:22.801Z"
   },
   {
    "duration": 145,
    "start_time": "2023-01-10T08:29:22.982Z"
   },
   {
    "duration": 270,
    "start_time": "2023-01-10T08:29:23.128Z"
   },
   {
    "duration": 121,
    "start_time": "2023-01-10T08:29:23.400Z"
   },
   {
    "duration": 158,
    "start_time": "2023-01-10T08:29:23.522Z"
   },
   {
    "duration": 151,
    "start_time": "2023-01-10T08:29:23.682Z"
   },
   {
    "duration": 7,
    "start_time": "2023-01-10T08:29:23.835Z"
   },
   {
    "duration": 20,
    "start_time": "2023-01-10T08:29:23.843Z"
   },
   {
    "duration": 5,
    "start_time": "2023-01-10T08:29:23.864Z"
   },
   {
    "duration": 9,
    "start_time": "2023-01-10T08:29:23.871Z"
   },
   {
    "duration": 34,
    "start_time": "2023-01-10T08:29:23.881Z"
   },
   {
    "duration": 313,
    "start_time": "2023-01-10T08:29:23.917Z"
   },
   {
    "duration": 17,
    "start_time": "2023-01-10T08:32:05.038Z"
   },
   {
    "duration": 209,
    "start_time": "2023-01-10T08:32:30.905Z"
   },
   {
    "duration": 211,
    "start_time": "2023-01-10T08:32:45.546Z"
   },
   {
    "duration": 28,
    "start_time": "2023-01-10T08:33:50.032Z"
   },
   {
    "duration": 6,
    "start_time": "2023-01-10T10:05:04.883Z"
   },
   {
    "duration": 85,
    "start_time": "2023-01-10T10:44:20.125Z"
   },
   {
    "duration": 15,
    "start_time": "2023-01-10T10:44:20.212Z"
   },
   {
    "duration": 16,
    "start_time": "2023-01-10T10:44:20.229Z"
   },
   {
    "duration": 1774,
    "start_time": "2023-01-10T10:44:20.247Z"
   },
   {
    "duration": 10,
    "start_time": "2023-01-10T10:44:22.024Z"
   },
   {
    "duration": 7,
    "start_time": "2023-01-10T10:44:22.036Z"
   },
   {
    "duration": 17,
    "start_time": "2023-01-10T10:44:22.044Z"
   },
   {
    "duration": 10,
    "start_time": "2023-01-10T10:44:22.063Z"
   },
   {
    "duration": 26,
    "start_time": "2023-01-10T10:44:22.074Z"
   },
   {
    "duration": 6,
    "start_time": "2023-01-10T10:44:22.102Z"
   },
   {
    "duration": 12,
    "start_time": "2023-01-10T10:44:22.110Z"
   },
   {
    "duration": 9,
    "start_time": "2023-01-10T10:44:22.123Z"
   },
   {
    "duration": 222,
    "start_time": "2023-01-10T10:44:22.133Z"
   },
   {
    "duration": 28,
    "start_time": "2023-01-10T10:44:22.362Z"
   },
   {
    "duration": 9,
    "start_time": "2023-01-10T10:44:22.397Z"
   },
   {
    "duration": 13,
    "start_time": "2023-01-10T10:44:22.408Z"
   },
   {
    "duration": 92,
    "start_time": "2023-01-10T10:44:22.423Z"
   },
   {
    "duration": 26,
    "start_time": "2023-01-10T10:44:22.516Z"
   },
   {
    "duration": 147,
    "start_time": "2023-01-10T10:44:22.544Z"
   },
   {
    "duration": 349,
    "start_time": "2023-01-10T10:44:22.698Z"
   },
   {
    "duration": 110,
    "start_time": "2023-01-10T10:44:23.048Z"
   },
   {
    "duration": 138,
    "start_time": "2023-01-10T10:44:23.159Z"
   },
   {
    "duration": 107,
    "start_time": "2023-01-10T10:44:23.298Z"
   },
   {
    "duration": 134,
    "start_time": "2023-01-10T10:44:23.407Z"
   },
   {
    "duration": 121,
    "start_time": "2023-01-10T10:44:23.543Z"
   },
   {
    "duration": 113,
    "start_time": "2023-01-10T10:44:23.666Z"
   },
   {
    "duration": 134,
    "start_time": "2023-01-10T10:44:23.781Z"
   },
   {
    "duration": 9,
    "start_time": "2023-01-10T10:44:23.918Z"
   },
   {
    "duration": 13,
    "start_time": "2023-01-10T10:44:23.928Z"
   },
   {
    "duration": 27,
    "start_time": "2023-01-10T10:44:23.942Z"
   },
   {
    "duration": 279,
    "start_time": "2023-01-10T10:44:23.971Z"
   },
   {
    "duration": 7,
    "start_time": "2023-01-10T10:44:24.252Z"
   },
   {
    "duration": 41,
    "start_time": "2023-01-10T10:44:24.261Z"
   },
   {
    "duration": 224,
    "start_time": "2023-01-10T10:44:24.303Z"
   },
   {
    "duration": 18,
    "start_time": "2023-01-10T10:44:24.529Z"
   },
   {
    "duration": 1280,
    "start_time": "2023-01-10T10:44:24.549Z"
   },
   {
    "duration": 501,
    "start_time": "2023-01-10T10:44:25.830Z"
   },
   {
    "duration": 6,
    "start_time": "2023-01-10T10:44:26.332Z"
   },
   {
    "duration": 416,
    "start_time": "2023-01-10T10:44:26.340Z"
   },
   {
    "duration": 177,
    "start_time": "2023-01-10T10:44:26.757Z"
   },
   {
    "duration": 167,
    "start_time": "2023-01-10T10:44:26.938Z"
   },
   {
    "duration": 151,
    "start_time": "2023-01-10T10:44:27.107Z"
   },
   {
    "duration": 122,
    "start_time": "2023-01-10T10:44:27.259Z"
   },
   {
    "duration": 134,
    "start_time": "2023-01-10T10:44:27.383Z"
   },
   {
    "duration": 161,
    "start_time": "2023-01-10T10:44:27.520Z"
   },
   {
    "duration": 130,
    "start_time": "2023-01-10T10:44:27.683Z"
   },
   {
    "duration": 7,
    "start_time": "2023-01-10T10:44:27.815Z"
   },
   {
    "duration": 26,
    "start_time": "2023-01-10T10:44:27.823Z"
   },
   {
    "duration": 12,
    "start_time": "2023-01-10T10:44:27.851Z"
   },
   {
    "duration": 26,
    "start_time": "2023-01-10T10:44:27.865Z"
   },
   {
    "duration": 33,
    "start_time": "2023-01-10T10:44:27.892Z"
   },
   {
    "duration": 283,
    "start_time": "2023-01-10T10:44:27.927Z"
   },
   {
    "duration": 805,
    "start_time": "2023-01-10T15:09:51.360Z"
   },
   {
    "duration": 10,
    "start_time": "2023-01-10T15:10:17.637Z"
   },
   {
    "duration": 52,
    "start_time": "2023-01-10T16:47:25.771Z"
   },
   {
    "duration": 1003,
    "start_time": "2023-01-10T16:47:29.802Z"
   },
   {
    "duration": 20,
    "start_time": "2023-01-10T16:47:30.807Z"
   },
   {
    "duration": 37,
    "start_time": "2023-01-10T16:47:30.828Z"
   },
   {
    "duration": 2040,
    "start_time": "2023-01-10T16:47:30.868Z"
   },
   {
    "duration": 9,
    "start_time": "2023-01-10T16:47:32.909Z"
   },
   {
    "duration": 8,
    "start_time": "2023-01-10T16:47:32.920Z"
   },
   {
    "duration": 27,
    "start_time": "2023-01-10T16:47:32.929Z"
   },
   {
    "duration": 23,
    "start_time": "2023-01-10T16:47:32.958Z"
   },
   {
    "duration": 43,
    "start_time": "2023-01-10T16:47:32.983Z"
   },
   {
    "duration": 30,
    "start_time": "2023-01-10T16:47:33.029Z"
   },
   {
    "duration": 14,
    "start_time": "2023-01-10T16:47:33.060Z"
   },
   {
    "duration": 18,
    "start_time": "2023-01-10T16:47:33.075Z"
   },
   {
    "duration": 234,
    "start_time": "2023-01-10T16:47:33.095Z"
   },
   {
    "duration": 24,
    "start_time": "2023-01-10T16:47:33.331Z"
   },
   {
    "duration": 7,
    "start_time": "2023-01-10T16:47:33.356Z"
   },
   {
    "duration": 20,
    "start_time": "2023-01-10T16:47:33.365Z"
   },
   {
    "duration": 75,
    "start_time": "2023-01-10T16:47:33.387Z"
   },
   {
    "duration": 29,
    "start_time": "2023-01-10T16:47:33.464Z"
   },
   {
    "duration": 154,
    "start_time": "2023-01-10T16:47:33.495Z"
   },
   {
    "duration": 177,
    "start_time": "2023-01-10T16:47:33.651Z"
   },
   {
    "duration": 135,
    "start_time": "2023-01-10T16:47:33.830Z"
   },
   {
    "duration": 156,
    "start_time": "2023-01-10T16:47:33.967Z"
   },
   {
    "duration": 238,
    "start_time": "2023-01-10T16:47:34.125Z"
   },
   {
    "duration": 152,
    "start_time": "2023-01-10T16:47:34.365Z"
   },
   {
    "duration": 117,
    "start_time": "2023-01-10T16:47:34.521Z"
   },
   {
    "duration": 116,
    "start_time": "2023-01-10T16:47:34.640Z"
   },
   {
    "duration": 130,
    "start_time": "2023-01-10T16:47:34.758Z"
   },
   {
    "duration": 10,
    "start_time": "2023-01-10T16:47:34.893Z"
   },
   {
    "duration": 26,
    "start_time": "2023-01-10T16:47:34.904Z"
   },
   {
    "duration": 13,
    "start_time": "2023-01-10T16:47:34.932Z"
   },
   {
    "duration": 351,
    "start_time": "2023-01-10T16:47:34.946Z"
   },
   {
    "duration": 7,
    "start_time": "2023-01-10T16:47:35.298Z"
   },
   {
    "duration": 41,
    "start_time": "2023-01-10T16:47:35.307Z"
   },
   {
    "duration": 242,
    "start_time": "2023-01-10T16:47:35.350Z"
   },
   {
    "duration": 28,
    "start_time": "2023-01-10T16:47:35.594Z"
   },
   {
    "duration": 1361,
    "start_time": "2023-01-10T16:47:35.624Z"
   },
   {
    "duration": 298,
    "start_time": "2023-01-10T16:47:36.987Z"
   },
   {
    "duration": 6,
    "start_time": "2023-01-10T16:47:37.287Z"
   },
   {
    "duration": 216,
    "start_time": "2023-01-10T16:47:37.295Z"
   },
   {
    "duration": 185,
    "start_time": "2023-01-10T16:47:37.522Z"
   },
   {
    "duration": 186,
    "start_time": "2023-01-10T16:47:37.708Z"
   },
   {
    "duration": 257,
    "start_time": "2023-01-10T16:47:37.896Z"
   },
   {
    "duration": 137,
    "start_time": "2023-01-10T16:47:38.155Z"
   },
   {
    "duration": 149,
    "start_time": "2023-01-10T16:47:38.293Z"
   },
   {
    "duration": 188,
    "start_time": "2023-01-10T16:47:38.444Z"
   },
   {
    "duration": 151,
    "start_time": "2023-01-10T16:47:38.634Z"
   },
   {
    "duration": 6,
    "start_time": "2023-01-10T16:47:38.787Z"
   },
   {
    "duration": 28,
    "start_time": "2023-01-10T16:47:38.795Z"
   },
   {
    "duration": 6,
    "start_time": "2023-01-10T16:47:38.825Z"
   },
   {
    "duration": 18,
    "start_time": "2023-01-10T16:47:38.833Z"
   },
   {
    "duration": 26,
    "start_time": "2023-01-10T16:47:38.853Z"
   },
   {
    "duration": 302,
    "start_time": "2023-01-10T16:47:38.881Z"
   },
   {
    "duration": 7,
    "start_time": "2023-01-10T16:51:22.109Z"
   },
   {
    "duration": 321,
    "start_time": "2023-01-10T17:00:18.084Z"
   },
   {
    "duration": 6,
    "start_time": "2023-01-10T17:00:22.980Z"
   },
   {
    "duration": 438,
    "start_time": "2023-01-10T17:00:51.675Z"
   },
   {
    "duration": 90,
    "start_time": "2023-01-10T17:03:56.613Z"
   },
   {
    "duration": 17,
    "start_time": "2023-01-10T17:03:56.705Z"
   },
   {
    "duration": 16,
    "start_time": "2023-01-10T17:03:56.724Z"
   },
   {
    "duration": 1905,
    "start_time": "2023-01-10T17:03:56.743Z"
   },
   {
    "duration": 9,
    "start_time": "2023-01-10T17:03:58.650Z"
   },
   {
    "duration": 5,
    "start_time": "2023-01-10T17:03:58.660Z"
   },
   {
    "duration": 6,
    "start_time": "2023-01-10T17:03:58.667Z"
   },
   {
    "duration": 12,
    "start_time": "2023-01-10T17:03:58.674Z"
   },
   {
    "duration": 16,
    "start_time": "2023-01-10T17:03:58.687Z"
   },
   {
    "duration": 7,
    "start_time": "2023-01-10T17:03:58.721Z"
   },
   {
    "duration": 10,
    "start_time": "2023-01-10T17:03:58.731Z"
   },
   {
    "duration": 5,
    "start_time": "2023-01-10T17:03:58.742Z"
   },
   {
    "duration": 227,
    "start_time": "2023-01-10T17:03:58.749Z"
   },
   {
    "duration": 26,
    "start_time": "2023-01-10T17:03:58.978Z"
   },
   {
    "duration": 21,
    "start_time": "2023-01-10T17:03:59.005Z"
   },
   {
    "duration": 11,
    "start_time": "2023-01-10T17:03:59.028Z"
   },
   {
    "duration": 82,
    "start_time": "2023-01-10T17:03:59.041Z"
   },
   {
    "duration": 29,
    "start_time": "2023-01-10T17:03:59.125Z"
   },
   {
    "duration": 142,
    "start_time": "2023-01-10T17:03:59.155Z"
   },
   {
    "duration": 286,
    "start_time": "2023-01-10T17:03:59.298Z"
   },
   {
    "duration": 120,
    "start_time": "2023-01-10T17:03:59.585Z"
   },
   {
    "duration": 141,
    "start_time": "2023-01-10T17:03:59.706Z"
   },
   {
    "duration": 119,
    "start_time": "2023-01-10T17:03:59.849Z"
   },
   {
    "duration": 154,
    "start_time": "2023-01-10T17:03:59.970Z"
   },
   {
    "duration": 123,
    "start_time": "2023-01-10T17:04:00.126Z"
   },
   {
    "duration": 126,
    "start_time": "2023-01-10T17:04:00.251Z"
   },
   {
    "duration": 134,
    "start_time": "2023-01-10T17:04:00.380Z"
   },
   {
    "duration": 10,
    "start_time": "2023-01-10T17:04:00.522Z"
   },
   {
    "duration": 25,
    "start_time": "2023-01-10T17:04:00.534Z"
   },
   {
    "duration": 23,
    "start_time": "2023-01-10T17:04:00.561Z"
   },
   {
    "duration": 348,
    "start_time": "2023-01-10T17:04:00.586Z"
   },
   {
    "duration": 10,
    "start_time": "2023-01-10T17:04:00.936Z"
   },
   {
    "duration": 52,
    "start_time": "2023-01-10T17:04:00.948Z"
   },
   {
    "duration": 270,
    "start_time": "2023-01-10T17:04:01.002Z"
   },
   {
    "duration": 21,
    "start_time": "2023-01-10T17:04:01.273Z"
   },
   {
    "duration": 1368,
    "start_time": "2023-01-10T17:04:01.296Z"
   },
   {
    "duration": 299,
    "start_time": "2023-01-10T17:04:02.665Z"
   },
   {
    "duration": 6,
    "start_time": "2023-01-10T17:04:02.966Z"
   },
   {
    "duration": 214,
    "start_time": "2023-01-10T17:04:02.973Z"
   },
   {
    "duration": 189,
    "start_time": "2023-01-10T17:04:03.189Z"
   },
   {
    "duration": 190,
    "start_time": "2023-01-10T17:04:03.380Z"
   },
   {
    "duration": 158,
    "start_time": "2023-01-10T17:04:03.572Z"
   },
   {
    "duration": 146,
    "start_time": "2023-01-10T17:04:03.731Z"
   },
   {
    "duration": 151,
    "start_time": "2023-01-10T17:04:03.879Z"
   },
   {
    "duration": 239,
    "start_time": "2023-01-10T17:04:04.032Z"
   },
   {
    "duration": 162,
    "start_time": "2023-01-10T17:04:04.273Z"
   },
   {
    "duration": 6,
    "start_time": "2023-01-10T17:04:04.436Z"
   },
   {
    "duration": 24,
    "start_time": "2023-01-10T17:04:04.443Z"
   },
   {
    "duration": 6,
    "start_time": "2023-01-10T17:04:04.469Z"
   },
   {
    "duration": 13,
    "start_time": "2023-01-10T17:04:04.477Z"
   },
   {
    "duration": 17,
    "start_time": "2023-01-10T17:04:04.492Z"
   },
   {
    "duration": 298,
    "start_time": "2023-01-10T17:04:04.511Z"
   },
   {
    "duration": 30,
    "start_time": "2023-01-10T17:06:53.060Z"
   },
   {
    "duration": 3,
    "start_time": "2023-01-10T17:10:29.962Z"
   },
   {
    "duration": 4,
    "start_time": "2023-01-10T17:11:39.733Z"
   },
   {
    "duration": 25,
    "start_time": "2023-01-10T17:11:43.357Z"
   },
   {
    "duration": 23,
    "start_time": "2023-01-10T17:12:02.198Z"
   },
   {
    "duration": 24,
    "start_time": "2023-01-10T17:12:10.929Z"
   },
   {
    "duration": 72,
    "start_time": "2023-01-10T17:13:09.539Z"
   },
   {
    "duration": 5,
    "start_time": "2023-01-10T17:13:41.757Z"
   },
   {
    "duration": 525,
    "start_time": "2023-01-10T17:15:48.874Z"
   },
   {
    "duration": 83,
    "start_time": "2023-01-10T17:19:27.650Z"
   },
   {
    "duration": 66,
    "start_time": "2023-01-10T17:19:48.319Z"
   },
   {
    "duration": 704,
    "start_time": "2023-01-10T17:19:59.647Z"
   },
   {
    "duration": 908,
    "start_time": "2023-01-10T17:20:14.280Z"
   },
   {
    "duration": 271,
    "start_time": "2023-01-10T17:21:37.046Z"
   },
   {
    "duration": 305,
    "start_time": "2023-01-10T17:25:19.454Z"
   },
   {
    "duration": 279,
    "start_time": "2023-01-10T17:26:30.261Z"
   },
   {
    "duration": 261,
    "start_time": "2023-01-10T17:27:36.903Z"
   },
   {
    "duration": 271,
    "start_time": "2023-01-10T17:27:47.272Z"
   },
   {
    "duration": 444,
    "start_time": "2023-01-10T17:27:58.496Z"
   },
   {
    "duration": 241,
    "start_time": "2023-01-10T17:28:08.562Z"
   },
   {
    "duration": 227,
    "start_time": "2023-01-10T17:29:54.346Z"
   },
   {
    "duration": 175,
    "start_time": "2023-01-10T17:30:00.196Z"
   },
   {
    "duration": 232,
    "start_time": "2023-01-10T17:30:05.539Z"
   },
   {
    "duration": 273,
    "start_time": "2023-01-10T17:31:06.155Z"
   },
   {
    "duration": 250,
    "start_time": "2023-01-10T17:31:59.229Z"
   },
   {
    "duration": 131,
    "start_time": "2023-01-10T17:32:12.532Z"
   },
   {
    "duration": 71,
    "start_time": "2023-01-10T17:33:26.702Z"
   },
   {
    "duration": 126,
    "start_time": "2023-01-10T17:34:18.506Z"
   },
   {
    "duration": 136,
    "start_time": "2023-01-10T17:37:16.422Z"
   },
   {
    "duration": 125,
    "start_time": "2023-01-10T17:40:08.860Z"
   },
   {
    "duration": 144,
    "start_time": "2023-01-10T17:40:29.376Z"
   },
   {
    "duration": 131,
    "start_time": "2023-01-10T17:40:36.364Z"
   },
   {
    "duration": 153,
    "start_time": "2023-01-10T17:40:41.240Z"
   },
   {
    "duration": 165,
    "start_time": "2023-01-10T17:43:05.873Z"
   },
   {
    "duration": 175,
    "start_time": "2023-01-10T17:43:32.659Z"
   },
   {
    "duration": 460,
    "start_time": "2023-01-10T17:43:38.765Z"
   },
   {
    "duration": 1124,
    "start_time": "2023-01-10T17:45:54.499Z"
   },
   {
    "duration": 254,
    "start_time": "2023-01-10T17:46:09.132Z"
   },
   {
    "duration": 180,
    "start_time": "2023-01-10T17:46:19.759Z"
   },
   {
    "duration": 220,
    "start_time": "2023-01-10T17:46:29.933Z"
   },
   {
    "duration": 177,
    "start_time": "2023-01-10T17:48:14.829Z"
   },
   {
    "duration": 179,
    "start_time": "2023-01-10T17:48:48.191Z"
   },
   {
    "duration": 157,
    "start_time": "2023-01-10T17:48:57.758Z"
   },
   {
    "duration": 6,
    "start_time": "2023-01-10T17:49:16.185Z"
   },
   {
    "duration": 144,
    "start_time": "2023-01-10T17:49:32.346Z"
   },
   {
    "duration": 161,
    "start_time": "2023-01-10T17:51:33.938Z"
   },
   {
    "duration": 150,
    "start_time": "2023-01-10T17:51:41.171Z"
   },
   {
    "duration": 156,
    "start_time": "2023-01-10T17:52:59.836Z"
   },
   {
    "duration": 4,
    "start_time": "2023-01-10T17:53:52.582Z"
   },
   {
    "duration": 141,
    "start_time": "2023-01-10T17:54:06.515Z"
   },
   {
    "duration": 131,
    "start_time": "2023-01-10T17:54:12.571Z"
   },
   {
    "duration": 157,
    "start_time": "2023-01-10T17:54:21.287Z"
   },
   {
    "duration": 107,
    "start_time": "2023-01-10T17:56:47.125Z"
   },
   {
    "duration": 80,
    "start_time": "2023-01-10T18:14:22.404Z"
   },
   {
    "duration": 44,
    "start_time": "2023-01-10T18:15:00.193Z"
   },
   {
    "duration": 932,
    "start_time": "2023-01-10T18:15:05.359Z"
   },
   {
    "duration": 18,
    "start_time": "2023-01-10T18:15:06.294Z"
   },
   {
    "duration": 16,
    "start_time": "2023-01-10T18:15:06.314Z"
   },
   {
    "duration": 1919,
    "start_time": "2023-01-10T18:15:06.333Z"
   },
   {
    "duration": 8,
    "start_time": "2023-01-10T18:15:08.254Z"
   },
   {
    "duration": 25,
    "start_time": "2023-01-10T18:15:08.264Z"
   },
   {
    "duration": 5,
    "start_time": "2023-01-10T18:15:08.290Z"
   },
   {
    "duration": 18,
    "start_time": "2023-01-10T18:15:08.296Z"
   },
   {
    "duration": 14,
    "start_time": "2023-01-10T18:15:08.315Z"
   },
   {
    "duration": 16,
    "start_time": "2023-01-10T18:15:08.332Z"
   },
   {
    "duration": 8,
    "start_time": "2023-01-10T18:15:08.349Z"
   },
   {
    "duration": 7,
    "start_time": "2023-01-10T18:15:08.359Z"
   },
   {
    "duration": 22,
    "start_time": "2023-01-10T18:15:08.368Z"
   },
   {
    "duration": 211,
    "start_time": "2023-01-10T18:15:08.392Z"
   },
   {
    "duration": 32,
    "start_time": "2023-01-10T18:15:08.605Z"
   },
   {
    "duration": 8,
    "start_time": "2023-01-10T18:15:08.638Z"
   },
   {
    "duration": 9,
    "start_time": "2023-01-10T18:15:08.648Z"
   },
   {
    "duration": 78,
    "start_time": "2023-01-10T18:15:08.659Z"
   },
   {
    "duration": 27,
    "start_time": "2023-01-10T18:15:08.739Z"
   },
   {
    "duration": 156,
    "start_time": "2023-01-10T18:15:08.767Z"
   },
   {
    "duration": 159,
    "start_time": "2023-01-10T18:15:08.925Z"
   },
   {
    "duration": 116,
    "start_time": "2023-01-10T18:15:09.085Z"
   },
   {
    "duration": 137,
    "start_time": "2023-01-10T18:15:09.202Z"
   },
   {
    "duration": 117,
    "start_time": "2023-01-10T18:15:09.340Z"
   },
   {
    "duration": 227,
    "start_time": "2023-01-10T18:15:09.458Z"
   },
   {
    "duration": 114,
    "start_time": "2023-01-10T18:15:09.687Z"
   },
   {
    "duration": 126,
    "start_time": "2023-01-10T18:15:09.803Z"
   },
   {
    "duration": 139,
    "start_time": "2023-01-10T18:15:09.933Z"
   },
   {
    "duration": 8,
    "start_time": "2023-01-10T18:15:10.074Z"
   },
   {
    "duration": 14,
    "start_time": "2023-01-10T18:15:10.083Z"
   },
   {
    "duration": 8,
    "start_time": "2023-01-10T18:15:10.099Z"
   },
   {
    "duration": 356,
    "start_time": "2023-01-10T18:15:10.122Z"
   },
   {
    "duration": 7,
    "start_time": "2023-01-10T18:15:10.479Z"
   },
   {
    "duration": 35,
    "start_time": "2023-01-10T18:15:10.487Z"
   },
   {
    "duration": 333,
    "start_time": "2023-01-10T18:15:10.523Z"
   },
   {
    "duration": 23,
    "start_time": "2023-01-10T18:15:10.858Z"
   },
   {
    "duration": 383,
    "start_time": "2023-01-10T18:15:10.882Z"
   },
   {
    "duration": 256,
    "start_time": "2023-01-10T18:15:11.267Z"
   },
   {
    "duration": 264,
    "start_time": "2023-01-10T18:15:11.524Z"
   },
   {
    "duration": 145,
    "start_time": "2023-01-10T18:15:11.789Z"
   },
   {
    "duration": 136,
    "start_time": "2023-01-10T18:15:11.935Z"
   },
   {
    "duration": 153,
    "start_time": "2023-01-10T18:15:12.072Z"
   },
   {
    "duration": 178,
    "start_time": "2023-01-10T18:15:12.227Z"
   },
   {
    "duration": 242,
    "start_time": "2023-01-10T18:15:12.407Z"
   },
   {
    "duration": 299,
    "start_time": "2023-01-10T18:15:12.650Z"
   },
   {
    "duration": 171,
    "start_time": "2023-01-10T18:15:12.951Z"
   },
   {
    "duration": 213,
    "start_time": "2023-01-10T18:15:13.123Z"
   },
   {
    "duration": 298,
    "start_time": "2023-01-10T18:15:13.338Z"
   },
   {
    "duration": 5,
    "start_time": "2023-01-10T18:15:13.638Z"
   },
   {
    "duration": 199,
    "start_time": "2023-01-10T18:15:13.645Z"
   },
   {
    "duration": 228,
    "start_time": "2023-01-10T18:15:13.845Z"
   },
   {
    "duration": 217,
    "start_time": "2023-01-10T18:15:14.075Z"
   },
   {
    "duration": 167,
    "start_time": "2023-01-10T18:15:14.294Z"
   },
   {
    "duration": 138,
    "start_time": "2023-01-10T18:15:14.463Z"
   },
   {
    "duration": 137,
    "start_time": "2023-01-10T18:15:14.602Z"
   },
   {
    "duration": 185,
    "start_time": "2023-01-10T18:15:14.740Z"
   },
   {
    "duration": 145,
    "start_time": "2023-01-10T18:15:14.926Z"
   },
   {
    "duration": 7,
    "start_time": "2023-01-10T18:15:15.072Z"
   },
   {
    "duration": 26,
    "start_time": "2023-01-10T18:15:15.080Z"
   },
   {
    "duration": 5,
    "start_time": "2023-01-10T18:15:15.107Z"
   },
   {
    "duration": 26,
    "start_time": "2023-01-10T18:15:15.121Z"
   },
   {
    "duration": 24,
    "start_time": "2023-01-10T18:15:15.149Z"
   },
   {
    "duration": 420,
    "start_time": "2023-01-10T18:15:15.175Z"
   },
   {
    "duration": 5,
    "start_time": "2023-01-10T18:15:28.178Z"
   },
   {
    "duration": 35,
    "start_time": "2023-01-10T18:16:06.469Z"
   },
   {
    "duration": 6,
    "start_time": "2023-01-10T18:16:17.008Z"
   },
   {
    "duration": 7,
    "start_time": "2023-01-10T18:16:52.585Z"
   },
   {
    "duration": 6,
    "start_time": "2023-01-10T18:17:15.262Z"
   },
   {
    "duration": 8,
    "start_time": "2023-01-10T18:17:34.021Z"
   },
   {
    "duration": 22,
    "start_time": "2023-01-10T18:18:51.434Z"
   },
   {
    "duration": 20,
    "start_time": "2023-01-10T18:19:00.324Z"
   },
   {
    "duration": 15,
    "start_time": "2023-01-10T18:19:10.000Z"
   },
   {
    "duration": 6,
    "start_time": "2023-01-10T18:19:18.648Z"
   },
   {
    "duration": 10,
    "start_time": "2023-01-10T18:22:03.429Z"
   },
   {
    "duration": 1113,
    "start_time": "2023-01-10T18:22:07.491Z"
   },
   {
    "duration": 12,
    "start_time": "2023-01-10T18:22:31.812Z"
   },
   {
    "duration": 1137,
    "start_time": "2023-01-10T18:22:34.102Z"
   },
   {
    "duration": 8,
    "start_time": "2023-01-10T18:24:44.335Z"
   },
   {
    "duration": 4,
    "start_time": "2023-01-10T18:24:50.173Z"
   },
   {
    "duration": 16,
    "start_time": "2023-01-10T18:25:15.569Z"
   },
   {
    "duration": 7,
    "start_time": "2023-01-10T18:25:20.006Z"
   },
   {
    "duration": 24,
    "start_time": "2023-01-10T18:25:36.469Z"
   },
   {
    "duration": 16,
    "start_time": "2023-01-10T18:25:49.077Z"
   },
   {
    "duration": 1096,
    "start_time": "2023-01-10T18:26:12.403Z"
   },
   {
    "duration": 3,
    "start_time": "2023-01-10T18:26:41.693Z"
   },
   {
    "duration": 21,
    "start_time": "2023-01-10T18:26:53.147Z"
   },
   {
    "duration": 15,
    "start_time": "2023-01-10T18:27:02.216Z"
   },
   {
    "duration": 6,
    "start_time": "2023-01-10T18:27:05.337Z"
   },
   {
    "duration": 29,
    "start_time": "2023-01-10T18:30:00.117Z"
   },
   {
    "duration": 27,
    "start_time": "2023-01-10T18:30:07.465Z"
   },
   {
    "duration": 16,
    "start_time": "2023-01-10T18:30:24.964Z"
   },
   {
    "duration": 2165,
    "start_time": "2023-01-10T18:30:38.692Z"
   },
   {
    "duration": 1150,
    "start_time": "2023-01-10T18:31:20.731Z"
   },
   {
    "duration": 23,
    "start_time": "2023-01-10T18:31:49.855Z"
   },
   {
    "duration": 4,
    "start_time": "2023-01-10T18:32:01.163Z"
   },
   {
    "duration": 2,
    "start_time": "2023-01-10T18:32:03.985Z"
   },
   {
    "duration": 34,
    "start_time": "2023-01-10T18:33:01.861Z"
   },
   {
    "duration": 86,
    "start_time": "2023-01-10T18:33:12.439Z"
   },
   {
    "duration": 16,
    "start_time": "2023-01-10T18:33:12.527Z"
   },
   {
    "duration": 18,
    "start_time": "2023-01-10T18:33:12.545Z"
   },
   {
    "duration": 1895,
    "start_time": "2023-01-10T18:33:12.565Z"
   },
   {
    "duration": 8,
    "start_time": "2023-01-10T18:33:14.462Z"
   },
   {
    "duration": 21,
    "start_time": "2023-01-10T18:33:14.471Z"
   },
   {
    "duration": 5,
    "start_time": "2023-01-10T18:33:14.493Z"
   },
   {
    "duration": 26,
    "start_time": "2023-01-10T18:33:14.500Z"
   },
   {
    "duration": 11,
    "start_time": "2023-01-10T18:33:14.527Z"
   },
   {
    "duration": 11,
    "start_time": "2023-01-10T18:33:14.541Z"
   },
   {
    "duration": 10,
    "start_time": "2023-01-10T18:33:14.554Z"
   },
   {
    "duration": 7,
    "start_time": "2023-01-10T18:33:14.566Z"
   },
   {
    "duration": 10,
    "start_time": "2023-01-10T18:33:14.575Z"
   },
   {
    "duration": 225,
    "start_time": "2023-01-10T18:33:14.587Z"
   },
   {
    "duration": 22,
    "start_time": "2023-01-10T18:33:14.814Z"
   },
   {
    "duration": 7,
    "start_time": "2023-01-10T18:33:14.838Z"
   },
   {
    "duration": 12,
    "start_time": "2023-01-10T18:33:14.847Z"
   },
   {
    "duration": 84,
    "start_time": "2023-01-10T18:33:14.860Z"
   },
   {
    "duration": 26,
    "start_time": "2023-01-10T18:33:14.947Z"
   },
   {
    "duration": 141,
    "start_time": "2023-01-10T18:33:14.974Z"
   },
   {
    "duration": 301,
    "start_time": "2023-01-10T18:33:15.121Z"
   },
   {
    "duration": 119,
    "start_time": "2023-01-10T18:33:15.424Z"
   },
   {
    "duration": 136,
    "start_time": "2023-01-10T18:33:15.545Z"
   },
   {
    "duration": 123,
    "start_time": "2023-01-10T18:33:15.683Z"
   },
   {
    "duration": 171,
    "start_time": "2023-01-10T18:33:15.808Z"
   },
   {
    "duration": 111,
    "start_time": "2023-01-10T18:33:15.981Z"
   },
   {
    "duration": 118,
    "start_time": "2023-01-10T18:33:16.094Z"
   },
   {
    "duration": 133,
    "start_time": "2023-01-10T18:33:16.223Z"
   },
   {
    "duration": 9,
    "start_time": "2023-01-10T18:33:16.358Z"
   },
   {
    "duration": 8,
    "start_time": "2023-01-10T18:33:16.368Z"
   },
   {
    "duration": 8,
    "start_time": "2023-01-10T18:33:16.378Z"
   },
   {
    "duration": 335,
    "start_time": "2023-01-10T18:33:16.387Z"
   },
   {
    "duration": 8,
    "start_time": "2023-01-10T18:33:16.724Z"
   },
   {
    "duration": 64,
    "start_time": "2023-01-10T18:33:16.733Z"
   },
   {
    "duration": 225,
    "start_time": "2023-01-10T18:33:16.799Z"
   },
   {
    "duration": 20,
    "start_time": "2023-01-10T18:33:17.026Z"
   },
   {
    "duration": 250,
    "start_time": "2023-01-10T18:33:17.048Z"
   },
   {
    "duration": 402,
    "start_time": "2023-01-10T18:33:17.300Z"
   },
   {
    "duration": 263,
    "start_time": "2023-01-10T18:33:17.704Z"
   },
   {
    "duration": 132,
    "start_time": "2023-01-10T18:33:17.968Z"
   },
   {
    "duration": 129,
    "start_time": "2023-01-10T18:33:18.102Z"
   },
   {
    "duration": 142,
    "start_time": "2023-01-10T18:33:18.232Z"
   },
   {
    "duration": 159,
    "start_time": "2023-01-10T18:33:18.375Z"
   },
   {
    "duration": 231,
    "start_time": "2023-01-10T18:33:18.536Z"
   },
   {
    "duration": 194,
    "start_time": "2023-01-10T18:33:18.768Z"
   },
   {
    "duration": 170,
    "start_time": "2023-01-10T18:33:18.963Z"
   },
   {
    "duration": 162,
    "start_time": "2023-01-10T18:33:19.134Z"
   },
   {
    "duration": 284,
    "start_time": "2023-01-10T18:33:19.298Z"
   },
   {
    "duration": 6,
    "start_time": "2023-01-10T18:33:19.583Z"
   },
   {
    "duration": 200,
    "start_time": "2023-01-10T18:33:19.590Z"
   },
   {
    "duration": 192,
    "start_time": "2023-01-10T18:33:19.792Z"
   },
   {
    "duration": 174,
    "start_time": "2023-01-10T18:33:19.985Z"
   },
   {
    "duration": 153,
    "start_time": "2023-01-10T18:33:20.161Z"
   },
   {
    "duration": 308,
    "start_time": "2023-01-10T18:33:20.315Z"
   },
   {
    "duration": 139,
    "start_time": "2023-01-10T18:33:20.625Z"
   },
   {
    "duration": 185,
    "start_time": "2023-01-10T18:33:20.766Z"
   },
   {
    "duration": 145,
    "start_time": "2023-01-10T18:33:20.953Z"
   },
   {
    "duration": 3,
    "start_time": "2023-01-10T18:33:21.099Z"
   },
   {
    "duration": 32,
    "start_time": "2023-01-10T18:33:21.103Z"
   },
   {
    "duration": 0,
    "start_time": "2023-01-10T18:33:21.136Z"
   },
   {
    "duration": 0,
    "start_time": "2023-01-10T18:33:21.138Z"
   },
   {
    "duration": 0,
    "start_time": "2023-01-10T18:33:21.139Z"
   },
   {
    "duration": 0,
    "start_time": "2023-01-10T18:33:21.140Z"
   },
   {
    "duration": 47,
    "start_time": "2023-01-10T18:35:34.739Z"
   },
   {
    "duration": 24,
    "start_time": "2023-01-10T18:36:34.841Z"
   },
   {
    "duration": 24,
    "start_time": "2023-01-10T18:37:05.620Z"
   },
   {
    "duration": 29,
    "start_time": "2023-01-10T18:37:52.844Z"
   },
   {
    "duration": 23,
    "start_time": "2023-01-10T18:38:03.650Z"
   },
   {
    "duration": 16,
    "start_time": "2023-01-10T18:38:15.924Z"
   },
   {
    "duration": 173,
    "start_time": "2023-01-10T18:38:50.926Z"
   },
   {
    "duration": 12,
    "start_time": "2023-01-10T18:40:33.196Z"
   },
   {
    "duration": 15,
    "start_time": "2023-01-10T18:40:51.273Z"
   },
   {
    "duration": 22,
    "start_time": "2023-01-10T18:41:12.722Z"
   },
   {
    "duration": 20,
    "start_time": "2023-01-10T18:41:19.899Z"
   },
   {
    "duration": 15,
    "start_time": "2023-01-10T18:41:23.427Z"
   },
   {
    "duration": 13,
    "start_time": "2023-01-10T18:41:48.274Z"
   },
   {
    "duration": 6,
    "start_time": "2023-01-10T18:42:14.032Z"
   },
   {
    "duration": 5,
    "start_time": "2023-01-10T18:42:21.611Z"
   },
   {
    "duration": 7,
    "start_time": "2023-01-10T18:42:24.183Z"
   },
   {
    "duration": 5,
    "start_time": "2023-01-10T18:42:29.743Z"
   },
   {
    "duration": 6,
    "start_time": "2023-01-10T18:42:49.391Z"
   },
   {
    "duration": 23,
    "start_time": "2023-01-10T18:43:12.156Z"
   },
   {
    "duration": 26,
    "start_time": "2023-01-10T18:43:26.492Z"
   },
   {
    "duration": 307,
    "start_time": "2023-01-10T18:47:59.223Z"
   },
   {
    "duration": 1114,
    "start_time": "2023-01-10T18:48:32.596Z"
   },
   {
    "duration": 1159,
    "start_time": "2023-01-10T18:48:48.998Z"
   },
   {
    "duration": 1112,
    "start_time": "2023-01-10T18:49:13.157Z"
   },
   {
    "duration": 1145,
    "start_time": "2023-01-10T18:50:03.196Z"
   },
   {
    "duration": 1154,
    "start_time": "2023-01-10T18:50:53.489Z"
   },
   {
    "duration": 24,
    "start_time": "2023-01-10T18:51:12.514Z"
   },
   {
    "duration": 22,
    "start_time": "2023-01-10T18:51:43.795Z"
   },
   {
    "duration": 23,
    "start_time": "2023-01-10T18:52:22.273Z"
   },
   {
    "duration": 23,
    "start_time": "2023-01-10T18:52:44.655Z"
   },
   {
    "duration": 159,
    "start_time": "2023-01-10T18:53:19.395Z"
   },
   {
    "duration": 24,
    "start_time": "2023-01-10T18:53:48.096Z"
   },
   {
    "duration": 73,
    "start_time": "2023-01-10T18:54:05.200Z"
   },
   {
    "duration": 22,
    "start_time": "2023-01-10T18:54:08.455Z"
   },
   {
    "duration": 25,
    "start_time": "2023-01-10T18:54:27.400Z"
   },
   {
    "duration": 22,
    "start_time": "2023-01-10T18:54:51.796Z"
   },
   {
    "duration": 1103,
    "start_time": "2023-01-10T18:57:56.659Z"
   },
   {
    "duration": 22,
    "start_time": "2023-01-10T18:58:08.816Z"
   },
   {
    "duration": 21,
    "start_time": "2023-01-10T18:58:42.147Z"
   },
   {
    "duration": 27,
    "start_time": "2023-01-10T18:58:49.428Z"
   },
   {
    "duration": 21,
    "start_time": "2023-01-10T18:59:22.538Z"
   },
   {
    "duration": 18,
    "start_time": "2023-01-10T19:00:02.827Z"
   },
   {
    "duration": 19,
    "start_time": "2023-01-10T19:00:10.995Z"
   },
   {
    "duration": 24,
    "start_time": "2023-01-10T19:00:20.348Z"
   },
   {
    "duration": 23,
    "start_time": "2023-01-10T19:01:14.953Z"
   },
   {
    "duration": 22,
    "start_time": "2023-01-10T19:01:36.792Z"
   },
   {
    "duration": 21,
    "start_time": "2023-01-10T19:02:24.899Z"
   },
   {
    "duration": 20,
    "start_time": "2023-01-10T19:03:08.504Z"
   },
   {
    "duration": 26,
    "start_time": "2023-01-10T19:03:11.782Z"
   },
   {
    "duration": 3,
    "start_time": "2023-01-10T19:03:12.796Z"
   },
   {
    "duration": 20,
    "start_time": "2023-01-10T19:03:24.881Z"
   },
   {
    "duration": 89,
    "start_time": "2023-01-10T19:03:48.780Z"
   },
   {
    "duration": 17,
    "start_time": "2023-01-10T19:03:48.872Z"
   },
   {
    "duration": 38,
    "start_time": "2023-01-10T19:03:48.891Z"
   },
   {
    "duration": 1902,
    "start_time": "2023-01-10T19:03:48.931Z"
   },
   {
    "duration": 9,
    "start_time": "2023-01-10T19:03:50.834Z"
   },
   {
    "duration": 23,
    "start_time": "2023-01-10T19:03:50.845Z"
   },
   {
    "duration": 6,
    "start_time": "2023-01-10T19:03:50.870Z"
   },
   {
    "duration": 7,
    "start_time": "2023-01-10T19:03:50.878Z"
   },
   {
    "duration": 40,
    "start_time": "2023-01-10T19:03:50.887Z"
   },
   {
    "duration": 5,
    "start_time": "2023-01-10T19:03:50.930Z"
   },
   {
    "duration": 6,
    "start_time": "2023-01-10T19:03:50.937Z"
   },
   {
    "duration": 17,
    "start_time": "2023-01-10T19:03:50.945Z"
   },
   {
    "duration": 9,
    "start_time": "2023-01-10T19:03:50.963Z"
   },
   {
    "duration": 207,
    "start_time": "2023-01-10T19:03:50.974Z"
   },
   {
    "duration": 22,
    "start_time": "2023-01-10T19:03:51.182Z"
   },
   {
    "duration": 20,
    "start_time": "2023-01-10T19:03:51.206Z"
   },
   {
    "duration": 6,
    "start_time": "2023-01-10T19:03:51.228Z"
   },
   {
    "duration": 61,
    "start_time": "2023-01-10T19:03:51.236Z"
   },
   {
    "duration": 45,
    "start_time": "2023-01-10T19:03:51.298Z"
   },
   {
    "duration": 134,
    "start_time": "2023-01-10T19:03:51.345Z"
   },
   {
    "duration": 173,
    "start_time": "2023-01-10T19:03:51.481Z"
   },
   {
    "duration": 122,
    "start_time": "2023-01-10T19:03:51.656Z"
   },
   {
    "duration": 144,
    "start_time": "2023-01-10T19:03:51.780Z"
   },
   {
    "duration": 321,
    "start_time": "2023-01-10T19:03:51.925Z"
   },
   {
    "duration": 145,
    "start_time": "2023-01-10T19:03:52.248Z"
   },
   {
    "duration": 111,
    "start_time": "2023-01-10T19:03:52.394Z"
   },
   {
    "duration": 117,
    "start_time": "2023-01-10T19:03:52.507Z"
   },
   {
    "duration": 129,
    "start_time": "2023-01-10T19:03:52.628Z"
   },
   {
    "duration": 9,
    "start_time": "2023-01-10T19:03:52.759Z"
   },
   {
    "duration": 9,
    "start_time": "2023-01-10T19:03:52.771Z"
   },
   {
    "duration": 9,
    "start_time": "2023-01-10T19:03:52.782Z"
   },
   {
    "duration": 339,
    "start_time": "2023-01-10T19:03:52.793Z"
   },
   {
    "duration": 7,
    "start_time": "2023-01-10T19:03:53.134Z"
   },
   {
    "duration": 32,
    "start_time": "2023-01-10T19:03:53.143Z"
   },
   {
    "duration": 237,
    "start_time": "2023-01-10T19:03:53.177Z"
   },
   {
    "duration": 18,
    "start_time": "2023-01-10T19:03:53.416Z"
   },
   {
    "duration": 246,
    "start_time": "2023-01-10T19:03:53.435Z"
   },
   {
    "duration": 239,
    "start_time": "2023-01-10T19:03:53.683Z"
   },
   {
    "duration": 267,
    "start_time": "2023-01-10T19:03:53.923Z"
   },
   {
    "duration": 161,
    "start_time": "2023-01-10T19:03:54.191Z"
   },
   {
    "duration": 124,
    "start_time": "2023-01-10T19:03:54.354Z"
   },
   {
    "duration": 134,
    "start_time": "2023-01-10T19:03:54.480Z"
   },
   {
    "duration": 156,
    "start_time": "2023-01-10T19:03:54.621Z"
   },
   {
    "duration": 257,
    "start_time": "2023-01-10T19:03:54.778Z"
   },
   {
    "duration": 226,
    "start_time": "2023-01-10T19:03:55.037Z"
   },
   {
    "duration": 397,
    "start_time": "2023-01-10T19:03:55.265Z"
   },
   {
    "duration": 158,
    "start_time": "2023-01-10T19:03:55.664Z"
   },
   {
    "duration": 300,
    "start_time": "2023-01-10T19:03:55.824Z"
   },
   {
    "duration": 6,
    "start_time": "2023-01-10T19:03:56.126Z"
   },
   {
    "duration": 192,
    "start_time": "2023-01-10T19:03:56.133Z"
   },
   {
    "duration": 187,
    "start_time": "2023-01-10T19:03:56.327Z"
   },
   {
    "duration": 177,
    "start_time": "2023-01-10T19:03:56.515Z"
   },
   {
    "duration": 153,
    "start_time": "2023-01-10T19:03:56.693Z"
   },
   {
    "duration": 138,
    "start_time": "2023-01-10T19:03:56.847Z"
   },
   {
    "duration": 139,
    "start_time": "2023-01-10T19:03:56.986Z"
   },
   {
    "duration": 172,
    "start_time": "2023-01-10T19:03:57.126Z"
   },
   {
    "duration": 142,
    "start_time": "2023-01-10T19:03:57.299Z"
   },
   {
    "duration": 6,
    "start_time": "2023-01-10T19:03:57.443Z"
   },
   {
    "duration": 41,
    "start_time": "2023-01-10T19:03:57.451Z"
   },
   {
    "duration": 12,
    "start_time": "2023-01-10T19:03:57.494Z"
   },
   {
    "duration": 39,
    "start_time": "2023-01-10T19:03:57.508Z"
   },
   {
    "duration": 284,
    "start_time": "2023-01-10T19:03:57.549Z"
   },
   {
    "duration": 25,
    "start_time": "2023-01-10T19:04:39.847Z"
   },
   {
    "duration": 73,
    "start_time": "2023-01-10T19:05:11.191Z"
   },
   {
    "duration": 316,
    "start_time": "2023-01-10T19:08:22.321Z"
   }
  ],
  "kernelspec": {
   "display_name": "Python 3 (ipykernel)",
   "language": "python",
   "name": "python3"
  },
  "language_info": {
   "codemirror_mode": {
    "name": "ipython",
    "version": 3
   },
   "file_extension": ".py",
   "mimetype": "text/x-python",
   "name": "python",
   "nbconvert_exporter": "python",
   "pygments_lexer": "ipython3",
   "version": "3.9.13"
  },
  "toc": {
   "base_numbering": 1,
   "nav_menu": {},
   "number_sections": true,
   "sideBar": true,
   "skip_h1_title": true,
   "title_cell": "Table of Contents",
   "title_sidebar": "Contents",
   "toc_cell": false,
   "toc_position": {},
   "toc_section_display": true,
   "toc_window_display": false
  }
 },
 "nbformat": 4,
 "nbformat_minor": 2
}
