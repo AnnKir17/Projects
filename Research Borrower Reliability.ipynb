{
 "cells": [
  {
   "cell_type": "markdown",
   "id": "f48abd22",
   "metadata": {
    "deletable": false,
    "editable": false,
    "id": "c81daeeb"
   },
   "source": [
    "# Исследование надежности заемщиков\n"
   ]
  },
  {
   "cell_type": "markdown",
   "id": "a5951371",
   "metadata": {
    "deletable": false,
    "editable": false,
    "id": "827c20bf"
   },
   "source": [
    "Во второй части проекта вы выполните шаги 3 и 4. Их вручную проверит ревьюер.\n",
    "Чтобы вам не пришлось писать код заново для шагов 1 и 2, мы добавили авторские решения в ячейки с кодом. \n",
    "\n"
   ]
  },
  {
   "cell_type": "markdown",
   "id": "3e180ed3",
   "metadata": {
    "deletable": false,
    "editable": false,
    "id": "744d7639"
   },
   "source": [
    "## Откройте таблицу и изучите общую информацию о данных"
   ]
  },
  {
   "cell_type": "markdown",
   "id": "c3e6a6f2",
   "metadata": {
    "deletable": false,
    "editable": false,
    "id": "e7a14c31"
   },
   "source": [
    "**Задание 1. Импортируйте библиотеку pandas. Считайте данные из csv-файла в датафрейм и сохраните в переменную `data`. Путь к файлу:**\n",
    "\n",
    "`/datasets/data.csv`"
   ]
  },
  {
   "cell_type": "code",
   "execution_count": 1,
   "id": "bb0a1ba7",
   "metadata": {
    "deletable": false,
    "id": "7bcf75c9"
   },
   "outputs": [],
   "source": [
    "import pandas as pd\n",
    "\n",
    "try:\n",
    "    data = pd.read_csv('/datasets/data.csv')\n",
    "except:\n",
    "    data = pd.read_csv('https://code.s3.yandex.net/datasets/data.csv')"
   ]
  },
  {
   "cell_type": "markdown",
   "id": "3fe8e0a0",
   "metadata": {
    "deletable": false,
    "editable": false,
    "id": "b8038fe3"
   },
   "source": [
    "**Задание 2. Выведите первые 20 строчек датафрейма `data` на экран.**"
   ]
  },
  {
   "cell_type": "code",
   "execution_count": 2,
   "id": "4dd9630c",
   "metadata": {
    "deletable": false,
    "id": "2a7cab99",
    "outputId": "1a8f3ef2-d323-4ec2-ddf7-89670b5944c4"
   },
   "outputs": [
    {
     "data": {
      "text/html": [
       "<div>\n",
       "<style scoped>\n",
       "    .dataframe tbody tr th:only-of-type {\n",
       "        vertical-align: middle;\n",
       "    }\n",
       "\n",
       "    .dataframe tbody tr th {\n",
       "        vertical-align: top;\n",
       "    }\n",
       "\n",
       "    .dataframe thead th {\n",
       "        text-align: right;\n",
       "    }\n",
       "</style>\n",
       "<table border=\"1\" class=\"dataframe\">\n",
       "  <thead>\n",
       "    <tr style=\"text-align: right;\">\n",
       "      <th></th>\n",
       "      <th>children</th>\n",
       "      <th>days_employed</th>\n",
       "      <th>dob_years</th>\n",
       "      <th>education</th>\n",
       "      <th>education_id</th>\n",
       "      <th>family_status</th>\n",
       "      <th>family_status_id</th>\n",
       "      <th>gender</th>\n",
       "      <th>income_type</th>\n",
       "      <th>debt</th>\n",
       "      <th>total_income</th>\n",
       "      <th>purpose</th>\n",
       "    </tr>\n",
       "  </thead>\n",
       "  <tbody>\n",
       "    <tr>\n",
       "      <th>0</th>\n",
       "      <td>1</td>\n",
       "      <td>-8437.673028</td>\n",
       "      <td>42</td>\n",
       "      <td>высшее</td>\n",
       "      <td>0</td>\n",
       "      <td>женат / замужем</td>\n",
       "      <td>0</td>\n",
       "      <td>F</td>\n",
       "      <td>сотрудник</td>\n",
       "      <td>0</td>\n",
       "      <td>253875.639453</td>\n",
       "      <td>покупка жилья</td>\n",
       "    </tr>\n",
       "    <tr>\n",
       "      <th>1</th>\n",
       "      <td>1</td>\n",
       "      <td>-4024.803754</td>\n",
       "      <td>36</td>\n",
       "      <td>среднее</td>\n",
       "      <td>1</td>\n",
       "      <td>женат / замужем</td>\n",
       "      <td>0</td>\n",
       "      <td>F</td>\n",
       "      <td>сотрудник</td>\n",
       "      <td>0</td>\n",
       "      <td>112080.014102</td>\n",
       "      <td>приобретение автомобиля</td>\n",
       "    </tr>\n",
       "    <tr>\n",
       "      <th>2</th>\n",
       "      <td>0</td>\n",
       "      <td>-5623.422610</td>\n",
       "      <td>33</td>\n",
       "      <td>Среднее</td>\n",
       "      <td>1</td>\n",
       "      <td>женат / замужем</td>\n",
       "      <td>0</td>\n",
       "      <td>M</td>\n",
       "      <td>сотрудник</td>\n",
       "      <td>0</td>\n",
       "      <td>145885.952297</td>\n",
       "      <td>покупка жилья</td>\n",
       "    </tr>\n",
       "    <tr>\n",
       "      <th>3</th>\n",
       "      <td>3</td>\n",
       "      <td>-4124.747207</td>\n",
       "      <td>32</td>\n",
       "      <td>среднее</td>\n",
       "      <td>1</td>\n",
       "      <td>женат / замужем</td>\n",
       "      <td>0</td>\n",
       "      <td>M</td>\n",
       "      <td>сотрудник</td>\n",
       "      <td>0</td>\n",
       "      <td>267628.550329</td>\n",
       "      <td>дополнительное образование</td>\n",
       "    </tr>\n",
       "    <tr>\n",
       "      <th>4</th>\n",
       "      <td>0</td>\n",
       "      <td>340266.072047</td>\n",
       "      <td>53</td>\n",
       "      <td>среднее</td>\n",
       "      <td>1</td>\n",
       "      <td>гражданский брак</td>\n",
       "      <td>1</td>\n",
       "      <td>F</td>\n",
       "      <td>пенсионер</td>\n",
       "      <td>0</td>\n",
       "      <td>158616.077870</td>\n",
       "      <td>сыграть свадьбу</td>\n",
       "    </tr>\n",
       "    <tr>\n",
       "      <th>5</th>\n",
       "      <td>0</td>\n",
       "      <td>-926.185831</td>\n",
       "      <td>27</td>\n",
       "      <td>высшее</td>\n",
       "      <td>0</td>\n",
       "      <td>гражданский брак</td>\n",
       "      <td>1</td>\n",
       "      <td>M</td>\n",
       "      <td>компаньон</td>\n",
       "      <td>0</td>\n",
       "      <td>255763.565419</td>\n",
       "      <td>покупка жилья</td>\n",
       "    </tr>\n",
       "    <tr>\n",
       "      <th>6</th>\n",
       "      <td>0</td>\n",
       "      <td>-2879.202052</td>\n",
       "      <td>43</td>\n",
       "      <td>высшее</td>\n",
       "      <td>0</td>\n",
       "      <td>женат / замужем</td>\n",
       "      <td>0</td>\n",
       "      <td>F</td>\n",
       "      <td>компаньон</td>\n",
       "      <td>0</td>\n",
       "      <td>240525.971920</td>\n",
       "      <td>операции с жильем</td>\n",
       "    </tr>\n",
       "    <tr>\n",
       "      <th>7</th>\n",
       "      <td>0</td>\n",
       "      <td>-152.779569</td>\n",
       "      <td>50</td>\n",
       "      <td>СРЕДНЕЕ</td>\n",
       "      <td>1</td>\n",
       "      <td>женат / замужем</td>\n",
       "      <td>0</td>\n",
       "      <td>M</td>\n",
       "      <td>сотрудник</td>\n",
       "      <td>0</td>\n",
       "      <td>135823.934197</td>\n",
       "      <td>образование</td>\n",
       "    </tr>\n",
       "    <tr>\n",
       "      <th>8</th>\n",
       "      <td>2</td>\n",
       "      <td>-6929.865299</td>\n",
       "      <td>35</td>\n",
       "      <td>ВЫСШЕЕ</td>\n",
       "      <td>0</td>\n",
       "      <td>гражданский брак</td>\n",
       "      <td>1</td>\n",
       "      <td>F</td>\n",
       "      <td>сотрудник</td>\n",
       "      <td>0</td>\n",
       "      <td>95856.832424</td>\n",
       "      <td>на проведение свадьбы</td>\n",
       "    </tr>\n",
       "    <tr>\n",
       "      <th>9</th>\n",
       "      <td>0</td>\n",
       "      <td>-2188.756445</td>\n",
       "      <td>41</td>\n",
       "      <td>среднее</td>\n",
       "      <td>1</td>\n",
       "      <td>женат / замужем</td>\n",
       "      <td>0</td>\n",
       "      <td>M</td>\n",
       "      <td>сотрудник</td>\n",
       "      <td>0</td>\n",
       "      <td>144425.938277</td>\n",
       "      <td>покупка жилья для семьи</td>\n",
       "    </tr>\n",
       "    <tr>\n",
       "      <th>10</th>\n",
       "      <td>2</td>\n",
       "      <td>-4171.483647</td>\n",
       "      <td>36</td>\n",
       "      <td>высшее</td>\n",
       "      <td>0</td>\n",
       "      <td>женат / замужем</td>\n",
       "      <td>0</td>\n",
       "      <td>M</td>\n",
       "      <td>компаньон</td>\n",
       "      <td>0</td>\n",
       "      <td>113943.491460</td>\n",
       "      <td>покупка недвижимости</td>\n",
       "    </tr>\n",
       "    <tr>\n",
       "      <th>11</th>\n",
       "      <td>0</td>\n",
       "      <td>-792.701887</td>\n",
       "      <td>40</td>\n",
       "      <td>среднее</td>\n",
       "      <td>1</td>\n",
       "      <td>женат / замужем</td>\n",
       "      <td>0</td>\n",
       "      <td>F</td>\n",
       "      <td>сотрудник</td>\n",
       "      <td>0</td>\n",
       "      <td>77069.234271</td>\n",
       "      <td>покупка коммерческой недвижимости</td>\n",
       "    </tr>\n",
       "    <tr>\n",
       "      <th>12</th>\n",
       "      <td>0</td>\n",
       "      <td>NaN</td>\n",
       "      <td>65</td>\n",
       "      <td>среднее</td>\n",
       "      <td>1</td>\n",
       "      <td>гражданский брак</td>\n",
       "      <td>1</td>\n",
       "      <td>M</td>\n",
       "      <td>пенсионер</td>\n",
       "      <td>0</td>\n",
       "      <td>NaN</td>\n",
       "      <td>сыграть свадьбу</td>\n",
       "    </tr>\n",
       "    <tr>\n",
       "      <th>13</th>\n",
       "      <td>0</td>\n",
       "      <td>-1846.641941</td>\n",
       "      <td>54</td>\n",
       "      <td>неоконченное высшее</td>\n",
       "      <td>2</td>\n",
       "      <td>женат / замужем</td>\n",
       "      <td>0</td>\n",
       "      <td>F</td>\n",
       "      <td>сотрудник</td>\n",
       "      <td>0</td>\n",
       "      <td>130458.228857</td>\n",
       "      <td>приобретение автомобиля</td>\n",
       "    </tr>\n",
       "    <tr>\n",
       "      <th>14</th>\n",
       "      <td>0</td>\n",
       "      <td>-1844.956182</td>\n",
       "      <td>56</td>\n",
       "      <td>высшее</td>\n",
       "      <td>0</td>\n",
       "      <td>гражданский брак</td>\n",
       "      <td>1</td>\n",
       "      <td>F</td>\n",
       "      <td>компаньон</td>\n",
       "      <td>1</td>\n",
       "      <td>165127.911772</td>\n",
       "      <td>покупка жилой недвижимости</td>\n",
       "    </tr>\n",
       "    <tr>\n",
       "      <th>15</th>\n",
       "      <td>1</td>\n",
       "      <td>-972.364419</td>\n",
       "      <td>26</td>\n",
       "      <td>среднее</td>\n",
       "      <td>1</td>\n",
       "      <td>женат / замужем</td>\n",
       "      <td>0</td>\n",
       "      <td>F</td>\n",
       "      <td>сотрудник</td>\n",
       "      <td>0</td>\n",
       "      <td>116820.904450</td>\n",
       "      <td>строительство собственной недвижимости</td>\n",
       "    </tr>\n",
       "    <tr>\n",
       "      <th>16</th>\n",
       "      <td>0</td>\n",
       "      <td>-1719.934226</td>\n",
       "      <td>35</td>\n",
       "      <td>среднее</td>\n",
       "      <td>1</td>\n",
       "      <td>женат / замужем</td>\n",
       "      <td>0</td>\n",
       "      <td>F</td>\n",
       "      <td>сотрудник</td>\n",
       "      <td>0</td>\n",
       "      <td>289202.704229</td>\n",
       "      <td>недвижимость</td>\n",
       "    </tr>\n",
       "    <tr>\n",
       "      <th>17</th>\n",
       "      <td>0</td>\n",
       "      <td>-2369.999720</td>\n",
       "      <td>33</td>\n",
       "      <td>высшее</td>\n",
       "      <td>0</td>\n",
       "      <td>гражданский брак</td>\n",
       "      <td>1</td>\n",
       "      <td>M</td>\n",
       "      <td>сотрудник</td>\n",
       "      <td>0</td>\n",
       "      <td>90410.586745</td>\n",
       "      <td>строительство недвижимости</td>\n",
       "    </tr>\n",
       "    <tr>\n",
       "      <th>18</th>\n",
       "      <td>0</td>\n",
       "      <td>400281.136913</td>\n",
       "      <td>53</td>\n",
       "      <td>среднее</td>\n",
       "      <td>1</td>\n",
       "      <td>вдовец / вдова</td>\n",
       "      <td>2</td>\n",
       "      <td>F</td>\n",
       "      <td>пенсионер</td>\n",
       "      <td>0</td>\n",
       "      <td>56823.777243</td>\n",
       "      <td>на покупку подержанного автомобиля</td>\n",
       "    </tr>\n",
       "    <tr>\n",
       "      <th>19</th>\n",
       "      <td>0</td>\n",
       "      <td>-10038.818549</td>\n",
       "      <td>48</td>\n",
       "      <td>СРЕДНЕЕ</td>\n",
       "      <td>1</td>\n",
       "      <td>в разводе</td>\n",
       "      <td>3</td>\n",
       "      <td>F</td>\n",
       "      <td>сотрудник</td>\n",
       "      <td>0</td>\n",
       "      <td>242831.107982</td>\n",
       "      <td>на покупку своего автомобиля</td>\n",
       "    </tr>\n",
       "  </tbody>\n",
       "</table>\n",
       "</div>"
      ],
      "text/plain": [
       "    children  days_employed  dob_years            education  education_id  \\\n",
       "0          1   -8437.673028         42               высшее             0   \n",
       "1          1   -4024.803754         36              среднее             1   \n",
       "2          0   -5623.422610         33              Среднее             1   \n",
       "3          3   -4124.747207         32              среднее             1   \n",
       "4          0  340266.072047         53              среднее             1   \n",
       "5          0    -926.185831         27               высшее             0   \n",
       "6          0   -2879.202052         43               высшее             0   \n",
       "7          0    -152.779569         50              СРЕДНЕЕ             1   \n",
       "8          2   -6929.865299         35               ВЫСШЕЕ             0   \n",
       "9          0   -2188.756445         41              среднее             1   \n",
       "10         2   -4171.483647         36               высшее             0   \n",
       "11         0    -792.701887         40              среднее             1   \n",
       "12         0            NaN         65              среднее             1   \n",
       "13         0   -1846.641941         54  неоконченное высшее             2   \n",
       "14         0   -1844.956182         56               высшее             0   \n",
       "15         1    -972.364419         26              среднее             1   \n",
       "16         0   -1719.934226         35              среднее             1   \n",
       "17         0   -2369.999720         33               высшее             0   \n",
       "18         0  400281.136913         53              среднее             1   \n",
       "19         0  -10038.818549         48              СРЕДНЕЕ             1   \n",
       "\n",
       "       family_status  family_status_id gender income_type  debt  \\\n",
       "0    женат / замужем                 0      F   сотрудник     0   \n",
       "1    женат / замужем                 0      F   сотрудник     0   \n",
       "2    женат / замужем                 0      M   сотрудник     0   \n",
       "3    женат / замужем                 0      M   сотрудник     0   \n",
       "4   гражданский брак                 1      F   пенсионер     0   \n",
       "5   гражданский брак                 1      M   компаньон     0   \n",
       "6    женат / замужем                 0      F   компаньон     0   \n",
       "7    женат / замужем                 0      M   сотрудник     0   \n",
       "8   гражданский брак                 1      F   сотрудник     0   \n",
       "9    женат / замужем                 0      M   сотрудник     0   \n",
       "10   женат / замужем                 0      M   компаньон     0   \n",
       "11   женат / замужем                 0      F   сотрудник     0   \n",
       "12  гражданский брак                 1      M   пенсионер     0   \n",
       "13   женат / замужем                 0      F   сотрудник     0   \n",
       "14  гражданский брак                 1      F   компаньон     1   \n",
       "15   женат / замужем                 0      F   сотрудник     0   \n",
       "16   женат / замужем                 0      F   сотрудник     0   \n",
       "17  гражданский брак                 1      M   сотрудник     0   \n",
       "18    вдовец / вдова                 2      F   пенсионер     0   \n",
       "19         в разводе                 3      F   сотрудник     0   \n",
       "\n",
       "     total_income                                 purpose  \n",
       "0   253875.639453                           покупка жилья  \n",
       "1   112080.014102                 приобретение автомобиля  \n",
       "2   145885.952297                           покупка жилья  \n",
       "3   267628.550329              дополнительное образование  \n",
       "4   158616.077870                         сыграть свадьбу  \n",
       "5   255763.565419                           покупка жилья  \n",
       "6   240525.971920                       операции с жильем  \n",
       "7   135823.934197                             образование  \n",
       "8    95856.832424                   на проведение свадьбы  \n",
       "9   144425.938277                 покупка жилья для семьи  \n",
       "10  113943.491460                    покупка недвижимости  \n",
       "11   77069.234271       покупка коммерческой недвижимости  \n",
       "12            NaN                         сыграть свадьбу  \n",
       "13  130458.228857                 приобретение автомобиля  \n",
       "14  165127.911772              покупка жилой недвижимости  \n",
       "15  116820.904450  строительство собственной недвижимости  \n",
       "16  289202.704229                            недвижимость  \n",
       "17   90410.586745              строительство недвижимости  \n",
       "18   56823.777243      на покупку подержанного автомобиля  \n",
       "19  242831.107982            на покупку своего автомобиля  "
      ]
     },
     "execution_count": 2,
     "metadata": {},
     "output_type": "execute_result"
    }
   ],
   "source": [
    "data.head(20)"
   ]
  },
  {
   "cell_type": "markdown",
   "id": "062f9b19",
   "metadata": {
    "deletable": false,
    "editable": false,
    "id": "1c12e233"
   },
   "source": [
    "**Задание 3. Выведите основную информацию о датафрейме с помощью метода `info()`.**"
   ]
  },
  {
   "cell_type": "code",
   "execution_count": 3,
   "id": "2e106876",
   "metadata": {
    "deletable": false,
    "id": "2b757bca",
    "outputId": "15376089-8dad-46c9-b520-c05248d43158"
   },
   "outputs": [
    {
     "name": "stdout",
     "output_type": "stream",
     "text": [
      "<class 'pandas.core.frame.DataFrame'>\n",
      "RangeIndex: 21525 entries, 0 to 21524\n",
      "Data columns (total 12 columns):\n",
      " #   Column            Non-Null Count  Dtype  \n",
      "---  ------            --------------  -----  \n",
      " 0   children          21525 non-null  int64  \n",
      " 1   days_employed     19351 non-null  float64\n",
      " 2   dob_years         21525 non-null  int64  \n",
      " 3   education         21525 non-null  object \n",
      " 4   education_id      21525 non-null  int64  \n",
      " 5   family_status     21525 non-null  object \n",
      " 6   family_status_id  21525 non-null  int64  \n",
      " 7   gender            21525 non-null  object \n",
      " 8   income_type       21525 non-null  object \n",
      " 9   debt              21525 non-null  int64  \n",
      " 10  total_income      19351 non-null  float64\n",
      " 11  purpose           21525 non-null  object \n",
      "dtypes: float64(2), int64(5), object(5)\n",
      "memory usage: 2.0+ MB\n"
     ]
    }
   ],
   "source": [
    "data.info()"
   ]
  },
  {
   "cell_type": "markdown",
   "id": "8cbe3fdf",
   "metadata": {
    "deletable": false,
    "editable": false,
    "id": "333ec665"
   },
   "source": [
    "## Предобработка данных"
   ]
  },
  {
   "cell_type": "markdown",
   "id": "48be6d62",
   "metadata": {
    "deletable": false,
    "editable": false,
    "id": "02d92d53"
   },
   "source": [
    "### Удаление пропусков"
   ]
  },
  {
   "cell_type": "markdown",
   "id": "815cedb6",
   "metadata": {
    "deletable": false,
    "editable": false,
    "id": "cd84967c"
   },
   "source": [
    "**Задание 4. Выведите количество пропущенных значений для каждого столбца. Используйте комбинацию двух методов.**"
   ]
  },
  {
   "cell_type": "code",
   "execution_count": 4,
   "id": "02bda89b",
   "metadata": {
    "deletable": false,
    "id": "7f9b2309",
    "outputId": "81f4d817-781c-465c-ed15-91ce4446810d"
   },
   "outputs": [
    {
     "data": {
      "text/plain": [
       "children               0\n",
       "days_employed       2174\n",
       "dob_years              0\n",
       "education              0\n",
       "education_id           0\n",
       "family_status          0\n",
       "family_status_id       0\n",
       "gender                 0\n",
       "income_type            0\n",
       "debt                   0\n",
       "total_income        2174\n",
       "purpose                0\n",
       "dtype: int64"
      ]
     },
     "execution_count": 4,
     "metadata": {},
     "output_type": "execute_result"
    }
   ],
   "source": [
    "data.isna().sum()"
   ]
  },
  {
   "cell_type": "markdown",
   "id": "7f63970d",
   "metadata": {
    "deletable": false,
    "editable": false,
    "id": "db86e27b"
   },
   "source": [
    "**Задание 5. В двух столбцах есть пропущенные значения. Один из них — `days_employed`. Пропуски в этом столбце вы обработаете на следующем этапе. Другой столбец с пропущенными значениями — `total_income` — хранит данные о доходах. На сумму дохода сильнее всего влияет тип занятости, поэтому заполнить пропуски в этом столбце нужно медианным значением по каждому типу из столбца `income_type`. Например, у человека с типом занятости `сотрудник` пропуск в столбце `total_income` должен быть заполнен медианным доходом среди всех записей с тем же типом.**"
   ]
  },
  {
   "cell_type": "code",
   "execution_count": 5,
   "id": "d3bbffd3",
   "metadata": {
    "deletable": false,
    "id": "42006a93"
   },
   "outputs": [],
   "source": [
    "for t in data['income_type'].unique():\n",
    "    data.loc[(data['income_type'] == t) & (data['total_income'].isna()), 'total_income'] = \\\n",
    "    data.loc[(data['income_type'] == t), 'total_income'].median()"
   ]
  },
  {
   "cell_type": "markdown",
   "id": "a024dd60",
   "metadata": {
    "deletable": false,
    "editable": false,
    "id": "89da5ece"
   },
   "source": [
    "### Обработка аномальных значений"
   ]
  },
  {
   "cell_type": "markdown",
   "id": "6cf4c3eb",
   "metadata": {
    "deletable": false,
    "editable": false,
    "id": "57964554"
   },
   "source": [
    "**Задание 6. В данных могут встречаться артефакты (аномалии) — значения, которые не отражают действительность и появились по какой-то ошибке. таким артефактом будет отрицательное количество дней трудового стажа в столбце `days_employed`. Для реальных данных это нормально. Обработайте значения в этом столбце: замените все отрицательные значения положительными с помощью метода `abs()`.**"
   ]
  },
  {
   "cell_type": "code",
   "execution_count": 6,
   "id": "28998d40",
   "metadata": {
    "deletable": false,
    "id": "f6f055bf"
   },
   "outputs": [],
   "source": [
    "data['days_employed'] = data['days_employed'].abs()"
   ]
  },
  {
   "cell_type": "markdown",
   "id": "5cbaaea5",
   "metadata": {
    "deletable": false,
    "editable": false,
    "id": "6107dd2f"
   },
   "source": [
    "**Задание 7. Для каждого типа занятости выведите медианное значение трудового стажа `days_employed` в днях.**"
   ]
  },
  {
   "cell_type": "code",
   "execution_count": 7,
   "id": "1f06df9e",
   "metadata": {
    "deletable": false,
    "id": "85a5faf6",
    "outputId": "801ef80e-522b-4668-f34e-565af7432bcf"
   },
   "outputs": [
    {
     "data": {
      "text/plain": [
       "income_type\n",
       "безработный        366413.652744\n",
       "в декрете            3296.759962\n",
       "госслужащий          2689.368353\n",
       "компаньон            1547.382223\n",
       "пенсионер          365213.306266\n",
       "предприниматель       520.848083\n",
       "сотрудник            1574.202821\n",
       "студент               578.751554\n",
       "Name: days_employed, dtype: float64"
      ]
     },
     "execution_count": 7,
     "metadata": {},
     "output_type": "execute_result"
    }
   ],
   "source": [
    "data.groupby('income_type')['days_employed'].agg('median')"
   ]
  },
  {
   "cell_type": "markdown",
   "id": "d21c38d5",
   "metadata": {
    "deletable": false,
    "editable": false,
    "id": "38d1a030"
   },
   "source": [
    "У двух типов (безработные и пенсионеры) получатся аномально большие значения. Исправить такие значения сложно, поэтому оставьте их как есть. Тем более этот столбец не понадобится вам для исследования."
   ]
  },
  {
   "cell_type": "markdown",
   "id": "6785d817",
   "metadata": {
    "deletable": false,
    "editable": false,
    "id": "d8a9f147"
   },
   "source": [
    "**Задание 8. Выведите перечень уникальных значений столбца `children`.**"
   ]
  },
  {
   "cell_type": "code",
   "execution_count": 8,
   "id": "15a6634b",
   "metadata": {
    "deletable": false,
    "id": "ef5056eb",
    "outputId": "6975b15c-7f95-4697-d16d-a0c79b657b03"
   },
   "outputs": [
    {
     "data": {
      "text/plain": [
       "array([ 1,  0,  3,  2, -1,  4, 20,  5])"
      ]
     },
     "execution_count": 8,
     "metadata": {},
     "output_type": "execute_result"
    }
   ],
   "source": [
    "data['children'].unique()"
   ]
  },
  {
   "cell_type": "markdown",
   "id": "e504475e",
   "metadata": {
    "deletable": false,
    "editable": false,
    "id": "40b9ebf2"
   },
   "source": [
    "**Задание 9. В столбце `children` есть два аномальных значения. Удалите строки, в которых встречаются такие аномальные значения из датафрейма `data`.**"
   ]
  },
  {
   "cell_type": "code",
   "execution_count": 9,
   "id": "21a690c3",
   "metadata": {
    "deletable": false,
    "id": "3ff9801d"
   },
   "outputs": [],
   "source": [
    "data = data[(data['children'] != -1) & (data['children'] != 20)]"
   ]
  },
  {
   "cell_type": "markdown",
   "id": "0c954cc5",
   "metadata": {
    "deletable": false,
    "editable": false,
    "id": "bbc4d0ce"
   },
   "source": [
    "**Задание 10. Ещё раз выведите перечень уникальных значений столбца `children`, чтобы убедиться, что артефакты удалены.**"
   ]
  },
  {
   "cell_type": "code",
   "execution_count": 10,
   "id": "4ac37563",
   "metadata": {
    "deletable": false,
    "id": "ad4fa8b7",
    "outputId": "b2097101-d49d-44d9-901b-32a65c9463d1"
   },
   "outputs": [
    {
     "data": {
      "text/plain": [
       "array([1, 0, 3, 2, 4, 5])"
      ]
     },
     "execution_count": 10,
     "metadata": {},
     "output_type": "execute_result"
    }
   ],
   "source": [
    "data['children'].unique()"
   ]
  },
  {
   "cell_type": "markdown",
   "id": "75f69aa9",
   "metadata": {
    "deletable": false,
    "editable": false,
    "id": "75440b63"
   },
   "source": [
    "### Удаление пропусков (продолжение)"
   ]
  },
  {
   "cell_type": "markdown",
   "id": "4d31831a",
   "metadata": {
    "deletable": false,
    "editable": false,
    "id": "f4ea573f"
   },
   "source": [
    "**Задание 11. Заполните пропуски в столбце `days_employed` медианными значениями по каждого типа занятости `income_type`.**"
   ]
  },
  {
   "cell_type": "code",
   "execution_count": 11,
   "id": "7b3ff9ff",
   "metadata": {
    "deletable": false,
    "id": "af6b1a7e"
   },
   "outputs": [],
   "source": [
    "for t in data['income_type'].unique():\n",
    "    data.loc[(data['income_type'] == t) & (data['days_employed'].isna()), 'days_employed'] = \\\n",
    "    data.loc[(data['income_type'] == t), 'days_employed'].median()"
   ]
  },
  {
   "cell_type": "markdown",
   "id": "9406b9c5",
   "metadata": {
    "deletable": false,
    "editable": false,
    "id": "2753f40d"
   },
   "source": [
    "**Задание 12. Убедитесь, что все пропуски заполнены. Проверьте себя и ещё раз выведите количество пропущенных значений для каждого столбца с помощью двух методов.**"
   ]
  },
  {
   "cell_type": "code",
   "execution_count": 12,
   "id": "52ce44a4",
   "metadata": {
    "deletable": false,
    "id": "55f78bc2",
    "outputId": "8da1e4e1-358e-4e87-98c9-f261bce0a7b2"
   },
   "outputs": [
    {
     "data": {
      "text/plain": [
       "children            0\n",
       "days_employed       0\n",
       "dob_years           0\n",
       "education           0\n",
       "education_id        0\n",
       "family_status       0\n",
       "family_status_id    0\n",
       "gender              0\n",
       "income_type         0\n",
       "debt                0\n",
       "total_income        0\n",
       "purpose             0\n",
       "dtype: int64"
      ]
     },
     "execution_count": 12,
     "metadata": {},
     "output_type": "execute_result"
    }
   ],
   "source": [
    "data.isna().sum()"
   ]
  },
  {
   "cell_type": "markdown",
   "id": "27e432b9",
   "metadata": {
    "deletable": false,
    "editable": false,
    "id": "ddc81e43"
   },
   "source": [
    "### Изменение типов данных"
   ]
  },
  {
   "cell_type": "markdown",
   "id": "2c688cde",
   "metadata": {
    "deletable": false,
    "editable": false,
    "id": "42d19d24"
   },
   "source": [
    "**Задание 13. Замените вещественный тип данных в столбце `total_income` на целочисленный с помощью метода `astype()`.**"
   ]
  },
  {
   "cell_type": "code",
   "execution_count": 13,
   "id": "a3f664ee",
   "metadata": {
    "deletable": false,
    "id": "920b65ad"
   },
   "outputs": [],
   "source": [
    "data['total_income'] = data['total_income'].astype(int)"
   ]
  },
  {
   "cell_type": "markdown",
   "id": "a6312df9",
   "metadata": {
    "deletable": false,
    "editable": false,
    "id": "80c420ba"
   },
   "source": [
    "### Обработка дубликатов"
   ]
  },
  {
   "cell_type": "markdown",
   "id": "3f737ebe",
   "metadata": {
    "deletable": false,
    "editable": false
   },
   "source": [
    "**Задание 14. Обработайте неявные дубликаты в столбце `education`. В этом столбце есть одни и те же значения, но записанные по-разному: с использованием заглавных и строчных букв. Приведите их к нижнему регистру. Проверьте остальные столбцы.**"
   ]
  },
  {
   "cell_type": "code",
   "execution_count": 14,
   "id": "54ed7bc1",
   "metadata": {
    "deletable": false
   },
   "outputs": [],
   "source": [
    "data['education'] = data['education'].str.lower()"
   ]
  },
  {
   "cell_type": "markdown",
   "id": "79e73df2",
   "metadata": {
    "deletable": false,
    "editable": false,
    "id": "dc587695"
   },
   "source": [
    "**Задание 15. Выведите на экран количество строк-дубликатов в данных. Если такие строки присутствуют, удалите их.**"
   ]
  },
  {
   "cell_type": "code",
   "execution_count": 15,
   "id": "f82ea2db",
   "metadata": {
    "deletable": false,
    "id": "3ee445e4",
    "outputId": "9684deba-1934-42d1-99e1-cda61740f822"
   },
   "outputs": [
    {
     "data": {
      "text/plain": [
       "71"
      ]
     },
     "execution_count": 15,
     "metadata": {},
     "output_type": "execute_result"
    }
   ],
   "source": [
    "data.duplicated().sum()"
   ]
  },
  {
   "cell_type": "code",
   "execution_count": 16,
   "id": "10bef0f8",
   "metadata": {
    "deletable": false,
    "id": "8575fe05"
   },
   "outputs": [],
   "source": [
    "data = data.drop_duplicates()"
   ]
  },
  {
   "cell_type": "markdown",
   "id": "f8e6d6c5",
   "metadata": {
    "deletable": false,
    "editable": false,
    "id": "9904cf55"
   },
   "source": [
    "### Категоризация данных"
   ]
  },
  {
   "cell_type": "markdown",
   "id": "31a382c6",
   "metadata": {
    "deletable": false,
    "editable": false,
    "id": "72fcc8a2"
   },
   "source": [
    "**Задание 16. На основании диапазонов, указанных ниже, создайте в датафрейме `data` столбец `total_income_category` с категориями:**\n",
    "\n",
    "- 0–30000 — `'E'`;\n",
    "- 30001–50000 — `'D'`;\n",
    "- 50001–200000 — `'C'`;\n",
    "- 200001–1000000 — `'B'`;\n",
    "- 1000001 и выше — `'A'`.\n",
    "\n",
    "\n",
    "**Например, кредитополучателю с доходом 25000 нужно назначить категорию `'E'`, а клиенту, получающему 235000, — `'B'`. Используйте собственную функцию с именем `categorize_income()` и метод `apply()`.**"
   ]
  },
  {
   "cell_type": "code",
   "execution_count": 17,
   "id": "a4457cb5",
   "metadata": {
    "deletable": false,
    "id": "e1771346"
   },
   "outputs": [],
   "source": [
    "def categorize_income(income):\n",
    "    try:\n",
    "        if 0 <= income <= 30000:\n",
    "            return 'E'\n",
    "        elif 30001 <= income <= 50000:\n",
    "            return 'D'\n",
    "        elif 50001 <= income <= 200000:\n",
    "            return 'C'\n",
    "        elif 200001 <= income <= 1000000:\n",
    "            return 'B'\n",
    "        elif income >= 1000001:\n",
    "            return 'A'\n",
    "    except:\n",
    "        pass"
   ]
  },
  {
   "cell_type": "code",
   "execution_count": 18,
   "id": "decfaba0",
   "metadata": {
    "deletable": false,
    "id": "d5f3586d"
   },
   "outputs": [],
   "source": [
    "data['total_income_category'] = data['total_income'].apply(categorize_income)"
   ]
  },
  {
   "cell_type": "markdown",
   "id": "fa793d12",
   "metadata": {
    "deletable": false,
    "editable": false,
    "id": "dde49b5c"
   },
   "source": [
    "**Задание 17. Выведите на экран перечень уникальных целей взятия кредита из столбца `purpose`.**"
   ]
  },
  {
   "cell_type": "code",
   "execution_count": 19,
   "id": "9d077571",
   "metadata": {
    "deletable": false,
    "id": "f67ce9b3",
    "outputId": "673c12d9-7d7e-4ae0-9812-c622c89dd244"
   },
   "outputs": [
    {
     "data": {
      "text/plain": [
       "array(['покупка жилья', 'приобретение автомобиля',\n",
       "       'дополнительное образование', 'сыграть свадьбу',\n",
       "       'операции с жильем', 'образование', 'на проведение свадьбы',\n",
       "       'покупка жилья для семьи', 'покупка недвижимости',\n",
       "       'покупка коммерческой недвижимости', 'покупка жилой недвижимости',\n",
       "       'строительство собственной недвижимости', 'недвижимость',\n",
       "       'строительство недвижимости', 'на покупку подержанного автомобиля',\n",
       "       'на покупку своего автомобиля',\n",
       "       'операции с коммерческой недвижимостью',\n",
       "       'строительство жилой недвижимости', 'жилье',\n",
       "       'операции со своей недвижимостью', 'автомобили',\n",
       "       'заняться образованием', 'сделка с подержанным автомобилем',\n",
       "       'получение образования', 'автомобиль', 'свадьба',\n",
       "       'получение дополнительного образования', 'покупка своего жилья',\n",
       "       'операции с недвижимостью', 'получение высшего образования',\n",
       "       'свой автомобиль', 'сделка с автомобилем',\n",
       "       'профильное образование', 'высшее образование',\n",
       "       'покупка жилья для сдачи', 'на покупку автомобиля', 'ремонт жилью',\n",
       "       'заняться высшим образованием'], dtype=object)"
      ]
     },
     "execution_count": 19,
     "metadata": {},
     "output_type": "execute_result"
    }
   ],
   "source": [
    "data['purpose'].unique()"
   ]
  },
  {
   "cell_type": "markdown",
   "id": "d753af47",
   "metadata": {
    "deletable": false,
    "editable": false,
    "id": "85d0aef0"
   },
   "source": [
    "**Задание 18. Создайте функцию, которая на основании данных из столбца `purpose` сформирует новый столбец `purpose_category`, в который войдут следующие категории:**\n",
    "\n",
    "- `'операции с автомобилем'`,\n",
    "- `'операции с недвижимостью'`,\n",
    "- `'проведение свадьбы'`,\n",
    "- `'получение образования'`.\n",
    "\n",
    "**Например, если в столбце `purpose` находится подстрока `'на покупку автомобиля'`, то в столбце `purpose_category` должна появиться строка `'операции с автомобилем'`.**\n",
    "\n",
    "**Используйте собственную функцию с именем `categorize_purpose()` и метод `apply()`. Изучите данные в столбце `purpose` и определите, какие подстроки помогут вам правильно определить категорию.**"
   ]
  },
  {
   "cell_type": "code",
   "execution_count": 20,
   "id": "7ee154bc",
   "metadata": {
    "deletable": false,
    "id": "e149fab4"
   },
   "outputs": [],
   "source": [
    "def categorize_purpose(row):\n",
    "    try:\n",
    "        if 'автом' in row:\n",
    "            return 'операции с автомобилем'\n",
    "        elif 'жил' in row or 'недвиж' in row:\n",
    "            return 'операции с недвижимостью'\n",
    "        elif 'свад' in row:\n",
    "            return 'проведение свадьбы'\n",
    "        elif 'образов' in row:\n",
    "            return 'получение образования'\n",
    "    except:\n",
    "        return 'нет категории'"
   ]
  },
  {
   "cell_type": "code",
   "execution_count": 21,
   "id": "1caf357d",
   "metadata": {
    "deletable": false,
    "id": "bf36e69b"
   },
   "outputs": [],
   "source": [
    "data['purpose_category'] = data['purpose'].apply(categorize_purpose)"
   ]
  },
  {
   "cell_type": "markdown",
   "id": "758fbb19",
   "metadata": {
    "deletable": false,
    "editable": false,
    "id": "09b242bf"
   },
   "source": [
    "### Шаг 3. Исследуйте данные и ответьте на вопросы"
   ]
  },
  {
   "cell_type": "markdown",
   "id": "c94cba51",
   "metadata": {
    "deletable": false,
    "editable": false,
    "id": "c5d66278"
   },
   "source": [
    "#### 3.1 Есть ли зависимость между количеством детей и возвратом кредита в срок?"
   ]
  },
  {
   "cell_type": "code",
   "execution_count": 28,
   "id": "c9bebab8",
   "metadata": {
    "deletable": false,
    "id": "2cacfc4a"
   },
   "outputs": [
    {
     "name": "stdout",
     "output_type": "stream",
     "text": [
      "                  Количество заемщиков  Количество должников  Доля невозврата\n",
      "Количество детей                                                             \n",
      "0                                14091                  1063         0.075438\n",
      "1                                 4808                   444         0.092346\n",
      "2                                 2052                   194         0.094542\n",
      "3                                  330                    27         0.081818\n",
      "4                                   41                     4         0.097561\n",
      "5                                    9                     0         0.000000 \n",
      "\n",
      "Доля невозврата в категории для людей, имеющих от 1 и более ребенка: 0.09240331491712707\n",
      "Доля невозврата в категории для людей, не имеющих детей: 0.07543822297920659\n"
     ]
    }
   ],
   "source": [
    "# прежде чем искать зависимость между количеством детей и возвратом кредита в срок, необходимо обозначить общее количество user с долгом и user без долга\n",
    "# print(data.groupby('debt').count())\n",
    "# для проверки строк в датафрейм 21331\n",
    "# из датафрейм видно, что количество \"должников\" намного меньше, чем количество людей, не имеющих долгов. \n",
    "\n",
    "# проверка зависимости между количеством детей и возвратом кредита в срок\n",
    "\n",
    "# необходимо построить сводную таблицу количества заёмщиков, количества должников, доли невозврата, группировать необходимо по столбцу children с помощью метода pivot_table\n",
    "data_pivot1 = data.pivot_table('debt', index = ['children'], aggfunc = ['count', 'sum', 'mean'])\n",
    "# print(data_pivot1)\n",
    "\n",
    "data_pivot2 = pd.DataFrame({\n",
    "  'Количество заемщиков': [14091, 4808, 2052, 330, 41, 9],\n",
    "  'Количество должников': [1063, 444, 194, 27, 4, 0],\n",
    "  'Доля невозврата': [0.075438,  0.092346, 0.094542, 0.081818, 0.097561, 0.000000]\n",
    "})\n",
    "\n",
    "data_pivot2.index.rename('Количество детей', inplace = True)\n",
    "print(data_pivot2, '\\n') \n",
    "\n",
    "#cравнение долей невозврата по двум категориями \n",
    "# print('Средняя доля невозврата в категории людей от 0 до 2 детей включительно:', (data_pivot2['Доля невозврата'][0]+data_pivot2['Доля невозврата'][1]+data_pivot2['Доля невозврата'][2])/3)\n",
    "# print('Средняя доля невозврата в категории людей от 3 до 5 детей включительно:', (data_pivot2['Доля невозврата'][3]+data_pivot2['Доля невозврата'][4]+data_pivot2['Доля невозврата'][5])/3)\n",
    "\n",
    "with_children = data.loc[data['children'] > 0]['debt'].mean()\n",
    "print('Доля невозврата в категории для людей, имеющих от 1 и более ребенка:', with_children)\n",
    "without_children = data.loc[data['children'] <= 0]['debt'].mean()\n",
    "print('Доля невозврата в категории для людей, не имеющих детей:', without_children)\n",
    "\n"
   ]
  },
  {
   "cell_type": "markdown",
   "id": "9ff028c3",
   "metadata": {
    "deletable": false,
    "id": "3a6b99ec"
   },
   "source": [
    "**Вывод:** Зависимость между количеством детей и возвратом кредита в срок есть. Для категории людей, не имеющих детей, доля невозвратов составляет 7.54%, для категории людей, имеющих от 1 и более ребенка доля невозвратов составляет 9.24%\n",
    "То есть категория людей, которая больше всего несет риски для заказчика: люди, имеющие от 1 и более детей. "
   ]
  },
  {
   "cell_type": "markdown",
   "id": "229fe152",
   "metadata": {
    "deletable": false,
    "editable": false,
    "id": "97be82ca"
   },
   "source": [
    "#### 3.2 Есть ли зависимость между семейным положением и возвратом кредита в срок?"
   ]
  },
  {
   "cell_type": "code",
   "execution_count": 23,
   "id": "02defd92",
   "metadata": {
    "deletable": false,
    "id": "dc3f7ee8"
   },
   "outputs": [
    {
     "name": "stdout",
     "output_type": "stream",
     "text": [
      "                      Количество заемщиков Количество должников  \\\n",
      "                                      debt                 debt   \n",
      "Семейное положение                                                \n",
      "Не женат / не замужем                 2796                  273   \n",
      "в разводе                             1189                   84   \n",
      "вдовец / вдова                         951                   63   \n",
      "гражданский брак                      4134                  385   \n",
      "женат / замужем                      12261                  927   \n",
      "\n",
      "                      Доля невозврата  \n",
      "                                 debt  \n",
      "Семейное положение                     \n",
      "Не женат / не замужем        0.097639  \n",
      "в разводе                    0.070648  \n",
      "вдовец / вдова               0.066246  \n",
      "гражданский брак             0.093130  \n",
      "женат / замужем              0.075606  \n"
     ]
    }
   ],
   "source": [
    "# проверка зависимости между семейным положением и возвратом кредита в срок\n",
    "data_pivot = data.pivot_table('debt', index = ['family_status'], aggfunc = ['count', 'sum', 'mean'])\n",
    "data_pivot = data_pivot.rename(columns={'count': 'Количество заемщиков', 'sum': 'Количество должников', 'mean': 'Доля невозврата'})\n",
    "data_pivot.index.rename('Семейное положение', inplace = True)\n",
    "print(data_pivot)"
   ]
  },
  {
   "cell_type": "markdown",
   "id": "edd1de88",
   "metadata": {
    "deletable": false,
    "id": "1cef7837"
   },
   "source": [
    "**Вывод:** Зависимость между семейным положением и возвратом кредита в срок отследить сложно, так как в данном случае наличие/отсутствие супруга/супруги не даёт гарантию возврата кредита в срок. Категории, которые больше всего несут риска для заказчика: \"не женат/ не замужем\", доля невозвратов в этой категории составляет 0.0976; \"гражданский брак\", доля невозвратов в этой категории составляет 0.0931. "
   ]
  },
  {
   "cell_type": "markdown",
   "id": "049f8130",
   "metadata": {
    "deletable": false,
    "editable": false,
    "id": "1e8b2fca"
   },
   "source": [
    "#### 3.3 Есть ли зависимость между уровнем дохода и возвратом кредита в срок?"
   ]
  },
  {
   "cell_type": "code",
   "execution_count": 24,
   "id": "dc08fe9a",
   "metadata": {
    "deletable": false,
    "id": "cd7e3720"
   },
   "outputs": [
    {
     "name": "stdout",
     "output_type": "stream",
     "text": [
      "               Количество заемщиков Количество должников Доля невозврата\n",
      "                               debt                 debt            debt\n",
      "Уровень дохода                                                          \n",
      "A                                25                    2        0.080000\n",
      "B                              5014                  354        0.070602\n",
      "C                             15921                 1353        0.084982\n",
      "D                               349                   21        0.060172\n",
      "E                                22                    2        0.090909\n"
     ]
    }
   ],
   "source": [
    "# на основе ранее созданного столбца total_income_category с помощью функции categorize_income \n",
    "\n",
    "#0–30000 — 'E';\n",
    "#30001–50000 — 'D';\n",
    "#50001–200000 — 'C';\n",
    "#200001–1000000 — 'B';\n",
    "#1000001 и выше — 'A'.\n",
    "\n",
    "data_pivot = data.pivot_table('debt', index = ['total_income_category'], aggfunc = ['count', 'sum', 'mean'])\n",
    "data_pivot = data_pivot.rename(columns={'count': 'Количество заемщиков', 'sum': 'Количество должников', 'mean': 'Доля невозврата'})\n",
    "data_pivot.index.rename('Уровень дохода', inplace = True)\n",
    "print(data_pivot)"
   ]
  },
  {
   "cell_type": "markdown",
   "id": "0a55f8ea",
   "metadata": {
    "deletable": false,
    "id": "e8593def"
   },
   "source": [
    "**Вывод:** Категория \"Е\" и \"С\" с доходом от 0-30.000 и с доходом 50001-200.000 несет больше всего рисков для заказчика, доля невозвратов в этой категории составляет 0.0909 и 0.0849 соответственно. "
   ]
  },
  {
   "cell_type": "markdown",
   "id": "59eacf43",
   "metadata": {
    "deletable": false,
    "editable": false,
    "id": "99ecbd1f"
   },
   "source": [
    "#### 3.4 Как разные цели кредита влияют на его возврат в срок?"
   ]
  },
  {
   "cell_type": "code",
   "execution_count": 25,
   "id": "539b5c52",
   "metadata": {
    "deletable": false,
    "id": "2b687290"
   },
   "outputs": [
    {
     "data": {
      "text/plain": [
       "purpose_category\n",
       "операции с автомобилем      400\n",
       "операции с недвижимостью    780\n",
       "получение образования       369\n",
       "проведение свадьбы          183\n",
       "Name: debt, dtype: int64"
      ]
     },
     "execution_count": 25,
     "metadata": {},
     "output_type": "execute_result"
    }
   ],
   "source": [
    "# группировка по purpose_category и выбор столбца debt\n",
    "\n",
    "data.groupby('purpose_category')['debt'].sum()"
   ]
  },
  {
   "cell_type": "markdown",
   "id": "c0865c8b",
   "metadata": {
    "deletable": false,
    "id": "b4bb2ce6"
   },
   "source": [
    "**Вывод:** Больше всего \"должников\" в категории человек, которые берут кредиты на операции с недвижимостью (780 чел.), далее операции с автомобилем (400 чел.). Предположительно, стоимость \"цели\", которая предпологает операции с недвижимостью и операции с автомобилем, является наиболее дорогостоящей из всех перечисленных, а значит и влечет за собой более высокие финансовые затраты, следовательно, наибольшая вероятность образования долга прослеживается в этих категориях. "
   ]
  },
  {
   "cell_type": "markdown",
   "id": "9fd506e4",
   "metadata": {
    "deletable": false,
    "editable": false,
    "id": "09c3ac4c"
   },
   "source": [
    "#### 3.5 Приведите возможные причины появления пропусков в исходных данных."
   ]
  },
  {
   "cell_type": "markdown",
   "id": "54174e98",
   "metadata": {
    "deletable": false,
    "id": "9da2ceda"
   },
   "source": [
    "*Ответ:* Пропуски бывает трех типов: полностью случайные (пропуск не зависит ни от каких-либо других значений), случайные (пропуск зависит от других значений в датафрейме, но не от собственного столбца) и неслучайные (пропуск зависит от значений датафрейма, в том числе и от значений собственного столбца). \n",
    "Причинами появления пропусков в исходных данных могут быть: человеческий фактор, потеря данных, ошибка в записи данных. "
   ]
  },
  {
   "cell_type": "markdown",
   "id": "b6672ea6",
   "metadata": {
    "deletable": false,
    "editable": false,
    "id": "7b0487d6"
   },
   "source": [
    "#### 3.6 Объясните, почему заполнить пропуски медианным значением — лучшее решение для количественных переменных."
   ]
  },
  {
   "cell_type": "markdown",
   "id": "825558d6",
   "metadata": {
    "deletable": false,
    "id": "7ecf2b8e"
   },
   "source": [
    "*Ответ:* Если в датафрейме присутствуют выдающие значения, то для заполнения пропусков лучше использовать медиану. Использовав медиану, можно избежать некорректного отображения данных. "
   ]
  },
  {
   "cell_type": "markdown",
   "id": "0d66b440",
   "metadata": {
    "deletable": false,
    "editable": false,
    "id": "6db5255a"
   },
   "source": [
    "### Шаг 4: общий вывод."
   ]
  },
  {
   "cell_type": "markdown",
   "id": "73258c53",
   "metadata": {
    "deletable": false,
    "id": "bad65432"
   },
   "source": [
    "В ходе выполненного проекта проверены гипотезы зависимости различных факторов (количество детей, семейное положение, уровень дохода, цели кредита) на возврат кредита в срок. \n",
    "Сделаны следующие выводы: \n",
    "1)Зависимость между количеством детей и возвратом кредита в срок есть. Для категории людей, не имеющих детей, доля невозвратов составляет 7.54%, для категории людей, имеющих от 1 и более ребенка доля невозвратов составляет 9.24% То есть категория людей, которая больше всего несет риски для заказчика: люди, имеющие от 1 и более детей.\n",
    "2)Зависимость между семейным положением и возвратом кредита в срок отследить сложно, так как в данном случае наличие/отсутствие супруга/супруги не даёт гарантию возврата кредита в срок.  Категории, которые больше всего несут риска для заказчика: \"не женат/ не замужем\", доля невозвратов в этой категории составляет 9.76%. \n",
    "3)Категория \"Е\" и \"С\" с доходом от 0-30.000 и с доходом 50001-200.000 несет больше всего рисков для заказчика, доля невозвратов в этой категории составляет 9.09% и 8.49% соответственно. \n",
    "4)Больше всего \"должников\" в категории людей, которые берут кредиты на операции с недвижимостью (780 чел.), далее операции с автомобилем (400 чел.)."
   ]
  }
 ],
 "metadata": {
  "ExecuteTimeLog": [
   {
    "duration": 47,
    "start_time": "2022-12-11T16:02:50.641Z"
   },
   {
    "duration": 6,
    "start_time": "2022-12-11T16:03:44.553Z"
   },
   {
    "duration": 6,
    "start_time": "2022-12-11T16:03:58.690Z"
   },
   {
    "duration": 6,
    "start_time": "2022-12-11T16:04:02.845Z"
   },
   {
    "duration": 499,
    "start_time": "2022-12-11T16:04:46.987Z"
   },
   {
    "duration": 23,
    "start_time": "2022-12-11T16:04:47.489Z"
   },
   {
    "duration": 16,
    "start_time": "2022-12-11T16:04:47.514Z"
   },
   {
    "duration": 9,
    "start_time": "2022-12-11T16:04:47.532Z"
   },
   {
    "duration": 57,
    "start_time": "2022-12-11T16:04:47.543Z"
   },
   {
    "duration": 3,
    "start_time": "2022-12-11T16:04:47.602Z"
   },
   {
    "duration": 12,
    "start_time": "2022-12-11T16:04:47.607Z"
   },
   {
    "duration": 4,
    "start_time": "2022-12-11T16:04:47.620Z"
   },
   {
    "duration": 8,
    "start_time": "2022-12-11T16:04:47.626Z"
   },
   {
    "duration": 6,
    "start_time": "2022-12-11T16:04:47.636Z"
   },
   {
    "duration": 62,
    "start_time": "2022-12-11T16:04:47.644Z"
   },
   {
    "duration": 9,
    "start_time": "2022-12-11T16:04:47.708Z"
   },
   {
    "duration": 4,
    "start_time": "2022-12-11T16:04:47.719Z"
   },
   {
    "duration": 15,
    "start_time": "2022-12-11T16:04:47.724Z"
   },
   {
    "duration": 44,
    "start_time": "2022-12-11T16:04:47.741Z"
   },
   {
    "duration": 19,
    "start_time": "2022-12-11T16:04:47.787Z"
   },
   {
    "duration": 5,
    "start_time": "2022-12-11T16:04:47.808Z"
   },
   {
    "duration": 17,
    "start_time": "2022-12-11T16:04:47.815Z"
   },
   {
    "duration": 13,
    "start_time": "2022-12-11T16:04:47.834Z"
   },
   {
    "duration": 35,
    "start_time": "2022-12-11T16:04:47.849Z"
   },
   {
    "duration": 16,
    "start_time": "2022-12-11T16:04:47.886Z"
   },
   {
    "duration": 11,
    "start_time": "2022-12-11T16:04:47.903Z"
   },
   {
    "duration": 7,
    "start_time": "2022-12-11T16:04:47.916Z"
   },
   {
    "duration": 4,
    "start_time": "2022-12-11T16:04:47.925Z"
   },
   {
    "duration": 9,
    "start_time": "2022-12-11T16:04:47.930Z"
   },
   {
    "duration": 8,
    "start_time": "2022-12-11T16:11:17.317Z"
   },
   {
    "duration": 10,
    "start_time": "2022-12-11T16:12:57.274Z"
   },
   {
    "duration": 6,
    "start_time": "2022-12-11T16:15:22.949Z"
   },
   {
    "duration": 3,
    "start_time": "2022-12-11T16:16:35.046Z"
   },
   {
    "duration": 7,
    "start_time": "2022-12-11T16:20:43.843Z"
   },
   {
    "duration": 10,
    "start_time": "2022-12-11T16:21:04.084Z"
   },
   {
    "duration": 59,
    "start_time": "2022-12-12T09:52:16.967Z"
   },
   {
    "duration": 566,
    "start_time": "2022-12-12T09:52:28.478Z"
   },
   {
    "duration": 29,
    "start_time": "2022-12-12T09:52:29.047Z"
   },
   {
    "duration": 23,
    "start_time": "2022-12-12T09:52:29.079Z"
   },
   {
    "duration": 14,
    "start_time": "2022-12-12T09:52:29.105Z"
   },
   {
    "duration": 67,
    "start_time": "2022-12-12T09:52:29.137Z"
   },
   {
    "duration": 5,
    "start_time": "2022-12-12T09:52:29.205Z"
   },
   {
    "duration": 13,
    "start_time": "2022-12-12T09:52:29.212Z"
   },
   {
    "duration": 12,
    "start_time": "2022-12-12T09:52:29.226Z"
   },
   {
    "duration": 8,
    "start_time": "2022-12-12T09:52:29.239Z"
   },
   {
    "duration": 4,
    "start_time": "2022-12-12T09:52:29.249Z"
   },
   {
    "duration": 44,
    "start_time": "2022-12-12T09:52:29.255Z"
   },
   {
    "duration": 11,
    "start_time": "2022-12-12T09:52:29.301Z"
   },
   {
    "duration": 25,
    "start_time": "2022-12-12T09:52:29.313Z"
   },
   {
    "duration": 12,
    "start_time": "2022-12-12T09:52:29.340Z"
   },
   {
    "duration": 27,
    "start_time": "2022-12-12T09:52:29.354Z"
   },
   {
    "duration": 17,
    "start_time": "2022-12-12T09:52:29.382Z"
   },
   {
    "duration": 3,
    "start_time": "2022-12-12T09:52:29.401Z"
   },
   {
    "duration": 31,
    "start_time": "2022-12-12T09:52:29.407Z"
   },
   {
    "duration": 10,
    "start_time": "2022-12-12T09:52:29.441Z"
   },
   {
    "duration": 9,
    "start_time": "2022-12-12T09:52:29.452Z"
   },
   {
    "duration": 17,
    "start_time": "2022-12-12T09:52:29.462Z"
   },
   {
    "duration": 6,
    "start_time": "2022-12-12T09:52:29.481Z"
   },
   {
    "duration": 15,
    "start_time": "2022-12-12T09:52:29.488Z"
   },
   {
    "duration": 3,
    "start_time": "2022-12-12T09:52:29.504Z"
   },
   {
    "duration": 15,
    "start_time": "2022-12-12T09:52:29.508Z"
   },
   {
    "duration": 6,
    "start_time": "2022-12-12T09:53:35.318Z"
   },
   {
    "duration": 6,
    "start_time": "2022-12-12T09:54:19.244Z"
   },
   {
    "duration": 20,
    "start_time": "2022-12-12T09:54:56.245Z"
   },
   {
    "duration": 7,
    "start_time": "2022-12-12T09:55:21.197Z"
   },
   {
    "duration": 6,
    "start_time": "2022-12-12T09:55:43.301Z"
   },
   {
    "duration": 9,
    "start_time": "2022-12-12T09:58:34.557Z"
   },
   {
    "duration": 11,
    "start_time": "2022-12-12T10:01:45.905Z"
   },
   {
    "duration": 23,
    "start_time": "2022-12-12T10:04:25.350Z"
   },
   {
    "duration": 19,
    "start_time": "2022-12-12T10:06:41.059Z"
   },
   {
    "duration": 19,
    "start_time": "2022-12-12T10:09:32.875Z"
   },
   {
    "duration": 7,
    "start_time": "2022-12-12T10:12:54.399Z"
   },
   {
    "duration": 7,
    "start_time": "2022-12-12T10:13:15.452Z"
   },
   {
    "duration": 71,
    "start_time": "2022-12-12T10:14:16.489Z"
   },
   {
    "duration": 12,
    "start_time": "2022-12-12T10:14:24.699Z"
   },
   {
    "duration": 11,
    "start_time": "2022-12-12T10:14:31.059Z"
   },
   {
    "duration": 7,
    "start_time": "2022-12-12T10:14:45.719Z"
   },
   {
    "duration": 6,
    "start_time": "2022-12-12T10:15:17.119Z"
   },
   {
    "duration": 8,
    "start_time": "2022-12-12T10:15:40.489Z"
   },
   {
    "duration": 28,
    "start_time": "2022-12-12T10:17:11.521Z"
   },
   {
    "duration": 10,
    "start_time": "2022-12-12T10:17:26.519Z"
   },
   {
    "duration": 11,
    "start_time": "2022-12-12T11:22:45.093Z"
   },
   {
    "duration": 9,
    "start_time": "2022-12-12T11:23:09.295Z"
   },
   {
    "duration": 482,
    "start_time": "2022-12-12T11:23:39.135Z"
   },
   {
    "duration": 21,
    "start_time": "2022-12-12T11:23:39.619Z"
   },
   {
    "duration": 15,
    "start_time": "2022-12-12T11:23:39.642Z"
   },
   {
    "duration": 10,
    "start_time": "2022-12-12T11:23:39.659Z"
   },
   {
    "duration": 36,
    "start_time": "2022-12-12T11:23:39.671Z"
   },
   {
    "duration": 3,
    "start_time": "2022-12-12T11:23:39.709Z"
   },
   {
    "duration": 7,
    "start_time": "2022-12-12T11:23:39.738Z"
   },
   {
    "duration": 5,
    "start_time": "2022-12-12T11:23:39.747Z"
   },
   {
    "duration": 14,
    "start_time": "2022-12-12T11:23:39.753Z"
   },
   {
    "duration": 7,
    "start_time": "2022-12-12T11:23:39.769Z"
   },
   {
    "duration": 37,
    "start_time": "2022-12-12T11:23:39.778Z"
   },
   {
    "duration": 30,
    "start_time": "2022-12-12T11:23:39.817Z"
   },
   {
    "duration": 8,
    "start_time": "2022-12-12T11:23:39.849Z"
   },
   {
    "duration": 14,
    "start_time": "2022-12-12T11:23:39.860Z"
   },
   {
    "duration": 20,
    "start_time": "2022-12-12T11:23:39.875Z"
   },
   {
    "duration": 43,
    "start_time": "2022-12-12T11:23:39.897Z"
   },
   {
    "duration": 4,
    "start_time": "2022-12-12T11:23:39.942Z"
   },
   {
    "duration": 15,
    "start_time": "2022-12-12T11:23:39.947Z"
   },
   {
    "duration": 6,
    "start_time": "2022-12-12T11:23:39.963Z"
   },
   {
    "duration": 5,
    "start_time": "2022-12-12T11:23:39.971Z"
   },
   {
    "duration": 13,
    "start_time": "2022-12-12T11:23:39.977Z"
   },
   {
    "duration": 22,
    "start_time": "2022-12-12T11:23:39.991Z"
   },
   {
    "duration": 8,
    "start_time": "2022-12-12T11:23:40.038Z"
   },
   {
    "duration": 10,
    "start_time": "2022-12-12T11:23:40.047Z"
   },
   {
    "duration": 4,
    "start_time": "2022-12-12T11:23:40.058Z"
   },
   {
    "duration": 11,
    "start_time": "2022-12-12T11:26:57.309Z"
   },
   {
    "duration": 14,
    "start_time": "2022-12-12T11:27:45.310Z"
   },
   {
    "duration": 30,
    "start_time": "2022-12-12T11:27:54.161Z"
   },
   {
    "duration": 19,
    "start_time": "2022-12-12T11:29:06.320Z"
   },
   {
    "duration": 12,
    "start_time": "2022-12-12T11:29:37.221Z"
   },
   {
    "duration": 9,
    "start_time": "2022-12-12T11:29:42.848Z"
   },
   {
    "duration": 4,
    "start_time": "2022-12-12T11:47:33.617Z"
   },
   {
    "duration": 8,
    "start_time": "2022-12-12T11:54:55.515Z"
   },
   {
    "duration": 5,
    "start_time": "2022-12-12T12:43:14.892Z"
   },
   {
    "duration": 51,
    "start_time": "2022-12-12T17:53:53.982Z"
   },
   {
    "duration": 772,
    "start_time": "2022-12-12T17:54:13.885Z"
   },
   {
    "duration": 24,
    "start_time": "2022-12-12T17:54:14.659Z"
   },
   {
    "duration": 15,
    "start_time": "2022-12-12T17:54:14.685Z"
   },
   {
    "duration": 12,
    "start_time": "2022-12-12T17:54:14.702Z"
   },
   {
    "duration": 35,
    "start_time": "2022-12-12T17:54:14.716Z"
   },
   {
    "duration": 4,
    "start_time": "2022-12-12T17:54:14.753Z"
   },
   {
    "duration": 12,
    "start_time": "2022-12-12T17:54:14.758Z"
   },
   {
    "duration": 4,
    "start_time": "2022-12-12T17:54:14.771Z"
   },
   {
    "duration": 35,
    "start_time": "2022-12-12T17:54:14.777Z"
   },
   {
    "duration": 5,
    "start_time": "2022-12-12T17:54:14.815Z"
   },
   {
    "duration": 41,
    "start_time": "2022-12-12T17:54:14.822Z"
   },
   {
    "duration": 13,
    "start_time": "2022-12-12T17:54:14.864Z"
   },
   {
    "duration": 11,
    "start_time": "2022-12-12T17:54:14.879Z"
   },
   {
    "duration": 30,
    "start_time": "2022-12-12T17:54:14.892Z"
   },
   {
    "duration": 32,
    "start_time": "2022-12-12T17:54:14.924Z"
   },
   {
    "duration": 18,
    "start_time": "2022-12-12T17:54:14.958Z"
   },
   {
    "duration": 3,
    "start_time": "2022-12-12T17:54:14.978Z"
   },
   {
    "duration": 18,
    "start_time": "2022-12-12T17:54:14.983Z"
   },
   {
    "duration": 19,
    "start_time": "2022-12-12T17:54:15.013Z"
   },
   {
    "duration": 18,
    "start_time": "2022-12-12T17:54:15.033Z"
   },
   {
    "duration": 19,
    "start_time": "2022-12-12T17:54:15.053Z"
   },
   {
    "duration": 82,
    "start_time": "2022-12-12T17:54:15.074Z"
   },
   {
    "duration": 0,
    "start_time": "2022-12-12T17:54:15.157Z"
   },
   {
    "duration": 0,
    "start_time": "2022-12-12T17:54:15.159Z"
   },
   {
    "duration": 0,
    "start_time": "2022-12-12T17:54:15.160Z"
   },
   {
    "duration": 18,
    "start_time": "2022-12-12T17:57:56.808Z"
   },
   {
    "duration": 18,
    "start_time": "2022-12-12T18:01:41.891Z"
   },
   {
    "duration": 49,
    "start_time": "2022-12-12T18:03:46.036Z"
   },
   {
    "duration": 48,
    "start_time": "2022-12-12T18:04:12.858Z"
   },
   {
    "duration": 19,
    "start_time": "2022-12-12T18:04:31.268Z"
   },
   {
    "duration": 17,
    "start_time": "2022-12-12T18:07:18.776Z"
   },
   {
    "duration": 53,
    "start_time": "2022-12-12T18:07:42.561Z"
   },
   {
    "duration": 39,
    "start_time": "2022-12-12T18:07:55.015Z"
   },
   {
    "duration": 28,
    "start_time": "2022-12-12T18:08:25.011Z"
   },
   {
    "duration": 24,
    "start_time": "2022-12-12T18:09:41.315Z"
   },
   {
    "duration": 38,
    "start_time": "2022-12-12T18:14:26.353Z"
   },
   {
    "duration": 25,
    "start_time": "2022-12-12T18:18:34.618Z"
   },
   {
    "duration": 8,
    "start_time": "2022-12-12T18:27:24.318Z"
   },
   {
    "duration": 46,
    "start_time": "2022-12-13T08:12:09.867Z"
   },
   {
    "duration": 675,
    "start_time": "2022-12-13T08:12:33.948Z"
   },
   {
    "duration": 21,
    "start_time": "2022-12-13T08:12:34.625Z"
   },
   {
    "duration": 21,
    "start_time": "2022-12-13T08:12:34.647Z"
   },
   {
    "duration": 12,
    "start_time": "2022-12-13T08:12:34.669Z"
   },
   {
    "duration": 40,
    "start_time": "2022-12-13T08:12:34.682Z"
   },
   {
    "duration": 3,
    "start_time": "2022-12-13T08:12:34.724Z"
   },
   {
    "duration": 14,
    "start_time": "2022-12-13T08:12:34.728Z"
   },
   {
    "duration": 8,
    "start_time": "2022-12-13T08:12:34.743Z"
   },
   {
    "duration": 19,
    "start_time": "2022-12-13T08:12:34.753Z"
   },
   {
    "duration": 15,
    "start_time": "2022-12-13T08:12:34.773Z"
   },
   {
    "duration": 39,
    "start_time": "2022-12-13T08:12:34.789Z"
   },
   {
    "duration": 9,
    "start_time": "2022-12-13T08:12:34.829Z"
   },
   {
    "duration": 17,
    "start_time": "2022-12-13T08:12:34.839Z"
   },
   {
    "duration": 19,
    "start_time": "2022-12-13T08:12:34.858Z"
   },
   {
    "duration": 47,
    "start_time": "2022-12-13T08:12:34.878Z"
   },
   {
    "duration": 15,
    "start_time": "2022-12-13T08:12:34.927Z"
   },
   {
    "duration": 3,
    "start_time": "2022-12-13T08:12:34.943Z"
   },
   {
    "duration": 20,
    "start_time": "2022-12-13T08:12:34.948Z"
   },
   {
    "duration": 16,
    "start_time": "2022-12-13T08:12:34.969Z"
   },
   {
    "duration": 9,
    "start_time": "2022-12-13T08:12:34.987Z"
   },
   {
    "duration": 14,
    "start_time": "2022-12-13T08:12:34.997Z"
   },
   {
    "duration": 35,
    "start_time": "2022-12-13T08:12:35.013Z"
   },
   {
    "duration": 25,
    "start_time": "2022-12-13T08:12:35.049Z"
   },
   {
    "duration": 23,
    "start_time": "2022-12-13T08:12:35.075Z"
   },
   {
    "duration": 22,
    "start_time": "2022-12-13T08:12:35.099Z"
   },
   {
    "duration": 22,
    "start_time": "2022-12-13T08:14:10.786Z"
   },
   {
    "duration": 59,
    "start_time": "2022-12-13T08:15:55.986Z"
   },
   {
    "duration": 71,
    "start_time": "2022-12-13T08:16:23.098Z"
   },
   {
    "duration": 22,
    "start_time": "2022-12-13T08:16:36.454Z"
   },
   {
    "duration": 13,
    "start_time": "2022-12-13T08:17:03.146Z"
   },
   {
    "duration": 24,
    "start_time": "2022-12-13T08:17:12.492Z"
   },
   {
    "duration": 23,
    "start_time": "2022-12-13T08:39:57.181Z"
   },
   {
    "duration": 58,
    "start_time": "2022-12-13T08:41:22.272Z"
   },
   {
    "duration": 22,
    "start_time": "2022-12-13T08:41:37.701Z"
   },
   {
    "duration": 16,
    "start_time": "2022-12-13T08:43:05.753Z"
   },
   {
    "duration": 16,
    "start_time": "2022-12-13T08:43:20.812Z"
   },
   {
    "duration": 14,
    "start_time": "2022-12-13T08:44:29.101Z"
   },
   {
    "duration": 16,
    "start_time": "2022-12-13T08:45:16.876Z"
   },
   {
    "duration": 15,
    "start_time": "2022-12-13T08:45:27.012Z"
   },
   {
    "duration": 22,
    "start_time": "2022-12-13T08:46:25.593Z"
   },
   {
    "duration": 22,
    "start_time": "2022-12-13T08:46:44.233Z"
   },
   {
    "duration": 586,
    "start_time": "2022-12-13T10:47:34.718Z"
   },
   {
    "duration": 24,
    "start_time": "2022-12-13T10:47:35.306Z"
   },
   {
    "duration": 19,
    "start_time": "2022-12-13T10:47:35.331Z"
   },
   {
    "duration": 11,
    "start_time": "2022-12-13T10:47:35.351Z"
   },
   {
    "duration": 44,
    "start_time": "2022-12-13T10:47:35.364Z"
   },
   {
    "duration": 4,
    "start_time": "2022-12-13T10:47:35.410Z"
   },
   {
    "duration": 12,
    "start_time": "2022-12-13T10:47:35.415Z"
   },
   {
    "duration": 8,
    "start_time": "2022-12-13T10:47:35.429Z"
   },
   {
    "duration": 9,
    "start_time": "2022-12-13T10:47:35.451Z"
   },
   {
    "duration": 16,
    "start_time": "2022-12-13T10:47:35.461Z"
   },
   {
    "duration": 42,
    "start_time": "2022-12-13T10:47:35.479Z"
   },
   {
    "duration": 11,
    "start_time": "2022-12-13T10:47:35.522Z"
   },
   {
    "duration": 12,
    "start_time": "2022-12-13T10:47:35.535Z"
   },
   {
    "duration": 22,
    "start_time": "2022-12-13T10:47:35.553Z"
   },
   {
    "duration": 35,
    "start_time": "2022-12-13T10:47:35.577Z"
   },
   {
    "duration": 18,
    "start_time": "2022-12-13T10:47:35.614Z"
   },
   {
    "duration": 9,
    "start_time": "2022-12-13T10:47:35.634Z"
   },
   {
    "duration": 29,
    "start_time": "2022-12-13T10:47:35.644Z"
   },
   {
    "duration": 24,
    "start_time": "2022-12-13T10:47:35.674Z"
   },
   {
    "duration": 15,
    "start_time": "2022-12-13T10:47:35.699Z"
   },
   {
    "duration": 25,
    "start_time": "2022-12-13T10:47:35.715Z"
   },
   {
    "duration": 74,
    "start_time": "2022-12-13T10:47:35.742Z"
   },
   {
    "duration": 0,
    "start_time": "2022-12-13T10:47:35.817Z"
   },
   {
    "duration": 0,
    "start_time": "2022-12-13T10:47:35.819Z"
   },
   {
    "duration": 0,
    "start_time": "2022-12-13T10:47:35.820Z"
   },
   {
    "duration": 29,
    "start_time": "2022-12-13T10:48:06.710Z"
   },
   {
    "duration": 25,
    "start_time": "2022-12-13T10:48:16.669Z"
   },
   {
    "duration": 25,
    "start_time": "2022-12-13T10:48:27.530Z"
   },
   {
    "duration": 27,
    "start_time": "2022-12-13T10:48:35.193Z"
   },
   {
    "duration": 25,
    "start_time": "2022-12-13T10:48:57.023Z"
   },
   {
    "duration": 25,
    "start_time": "2022-12-13T10:49:03.838Z"
   },
   {
    "duration": 25,
    "start_time": "2022-12-13T11:02:56.869Z"
   },
   {
    "duration": 93,
    "start_time": "2022-12-13T11:04:32.530Z"
   },
   {
    "duration": 27,
    "start_time": "2022-12-13T11:04:44.617Z"
   },
   {
    "duration": 94,
    "start_time": "2022-12-13T11:07:45.369Z"
   },
   {
    "duration": 98,
    "start_time": "2022-12-13T11:07:57.809Z"
   },
   {
    "duration": 27,
    "start_time": "2022-12-13T11:08:03.138Z"
   },
   {
    "duration": 24,
    "start_time": "2022-12-13T11:11:20.318Z"
   },
   {
    "duration": 35,
    "start_time": "2022-12-13T11:21:09.169Z"
   },
   {
    "duration": 33,
    "start_time": "2022-12-13T11:22:43.343Z"
   },
   {
    "duration": 28,
    "start_time": "2022-12-13T11:22:55.399Z"
   },
   {
    "duration": 8,
    "start_time": "2022-12-13T11:24:22.160Z"
   },
   {
    "duration": 31,
    "start_time": "2022-12-13T11:24:39.164Z"
   },
   {
    "duration": 39,
    "start_time": "2022-12-13T11:24:56.510Z"
   },
   {
    "duration": 79,
    "start_time": "2022-12-13T11:25:10.200Z"
   },
   {
    "duration": 36,
    "start_time": "2022-12-13T11:25:22.860Z"
   },
   {
    "duration": 25,
    "start_time": "2022-12-13T11:31:34.100Z"
   },
   {
    "duration": 27,
    "start_time": "2022-12-13T11:32:14.419Z"
   },
   {
    "duration": 27,
    "start_time": "2022-12-13T11:32:54.694Z"
   },
   {
    "duration": 9,
    "start_time": "2022-12-13T11:33:12.834Z"
   },
   {
    "duration": 36,
    "start_time": "2022-12-13T11:35:32.914Z"
   },
   {
    "duration": 31,
    "start_time": "2022-12-13T11:35:46.186Z"
   },
   {
    "duration": 30,
    "start_time": "2022-12-13T11:36:34.314Z"
   },
   {
    "duration": 74,
    "start_time": "2022-12-13T11:37:09.406Z"
   },
   {
    "duration": 16,
    "start_time": "2022-12-13T11:37:09.482Z"
   },
   {
    "duration": 17,
    "start_time": "2022-12-13T11:37:09.500Z"
   },
   {
    "duration": 11,
    "start_time": "2022-12-13T11:37:09.520Z"
   },
   {
    "duration": 44,
    "start_time": "2022-12-13T11:37:09.551Z"
   },
   {
    "duration": 5,
    "start_time": "2022-12-13T11:37:09.597Z"
   },
   {
    "duration": 22,
    "start_time": "2022-12-13T11:37:09.604Z"
   },
   {
    "duration": 6,
    "start_time": "2022-12-13T11:37:09.628Z"
   },
   {
    "duration": 6,
    "start_time": "2022-12-13T11:37:09.653Z"
   },
   {
    "duration": 13,
    "start_time": "2022-12-13T11:37:09.662Z"
   },
   {
    "duration": 49,
    "start_time": "2022-12-13T11:37:09.678Z"
   },
   {
    "duration": 26,
    "start_time": "2022-12-13T11:37:09.729Z"
   },
   {
    "duration": 7,
    "start_time": "2022-12-13T11:37:09.757Z"
   },
   {
    "duration": 26,
    "start_time": "2022-12-13T11:37:09.766Z"
   },
   {
    "duration": 34,
    "start_time": "2022-12-13T11:37:09.794Z"
   },
   {
    "duration": 31,
    "start_time": "2022-12-13T11:37:09.830Z"
   },
   {
    "duration": 6,
    "start_time": "2022-12-13T11:37:09.863Z"
   },
   {
    "duration": 17,
    "start_time": "2022-12-13T11:37:09.871Z"
   },
   {
    "duration": 12,
    "start_time": "2022-12-13T11:37:09.889Z"
   },
   {
    "duration": 8,
    "start_time": "2022-12-13T11:37:09.904Z"
   },
   {
    "duration": 37,
    "start_time": "2022-12-13T11:37:09.914Z"
   },
   {
    "duration": 38,
    "start_time": "2022-12-13T11:37:09.953Z"
   },
   {
    "duration": 31,
    "start_time": "2022-12-13T11:37:09.993Z"
   },
   {
    "duration": 47,
    "start_time": "2022-12-13T11:37:10.026Z"
   },
   {
    "duration": 9,
    "start_time": "2022-12-13T11:37:10.075Z"
   },
   {
    "duration": 50,
    "start_time": "2022-12-13T19:41:34.796Z"
   },
   {
    "duration": 711,
    "start_time": "2022-12-13T19:41:45.579Z"
   },
   {
    "duration": 21,
    "start_time": "2022-12-13T19:41:46.292Z"
   },
   {
    "duration": 15,
    "start_time": "2022-12-13T19:41:46.315Z"
   },
   {
    "duration": 10,
    "start_time": "2022-12-13T19:41:46.332Z"
   },
   {
    "duration": 34,
    "start_time": "2022-12-13T19:41:46.343Z"
   },
   {
    "duration": 3,
    "start_time": "2022-12-13T19:41:46.378Z"
   },
   {
    "duration": 10,
    "start_time": "2022-12-13T19:41:46.383Z"
   },
   {
    "duration": 21,
    "start_time": "2022-12-13T19:41:46.395Z"
   },
   {
    "duration": 12,
    "start_time": "2022-12-13T19:41:46.418Z"
   },
   {
    "duration": 5,
    "start_time": "2022-12-13T19:41:46.432Z"
   },
   {
    "duration": 34,
    "start_time": "2022-12-13T19:41:46.438Z"
   },
   {
    "duration": 9,
    "start_time": "2022-12-13T19:41:46.474Z"
   },
   {
    "duration": 6,
    "start_time": "2022-12-13T19:41:46.484Z"
   },
   {
    "duration": 34,
    "start_time": "2022-12-13T19:41:46.492Z"
   },
   {
    "duration": 20,
    "start_time": "2022-12-13T19:41:46.528Z"
   },
   {
    "duration": 19,
    "start_time": "2022-12-13T19:41:46.549Z"
   },
   {
    "duration": 4,
    "start_time": "2022-12-13T19:41:46.569Z"
   },
   {
    "duration": 13,
    "start_time": "2022-12-13T19:41:46.575Z"
   },
   {
    "duration": 6,
    "start_time": "2022-12-13T19:41:46.616Z"
   },
   {
    "duration": 6,
    "start_time": "2022-12-13T19:41:46.623Z"
   },
   {
    "duration": 15,
    "start_time": "2022-12-13T19:41:46.631Z"
   },
   {
    "duration": 52,
    "start_time": "2022-12-13T19:41:46.648Z"
   },
   {
    "duration": 45,
    "start_time": "2022-12-13T19:41:46.703Z"
   },
   {
    "duration": 33,
    "start_time": "2022-12-13T19:41:46.750Z"
   },
   {
    "duration": 34,
    "start_time": "2022-12-13T19:41:46.785Z"
   },
   {
    "duration": 777,
    "start_time": "2022-12-13T19:42:37.592Z"
   },
   {
    "duration": 779,
    "start_time": "2022-12-13T19:43:02.034Z"
   },
   {
    "duration": 714,
    "start_time": "2022-12-13T19:43:34.937Z"
   },
   {
    "duration": 25,
    "start_time": "2022-12-13T19:44:14.731Z"
   },
   {
    "duration": 796,
    "start_time": "2022-12-13T19:45:43.059Z"
   },
   {
    "duration": 443,
    "start_time": "2022-12-13T19:46:01.048Z"
   },
   {
    "duration": 21,
    "start_time": "2022-12-13T19:46:01.492Z"
   },
   {
    "duration": 34,
    "start_time": "2022-12-13T19:46:01.514Z"
   },
   {
    "duration": 17,
    "start_time": "2022-12-13T19:46:01.550Z"
   },
   {
    "duration": 56,
    "start_time": "2022-12-13T19:46:01.569Z"
   },
   {
    "duration": 4,
    "start_time": "2022-12-13T19:46:01.626Z"
   },
   {
    "duration": 28,
    "start_time": "2022-12-13T19:46:01.631Z"
   },
   {
    "duration": 18,
    "start_time": "2022-12-13T19:46:01.661Z"
   },
   {
    "duration": 13,
    "start_time": "2022-12-13T19:46:01.681Z"
   },
   {
    "duration": 13,
    "start_time": "2022-12-13T19:46:01.696Z"
   },
   {
    "duration": 34,
    "start_time": "2022-12-13T19:46:01.710Z"
   },
   {
    "duration": 9,
    "start_time": "2022-12-13T19:46:01.746Z"
   },
   {
    "duration": 5,
    "start_time": "2022-12-13T19:46:01.757Z"
   },
   {
    "duration": 25,
    "start_time": "2022-12-13T19:46:01.764Z"
   },
   {
    "duration": 30,
    "start_time": "2022-12-13T19:46:01.791Z"
   },
   {
    "duration": 19,
    "start_time": "2022-12-13T19:46:01.822Z"
   },
   {
    "duration": 5,
    "start_time": "2022-12-13T19:46:01.842Z"
   },
   {
    "duration": 25,
    "start_time": "2022-12-13T19:46:01.848Z"
   },
   {
    "duration": 7,
    "start_time": "2022-12-13T19:46:01.874Z"
   },
   {
    "duration": 7,
    "start_time": "2022-12-13T19:46:01.883Z"
   },
   {
    "duration": 15,
    "start_time": "2022-12-13T19:46:01.892Z"
   },
   {
    "duration": 1005,
    "start_time": "2022-12-13T19:46:01.908Z"
   },
   {
    "duration": 0,
    "start_time": "2022-12-13T19:46:02.914Z"
   },
   {
    "duration": 0,
    "start_time": "2022-12-13T19:46:02.915Z"
   },
   {
    "duration": 0,
    "start_time": "2022-12-13T19:46:02.917Z"
   },
   {
    "duration": 25,
    "start_time": "2022-12-13T19:47:11.566Z"
   },
   {
    "duration": 30,
    "start_time": "2022-12-13T19:47:23.113Z"
   },
   {
    "duration": 25,
    "start_time": "2022-12-13T19:47:57.796Z"
   },
   {
    "duration": 26,
    "start_time": "2022-12-13T19:48:08.405Z"
   },
   {
    "duration": 26,
    "start_time": "2022-12-13T19:51:05.831Z"
   },
   {
    "duration": 26,
    "start_time": "2022-12-13T19:51:09.416Z"
   },
   {
    "duration": 25,
    "start_time": "2022-12-13T19:54:05.124Z"
   },
   {
    "duration": 25,
    "start_time": "2022-12-13T19:56:11.472Z"
   },
   {
    "duration": 30,
    "start_time": "2022-12-13T20:00:15.490Z"
   },
   {
    "duration": 29,
    "start_time": "2022-12-13T20:00:32.183Z"
   },
   {
    "duration": 30,
    "start_time": "2022-12-13T20:00:38.654Z"
   },
   {
    "duration": 513,
    "start_time": "2022-12-13T20:00:49.491Z"
   },
   {
    "duration": 29,
    "start_time": "2022-12-13T20:00:50.006Z"
   },
   {
    "duration": 16,
    "start_time": "2022-12-13T20:00:50.037Z"
   },
   {
    "duration": 11,
    "start_time": "2022-12-13T20:00:50.056Z"
   },
   {
    "duration": 54,
    "start_time": "2022-12-13T20:00:50.069Z"
   },
   {
    "duration": 3,
    "start_time": "2022-12-13T20:00:50.125Z"
   },
   {
    "duration": 12,
    "start_time": "2022-12-13T20:00:50.130Z"
   },
   {
    "duration": 5,
    "start_time": "2022-12-13T20:00:50.143Z"
   },
   {
    "duration": 11,
    "start_time": "2022-12-13T20:00:50.149Z"
   },
   {
    "duration": 7,
    "start_time": "2022-12-13T20:00:50.162Z"
   },
   {
    "duration": 54,
    "start_time": "2022-12-13T20:00:50.171Z"
   },
   {
    "duration": 11,
    "start_time": "2022-12-13T20:00:50.226Z"
   },
   {
    "duration": 16,
    "start_time": "2022-12-13T20:00:50.239Z"
   },
   {
    "duration": 24,
    "start_time": "2022-12-13T20:00:50.257Z"
   },
   {
    "duration": 36,
    "start_time": "2022-12-13T20:00:50.283Z"
   },
   {
    "duration": 18,
    "start_time": "2022-12-13T20:00:50.321Z"
   },
   {
    "duration": 4,
    "start_time": "2022-12-13T20:00:50.341Z"
   },
   {
    "duration": 15,
    "start_time": "2022-12-13T20:00:50.346Z"
   },
   {
    "duration": 6,
    "start_time": "2022-12-13T20:00:50.363Z"
   },
   {
    "duration": 14,
    "start_time": "2022-12-13T20:00:50.370Z"
   },
   {
    "duration": 15,
    "start_time": "2022-12-13T20:00:50.386Z"
   },
   {
    "duration": 101,
    "start_time": "2022-12-13T20:00:50.402Z"
   },
   {
    "duration": 0,
    "start_time": "2022-12-13T20:00:50.505Z"
   },
   {
    "duration": 0,
    "start_time": "2022-12-13T20:00:50.515Z"
   },
   {
    "duration": 0,
    "start_time": "2022-12-13T20:00:50.516Z"
   },
   {
    "duration": 31,
    "start_time": "2022-12-13T20:00:57.500Z"
   },
   {
    "duration": 25,
    "start_time": "2022-12-13T20:01:15.174Z"
   },
   {
    "duration": 27,
    "start_time": "2022-12-13T20:03:08.668Z"
   },
   {
    "duration": 64,
    "start_time": "2022-12-14T07:02:25.414Z"
   },
   {
    "duration": 534,
    "start_time": "2022-12-14T07:02:35.416Z"
   },
   {
    "duration": 25,
    "start_time": "2022-12-14T07:02:35.952Z"
   },
   {
    "duration": 14,
    "start_time": "2022-12-14T07:02:35.978Z"
   },
   {
    "duration": 19,
    "start_time": "2022-12-14T07:02:35.994Z"
   },
   {
    "duration": 33,
    "start_time": "2022-12-14T07:02:36.015Z"
   },
   {
    "duration": 4,
    "start_time": "2022-12-14T07:02:36.049Z"
   },
   {
    "duration": 12,
    "start_time": "2022-12-14T07:02:36.054Z"
   },
   {
    "duration": 4,
    "start_time": "2022-12-14T07:02:36.068Z"
   },
   {
    "duration": 22,
    "start_time": "2022-12-14T07:02:36.073Z"
   },
   {
    "duration": 25,
    "start_time": "2022-12-14T07:02:36.097Z"
   },
   {
    "duration": 153,
    "start_time": "2022-12-14T07:02:36.123Z"
   },
   {
    "duration": 9,
    "start_time": "2022-12-14T07:02:36.278Z"
   },
   {
    "duration": 17,
    "start_time": "2022-12-14T07:02:36.289Z"
   },
   {
    "duration": 32,
    "start_time": "2022-12-14T07:02:36.309Z"
   },
   {
    "duration": 41,
    "start_time": "2022-12-14T07:02:36.343Z"
   },
   {
    "duration": 19,
    "start_time": "2022-12-14T07:02:36.386Z"
   },
   {
    "duration": 3,
    "start_time": "2022-12-14T07:02:36.407Z"
   },
   {
    "duration": 21,
    "start_time": "2022-12-14T07:02:36.412Z"
   },
   {
    "duration": 13,
    "start_time": "2022-12-14T07:02:36.435Z"
   },
   {
    "duration": 4,
    "start_time": "2022-12-14T07:02:36.450Z"
   },
   {
    "duration": 11,
    "start_time": "2022-12-14T07:02:36.455Z"
   },
   {
    "duration": 28,
    "start_time": "2022-12-14T07:02:36.467Z"
   },
   {
    "duration": 41,
    "start_time": "2022-12-14T07:02:36.497Z"
   },
   {
    "duration": 25,
    "start_time": "2022-12-14T07:02:36.540Z"
   },
   {
    "duration": 7,
    "start_time": "2022-12-14T07:02:36.567Z"
   },
   {
    "duration": 72,
    "start_time": "2022-12-14T07:08:28.855Z"
   },
   {
    "duration": 27,
    "start_time": "2022-12-14T07:08:33.695Z"
   },
   {
    "duration": 29,
    "start_time": "2022-12-14T07:10:27.340Z"
   }
  ],
  "colab": {
   "name": "dpp_template_part2.ipynb",
   "provenance": []
  },
  "kernelspec": {
   "display_name": "Python 3 (ipykernel)",
   "language": "python",
   "name": "python3"
  },
  "language_info": {
   "codemirror_mode": {
    "name": "ipython",
    "version": 3
   },
   "file_extension": ".py",
   "mimetype": "text/x-python",
   "name": "python",
   "nbconvert_exporter": "python",
   "pygments_lexer": "ipython3",
   "version": "3.9.13"
  },
  "toc": {
   "base_numbering": 1,
   "nav_menu": {},
   "number_sections": true,
   "sideBar": true,
   "skip_h1_title": true,
   "title_cell": "Table of Contents",
   "title_sidebar": "Contents",
   "toc_cell": false,
   "toc_position": {},
   "toc_section_display": true,
   "toc_window_display": false
  }
 },
 "nbformat": 4,
 "nbformat_minor": 5
}
