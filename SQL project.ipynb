{
 "cells": [
  {
   "cell_type": "markdown",
   "metadata": {},
   "source": [
    "# Проект по SQL"
   ]
  },
  {
   "cell_type": "markdown",
   "metadata": {},
   "source": [
    "## Описание проекта\n",
    "\n",
    "Компания купила крупный сервис для чтения книг по подписке. Задача как аналитика — проанализировать базу данных, решить поставленные задачи.\n",
    "В ней есть информация о книгах, издательствах, авторах, а также пользовательские обзоры книг. "
   ]
  },
  {
   "cell_type": "markdown",
   "metadata": {},
   "source": [
    "## Изучение данных"
   ]
  },
  {
   "cell_type": "code",
   "execution_count": 1,
   "metadata": {},
   "outputs": [],
   "source": [
    "#импорт библиотек\n",
    "import pandas as pd\n",
    "from sqlalchemy import text, create_engine"
   ]
  },
  {
   "cell_type": "code",
   "execution_count": 2,
   "metadata": {},
   "outputs": [],
   "source": [
    "#устанавливаем параметры\n",
    "db_config = {'user': 'praktikum_student', # имя пользователя\n",
    "'pwd': 'Sdf4$2;d-d30pp', # пароль\n",
    "'host': 'rc1b-wcoijxj3yxfsf3fs.mdb.yandexcloud.net',\n",
    "'port': 6432, # порт подключения\n",
    "'db': 'data-analyst-final-project-db'} # название базы данных\n",
    "connection_string = 'postgresql://{user}:{pwd}@{host}:{port}/{db}'.format(**db_config)\n",
    "\n",
    "#сохраняем коннектор\n",
    "engine = create_engine(connection_string, connect_args={'sslmode':'require'})"
   ]
  },
  {
   "cell_type": "code",
   "execution_count": 3,
   "metadata": {},
   "outputs": [
    {
     "data": {
      "text/html": [
       "<div>\n",
       "<style scoped>\n",
       "    .dataframe tbody tr th:only-of-type {\n",
       "        vertical-align: middle;\n",
       "    }\n",
       "\n",
       "    .dataframe tbody tr th {\n",
       "        vertical-align: top;\n",
       "    }\n",
       "\n",
       "    .dataframe thead th {\n",
       "        text-align: right;\n",
       "    }\n",
       "</style>\n",
       "<table border=\"1\" class=\"dataframe\">\n",
       "  <thead>\n",
       "    <tr style=\"text-align: right;\">\n",
       "      <th></th>\n",
       "      <th>book_id</th>\n",
       "      <th>author_id</th>\n",
       "      <th>title</th>\n",
       "      <th>num_pages</th>\n",
       "      <th>publication_date</th>\n",
       "      <th>publisher_id</th>\n",
       "    </tr>\n",
       "  </thead>\n",
       "  <tbody>\n",
       "    <tr>\n",
       "      <th>0</th>\n",
       "      <td>1</td>\n",
       "      <td>546</td>\n",
       "      <td>'Salem's Lot</td>\n",
       "      <td>594</td>\n",
       "      <td>2005-11-01</td>\n",
       "      <td>93</td>\n",
       "    </tr>\n",
       "    <tr>\n",
       "      <th>1</th>\n",
       "      <td>2</td>\n",
       "      <td>465</td>\n",
       "      <td>1 000 Places to See Before You Die</td>\n",
       "      <td>992</td>\n",
       "      <td>2003-05-22</td>\n",
       "      <td>336</td>\n",
       "    </tr>\n",
       "    <tr>\n",
       "      <th>2</th>\n",
       "      <td>3</td>\n",
       "      <td>407</td>\n",
       "      <td>13 Little Blue Envelopes (Little Blue Envelope...</td>\n",
       "      <td>322</td>\n",
       "      <td>2010-12-21</td>\n",
       "      <td>135</td>\n",
       "    </tr>\n",
       "    <tr>\n",
       "      <th>3</th>\n",
       "      <td>4</td>\n",
       "      <td>82</td>\n",
       "      <td>1491: New Revelations of the Americas Before C...</td>\n",
       "      <td>541</td>\n",
       "      <td>2006-10-10</td>\n",
       "      <td>309</td>\n",
       "    </tr>\n",
       "    <tr>\n",
       "      <th>4</th>\n",
       "      <td>5</td>\n",
       "      <td>125</td>\n",
       "      <td>1776</td>\n",
       "      <td>386</td>\n",
       "      <td>2006-07-04</td>\n",
       "      <td>268</td>\n",
       "    </tr>\n",
       "  </tbody>\n",
       "</table>\n",
       "</div>"
      ],
      "text/plain": [
       "   book_id  author_id                                              title  \\\n",
       "0        1        546                                       'Salem's Lot   \n",
       "1        2        465                 1 000 Places to See Before You Die   \n",
       "2        3        407  13 Little Blue Envelopes (Little Blue Envelope...   \n",
       "3        4         82  1491: New Revelations of the Americas Before C...   \n",
       "4        5        125                                               1776   \n",
       "\n",
       "   num_pages publication_date  publisher_id  \n",
       "0        594       2005-11-01            93  \n",
       "1        992       2003-05-22           336  \n",
       "2        322       2010-12-21           135  \n",
       "3        541       2006-10-10           309  \n",
       "4        386       2006-07-04           268  "
      ]
     },
     "metadata": {},
     "output_type": "display_data"
    },
    {
     "data": {
      "text/html": [
       "<div>\n",
       "<style scoped>\n",
       "    .dataframe tbody tr th:only-of-type {\n",
       "        vertical-align: middle;\n",
       "    }\n",
       "\n",
       "    .dataframe tbody tr th {\n",
       "        vertical-align: top;\n",
       "    }\n",
       "\n",
       "    .dataframe thead th {\n",
       "        text-align: right;\n",
       "    }\n",
       "</style>\n",
       "<table border=\"1\" class=\"dataframe\">\n",
       "  <thead>\n",
       "    <tr style=\"text-align: right;\">\n",
       "      <th></th>\n",
       "      <th>author_id</th>\n",
       "      <th>author</th>\n",
       "    </tr>\n",
       "  </thead>\n",
       "  <tbody>\n",
       "    <tr>\n",
       "      <th>0</th>\n",
       "      <td>1</td>\n",
       "      <td>A.S. Byatt</td>\n",
       "    </tr>\n",
       "    <tr>\n",
       "      <th>1</th>\n",
       "      <td>2</td>\n",
       "      <td>Aesop/Laura Harris/Laura Gibbs</td>\n",
       "    </tr>\n",
       "    <tr>\n",
       "      <th>2</th>\n",
       "      <td>3</td>\n",
       "      <td>Agatha Christie</td>\n",
       "    </tr>\n",
       "    <tr>\n",
       "      <th>3</th>\n",
       "      <td>4</td>\n",
       "      <td>Alan Brennert</td>\n",
       "    </tr>\n",
       "    <tr>\n",
       "      <th>4</th>\n",
       "      <td>5</td>\n",
       "      <td>Alan Moore/David   Lloyd</td>\n",
       "    </tr>\n",
       "  </tbody>\n",
       "</table>\n",
       "</div>"
      ],
      "text/plain": [
       "   author_id                          author\n",
       "0          1                      A.S. Byatt\n",
       "1          2  Aesop/Laura Harris/Laura Gibbs\n",
       "2          3                 Agatha Christie\n",
       "3          4                   Alan Brennert\n",
       "4          5        Alan Moore/David   Lloyd"
      ]
     },
     "metadata": {},
     "output_type": "display_data"
    },
    {
     "data": {
      "text/html": [
       "<div>\n",
       "<style scoped>\n",
       "    .dataframe tbody tr th:only-of-type {\n",
       "        vertical-align: middle;\n",
       "    }\n",
       "\n",
       "    .dataframe tbody tr th {\n",
       "        vertical-align: top;\n",
       "    }\n",
       "\n",
       "    .dataframe thead th {\n",
       "        text-align: right;\n",
       "    }\n",
       "</style>\n",
       "<table border=\"1\" class=\"dataframe\">\n",
       "  <thead>\n",
       "    <tr style=\"text-align: right;\">\n",
       "      <th></th>\n",
       "      <th>rating_id</th>\n",
       "      <th>book_id</th>\n",
       "      <th>username</th>\n",
       "      <th>rating</th>\n",
       "    </tr>\n",
       "  </thead>\n",
       "  <tbody>\n",
       "    <tr>\n",
       "      <th>0</th>\n",
       "      <td>1</td>\n",
       "      <td>1</td>\n",
       "      <td>ryanfranco</td>\n",
       "      <td>4</td>\n",
       "    </tr>\n",
       "    <tr>\n",
       "      <th>1</th>\n",
       "      <td>2</td>\n",
       "      <td>1</td>\n",
       "      <td>grantpatricia</td>\n",
       "      <td>2</td>\n",
       "    </tr>\n",
       "    <tr>\n",
       "      <th>2</th>\n",
       "      <td>3</td>\n",
       "      <td>1</td>\n",
       "      <td>brandtandrea</td>\n",
       "      <td>5</td>\n",
       "    </tr>\n",
       "    <tr>\n",
       "      <th>3</th>\n",
       "      <td>4</td>\n",
       "      <td>2</td>\n",
       "      <td>lorichen</td>\n",
       "      <td>3</td>\n",
       "    </tr>\n",
       "    <tr>\n",
       "      <th>4</th>\n",
       "      <td>5</td>\n",
       "      <td>2</td>\n",
       "      <td>mariokeller</td>\n",
       "      <td>2</td>\n",
       "    </tr>\n",
       "  </tbody>\n",
       "</table>\n",
       "</div>"
      ],
      "text/plain": [
       "   rating_id  book_id       username  rating\n",
       "0          1        1     ryanfranco       4\n",
       "1          2        1  grantpatricia       2\n",
       "2          3        1   brandtandrea       5\n",
       "3          4        2       lorichen       3\n",
       "4          5        2    mariokeller       2"
      ]
     },
     "metadata": {},
     "output_type": "display_data"
    },
    {
     "data": {
      "text/html": [
       "<div>\n",
       "<style scoped>\n",
       "    .dataframe tbody tr th:only-of-type {\n",
       "        vertical-align: middle;\n",
       "    }\n",
       "\n",
       "    .dataframe tbody tr th {\n",
       "        vertical-align: top;\n",
       "    }\n",
       "\n",
       "    .dataframe thead th {\n",
       "        text-align: right;\n",
       "    }\n",
       "</style>\n",
       "<table border=\"1\" class=\"dataframe\">\n",
       "  <thead>\n",
       "    <tr style=\"text-align: right;\">\n",
       "      <th></th>\n",
       "      <th>review_id</th>\n",
       "      <th>book_id</th>\n",
       "      <th>username</th>\n",
       "      <th>text</th>\n",
       "    </tr>\n",
       "  </thead>\n",
       "  <tbody>\n",
       "    <tr>\n",
       "      <th>0</th>\n",
       "      <td>1</td>\n",
       "      <td>1</td>\n",
       "      <td>brandtandrea</td>\n",
       "      <td>Mention society tell send professor analysis. ...</td>\n",
       "    </tr>\n",
       "    <tr>\n",
       "      <th>1</th>\n",
       "      <td>2</td>\n",
       "      <td>1</td>\n",
       "      <td>ryanfranco</td>\n",
       "      <td>Foot glass pretty audience hit themselves. Amo...</td>\n",
       "    </tr>\n",
       "    <tr>\n",
       "      <th>2</th>\n",
       "      <td>3</td>\n",
       "      <td>2</td>\n",
       "      <td>lorichen</td>\n",
       "      <td>Listen treat keep worry. Miss husband tax but ...</td>\n",
       "    </tr>\n",
       "    <tr>\n",
       "      <th>3</th>\n",
       "      <td>4</td>\n",
       "      <td>3</td>\n",
       "      <td>johnsonamanda</td>\n",
       "      <td>Finally month interesting blue could nature cu...</td>\n",
       "    </tr>\n",
       "    <tr>\n",
       "      <th>4</th>\n",
       "      <td>5</td>\n",
       "      <td>3</td>\n",
       "      <td>scotttamara</td>\n",
       "      <td>Nation purpose heavy give wait song will. List...</td>\n",
       "    </tr>\n",
       "  </tbody>\n",
       "</table>\n",
       "</div>"
      ],
      "text/plain": [
       "   review_id  book_id       username  \\\n",
       "0          1        1   brandtandrea   \n",
       "1          2        1     ryanfranco   \n",
       "2          3        2       lorichen   \n",
       "3          4        3  johnsonamanda   \n",
       "4          5        3    scotttamara   \n",
       "\n",
       "                                                text  \n",
       "0  Mention society tell send professor analysis. ...  \n",
       "1  Foot glass pretty audience hit themselves. Amo...  \n",
       "2  Listen treat keep worry. Miss husband tax but ...  \n",
       "3  Finally month interesting blue could nature cu...  \n",
       "4  Nation purpose heavy give wait song will. List...  "
      ]
     },
     "metadata": {},
     "output_type": "display_data"
    },
    {
     "data": {
      "text/html": [
       "<div>\n",
       "<style scoped>\n",
       "    .dataframe tbody tr th:only-of-type {\n",
       "        vertical-align: middle;\n",
       "    }\n",
       "\n",
       "    .dataframe tbody tr th {\n",
       "        vertical-align: top;\n",
       "    }\n",
       "\n",
       "    .dataframe thead th {\n",
       "        text-align: right;\n",
       "    }\n",
       "</style>\n",
       "<table border=\"1\" class=\"dataframe\">\n",
       "  <thead>\n",
       "    <tr style=\"text-align: right;\">\n",
       "      <th></th>\n",
       "      <th>publisher_id</th>\n",
       "      <th>publisher</th>\n",
       "    </tr>\n",
       "  </thead>\n",
       "  <tbody>\n",
       "    <tr>\n",
       "      <th>0</th>\n",
       "      <td>1</td>\n",
       "      <td>Ace</td>\n",
       "    </tr>\n",
       "    <tr>\n",
       "      <th>1</th>\n",
       "      <td>2</td>\n",
       "      <td>Ace Book</td>\n",
       "    </tr>\n",
       "    <tr>\n",
       "      <th>2</th>\n",
       "      <td>3</td>\n",
       "      <td>Ace Books</td>\n",
       "    </tr>\n",
       "    <tr>\n",
       "      <th>3</th>\n",
       "      <td>4</td>\n",
       "      <td>Ace Hardcover</td>\n",
       "    </tr>\n",
       "    <tr>\n",
       "      <th>4</th>\n",
       "      <td>5</td>\n",
       "      <td>Addison Wesley Publishing Company</td>\n",
       "    </tr>\n",
       "  </tbody>\n",
       "</table>\n",
       "</div>"
      ],
      "text/plain": [
       "   publisher_id                          publisher\n",
       "0             1                                Ace\n",
       "1             2                           Ace Book\n",
       "2             3                          Ace Books\n",
       "3             4                      Ace Hardcover\n",
       "4             5  Addison Wesley Publishing Company"
      ]
     },
     "metadata": {},
     "output_type": "display_data"
    }
   ],
   "source": [
    "#вывод датасетов\n",
    "for table in ['books', 'authors', 'ratings', 'reviews', 'publishers']:\n",
    "    query = '''SELECT * FROM {} LIMIT 5'''.format(table)\n",
    "    data = pd.io.sql.read_sql(query, con = engine)\n",
    "    display(data)"
   ]
  },
  {
   "cell_type": "code",
   "execution_count": 4,
   "metadata": {},
   "outputs": [
    {
     "name": "stdout",
     "output_type": "stream",
     "text": [
      "<class 'pandas.core.frame.DataFrame'>\n",
      "RangeIndex: 5 entries, 0 to 4\n",
      "Data columns (total 6 columns):\n",
      " #   Column            Non-Null Count  Dtype \n",
      "---  ------            --------------  ----- \n",
      " 0   book_id           5 non-null      int64 \n",
      " 1   author_id         5 non-null      int64 \n",
      " 2   title             5 non-null      object\n",
      " 3   num_pages         5 non-null      int64 \n",
      " 4   publication_date  5 non-null      object\n",
      " 5   publisher_id      5 non-null      int64 \n",
      "dtypes: int64(4), object(2)\n",
      "memory usage: 368.0+ bytes\n"
     ]
    },
    {
     "data": {
      "text/plain": [
       "None"
      ]
     },
     "metadata": {},
     "output_type": "display_data"
    },
    {
     "name": "stdout",
     "output_type": "stream",
     "text": [
      "<class 'pandas.core.frame.DataFrame'>\n",
      "RangeIndex: 5 entries, 0 to 4\n",
      "Data columns (total 2 columns):\n",
      " #   Column     Non-Null Count  Dtype \n",
      "---  ------     --------------  ----- \n",
      " 0   author_id  5 non-null      int64 \n",
      " 1   author     5 non-null      object\n",
      "dtypes: int64(1), object(1)\n",
      "memory usage: 208.0+ bytes\n"
     ]
    },
    {
     "data": {
      "text/plain": [
       "None"
      ]
     },
     "metadata": {},
     "output_type": "display_data"
    },
    {
     "name": "stdout",
     "output_type": "stream",
     "text": [
      "<class 'pandas.core.frame.DataFrame'>\n",
      "RangeIndex: 5 entries, 0 to 4\n",
      "Data columns (total 4 columns):\n",
      " #   Column     Non-Null Count  Dtype \n",
      "---  ------     --------------  ----- \n",
      " 0   rating_id  5 non-null      int64 \n",
      " 1   book_id    5 non-null      int64 \n",
      " 2   username   5 non-null      object\n",
      " 3   rating     5 non-null      int64 \n",
      "dtypes: int64(3), object(1)\n",
      "memory usage: 288.0+ bytes\n"
     ]
    },
    {
     "data": {
      "text/plain": [
       "None"
      ]
     },
     "metadata": {},
     "output_type": "display_data"
    },
    {
     "name": "stdout",
     "output_type": "stream",
     "text": [
      "<class 'pandas.core.frame.DataFrame'>\n",
      "RangeIndex: 5 entries, 0 to 4\n",
      "Data columns (total 4 columns):\n",
      " #   Column     Non-Null Count  Dtype \n",
      "---  ------     --------------  ----- \n",
      " 0   review_id  5 non-null      int64 \n",
      " 1   book_id    5 non-null      int64 \n",
      " 2   username   5 non-null      object\n",
      " 3   text       5 non-null      object\n",
      "dtypes: int64(2), object(2)\n",
      "memory usage: 288.0+ bytes\n"
     ]
    },
    {
     "data": {
      "text/plain": [
       "None"
      ]
     },
     "metadata": {},
     "output_type": "display_data"
    },
    {
     "name": "stdout",
     "output_type": "stream",
     "text": [
      "<class 'pandas.core.frame.DataFrame'>\n",
      "RangeIndex: 5 entries, 0 to 4\n",
      "Data columns (total 2 columns):\n",
      " #   Column        Non-Null Count  Dtype \n",
      "---  ------        --------------  ----- \n",
      " 0   publisher_id  5 non-null      int64 \n",
      " 1   publisher     5 non-null      object\n",
      "dtypes: int64(1), object(1)\n",
      "memory usage: 208.0+ bytes\n"
     ]
    },
    {
     "data": {
      "text/plain": [
       "None"
      ]
     },
     "metadata": {},
     "output_type": "display_data"
    }
   ],
   "source": [
    "#вывод общей информации о датасетах\n",
    "for table in ['books', 'authors', 'ratings', 'reviews', 'publishers']:\n",
    "    query = '''SELECT * FROM {} LIMIT 5'''.format(table)\n",
    "    data = pd.io.sql.read_sql(query, con = engine)\n",
    "    display(data.info())"
   ]
  },
  {
   "cell_type": "markdown",
   "metadata": {},
   "source": [
    "Вывод: импортированы библиотеки, просмотрены датасеты и выведена общая информация о датасетах."
   ]
  },
  {
   "cell_type": "markdown",
   "metadata": {},
   "source": [
    "## Решение заданий"
   ]
  },
  {
   "cell_type": "markdown",
   "metadata": {},
   "source": [
    "### Задание 1. Расчет количества книг, вышедших после 1 января 2000 года. "
   ]
  },
  {
   "cell_type": "code",
   "execution_count": 5,
   "metadata": {},
   "outputs": [
    {
     "data": {
      "text/html": [
       "<div>\n",
       "<style scoped>\n",
       "    .dataframe tbody tr th:only-of-type {\n",
       "        vertical-align: middle;\n",
       "    }\n",
       "\n",
       "    .dataframe tbody tr th {\n",
       "        vertical-align: top;\n",
       "    }\n",
       "\n",
       "    .dataframe thead th {\n",
       "        text-align: right;\n",
       "    }\n",
       "</style>\n",
       "<table border=\"1\" class=\"dataframe\">\n",
       "  <thead>\n",
       "    <tr style=\"text-align: right;\">\n",
       "      <th></th>\n",
       "      <th>count</th>\n",
       "    </tr>\n",
       "  </thead>\n",
       "  <tbody>\n",
       "    <tr>\n",
       "      <th>0</th>\n",
       "      <td>819</td>\n",
       "    </tr>\n",
       "  </tbody>\n",
       "</table>\n",
       "</div>"
      ],
      "text/plain": [
       "   count\n",
       "0    819"
      ]
     },
     "execution_count": 5,
     "metadata": {},
     "output_type": "execute_result"
    }
   ],
   "source": [
    "#количество книг. вышедших после 1 января 2000 года\n",
    "query = '''\n",
    "SELECT COUNT(book_id) \n",
    "FROM books \n",
    "WHERE publication_date > '2000-01-01' \n",
    "'''\n",
    "count_books = pd.io.sql.read_sql(query, engine)\n",
    "\n",
    "count_books"
   ]
  },
  {
   "cell_type": "markdown",
   "metadata": {},
   "source": [
    "Вывод: количество книг, вышедших после 1 января 2000 года, равно 819."
   ]
  },
  {
   "cell_type": "markdown",
   "metadata": {},
   "source": [
    "### Задание 2. Для каждой книги посчитайте количество обзоров и среднюю оценку."
   ]
  },
  {
   "cell_type": "code",
   "execution_count": 6,
   "metadata": {},
   "outputs": [
    {
     "data": {
      "text/html": [
       "<div>\n",
       "<style scoped>\n",
       "    .dataframe tbody tr th:only-of-type {\n",
       "        vertical-align: middle;\n",
       "    }\n",
       "\n",
       "    .dataframe tbody tr th {\n",
       "        vertical-align: top;\n",
       "    }\n",
       "\n",
       "    .dataframe thead th {\n",
       "        text-align: right;\n",
       "    }\n",
       "</style>\n",
       "<table border=\"1\" class=\"dataframe\">\n",
       "  <thead>\n",
       "    <tr style=\"text-align: right;\">\n",
       "      <th></th>\n",
       "      <th>book_id</th>\n",
       "      <th>title</th>\n",
       "      <th>count</th>\n",
       "      <th>avg</th>\n",
       "    </tr>\n",
       "  </thead>\n",
       "  <tbody>\n",
       "    <tr>\n",
       "      <th>0</th>\n",
       "      <td>303</td>\n",
       "      <td>Harvesting the Heart</td>\n",
       "      <td>2</td>\n",
       "      <td>1.50</td>\n",
       "    </tr>\n",
       "    <tr>\n",
       "      <th>1</th>\n",
       "      <td>371</td>\n",
       "      <td>Junky</td>\n",
       "      <td>2</td>\n",
       "      <td>2.00</td>\n",
       "    </tr>\n",
       "    <tr>\n",
       "      <th>2</th>\n",
       "      <td>316</td>\n",
       "      <td>His Excellency: George Washington</td>\n",
       "      <td>2</td>\n",
       "      <td>2.00</td>\n",
       "    </tr>\n",
       "    <tr>\n",
       "      <th>3</th>\n",
       "      <td>202</td>\n",
       "      <td>Drowning Ruth</td>\n",
       "      <td>3</td>\n",
       "      <td>2.00</td>\n",
       "    </tr>\n",
       "    <tr>\n",
       "      <th>4</th>\n",
       "      <td>915</td>\n",
       "      <td>The World Is Flat: A Brief History of the Twen...</td>\n",
       "      <td>3</td>\n",
       "      <td>2.25</td>\n",
       "    </tr>\n",
       "    <tr>\n",
       "      <th>...</th>\n",
       "      <td>...</td>\n",
       "      <td>...</td>\n",
       "      <td>...</td>\n",
       "      <td>...</td>\n",
       "    </tr>\n",
       "    <tr>\n",
       "      <th>995</th>\n",
       "      <td>421</td>\n",
       "      <td>Marvel 1602</td>\n",
       "      <td>2</td>\n",
       "      <td>5.00</td>\n",
       "    </tr>\n",
       "    <tr>\n",
       "      <th>996</th>\n",
       "      <td>418</td>\n",
       "      <td>March</td>\n",
       "      <td>2</td>\n",
       "      <td>5.00</td>\n",
       "    </tr>\n",
       "    <tr>\n",
       "      <th>997</th>\n",
       "      <td>169</td>\n",
       "      <td>Crucial Conversations: Tools for Talking When ...</td>\n",
       "      <td>2</td>\n",
       "      <td>5.00</td>\n",
       "    </tr>\n",
       "    <tr>\n",
       "      <th>998</th>\n",
       "      <td>901</td>\n",
       "      <td>The Walking Dead  Book One (The Walking Dead #...</td>\n",
       "      <td>2</td>\n",
       "      <td>5.00</td>\n",
       "    </tr>\n",
       "    <tr>\n",
       "      <th>999</th>\n",
       "      <td>902</td>\n",
       "      <td>The War of Art: Break Through the Blocks &amp; Win...</td>\n",
       "      <td>2</td>\n",
       "      <td>5.00</td>\n",
       "    </tr>\n",
       "  </tbody>\n",
       "</table>\n",
       "<p>1000 rows × 4 columns</p>\n",
       "</div>"
      ],
      "text/plain": [
       "     book_id                                              title  count   avg\n",
       "0        303                               Harvesting the Heart      2  1.50\n",
       "1        371                                              Junky      2  2.00\n",
       "2        316                  His Excellency: George Washington      2  2.00\n",
       "3        202                                      Drowning Ruth      3  2.00\n",
       "4        915  The World Is Flat: A Brief History of the Twen...      3  2.25\n",
       "..       ...                                                ...    ...   ...\n",
       "995      421                                        Marvel 1602      2  5.00\n",
       "996      418                                              March      2  5.00\n",
       "997      169  Crucial Conversations: Tools for Talking When ...      2  5.00\n",
       "998      901  The Walking Dead  Book One (The Walking Dead #...      2  5.00\n",
       "999      902  The War of Art: Break Through the Blocks & Win...      2  5.00\n",
       "\n",
       "[1000 rows x 4 columns]"
      ]
     },
     "execution_count": 6,
     "metadata": {},
     "output_type": "execute_result"
    }
   ],
   "source": [
    "#расчет количества обзоров и средней оценки для каждой книги\n",
    "query = '''\n",
    "SELECT b.book_id,\n",
    "       b.title,\n",
    "       COUNT(DISTINCT rev.review_id), \n",
    "       AVG(rat.rating)\n",
    "FROM books as b\n",
    "LEFT JOIN reviews AS rev ON rev.book_id = b.book_id\n",
    "LEFT JOIN ratings AS rat ON rat.book_id = b.book_id\n",
    "GROUP BY b.book_id \n",
    "ORDER BY AVG(rat.rating)\n",
    "'''\n",
    "rev_books = pd.io.sql.read_sql(query, engine)\n",
    "\n",
    "rev_books"
   ]
  },
  {
   "cell_type": "markdown",
   "metadata": {},
   "source": [
    "### Задание 3. Определите издательство, которое выпустило наибольшее число книг толще 50 страниц"
   ]
  },
  {
   "cell_type": "code",
   "execution_count": 7,
   "metadata": {},
   "outputs": [
    {
     "data": {
      "text/html": [
       "<div>\n",
       "<style scoped>\n",
       "    .dataframe tbody tr th:only-of-type {\n",
       "        vertical-align: middle;\n",
       "    }\n",
       "\n",
       "    .dataframe tbody tr th {\n",
       "        vertical-align: top;\n",
       "    }\n",
       "\n",
       "    .dataframe thead th {\n",
       "        text-align: right;\n",
       "    }\n",
       "</style>\n",
       "<table border=\"1\" class=\"dataframe\">\n",
       "  <thead>\n",
       "    <tr style=\"text-align: right;\">\n",
       "      <th></th>\n",
       "      <th>publisher</th>\n",
       "      <th>count</th>\n",
       "    </tr>\n",
       "  </thead>\n",
       "  <tbody>\n",
       "    <tr>\n",
       "      <th>0</th>\n",
       "      <td>Penguin Books</td>\n",
       "      <td>42</td>\n",
       "    </tr>\n",
       "  </tbody>\n",
       "</table>\n",
       "</div>"
      ],
      "text/plain": [
       "       publisher  count\n",
       "0  Penguin Books     42"
      ]
     },
     "execution_count": 7,
     "metadata": {},
     "output_type": "execute_result"
    }
   ],
   "source": [
    "#вывод издательства, которое выпустило наибольшее число книг толще 50 страниц \n",
    "query = '''\n",
    "SELECT p.publisher,\n",
    "       COUNT(b.book_id)\n",
    "FROM books AS b\n",
    "INNER JOIN publishers AS p ON b.publisher_id = p.publisher_id\n",
    "WHERE b.num_pages > 50 \n",
    "GROUP BY p.publisher\n",
    "ORDER BY COUNT(b.book_id) DESC\n",
    "LIMIT 1;\n",
    "'''\n",
    "publisher = pd.io.sql.read_sql(query, engine)\n",
    "\n",
    "publisher"
   ]
  },
  {
   "cell_type": "markdown",
   "metadata": {},
   "source": [
    "### Задание 4. Определите автора с самой высокой средней оценкой книг — учитывайте только книги с 50 и более оценками. "
   ]
  },
  {
   "cell_type": "code",
   "execution_count": 8,
   "metadata": {},
   "outputs": [
    {
     "data": {
      "text/html": [
       "<div>\n",
       "<style scoped>\n",
       "    .dataframe tbody tr th:only-of-type {\n",
       "        vertical-align: middle;\n",
       "    }\n",
       "\n",
       "    .dataframe tbody tr th {\n",
       "        vertical-align: top;\n",
       "    }\n",
       "\n",
       "    .dataframe thead th {\n",
       "        text-align: right;\n",
       "    }\n",
       "</style>\n",
       "<table border=\"1\" class=\"dataframe\">\n",
       "  <thead>\n",
       "    <tr style=\"text-align: right;\">\n",
       "      <th></th>\n",
       "      <th>author</th>\n",
       "      <th>avg</th>\n",
       "    </tr>\n",
       "  </thead>\n",
       "  <tbody>\n",
       "    <tr>\n",
       "      <th>0</th>\n",
       "      <td>J.K. Rowling/Mary GrandPré</td>\n",
       "      <td>4.283844</td>\n",
       "    </tr>\n",
       "  </tbody>\n",
       "</table>\n",
       "</div>"
      ],
      "text/plain": [
       "                       author       avg\n",
       "0  J.K. Rowling/Mary GrandPré  4.283844"
      ]
     },
     "execution_count": 8,
     "metadata": {},
     "output_type": "execute_result"
    }
   ],
   "source": [
    "#определение автора с самой высокой средней оценкой книг\n",
    "query = '''\n",
    "SELECT tab_1.author,\n",
    "       AVG(tab_1.avg)\n",
    "\n",
    "FROM\n",
    "\n",
    "(SELECT a.author,\n",
    "       AVG(rat.rating) AS avg, \n",
    "       COUNT(rat.rating) AS count \n",
    "FROM authors AS a\n",
    "INNER JOIN books AS b ON a.author_id = b.author_id\n",
    "INNER JOIN ratings AS rat ON b.book_id = rat.book_id\n",
    "GROUP BY a.author, b.book_id\n",
    "HAVING COUNT(rat.rating) >= 50) AS tab_1\n",
    "GROUP BY author\n",
    "ORDER BY AVG(tab_1.avg) DESC\n",
    "LIMIT 1;\n",
    "\n",
    "'''\n",
    "author = pd.io.sql.read_sql(query, engine)\n",
    "\n",
    "author"
   ]
  },
  {
   "cell_type": "markdown",
   "metadata": {},
   "source": [
    "### Задание 5. Посчитайте среднее количество обзоров от пользователей, которые поставили больше 48 оценок."
   ]
  },
  {
   "cell_type": "code",
   "execution_count": 9,
   "metadata": {},
   "outputs": [
    {
     "data": {
      "text/html": [
       "<div>\n",
       "<style scoped>\n",
       "    .dataframe tbody tr th:only-of-type {\n",
       "        vertical-align: middle;\n",
       "    }\n",
       "\n",
       "    .dataframe tbody tr th {\n",
       "        vertical-align: top;\n",
       "    }\n",
       "\n",
       "    .dataframe thead th {\n",
       "        text-align: right;\n",
       "    }\n",
       "</style>\n",
       "<table border=\"1\" class=\"dataframe\">\n",
       "  <thead>\n",
       "    <tr style=\"text-align: right;\">\n",
       "      <th></th>\n",
       "      <th>avg</th>\n",
       "    </tr>\n",
       "  </thead>\n",
       "  <tbody>\n",
       "    <tr>\n",
       "      <th>0</th>\n",
       "      <td>24.0</td>\n",
       "    </tr>\n",
       "  </tbody>\n",
       "</table>\n",
       "</div>"
      ],
      "text/plain": [
       "    avg\n",
       "0  24.0"
      ]
     },
     "execution_count": 9,
     "metadata": {},
     "output_type": "execute_result"
    }
   ],
   "source": [
    "#расчет среднего количества обзоров от пользователей, которые поставили больше 48 оценок\n",
    "query = '''\n",
    "WITH tab_1 AS \n",
    "(SELECT rev.username, \n",
    "       COUNT(review_id) AS count\n",
    "FROM reviews AS rev\n",
    "WHERE rev.username in\n",
    "       (SELECT username\n",
    "        FROM ratings\n",
    "        GROUP BY username\n",
    "        HAVING count(rating_id) > 48)\n",
    "   GROUP BY username)\n",
    "SELECT SUM (COUNT) / COUNT(COUNT) AS avg\n",
    "FROM tab_1\n",
    "'''\n",
    "reviews = pd.io.sql.read_sql(query, engine)\n",
    "\n",
    "reviews"
   ]
  },
  {
   "cell_type": "markdown",
   "metadata": {},
   "source": [
    "## Общий вывод по проделанной работе"
   ]
  },
  {
   "cell_type": "markdown",
   "metadata": {},
   "source": [
    "В ходе проделанной работы:\n",
    "1. Импортированы необходимые библиотеки;\n",
    "2. Выведены таблицы из базы данных;\n",
    "3. Выведена общая информация о таблицах;\n",
    "4. Решены поставленные задачи. Выявлено:\n",
    "- количество книг, вышедших после 1 января 2000 года, равно 819;\n",
    "- для каждой книги посчитаны количество обзоров и средняя оценка: самая наименьшая оценка поставлена книге Harvesting the Heart;\n",
    "- издательство Penguin Books выпустило 42 книги толще 50 страниц;\n",
    "- автор J.K. Rowling/Mary GrandPré является автором с самой высокой средней оценкой 4.28;\n",
    "- среднее количество обзоров от пользователей, которые поставили больше 48 оценок, составляет 24. "
   ]
  }
 ],
 "metadata": {
  "ExecuteTimeLog": [
   {
    "duration": 48,
    "start_time": "2023-06-03T08:30:12.369Z"
   },
   {
    "duration": 619,
    "start_time": "2023-06-03T08:30:14.553Z"
   },
   {
    "duration": 32767,
    "start_time": "2023-06-03T08:30:16.431Z"
   },
   {
    "duration": 147,
    "start_time": "2023-06-03T08:33:22.468Z"
   },
   {
    "duration": 65,
    "start_time": "2023-06-03T08:33:35.593Z"
   },
   {
    "duration": 5,
    "start_time": "2023-06-03T08:33:37.274Z"
   },
   {
    "duration": 227,
    "start_time": "2023-06-03T08:33:39.892Z"
   },
   {
    "duration": 145,
    "start_time": "2023-06-03T08:33:50.101Z"
   },
   {
    "duration": 61,
    "start_time": "2023-06-03T08:34:23.492Z"
   },
   {
    "duration": 62,
    "start_time": "2023-06-03T08:34:42.884Z"
   },
   {
    "duration": 125,
    "start_time": "2023-06-03T08:35:01.966Z"
   },
   {
    "duration": 64,
    "start_time": "2023-06-03T08:35:05.888Z"
   },
   {
    "duration": 146,
    "start_time": "2023-06-03T08:35:09.577Z"
   },
   {
    "duration": 48,
    "start_time": "2023-06-03T08:58:12.649Z"
   },
   {
    "duration": 52,
    "start_time": "2023-06-03T08:58:35.387Z"
   },
   {
    "duration": 48,
    "start_time": "2023-06-03T08:58:45.622Z"
   },
   {
    "duration": 62,
    "start_time": "2023-06-03T08:59:31.063Z"
   },
   {
    "duration": 73,
    "start_time": "2023-06-03T08:59:35.029Z"
   },
   {
    "duration": 69,
    "start_time": "2023-06-03T08:59:38.939Z"
   },
   {
    "duration": 18,
    "start_time": "2023-06-03T08:59:41.824Z"
   },
   {
    "duration": 5,
    "start_time": "2023-06-03T09:00:14.892Z"
   },
   {
    "duration": 4,
    "start_time": "2023-06-03T09:00:28.999Z"
   },
   {
    "duration": 56,
    "start_time": "2023-06-03T09:00:50.194Z"
   },
   {
    "duration": 156,
    "start_time": "2023-06-03T09:01:07.281Z"
   },
   {
    "duration": 136,
    "start_time": "2023-06-03T09:01:19.163Z"
   },
   {
    "duration": 148,
    "start_time": "2023-06-03T09:01:30.115Z"
   },
   {
    "duration": 122,
    "start_time": "2023-06-03T09:01:38.319Z"
   },
   {
    "duration": 2,
    "start_time": "2023-06-03T09:01:43.944Z"
   },
   {
    "duration": 27,
    "start_time": "2023-06-03T09:01:50.090Z"
   },
   {
    "duration": 51,
    "start_time": "2023-06-03T09:02:07.109Z"
   },
   {
    "duration": 28,
    "start_time": "2023-06-03T09:02:12.992Z"
   },
   {
    "duration": 29,
    "start_time": "2023-06-03T09:02:23.882Z"
   },
   {
    "duration": 25,
    "start_time": "2023-06-03T09:04:33.513Z"
   },
   {
    "duration": 25,
    "start_time": "2023-06-03T09:05:28.657Z"
   },
   {
    "duration": 25,
    "start_time": "2023-06-03T09:05:39.760Z"
   },
   {
    "duration": 25,
    "start_time": "2023-06-03T09:06:05.113Z"
   },
   {
    "duration": 28,
    "start_time": "2023-06-03T09:06:19.102Z"
   },
   {
    "duration": 27,
    "start_time": "2023-06-03T09:06:23.266Z"
   },
   {
    "duration": 27,
    "start_time": "2023-06-03T09:07:01.939Z"
   },
   {
    "duration": 28,
    "start_time": "2023-06-03T09:09:13.758Z"
   },
   {
    "duration": 52,
    "start_time": "2023-06-03T09:23:51.089Z"
   },
   {
    "duration": 61,
    "start_time": "2023-06-03T09:24:25.435Z"
   },
   {
    "duration": 65,
    "start_time": "2023-06-03T09:24:45.040Z"
   },
   {
    "duration": 66,
    "start_time": "2023-06-03T09:25:54.792Z"
   },
   {
    "duration": 45,
    "start_time": "2023-06-03T09:26:31.560Z"
   },
   {
    "duration": 78,
    "start_time": "2023-06-03T09:26:42.872Z"
   },
   {
    "duration": 70,
    "start_time": "2023-06-03T09:27:04.098Z"
   },
   {
    "duration": 47,
    "start_time": "2023-06-03T09:41:15.604Z"
   },
   {
    "duration": 55,
    "start_time": "2023-06-03T09:41:28.555Z"
   },
   {
    "duration": 50,
    "start_time": "2023-06-03T09:41:37.720Z"
   },
   {
    "duration": 45,
    "start_time": "2023-06-03T09:42:26.795Z"
   },
   {
    "duration": 56,
    "start_time": "2023-06-03T09:42:34.058Z"
   },
   {
    "duration": 60,
    "start_time": "2023-06-03T09:42:43.847Z"
   },
   {
    "duration": 55,
    "start_time": "2023-06-03T09:42:54.132Z"
   },
   {
    "duration": 55,
    "start_time": "2023-06-03T09:43:31.529Z"
   },
   {
    "duration": 56,
    "start_time": "2023-06-03T09:43:41.704Z"
   },
   {
    "duration": 54,
    "start_time": "2023-06-03T09:43:50.876Z"
   },
   {
    "duration": 54,
    "start_time": "2023-06-03T09:43:57.765Z"
   },
   {
    "duration": 57,
    "start_time": "2023-06-03T09:44:15.787Z"
   },
   {
    "duration": 53,
    "start_time": "2023-06-03T09:44:26.966Z"
   },
   {
    "duration": 42,
    "start_time": "2023-06-03T09:45:02.198Z"
   },
   {
    "duration": 29,
    "start_time": "2023-06-03T09:45:31.478Z"
   },
   {
    "duration": 31,
    "start_time": "2023-06-03T09:45:37.540Z"
   },
   {
    "duration": 30,
    "start_time": "2023-06-03T09:45:43.902Z"
   },
   {
    "duration": 30,
    "start_time": "2023-06-03T09:46:03.278Z"
   },
   {
    "duration": 30,
    "start_time": "2023-06-03T09:46:11.290Z"
   },
   {
    "duration": 46,
    "start_time": "2023-06-03T09:46:36.058Z"
   },
   {
    "duration": 38,
    "start_time": "2023-06-03T09:46:45.493Z"
   },
   {
    "duration": 30,
    "start_time": "2023-06-03T09:46:50.661Z"
   },
   {
    "duration": 30,
    "start_time": "2023-06-03T09:46:54.759Z"
   },
   {
    "duration": 29,
    "start_time": "2023-06-03T09:47:00.422Z"
   },
   {
    "duration": 29,
    "start_time": "2023-06-03T09:47:29.817Z"
   },
   {
    "duration": 28,
    "start_time": "2023-06-03T09:48:23.851Z"
   },
   {
    "duration": 29,
    "start_time": "2023-06-03T09:48:31.325Z"
   },
   {
    "duration": 29,
    "start_time": "2023-06-03T09:48:40.365Z"
   },
   {
    "duration": 46,
    "start_time": "2023-06-03T09:54:09.547Z"
   },
   {
    "duration": 54,
    "start_time": "2023-06-03T09:54:20.405Z"
   },
   {
    "duration": 56,
    "start_time": "2023-06-03T09:54:35.565Z"
   },
   {
    "duration": 57,
    "start_time": "2023-06-03T09:54:47.334Z"
   },
   {
    "duration": 54,
    "start_time": "2023-06-03T09:55:00.852Z"
   },
   {
    "duration": 54,
    "start_time": "2023-06-03T09:55:08.325Z"
   },
   {
    "duration": 54,
    "start_time": "2023-06-03T09:55:22.255Z"
   },
   {
    "duration": 38,
    "start_time": "2023-06-03T09:55:33.706Z"
   },
   {
    "duration": 45,
    "start_time": "2023-06-03T09:57:44.826Z"
   },
   {
    "duration": 57,
    "start_time": "2023-06-03T09:57:54.888Z"
   },
   {
    "duration": 55,
    "start_time": "2023-06-03T10:00:38.876Z"
   },
   {
    "duration": 55,
    "start_time": "2023-06-03T10:00:57.939Z"
   },
   {
    "duration": 56,
    "start_time": "2023-06-03T10:01:08.546Z"
   },
   {
    "duration": 55,
    "start_time": "2023-06-03T10:01:44.415Z"
   },
   {
    "duration": 44,
    "start_time": "2023-06-03T10:02:00.030Z"
   },
   {
    "duration": 44,
    "start_time": "2023-06-03T10:02:34.154Z"
   },
   {
    "duration": 45,
    "start_time": "2023-06-03T10:02:37.193Z"
   },
   {
    "duration": 32,
    "start_time": "2023-06-03T10:02:42.444Z"
   },
   {
    "duration": 45,
    "start_time": "2023-06-03T10:09:34.291Z"
   },
   {
    "duration": 54,
    "start_time": "2023-06-03T10:09:48.372Z"
   },
   {
    "duration": 54,
    "start_time": "2023-06-03T10:10:04.289Z"
   },
   {
    "duration": 55,
    "start_time": "2023-06-03T10:10:15.162Z"
   },
   {
    "duration": 159,
    "start_time": "2023-06-03T10:10:25.973Z"
   },
   {
    "duration": 45,
    "start_time": "2023-06-03T10:11:06.137Z"
   },
   {
    "duration": 53,
    "start_time": "2023-06-03T10:13:47.526Z"
   },
   {
    "duration": 39,
    "start_time": "2023-06-03T10:17:56.681Z"
   },
   {
    "duration": 32,
    "start_time": "2023-06-03T10:18:13.722Z"
   },
   {
    "duration": 338,
    "start_time": "2023-06-03T10:34:30.240Z"
   },
   {
    "duration": 340,
    "start_time": "2023-06-03T10:37:10.226Z"
   },
   {
    "duration": 342,
    "start_time": "2023-06-03T10:37:40.554Z"
   },
   {
    "duration": 48,
    "start_time": "2023-06-03T10:37:54.956Z"
   },
   {
    "duration": 338,
    "start_time": "2023-06-03T10:38:55.146Z"
   },
   {
    "duration": 6,
    "start_time": "2023-06-03T10:45:20.390Z"
   },
   {
    "duration": 346,
    "start_time": "2023-06-03T10:48:28.464Z"
   },
   {
    "duration": 28,
    "start_time": "2023-06-03T11:00:04.872Z"
   },
   {
    "duration": 462,
    "start_time": "2023-06-03T11:39:08.045Z"
   },
   {
    "duration": 5900,
    "start_time": "2023-06-03T11:39:08.509Z"
   },
   {
    "duration": 508,
    "start_time": "2023-06-03T11:39:14.411Z"
   },
   {
    "duration": 364,
    "start_time": "2023-06-03T11:39:14.921Z"
   },
   {
    "duration": 71,
    "start_time": "2023-06-03T11:39:15.288Z"
   },
   {
    "duration": 0,
    "start_time": "2023-06-03T11:39:15.361Z"
   },
   {
    "duration": 0,
    "start_time": "2023-06-03T11:39:15.362Z"
   },
   {
    "duration": 0,
    "start_time": "2023-06-03T11:39:15.363Z"
   },
   {
    "duration": 0,
    "start_time": "2023-06-03T11:39:15.365Z"
   },
   {
    "duration": 66,
    "start_time": "2023-06-03T11:39:54.591Z"
   },
   {
    "duration": 7,
    "start_time": "2023-06-03T11:40:32.100Z"
   },
   {
    "duration": 326,
    "start_time": "2023-06-03T11:40:40.406Z"
   },
   {
    "duration": 479,
    "start_time": "2023-06-03T11:40:57.823Z"
   },
   {
    "duration": 5082,
    "start_time": "2023-06-03T11:40:58.303Z"
   },
   {
    "duration": 497,
    "start_time": "2023-06-03T11:41:03.387Z"
   },
   {
    "duration": 346,
    "start_time": "2023-06-03T11:41:03.886Z"
   },
   {
    "duration": 68,
    "start_time": "2023-06-03T11:41:04.233Z"
   },
   {
    "duration": 104,
    "start_time": "2023-06-03T11:41:04.302Z"
   },
   {
    "duration": 75,
    "start_time": "2023-06-03T11:41:04.407Z"
   },
   {
    "duration": 75,
    "start_time": "2023-06-03T11:41:04.484Z"
   },
   {
    "duration": 67,
    "start_time": "2023-06-03T11:41:04.561Z"
   },
   {
    "duration": 452,
    "start_time": "2023-06-03T11:42:24.877Z"
   },
   {
    "duration": 5105,
    "start_time": "2023-06-03T11:42:25.335Z"
   },
   {
    "duration": 501,
    "start_time": "2023-06-03T11:42:30.441Z"
   },
   {
    "duration": 358,
    "start_time": "2023-06-03T11:42:30.944Z"
   },
   {
    "duration": 68,
    "start_time": "2023-06-03T11:42:31.304Z"
   },
   {
    "duration": 108,
    "start_time": "2023-06-03T11:42:31.373Z"
   },
   {
    "duration": 73,
    "start_time": "2023-06-03T11:42:31.483Z"
   },
   {
    "duration": 76,
    "start_time": "2023-06-03T11:42:31.558Z"
   },
   {
    "duration": 72,
    "start_time": "2023-06-03T11:42:31.637Z"
   },
   {
    "duration": 1761,
    "start_time": "2023-06-03T21:19:04.383Z"
   },
   {
    "duration": 19194,
    "start_time": "2023-06-03T21:19:06.155Z"
   },
   {
    "duration": 1238,
    "start_time": "2023-06-03T21:19:25.351Z"
   },
   {
    "duration": 751,
    "start_time": "2023-06-03T21:19:26.598Z"
   },
   {
    "duration": 115,
    "start_time": "2023-06-03T21:19:27.386Z"
   },
   {
    "duration": 230,
    "start_time": "2023-06-03T21:19:27.509Z"
   },
   {
    "duration": 118,
    "start_time": "2023-06-03T21:19:27.756Z"
   },
   {
    "duration": 173,
    "start_time": "2023-06-03T21:19:27.880Z"
   },
   {
    "duration": 82,
    "start_time": "2023-06-03T21:19:28.057Z"
   },
   {
    "duration": 131,
    "start_time": "2023-06-03T21:22:14.086Z"
   },
   {
    "duration": 48,
    "start_time": "2023-06-05T10:39:50.676Z"
   },
   {
    "duration": 471,
    "start_time": "2023-06-05T10:39:57.030Z"
   },
   {
    "duration": 19943,
    "start_time": "2023-06-05T10:39:57.502Z"
   },
   {
    "duration": 573,
    "start_time": "2023-06-05T10:40:17.447Z"
   },
   {
    "duration": 385,
    "start_time": "2023-06-05T10:40:18.021Z"
   },
   {
    "duration": 75,
    "start_time": "2023-06-05T10:40:18.409Z"
   },
   {
    "duration": 856,
    "start_time": "2023-06-05T10:40:18.486Z"
   },
   {
    "duration": 76,
    "start_time": "2023-06-05T10:40:19.344Z"
   },
   {
    "duration": 1578,
    "start_time": "2023-06-05T10:40:19.423Z"
   },
   {
    "duration": 77,
    "start_time": "2023-06-05T10:40:21.002Z"
   },
   {
    "duration": 803,
    "start_time": "2023-06-05T10:40:56.360Z"
   },
   {
    "duration": 1293,
    "start_time": "2023-06-05T10:41:57.413Z"
   },
   {
    "duration": 115,
    "start_time": "2023-06-05T10:42:31.316Z"
   },
   {
    "duration": 339,
    "start_time": "2023-06-05T10:42:49.820Z"
   },
   {
    "duration": 123,
    "start_time": "2023-06-05T10:43:15.596Z"
   },
   {
    "duration": 1967,
    "start_time": "2023-06-05T10:44:35.563Z"
   },
   {
    "duration": 235,
    "start_time": "2023-06-05T10:46:49.174Z"
   },
   {
    "duration": 79,
    "start_time": "2023-06-05T10:46:59.796Z"
   },
   {
    "duration": 83,
    "start_time": "2023-06-05T10:52:24.277Z"
   },
   {
    "duration": 83,
    "start_time": "2023-06-05T10:54:02.158Z"
   },
   {
    "duration": 79,
    "start_time": "2023-06-05T10:57:03.200Z"
   },
   {
    "duration": 528,
    "start_time": "2023-06-05T10:58:04.063Z"
   },
   {
    "duration": 5372,
    "start_time": "2023-06-05T10:58:04.593Z"
   },
   {
    "duration": 552,
    "start_time": "2023-06-05T10:58:09.966Z"
   },
   {
    "duration": 381,
    "start_time": "2023-06-05T10:58:10.520Z"
   },
   {
    "duration": 75,
    "start_time": "2023-06-05T10:58:10.903Z"
   },
   {
    "duration": 115,
    "start_time": "2023-06-05T10:58:10.980Z"
   },
   {
    "duration": 74,
    "start_time": "2023-06-05T10:58:11.097Z"
   },
   {
    "duration": 81,
    "start_time": "2023-06-05T10:58:11.173Z"
   },
   {
    "duration": 77,
    "start_time": "2023-06-05T10:58:11.256Z"
   }
  ],
  "kernelspec": {
   "display_name": "Python 3 (ipykernel)",
   "language": "python",
   "name": "python3"
  },
  "language_info": {
   "codemirror_mode": {
    "name": "ipython",
    "version": 3
   },
   "file_extension": ".py",
   "mimetype": "text/x-python",
   "name": "python",
   "nbconvert_exporter": "python",
   "pygments_lexer": "ipython3",
   "version": "3.10.9"
  },
  "toc": {
   "base_numbering": 1,
   "nav_menu": {},
   "number_sections": true,
   "sideBar": true,
   "skip_h1_title": true,
   "title_cell": "Table of Contents",
   "title_sidebar": "Contents",
   "toc_cell": false,
   "toc_position": {},
   "toc_section_display": true,
   "toc_window_display": false
  }
 },
 "nbformat": 4,
 "nbformat_minor": 2
}
