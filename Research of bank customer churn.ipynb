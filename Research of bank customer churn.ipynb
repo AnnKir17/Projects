{
 "cells": [
  {
   "cell_type": "markdown",
   "metadata": {},
   "source": [
    "# Исследовательский анализ оттока клиентов банка "
   ]
  },
  {
   "cell_type": "markdown",
   "metadata": {},
   "source": [
    "## Первая часть "
   ]
  },
  {
   "cell_type": "markdown",
   "metadata": {},
   "source": [
    "### Цель исследования \n",
    "\n",
    "На основе данных датасета bank_dataset.csv необходимо провести исследовательский анализ портретов, поведения, активности клиентов регионального банка и выделить сегменты клиентов, которые склонны уходить из банка."
   ]
  },
  {
   "cell_type": "markdown",
   "metadata": {},
   "source": [
    "### Описание данных\n",
    "Датасет содержит данные о клиентах банка «Метанпром». Банк располагается в Ярославле и областных городах: Ростов Великий и Рыбинск.\n",
    "\n",
    "Столбцы датасета:\n",
    "- `userid` — идентификатор пользователя,\n",
    "- `score` — баллы кредитного скоринга,\n",
    "- `City` — город,\n",
    "- `Gender` — пол,\n",
    "- `Age` — возраст,\n",
    "- `Objects` — количество объектов в собственности \n",
    "- `Balance` — баланс на счёте,\n",
    "- `Products` — количество продуктов, которыми пользуется клиент,\n",
    "- `CreditCard` — есть ли кредитная карта,\n",
    "- `Loyalty` / `last_activity` — активный клиент,\n",
    "- `estimated_salary` — заработная плата клиента,\n",
    "- `Churn` — ушёл или нет."
   ]
  },
  {
   "cell_type": "markdown",
   "metadata": {},
   "source": [
    "### Открытие файла и изучение общей информации о предоставленных данных"
   ]
  },
  {
   "cell_type": "code",
   "execution_count": 1,
   "metadata": {},
   "outputs": [],
   "source": [
    "#импорт необходимых библиотек\n",
    "import pandas as pd\n",
    "import matplotlib.pyplot as plt\n",
    "import numpy as np\n",
    "import seaborn as sns\n",
    "from pandas.plotting import register_matplotlib_converters\n",
    "import warnings\n",
    "import scipy.stats as st\n",
    "register_matplotlib_converters()\n",
    "import warnings\n",
    "warnings.filterwarnings(\"ignore\")\n",
    "plt.rcParams[\"figure.figsize\"] = (15,5)\n",
    "pd.options.display.max_columns = None"
   ]
  },
  {
   "cell_type": "code",
   "execution_count": 2,
   "metadata": {},
   "outputs": [],
   "source": [
    "#чтение файла bank_dataset.csv с данными и сохранение его в переменную \n",
    "data = pd.read_csv('/datasets/bank_dataset.csv')"
   ]
  },
  {
   "cell_type": "code",
   "execution_count": 3,
   "metadata": {},
   "outputs": [
    {
     "data": {
      "text/html": [
       "<div>\n",
       "<style scoped>\n",
       "    .dataframe tbody tr th:only-of-type {\n",
       "        vertical-align: middle;\n",
       "    }\n",
       "\n",
       "    .dataframe tbody tr th {\n",
       "        vertical-align: top;\n",
       "    }\n",
       "\n",
       "    .dataframe thead th {\n",
       "        text-align: right;\n",
       "    }\n",
       "</style>\n",
       "<table border=\"1\" class=\"dataframe\">\n",
       "  <thead>\n",
       "    <tr style=\"text-align: right;\">\n",
       "      <th></th>\n",
       "      <th>userid</th>\n",
       "      <th>score</th>\n",
       "      <th>City</th>\n",
       "      <th>Gender</th>\n",
       "      <th>Age</th>\n",
       "      <th>Objects</th>\n",
       "      <th>Balance</th>\n",
       "      <th>Products</th>\n",
       "      <th>CreditCard</th>\n",
       "      <th>Loyalty</th>\n",
       "      <th>estimated_salary</th>\n",
       "      <th>Churn</th>\n",
       "    </tr>\n",
       "  </thead>\n",
       "  <tbody>\n",
       "    <tr>\n",
       "      <th>0</th>\n",
       "      <td>15677338</td>\n",
       "      <td>619</td>\n",
       "      <td>Ярославль</td>\n",
       "      <td>Ж</td>\n",
       "      <td>42</td>\n",
       "      <td>2</td>\n",
       "      <td>NaN</td>\n",
       "      <td>1</td>\n",
       "      <td>1</td>\n",
       "      <td>1</td>\n",
       "      <td>101348.88</td>\n",
       "      <td>1</td>\n",
       "    </tr>\n",
       "    <tr>\n",
       "      <th>1</th>\n",
       "      <td>15690047</td>\n",
       "      <td>608</td>\n",
       "      <td>Рыбинск</td>\n",
       "      <td>Ж</td>\n",
       "      <td>41</td>\n",
       "      <td>1</td>\n",
       "      <td>83807.86</td>\n",
       "      <td>1</td>\n",
       "      <td>0</td>\n",
       "      <td>1</td>\n",
       "      <td>112542.58</td>\n",
       "      <td>0</td>\n",
       "    </tr>\n",
       "    <tr>\n",
       "      <th>2</th>\n",
       "      <td>15662040</td>\n",
       "      <td>502</td>\n",
       "      <td>Ярославль</td>\n",
       "      <td>Ж</td>\n",
       "      <td>42</td>\n",
       "      <td>8</td>\n",
       "      <td>159660.80</td>\n",
       "      <td>3</td>\n",
       "      <td>1</td>\n",
       "      <td>0</td>\n",
       "      <td>113931.57</td>\n",
       "      <td>1</td>\n",
       "    </tr>\n",
       "    <tr>\n",
       "      <th>3</th>\n",
       "      <td>15744090</td>\n",
       "      <td>699</td>\n",
       "      <td>Ярославль</td>\n",
       "      <td>Ж</td>\n",
       "      <td>39</td>\n",
       "      <td>1</td>\n",
       "      <td>NaN</td>\n",
       "      <td>2</td>\n",
       "      <td>0</td>\n",
       "      <td>0</td>\n",
       "      <td>93826.63</td>\n",
       "      <td>0</td>\n",
       "    </tr>\n",
       "    <tr>\n",
       "      <th>4</th>\n",
       "      <td>15780624</td>\n",
       "      <td>850</td>\n",
       "      <td>Рыбинск</td>\n",
       "      <td>Ж</td>\n",
       "      <td>43</td>\n",
       "      <td>2</td>\n",
       "      <td>125510.82</td>\n",
       "      <td>1</td>\n",
       "      <td>1</td>\n",
       "      <td>1</td>\n",
       "      <td>79084.10</td>\n",
       "      <td>0</td>\n",
       "    </tr>\n",
       "    <tr>\n",
       "      <th>5</th>\n",
       "      <td>15616748</td>\n",
       "      <td>645</td>\n",
       "      <td>Рыбинск</td>\n",
       "      <td>М</td>\n",
       "      <td>44</td>\n",
       "      <td>8</td>\n",
       "      <td>113755.78</td>\n",
       "      <td>2</td>\n",
       "      <td>1</td>\n",
       "      <td>0</td>\n",
       "      <td>149756.71</td>\n",
       "      <td>1</td>\n",
       "    </tr>\n",
       "    <tr>\n",
       "      <th>6</th>\n",
       "      <td>15635267</td>\n",
       "      <td>822</td>\n",
       "      <td>Ярославль</td>\n",
       "      <td>М</td>\n",
       "      <td>50</td>\n",
       "      <td>7</td>\n",
       "      <td>NaN</td>\n",
       "      <td>2</td>\n",
       "      <td>1</td>\n",
       "      <td>1</td>\n",
       "      <td>10062.80</td>\n",
       "      <td>0</td>\n",
       "    </tr>\n",
       "    <tr>\n",
       "      <th>7</th>\n",
       "      <td>15698884</td>\n",
       "      <td>376</td>\n",
       "      <td>Ростов Великий</td>\n",
       "      <td>Ж</td>\n",
       "      <td>29</td>\n",
       "      <td>4</td>\n",
       "      <td>115046.74</td>\n",
       "      <td>4</td>\n",
       "      <td>1</td>\n",
       "      <td>0</td>\n",
       "      <td>119346.88</td>\n",
       "      <td>1</td>\n",
       "    </tr>\n",
       "    <tr>\n",
       "      <th>8</th>\n",
       "      <td>15835101</td>\n",
       "      <td>501</td>\n",
       "      <td>Ярославль</td>\n",
       "      <td>М</td>\n",
       "      <td>44</td>\n",
       "      <td>4</td>\n",
       "      <td>142051.07</td>\n",
       "      <td>2</td>\n",
       "      <td>0</td>\n",
       "      <td>1</td>\n",
       "      <td>74940.50</td>\n",
       "      <td>0</td>\n",
       "    </tr>\n",
       "    <tr>\n",
       "      <th>9</th>\n",
       "      <td>15635125</td>\n",
       "      <td>684</td>\n",
       "      <td>Ярославль</td>\n",
       "      <td>М</td>\n",
       "      <td>27</td>\n",
       "      <td>2</td>\n",
       "      <td>134603.88</td>\n",
       "      <td>1</td>\n",
       "      <td>1</td>\n",
       "      <td>1</td>\n",
       "      <td>71725.73</td>\n",
       "      <td>0</td>\n",
       "    </tr>\n",
       "  </tbody>\n",
       "</table>\n",
       "</div>"
      ],
      "text/plain": [
       "     userid  score            City Gender  Age  Objects    Balance  Products  \\\n",
       "0  15677338    619       Ярославль      Ж   42        2        NaN         1   \n",
       "1  15690047    608         Рыбинск      Ж   41        1   83807.86         1   \n",
       "2  15662040    502       Ярославль      Ж   42        8  159660.80         3   \n",
       "3  15744090    699       Ярославль      Ж   39        1        NaN         2   \n",
       "4  15780624    850         Рыбинск      Ж   43        2  125510.82         1   \n",
       "5  15616748    645         Рыбинск      М   44        8  113755.78         2   \n",
       "6  15635267    822       Ярославль      М   50        7        NaN         2   \n",
       "7  15698884    376  Ростов Великий      Ж   29        4  115046.74         4   \n",
       "8  15835101    501       Ярославль      М   44        4  142051.07         2   \n",
       "9  15635125    684       Ярославль      М   27        2  134603.88         1   \n",
       "\n",
       "   CreditCard  Loyalty  estimated_salary  Churn  \n",
       "0           1        1         101348.88      1  \n",
       "1           0        1         112542.58      0  \n",
       "2           1        0         113931.57      1  \n",
       "3           0        0          93826.63      0  \n",
       "4           1        1          79084.10      0  \n",
       "5           1        0         149756.71      1  \n",
       "6           1        1          10062.80      0  \n",
       "7           1        0         119346.88      1  \n",
       "8           0        1          74940.50      0  \n",
       "9           1        1          71725.73      0  "
      ]
     },
     "execution_count": 3,
     "metadata": {},
     "output_type": "execute_result"
    }
   ],
   "source": [
    "#вывод первых 10 строк датафрейма\n",
    "data.head(10)"
   ]
  },
  {
   "cell_type": "code",
   "execution_count": 4,
   "metadata": {},
   "outputs": [
    {
     "name": "stdout",
     "output_type": "stream",
     "text": [
      "<class 'pandas.core.frame.DataFrame'>\n",
      "RangeIndex: 10000 entries, 0 to 9999\n",
      "Data columns (total 12 columns):\n",
      " #   Column            Non-Null Count  Dtype  \n",
      "---  ------            --------------  -----  \n",
      " 0   userid            10000 non-null  int64  \n",
      " 1   score             10000 non-null  int64  \n",
      " 2   City              10000 non-null  object \n",
      " 3   Gender            10000 non-null  object \n",
      " 4   Age               10000 non-null  int64  \n",
      " 5   Objects           10000 non-null  int64  \n",
      " 6   Balance           6383 non-null   float64\n",
      " 7   Products          10000 non-null  int64  \n",
      " 8   CreditCard        10000 non-null  int64  \n",
      " 9   Loyalty           10000 non-null  int64  \n",
      " 10  estimated_salary  10000 non-null  float64\n",
      " 11  Churn             10000 non-null  int64  \n",
      "dtypes: float64(2), int64(8), object(2)\n",
      "memory usage: 937.6+ KB\n"
     ]
    }
   ],
   "source": [
    "#вывод общей информации о датафрейме \n",
    "data.info()"
   ]
  },
  {
   "cell_type": "markdown",
   "metadata": {},
   "source": [
    "Вывод по первой части: импортированы библиотеки, датасет, просмотрена общая информация о датасете: дан датасет, состоящий из 12 столбцов, 10000 строк, в данных имеются пропуски, также необходимо привести наименование колонок к общему виду, типы данных float, int, object."
   ]
  },
  {
   "cell_type": "markdown",
   "metadata": {},
   "source": [
    "## Вторая часть"
   ]
  },
  {
   "cell_type": "markdown",
   "metadata": {},
   "source": [
    "### Предобработка данных"
   ]
  },
  {
   "cell_type": "code",
   "execution_count": 5,
   "metadata": {},
   "outputs": [
    {
     "data": {
      "text/plain": [
       "userid                 0\n",
       "score                  0\n",
       "City                   0\n",
       "Gender                 0\n",
       "Age                    0\n",
       "Objects                0\n",
       "Balance             3617\n",
       "Products               0\n",
       "CreditCard             0\n",
       "Loyalty                0\n",
       "estimated_salary       0\n",
       "Churn                  0\n",
       "dtype: int64"
      ]
     },
     "execution_count": 5,
     "metadata": {},
     "output_type": "execute_result"
    }
   ],
   "source": [
    "#вывод пропущенных значений датасета \n",
    "data.isnull().sum()"
   ]
  },
  {
   "cell_type": "code",
   "execution_count": 6,
   "metadata": {},
   "outputs": [
    {
     "name": "stdout",
     "output_type": "stream",
     "text": [
      "<class 'pandas.core.frame.DataFrame'>\n",
      "RangeIndex: 10000 entries, 0 to 9999\n",
      "Data columns (total 12 columns):\n",
      " #   Column            Non-Null Count  Dtype  \n",
      "---  ------            --------------  -----  \n",
      " 0   userid            10000 non-null  int64  \n",
      " 1   score             10000 non-null  int64  \n",
      " 2   City              10000 non-null  object \n",
      " 3   Gender            10000 non-null  object \n",
      " 4   Age               10000 non-null  int64  \n",
      " 5   Objects           10000 non-null  int64  \n",
      " 6   Balance           6383 non-null   float64\n",
      " 7   Products          10000 non-null  int64  \n",
      " 8   CreditCard        10000 non-null  int64  \n",
      " 9   Loyalty           10000 non-null  int64  \n",
      " 10  estimated_salary  10000 non-null  float64\n",
      " 11  Churn             10000 non-null  int64  \n",
      "dtypes: float64(2), int64(8), object(2)\n",
      "memory usage: 937.6+ KB\n"
     ]
    }
   ],
   "source": [
    "#вывод общей информации о датафрейме для просмотра типов данных \n",
    "data.info()"
   ]
  },
  {
   "cell_type": "code",
   "execution_count": 7,
   "metadata": {},
   "outputs": [],
   "source": [
    "#приведение наименования столбцов к нижнему регистру \n",
    "data.columns = data.columns.str.lower()"
   ]
  },
  {
   "cell_type": "code",
   "execution_count": 8,
   "metadata": {},
   "outputs": [],
   "source": [
    "#изменение наименований столбцов\n",
    "data = data.rename(\n",
    "                  columns = {\n",
    "                        'userid': 'user_id',\n",
    "                        'score': 'score',\n",
    "                        'City': 'city', \n",
    "                        'Gender':'gender',\n",
    "                        'Age': 'age',\n",
    "                        'Objects': 'objects',\n",
    "                        'Balance': 'balance',\n",
    "                        'Products': 'products',\n",
    "                        'creditcard': 'credit_card',\n",
    "                        'Loyalty': 'loyalty',\n",
    "                        'estimated_salary': 'estimated_salary',\n",
    "                        'Churn': 'churn'\n",
    "                             }\n",
    "                  )"
   ]
  },
  {
   "cell_type": "code",
   "execution_count": 9,
   "metadata": {},
   "outputs": [
    {
     "data": {
      "text/plain": [
       "0"
      ]
     },
     "execution_count": 9,
     "metadata": {},
     "output_type": "execute_result"
    }
   ],
   "source": [
    "#исследование датафрейма на явные дубликаты \n",
    "data.duplicated().sum()"
   ]
  },
  {
   "cell_type": "code",
   "execution_count": 10,
   "metadata": {},
   "outputs": [
    {
     "data": {
      "text/plain": [
       "user_id                0\n",
       "score                  0\n",
       "city                   0\n",
       "gender                 0\n",
       "age                    0\n",
       "objects                0\n",
       "balance             3617\n",
       "products               0\n",
       "credit_card            0\n",
       "loyalty                0\n",
       "estimated_salary       0\n",
       "churn                  0\n",
       "dtype: int64"
      ]
     },
     "execution_count": 10,
     "metadata": {},
     "output_type": "execute_result"
    }
   ],
   "source": [
    "#повторный вывод пропущенных значений датафрейма для их анализа и проверки переименования столбцов\n",
    "data.isnull().sum()"
   ]
  },
  {
   "cell_type": "markdown",
   "metadata": {},
   "source": [
    "Наблюдаются пропущенные значения в столбце balance, необходимо вывести более подробную информацию о данном столбце, чтобы проанализировать, как заполнить пропущенные значения."
   ]
  },
  {
   "cell_type": "code",
   "execution_count": 11,
   "metadata": {},
   "outputs": [
    {
     "data": {
      "text/plain": [
       "count      6383.000000\n",
       "mean     119827.493793\n",
       "std       30095.056462\n",
       "min        3768.690000\n",
       "25%      100181.975000\n",
       "50%      119839.690000\n",
       "75%      139512.290000\n",
       "max      250898.090000\n",
       "Name: balance, dtype: float64"
      ]
     },
     "execution_count": 11,
     "metadata": {},
     "output_type": "execute_result"
    }
   ],
   "source": [
    "data['balance'].describe()"
   ]
  },
  {
   "cell_type": "markdown",
   "metadata": {},
   "source": [
    "Минимальное значение баланса в датасете 3768,69 усл.ед., максимальное значение баланса 250898,09 усл. ед., пропущенных значений 3617, что составляет 36% от общего датасета. \n",
    "Далее рассмотрим отдельно датасет с пропущенными значениями balance и выдвинем предложение о заполнение данных пропусков. "
   ]
  },
  {
   "cell_type": "code",
   "execution_count": 12,
   "metadata": {},
   "outputs": [
    {
     "data": {
      "text/html": [
       "<div>\n",
       "<style scoped>\n",
       "    .dataframe tbody tr th:only-of-type {\n",
       "        vertical-align: middle;\n",
       "    }\n",
       "\n",
       "    .dataframe tbody tr th {\n",
       "        vertical-align: top;\n",
       "    }\n",
       "\n",
       "    .dataframe thead th {\n",
       "        text-align: right;\n",
       "    }\n",
       "</style>\n",
       "<table border=\"1\" class=\"dataframe\">\n",
       "  <thead>\n",
       "    <tr style=\"text-align: right;\">\n",
       "      <th></th>\n",
       "      <th>user_id</th>\n",
       "      <th>score</th>\n",
       "      <th>city</th>\n",
       "      <th>gender</th>\n",
       "      <th>age</th>\n",
       "      <th>objects</th>\n",
       "      <th>balance</th>\n",
       "      <th>products</th>\n",
       "      <th>credit_card</th>\n",
       "      <th>loyalty</th>\n",
       "      <th>estimated_salary</th>\n",
       "      <th>churn</th>\n",
       "    </tr>\n",
       "  </thead>\n",
       "  <tbody>\n",
       "    <tr>\n",
       "      <th>0</th>\n",
       "      <td>15677338</td>\n",
       "      <td>619</td>\n",
       "      <td>Ярославль</td>\n",
       "      <td>Ж</td>\n",
       "      <td>42</td>\n",
       "      <td>2</td>\n",
       "      <td>NaN</td>\n",
       "      <td>1</td>\n",
       "      <td>1</td>\n",
       "      <td>1</td>\n",
       "      <td>101348.88</td>\n",
       "      <td>1</td>\n",
       "    </tr>\n",
       "    <tr>\n",
       "      <th>3</th>\n",
       "      <td>15744090</td>\n",
       "      <td>699</td>\n",
       "      <td>Ярославль</td>\n",
       "      <td>Ж</td>\n",
       "      <td>39</td>\n",
       "      <td>1</td>\n",
       "      <td>NaN</td>\n",
       "      <td>2</td>\n",
       "      <td>0</td>\n",
       "      <td>0</td>\n",
       "      <td>93826.63</td>\n",
       "      <td>0</td>\n",
       "    </tr>\n",
       "    <tr>\n",
       "      <th>6</th>\n",
       "      <td>15635267</td>\n",
       "      <td>822</td>\n",
       "      <td>Ярославль</td>\n",
       "      <td>М</td>\n",
       "      <td>50</td>\n",
       "      <td>7</td>\n",
       "      <td>NaN</td>\n",
       "      <td>2</td>\n",
       "      <td>1</td>\n",
       "      <td>1</td>\n",
       "      <td>10062.80</td>\n",
       "      <td>0</td>\n",
       "    </tr>\n",
       "    <tr>\n",
       "      <th>11</th>\n",
       "      <td>15779909</td>\n",
       "      <td>497</td>\n",
       "      <td>Рыбинск</td>\n",
       "      <td>М</td>\n",
       "      <td>24</td>\n",
       "      <td>3</td>\n",
       "      <td>NaN</td>\n",
       "      <td>2</td>\n",
       "      <td>1</td>\n",
       "      <td>0</td>\n",
       "      <td>76390.01</td>\n",
       "      <td>0</td>\n",
       "    </tr>\n",
       "    <tr>\n",
       "      <th>12</th>\n",
       "      <td>15675000</td>\n",
       "      <td>476</td>\n",
       "      <td>Ярославль</td>\n",
       "      <td>Ж</td>\n",
       "      <td>34</td>\n",
       "      <td>10</td>\n",
       "      <td>NaN</td>\n",
       "      <td>2</td>\n",
       "      <td>1</td>\n",
       "      <td>0</td>\n",
       "      <td>26260.98</td>\n",
       "      <td>0</td>\n",
       "    </tr>\n",
       "    <tr>\n",
       "      <th>...</th>\n",
       "      <td>...</td>\n",
       "      <td>...</td>\n",
       "      <td>...</td>\n",
       "      <td>...</td>\n",
       "      <td>...</td>\n",
       "      <td>...</td>\n",
       "      <td>...</td>\n",
       "      <td>...</td>\n",
       "      <td>...</td>\n",
       "      <td>...</td>\n",
       "      <td>...</td>\n",
       "      <td>...</td>\n",
       "    </tr>\n",
       "    <tr>\n",
       "      <th>9989</th>\n",
       "      <td>15648358</td>\n",
       "      <td>841</td>\n",
       "      <td>Рыбинск</td>\n",
       "      <td>М</td>\n",
       "      <td>28</td>\n",
       "      <td>4</td>\n",
       "      <td>NaN</td>\n",
       "      <td>2</td>\n",
       "      <td>1</td>\n",
       "      <td>1</td>\n",
       "      <td>179436.60</td>\n",
       "      <td>0</td>\n",
       "    </tr>\n",
       "    <tr>\n",
       "      <th>9992</th>\n",
       "      <td>15699841</td>\n",
       "      <td>726</td>\n",
       "      <td>Рыбинск</td>\n",
       "      <td>М</td>\n",
       "      <td>36</td>\n",
       "      <td>2</td>\n",
       "      <td>NaN</td>\n",
       "      <td>1</td>\n",
       "      <td>1</td>\n",
       "      <td>0</td>\n",
       "      <td>195192.40</td>\n",
       "      <td>0</td>\n",
       "    </tr>\n",
       "    <tr>\n",
       "      <th>9994</th>\n",
       "      <td>15762030</td>\n",
       "      <td>800</td>\n",
       "      <td>Ярославль</td>\n",
       "      <td>Ж</td>\n",
       "      <td>29</td>\n",
       "      <td>2</td>\n",
       "      <td>NaN</td>\n",
       "      <td>2</td>\n",
       "      <td>0</td>\n",
       "      <td>0</td>\n",
       "      <td>167773.55</td>\n",
       "      <td>0</td>\n",
       "    </tr>\n",
       "    <tr>\n",
       "      <th>9995</th>\n",
       "      <td>15648965</td>\n",
       "      <td>771</td>\n",
       "      <td>Ярославль</td>\n",
       "      <td>М</td>\n",
       "      <td>39</td>\n",
       "      <td>5</td>\n",
       "      <td>NaN</td>\n",
       "      <td>2</td>\n",
       "      <td>1</td>\n",
       "      <td>0</td>\n",
       "      <td>96270.64</td>\n",
       "      <td>0</td>\n",
       "    </tr>\n",
       "    <tr>\n",
       "      <th>9997</th>\n",
       "      <td>15627268</td>\n",
       "      <td>709</td>\n",
       "      <td>Ярославль</td>\n",
       "      <td>Ж</td>\n",
       "      <td>36</td>\n",
       "      <td>7</td>\n",
       "      <td>NaN</td>\n",
       "      <td>1</td>\n",
       "      <td>0</td>\n",
       "      <td>1</td>\n",
       "      <td>42085.58</td>\n",
       "      <td>1</td>\n",
       "    </tr>\n",
       "  </tbody>\n",
       "</table>\n",
       "<p>3617 rows × 12 columns</p>\n",
       "</div>"
      ],
      "text/plain": [
       "       user_id  score       city gender  age  objects  balance  products  \\\n",
       "0     15677338    619  Ярославль      Ж   42        2      NaN         1   \n",
       "3     15744090    699  Ярославль      Ж   39        1      NaN         2   \n",
       "6     15635267    822  Ярославль      М   50        7      NaN         2   \n",
       "11    15779909    497    Рыбинск      М   24        3      NaN         2   \n",
       "12    15675000    476  Ярославль      Ж   34       10      NaN         2   \n",
       "...        ...    ...        ...    ...  ...      ...      ...       ...   \n",
       "9989  15648358    841    Рыбинск      М   28        4      NaN         2   \n",
       "9992  15699841    726    Рыбинск      М   36        2      NaN         1   \n",
       "9994  15762030    800  Ярославль      Ж   29        2      NaN         2   \n",
       "9995  15648965    771  Ярославль      М   39        5      NaN         2   \n",
       "9997  15627268    709  Ярославль      Ж   36        7      NaN         1   \n",
       "\n",
       "      credit_card  loyalty  estimated_salary  churn  \n",
       "0               1        1         101348.88      1  \n",
       "3               0        0          93826.63      0  \n",
       "6               1        1          10062.80      0  \n",
       "11              1        0          76390.01      0  \n",
       "12              1        0          26260.98      0  \n",
       "...           ...      ...               ...    ...  \n",
       "9989            1        1         179436.60      0  \n",
       "9992            1        0         195192.40      0  \n",
       "9994            0        0         167773.55      0  \n",
       "9995            1        0          96270.64      0  \n",
       "9997            0        1          42085.58      1  \n",
       "\n",
       "[3617 rows x 12 columns]"
      ]
     },
     "metadata": {},
     "output_type": "display_data"
    }
   ],
   "source": [
    "#вывод пропущенных значений столбца balance\n",
    "null_balance = data[data['balance'].isnull()]\n",
    "display(null_balance)"
   ]
  },
  {
   "cell_type": "code",
   "execution_count": 13,
   "metadata": {},
   "outputs": [
    {
     "data": {
      "image/png": "[encoded data removed]",
      "text/plain": [
       "<Figure size 1080x360 with 1 Axes>"
      ]
     },
     "metadata": {
      "needs_background": "light"
     },
     "output_type": "display_data"
    },
    {
     "data": {
      "image/png": "[encoded data removed]",
      "text/plain": [
       "<Figure size 1080x360 with 1 Axes>"
      ]
     },
     "metadata": {
      "needs_background": "light"
     },
     "output_type": "display_data"
    },
    {
     "data": {
      "image/png": "[encoded data removed]",
      "text/plain": [
       "<Figure size 1080x360 with 1 Axes>"
      ]
     },
     "metadata": {
      "needs_background": "light"
     },
     "output_type": "display_data"
    },
    {
     "data": {
      "image/png": "[encoded data removed]",
      "text/plain": [
       "<Figure size 1080x360 with 1 Axes>"
      ]
     },
     "metadata": {
      "needs_background": "light"
     },
     "output_type": "display_data"
    },
    {
     "data": {
      "image/png": "[encoded data removed]",
      "text/plain": [
       "<Figure size 1080x360 with 1 Axes>"
      ]
     },
     "metadata": {
      "needs_background": "light"
     },
     "output_type": "display_data"
    },
    {
     "data": {
      "image/png": "[encoded data removed]",
      "text/plain": [
       "<Figure size 1080x360 with 1 Axes>"
      ]
     },
     "metadata": {
      "needs_background": "light"
     },
     "output_type": "display_data"
    }
   ],
   "source": [
    "#построение графиков распределения по признаку, где есть пропущенные значения balance \n",
    "for col in ['score', 'city', 'gender', 'age', 'objects', 'estimated_salary']:\n",
    "    fig, ax = plt.subplots()\n",
    "    sns.histplot(data=null_balance, \n",
    "                 x=col,  \n",
    "                 stat=\"density\", \n",
    "                 ax=ax,\n",
    "                 common_norm=False, \n",
    "                 palette=\"flag\")\n",
    "    plt.ylabel('Количество клиентов')\n",
    "    plt.title(f'Распределение клиентов по признаку {col}')\n",
    "    plt.show()"
   ]
  },
  {
   "cell_type": "markdown",
   "metadata": {},
   "source": [
    "Вывод: \n",
    "- значения по баллам скоринга распределены равномерно, больше всего клиентов с незаполненным столбцом balance преобладает в Ярославле, больше всего клиентов с незаполненным столбцом balance мужского пола, значения возраста, объектов в собственности, дохода распределены равномерно.\n",
    "- в данном случае можно предположить, что у клиента нулевой баланс, при этом он является пользователем банка и периодически пользуется выпущенными продуктами.\n",
    "- заполнять значения баланса медианными значениями нецелесообразно, так как это индивидуальный показатель, который может варьироваться у разных клиентов. \n",
    "- предложение: заполнить пропущенные значения нулями. "
   ]
  },
  {
   "cell_type": "code",
   "execution_count": 14,
   "metadata": {},
   "outputs": [],
   "source": [
    "#заполнение пропущенных значений столбца balance нулями \n",
    "data = data.fillna(0)"
   ]
  },
  {
   "cell_type": "code",
   "execution_count": 15,
   "metadata": {},
   "outputs": [
    {
     "name": "stdout",
     "output_type": "stream",
     "text": [
      "user_id [15677338 15690047 15662040 ... 15627268 15725091 15671055]\n",
      "score [619 608 502 699 850 645 822 376 501 684 528 497 476 549 635 616 653 587\n",
      " 726 732 636 510 669 846 577 756 571 574 411 591 533 553 520 722 475 490\n",
      " 804 582 472 465 556 834 660 776 829 637 550 698 585 788 655 601 656 725\n",
      " 511 614 742 687 555 603 751 581 735 661 675 738 813 657 604 519 664 678\n",
      " 757 416 665 777 543 506 493 652 750 729 646 647 808 524 769 730 515 773\n",
      " 814 710 413 623 670 622 785 605 479 685 538 562 721 628 668 828 674 625\n",
      " 432 770 758 795 686 789 589 461 584 579 663 682 793 691 485 650 754 535\n",
      " 716 539 706 586 631 717 800 683 704 615 667 484 480 578 512 606 597 778\n",
      " 514 525 715 580 807 521 759 516 711 618 643 671 689 620 676 572 695 592\n",
      " 567 694 547 594 673 610 767 763 712 703 662 659 523 772 545 634 739 771\n",
      " 681 544 696 766 727 693 557 531 498 651 791 733 811 707 714 782 775 799\n",
      " 602 744 588 747 583 627 731 629 438 642 806 474 559 429 680 749 734 644\n",
      " 626 649 805 718 840 630 654 762 568 613 522 737 648 443 640 540 460 593\n",
      " 801 611 802 745 483 690 492 709 705 560 752 701 537 487 596 702 486 724\n",
      " 548 464 790 534 748 494 590 468 509 818 816 536 753 774 621 569 658 798\n",
      " 641 542 692 639 765 570 638 599 632 779 527 564 833 504 842 508 417 598\n",
      " 741 607 761 848 546 439 755 760 526 713 700 666 566 495 688 612 477 427\n",
      " 839 819 720 459 503 624 529 563 482 796 445 746 786 554 672 787 499 844\n",
      " 450 815 838 803 736 633 600 679 517 792 743 488 421 841 708 507 505 456\n",
      " 435 561 518 565 728 784 552 609 764 697 723 551 444 719 496 541 830 812\n",
      " 677 420 595 617 809 500 826 434 513 478 797 363 399 463 780 452 575 837\n",
      " 794 824 428 823 781 849 489 431 457 768 831 359 820 573 576 558 817 449\n",
      " 440 415 821 530 350 446 425 740 481 783 358 845 451 458 469 423 404 836\n",
      " 473 835 466 491 351 827 843 365 532 414 453 471 401 810 832 470 447 422\n",
      " 825 430 436 426 408 847 418 437 410 454 407 455 462 386 405 383 395 467\n",
      " 433 442 424 448 441 367 412 382 373 419]\n",
      "city ['Ярославль' 'Рыбинск' 'Ростов Великий']\n",
      "gender ['Ж' 'М']\n",
      "age [42 41 39 43 44 50 29 27 31 24 34 25 35 45 58 32 38 46 36 33 40 51 61 49\n",
      " 37 19 66 56 26 21 55 75 22 30 28 65 48 52 57 73 47 54 72 20 67 79 62 53\n",
      " 80 59 68 23 60 70 63 64 18 82 69 74 71 76 77 88 85 84 78 81 92 83]\n",
      "objects [ 2  1  8  7  4  6  3 10  5  9  0]\n",
      "balance [     0.    83807.86 159660.8  ...  57369.61  75075.31 130142.79]\n",
      "products [1 3 2 4]\n",
      "credit_card [1 0]\n",
      "loyalty [1 0]\n",
      "estimated_salary [101348.88 112542.58 113931.57 ...  42085.58  92888.52  38190.78]\n",
      "churn [1 0]\n"
     ]
    }
   ],
   "source": [
    "#вывод уникальных значений каждого столбца \n",
    "for col in data.columns:\n",
    "    unique_values = data[col].unique()\n",
    "    print(col, unique_values)"
   ]
  },
  {
   "cell_type": "code",
   "execution_count": 16,
   "metadata": {},
   "outputs": [
    {
     "data": {
      "image/png": "[encoded data removed]",
      "text/plain": [
       "<Figure size 1080x360 with 1 Axes>"
      ]
     },
     "metadata": {
      "needs_background": "light"
     },
     "output_type": "display_data"
    },
    {
     "data": {
      "image/png": "[encoded data removed]",
      "text/plain": [
       "<Figure size 1080x360 with 1 Axes>"
      ]
     },
     "metadata": {
      "needs_background": "light"
     },
     "output_type": "display_data"
    },
    {
     "data": {
      "image/png": "[encoded data removed]",
      "text/plain": [
       "<Figure size 1080x360 with 1 Axes>"
      ]
     },
     "metadata": {
      "needs_background": "light"
     },
     "output_type": "display_data"
    },
    {
     "data": {
      "image/png": "[encoded data removed]",
      "text/plain": [
       "<Figure size 1080x360 with 1 Axes>"
      ]
     },
     "metadata": {
      "needs_background": "light"
     },
     "output_type": "display_data"
    },
    {
     "data": {
      "image/png": "[encoded data removed]",
      "text/plain": [
       "<Figure size 1080x360 with 1 Axes>"
      ]
     },
     "metadata": {
      "needs_background": "light"
     },
     "output_type": "display_data"
    }
   ],
   "source": [
    "#построение боксплотов для просмотра аномальных значений \n",
    "columns = ['score', 'age', 'objects', 'balance', 'estimated_salary']\n",
    "for col in columns:\n",
    "    plt.figure()\n",
    "    sns.boxplot(x=col, data=data, color = 'green')\n",
    "    plt.show()"
   ]
  },
  {
   "cell_type": "markdown",
   "metadata": {},
   "source": [
    "Вывод по второй части: выполнена предобработка данных, наименования столбцов приведены в общий вид, к нижнему регистру, проанализированы пропущенные значения столбца balance, пропущенные значения столбца balance заполнены нулями, выведены уникальные значения каждого столбца, построены боксплоты для просмотра аномалий."
   ]
  },
  {
   "cell_type": "markdown",
   "metadata": {},
   "source": [
    "## Третья часть"
   ]
  },
  {
   "cell_type": "markdown",
   "metadata": {},
   "source": [
    "### Исследовательский анализ данных "
   ]
  },
  {
   "cell_type": "markdown",
   "metadata": {},
   "source": [
    "#### Просмотр общего портрета клиентов банка"
   ]
  },
  {
   "cell_type": "code",
   "execution_count": 17,
   "metadata": {},
   "outputs": [
    {
     "data": {
      "text/html": [
       "<div>\n",
       "<style scoped>\n",
       "    .dataframe tbody tr th:only-of-type {\n",
       "        vertical-align: middle;\n",
       "    }\n",
       "\n",
       "    .dataframe tbody tr th {\n",
       "        vertical-align: top;\n",
       "    }\n",
       "\n",
       "    .dataframe thead th {\n",
       "        text-align: right;\n",
       "    }\n",
       "</style>\n",
       "<table border=\"1\" class=\"dataframe\">\n",
       "  <thead>\n",
       "    <tr style=\"text-align: right;\">\n",
       "      <th></th>\n",
       "      <th>user_id</th>\n",
       "      <th>score</th>\n",
       "      <th>age</th>\n",
       "      <th>objects</th>\n",
       "      <th>balance</th>\n",
       "      <th>products</th>\n",
       "      <th>credit_card</th>\n",
       "      <th>loyalty</th>\n",
       "      <th>estimated_salary</th>\n",
       "      <th>churn</th>\n",
       "    </tr>\n",
       "  </thead>\n",
       "  <tbody>\n",
       "    <tr>\n",
       "      <th>count</th>\n",
       "      <td>10000.0</td>\n",
       "      <td>10000.0</td>\n",
       "      <td>10000.0</td>\n",
       "      <td>10000.0</td>\n",
       "      <td>10000.0</td>\n",
       "      <td>10000.0</td>\n",
       "      <td>10000.0</td>\n",
       "      <td>10000.0</td>\n",
       "      <td>10000.0</td>\n",
       "      <td>10000.0</td>\n",
       "    </tr>\n",
       "    <tr>\n",
       "      <th>mean</th>\n",
       "      <td>15733677.0</td>\n",
       "      <td>651.0</td>\n",
       "      <td>39.0</td>\n",
       "      <td>5.0</td>\n",
       "      <td>76486.0</td>\n",
       "      <td>2.0</td>\n",
       "      <td>1.0</td>\n",
       "      <td>1.0</td>\n",
       "      <td>100090.0</td>\n",
       "      <td>0.0</td>\n",
       "    </tr>\n",
       "    <tr>\n",
       "      <th>std</th>\n",
       "      <td>71936.0</td>\n",
       "      <td>97.0</td>\n",
       "      <td>10.0</td>\n",
       "      <td>3.0</td>\n",
       "      <td>62397.0</td>\n",
       "      <td>1.0</td>\n",
       "      <td>0.0</td>\n",
       "      <td>0.0</td>\n",
       "      <td>57510.0</td>\n",
       "      <td>0.0</td>\n",
       "    </tr>\n",
       "    <tr>\n",
       "      <th>min</th>\n",
       "      <td>15608437.0</td>\n",
       "      <td>350.0</td>\n",
       "      <td>18.0</td>\n",
       "      <td>0.0</td>\n",
       "      <td>0.0</td>\n",
       "      <td>1.0</td>\n",
       "      <td>0.0</td>\n",
       "      <td>0.0</td>\n",
       "      <td>12.0</td>\n",
       "      <td>0.0</td>\n",
       "    </tr>\n",
       "    <tr>\n",
       "      <th>25%</th>\n",
       "      <td>15671264.0</td>\n",
       "      <td>584.0</td>\n",
       "      <td>32.0</td>\n",
       "      <td>3.0</td>\n",
       "      <td>0.0</td>\n",
       "      <td>1.0</td>\n",
       "      <td>0.0</td>\n",
       "      <td>0.0</td>\n",
       "      <td>51002.0</td>\n",
       "      <td>0.0</td>\n",
       "    </tr>\n",
       "    <tr>\n",
       "      <th>50%</th>\n",
       "      <td>15733474.0</td>\n",
       "      <td>652.0</td>\n",
       "      <td>37.0</td>\n",
       "      <td>5.0</td>\n",
       "      <td>97199.0</td>\n",
       "      <td>1.0</td>\n",
       "      <td>1.0</td>\n",
       "      <td>1.0</td>\n",
       "      <td>100194.0</td>\n",
       "      <td>0.0</td>\n",
       "    </tr>\n",
       "    <tr>\n",
       "      <th>75%</th>\n",
       "      <td>15795970.0</td>\n",
       "      <td>718.0</td>\n",
       "      <td>44.0</td>\n",
       "      <td>7.0</td>\n",
       "      <td>127644.0</td>\n",
       "      <td>2.0</td>\n",
       "      <td>1.0</td>\n",
       "      <td>1.0</td>\n",
       "      <td>149388.0</td>\n",
       "      <td>0.0</td>\n",
       "    </tr>\n",
       "    <tr>\n",
       "      <th>max</th>\n",
       "      <td>15858426.0</td>\n",
       "      <td>850.0</td>\n",
       "      <td>92.0</td>\n",
       "      <td>10.0</td>\n",
       "      <td>250898.0</td>\n",
       "      <td>4.0</td>\n",
       "      <td>1.0</td>\n",
       "      <td>1.0</td>\n",
       "      <td>199992.0</td>\n",
       "      <td>1.0</td>\n",
       "    </tr>\n",
       "  </tbody>\n",
       "</table>\n",
       "</div>"
      ],
      "text/plain": [
       "          user_id    score      age  objects   balance  products  credit_card  \\\n",
       "count     10000.0  10000.0  10000.0  10000.0   10000.0   10000.0      10000.0   \n",
       "mean   15733677.0    651.0     39.0      5.0   76486.0       2.0          1.0   \n",
       "std       71936.0     97.0     10.0      3.0   62397.0       1.0          0.0   \n",
       "min    15608437.0    350.0     18.0      0.0       0.0       1.0          0.0   \n",
       "25%    15671264.0    584.0     32.0      3.0       0.0       1.0          0.0   \n",
       "50%    15733474.0    652.0     37.0      5.0   97199.0       1.0          1.0   \n",
       "75%    15795970.0    718.0     44.0      7.0  127644.0       2.0          1.0   \n",
       "max    15858426.0    850.0     92.0     10.0  250898.0       4.0          1.0   \n",
       "\n",
       "       loyalty  estimated_salary    churn  \n",
       "count  10000.0           10000.0  10000.0  \n",
       "mean       1.0          100090.0      0.0  \n",
       "std        0.0           57510.0      0.0  \n",
       "min        0.0              12.0      0.0  \n",
       "25%        0.0           51002.0      0.0  \n",
       "50%        1.0          100194.0      0.0  \n",
       "75%        1.0          149388.0      0.0  \n",
       "max        1.0          199992.0      1.0  "
      ]
     },
     "execution_count": 17,
     "metadata": {},
     "output_type": "execute_result"
    }
   ],
   "source": [
    "#вывод описания всего датасета с расчетом метрик \n",
    "round(data.describe(),0)"
   ]
  },
  {
   "cell_type": "markdown",
   "metadata": {},
   "source": [
    "Вывод: баллы скоринга находятся в среднем в промежутке от 583 до 717 усл. ед., средний возраст клиентов составляет от 32 до 43 лет, количество объектов в собственности в среднем насчитывается в промежутке от 3 до 7 ед., баланса карты клиента в среднем находится в промежутке от 0 до 127660 усл. ед., среднее количество продуктов, используемых клиентами, варьируется в промежутке от 1 до 2 ед., средний уровень дохода клиентов варьируется в промежутке от 51113 до 149459 усл. ед. "
   ]
  },
  {
   "cell_type": "markdown",
   "metadata": {},
   "source": [
    "Далее разделим исходные данные на количественные и категориальные переменные и посмотрим в разрезе данной градации. "
   ]
  },
  {
   "cell_type": "markdown",
   "metadata": {},
   "source": [
    "#### Просмотр общего распределения активности клиентов по городу, полу, наличию кредитной карты"
   ]
  },
  {
   "cell_type": "code",
   "execution_count": 18,
   "metadata": {},
   "outputs": [
    {
     "data": {
      "image/png": "[encoded data removed]",
      "text/plain": [
       "<Figure size 1080x360 with 1 Axes>"
      ]
     },
     "metadata": {
      "needs_background": "light"
     },
     "output_type": "display_data"
    },
    {
     "data": {
      "image/png": "[encoded data removed]",
      "text/plain": [
       "<Figure size 1080x360 with 1 Axes>"
      ]
     },
     "metadata": {
      "needs_background": "light"
     },
     "output_type": "display_data"
    },
    {
     "data": {
      "image/png": "[encoded data removed]",
      "text/plain": [
       "<Figure size 1080x360 with 1 Axes>"
      ]
     },
     "metadata": {
      "needs_background": "light"
     },
     "output_type": "display_data"
    }
   ],
   "source": [
    "for col in ['city','gender', 'credit_card']:\n",
    "    fig, ax = plt.subplots()\n",
    "    sns.histplot(data = data,\n",
    "                hue = 'churn',\n",
    "                x = col,\n",
    "                stat = \"density\",\n",
    "                common_norm = False,\n",
    "                ax = ax,\n",
    "                palette = 'flag'\n",
    "    )\n",
    "    plt.title(f'Распределение клиентов по признаку {col}')\n",
    "    plt.show()"
   ]
  },
  {
   "cell_type": "markdown",
   "metadata": {},
   "source": [
    "Вывод: чаще всего клиенты уходят из банка в Ростове Великом, женщины, и клиенты, не имеющие кредитные карты. "
   ]
  },
  {
   "cell_type": "markdown",
   "metadata": {},
   "source": [
    "#### Просмотр общего распределения активности клиентов по баллам скоринга, возрасту, количеству объектов в собственности, балансу, количеству продуктов, уровню дохода клиентов"
   ]
  },
  {
   "cell_type": "code",
   "execution_count": 19,
   "metadata": {},
   "outputs": [
    {
     "data": {
      "image/png": "[encoded data removed]",
      "text/plain": [
       "<Figure size 1080x360 with 1 Axes>"
      ]
     },
     "metadata": {
      "needs_background": "light"
     },
     "output_type": "display_data"
    },
    {
     "data": {
      "image/png": "[encoded data removed]",
      "text/plain": [
       "<Figure size 1080x360 with 1 Axes>"
      ]
     },
     "metadata": {
      "needs_background": "light"
     },
     "output_type": "display_data"
    },
    {
     "data": {
      "image/png": "[encoded data removed]",
      "text/plain": [
       "<Figure size 1080x360 with 1 Axes>"
      ]
     },
     "metadata": {
      "needs_background": "light"
     },
     "output_type": "display_data"
    },
    {
     "data": {
      "image/png": "[encoded data removed]",
      "text/plain": [
       "<Figure size 1080x360 with 1 Axes>"
      ]
     },
     "metadata": {
      "needs_background": "light"
     },
     "output_type": "display_data"
    },
    {
     "data": {
      "image/png": "[encoded data removed]",
      "text/plain": [
       "<Figure size 1080x360 with 1 Axes>"
      ]
     },
     "metadata": {
      "needs_background": "light"
     },
     "output_type": "display_data"
    },
    {
     "data": {
      "image/png": "[encoded data removed]",
      "text/plain": [
       "<Figure size 1080x360 with 1 Axes>"
      ]
     },
     "metadata": {
      "needs_background": "light"
     },
     "output_type": "display_data"
    }
   ],
   "source": [
    "#просмотр общего распределения активности клиентов по баллам скоринга, возрасту, количеству объектов в собственности, балансу, количеству продуктов, уровню дохода клиентов\n",
    "for col in ['score', 'age', 'objects', 'products', 'balance', 'estimated_salary']:\n",
    "    fig, ax = plt.subplots()\n",
    "    sns.histplot(data = data,\n",
    "                hue = 'churn',\n",
    "                x = col,\n",
    "                stat = \"density\",\n",
    "                common_norm = False,\n",
    "                ax = ax,\n",
    "                palette = 'flag'\n",
    "    )\n",
    "    plt.title(f'Распределение клиентов по признаку {col}')\n",
    "    plt.show()"
   ]
  },
  {
   "cell_type": "markdown",
   "metadata": {},
   "source": [
    "Вывод: \n",
    "- чаще всего клиенты уходят с баллами скоринга до 400\n",
    "- наблюдается уход клиентов с баллами скоринга в промежутке от 512 до 538 \n",
    "- чаще всего уходят клиенты в возрасте от 42 до 62 лет\n",
    "- наблюдается большой отток клиентов, не имюещих объектов в собственности, либо имеющих 1 или 9, наблюдается отток клиентов \n",
    "- наблюдается уход клиентов, имеющих 1, 3, 4 продукта банка\n",
    "- наблюдается уход клиентов, имеющих баланс на карте от 100.000 до 250.000 усл. ед.\n",
    "- наблюдается уход клиентов с уровнем дохода до 25.000, от 50.000 до 75.000, от 150.000 до 200.000 усл. ед. "
   ]
  },
  {
   "cell_type": "markdown",
   "metadata": {},
   "source": [
    "#### Исследование зависимости между признаками и их влиянием на активность клиентов"
   ]
  },
  {
   "cell_type": "code",
   "execution_count": 20,
   "metadata": {},
   "outputs": [
    {
     "data": {
      "image/png": "[encoded data removed]",
      "text/plain": [
       "<Figure size 1080x360 with 2 Axes>"
      ]
     },
     "metadata": {
      "needs_background": "light"
     },
     "output_type": "display_data"
    }
   ],
   "source": [
    "#построение матрицы корреляции \n",
    "sns.heatmap(data[['score', 'age', 'objects', 'balance', 'products', 'estimated_salary', 'credit_card', 'churn']].corr(), \n",
    "            annot = True, fmt='.0%', cmap=\"vlag\", center=0)\n",
    "plt.title('Исследование зависимости между признаками и их влиянием на активность клиентов')\n",
    "plt.xticks(fontsize=10, rotation=90)\n",
    "plt.yticks(fontsize=10, rotation=360)\n",
    "plt.ylabel('Рассматриваемые признаки')\n",
    "plt.xlabel('Рассматриваемые признаки');"
   ]
  },
  {
   "cell_type": "code",
   "execution_count": 21,
   "metadata": {},
   "outputs": [
    {
     "data": {
      "image/png": "[encoded data removed]",
      "text/plain": [
       "<Figure size 360x720 with 2 Axes>"
      ]
     },
     "metadata": {
      "needs_background": "light"
     },
     "output_type": "display_data"
    }
   ],
   "source": [
    "#построение столбца корреляции \n",
    "plt.figure(figsize=(5, 10))\n",
    "sns.heatmap(data[['score', 'age', 'objects', 'balance', 'products', 'estimated_salary', 'credit_card', 'churn']].corr()\n",
    "            .drop('churn').sort_values('churn', ascending=False)[['churn']], \n",
    "            annot = True, fmt='.0%', cmap=\"vlag\", center=0)\n",
    "plt.title('Исследование зависимости между признаками и их влиянием на активность клиентов')\n",
    "plt.xticks(fontsize=10, rotation=360)\n",
    "plt.yticks(fontsize=10, rotation=360)\n",
    "plt.ylabel('Рассматриваемые признаки')\n",
    "plt.xlabel('Рассматриваемые признаки');"
   ]
  },
  {
   "cell_type": "markdown",
   "metadata": {},
   "source": [
    "Вывод: исходя из матрицы корреляции делаем вывод, что возраст и баланс на карте наиболее влияют на активность клиентов. Зависимость возраста и оттока клиентов составляет 29 %, зависимость баланса на карте и оттока клиентов составляет 12 %. "
   ]
  },
  {
   "cell_type": "markdown",
   "metadata": {},
   "source": [
    "#### Выделение сегментов клиентов, склонных уходить из банка "
   ]
  },
  {
   "cell_type": "markdown",
   "metadata": {},
   "source": [
    "Исходя из исследовательского анализа: выделены следующие ключевые признаки, сильно влияющие на отток клиентов: \n",
    "- возраст 48-62 лет, отток клиентов начинается с 51% и растет\n",
    "- количество продуктов, у людей, имеющих 3-4 продукта, отток клиентов составляет от 83% до 100%.\n",
    "- предложение: так как по признаку количества продуктов, % оттока является максимальным и критичным, предлагается проанализировать разделение признаков в зависимости от количества продуктов. "
   ]
  },
  {
   "cell_type": "code",
   "execution_count": 22,
   "metadata": {},
   "outputs": [
    {
     "data": {
      "text/html": [
       "<div>\n",
       "<style scoped>\n",
       "    .dataframe tbody tr th:only-of-type {\n",
       "        vertical-align: middle;\n",
       "    }\n",
       "\n",
       "    .dataframe tbody tr th {\n",
       "        vertical-align: top;\n",
       "    }\n",
       "\n",
       "    .dataframe thead th {\n",
       "        text-align: right;\n",
       "    }\n",
       "</style>\n",
       "<table border=\"1\" class=\"dataframe\">\n",
       "  <thead>\n",
       "    <tr style=\"text-align: right;\">\n",
       "      <th></th>\n",
       "      <th>user_id</th>\n",
       "      <th>score</th>\n",
       "      <th>age</th>\n",
       "      <th>objects</th>\n",
       "      <th>balance</th>\n",
       "      <th>products</th>\n",
       "      <th>credit_card</th>\n",
       "      <th>loyalty</th>\n",
       "      <th>estimated_salary</th>\n",
       "      <th>churn</th>\n",
       "    </tr>\n",
       "  </thead>\n",
       "  <tbody>\n",
       "    <tr>\n",
       "      <th>count</th>\n",
       "      <td>4543.00</td>\n",
       "      <td>4543.00</td>\n",
       "      <td>4543.00</td>\n",
       "      <td>4543.00</td>\n",
       "      <td>4543.00</td>\n",
       "      <td>4543.00</td>\n",
       "      <td>4543.00</td>\n",
       "      <td>4543.0</td>\n",
       "      <td>4543.00</td>\n",
       "      <td>4543.00</td>\n",
       "    </tr>\n",
       "    <tr>\n",
       "      <th>mean</th>\n",
       "      <td>15733884.79</td>\n",
       "      <td>650.83</td>\n",
       "      <td>39.24</td>\n",
       "      <td>4.97</td>\n",
       "      <td>75659.37</td>\n",
       "      <td>1.54</td>\n",
       "      <td>0.70</td>\n",
       "      <td>0.5</td>\n",
       "      <td>100601.54</td>\n",
       "      <td>0.25</td>\n",
       "    </tr>\n",
       "    <tr>\n",
       "      <th>std</th>\n",
       "      <td>71803.16</td>\n",
       "      <td>96.79</td>\n",
       "      <td>10.59</td>\n",
       "      <td>2.91</td>\n",
       "      <td>62102.47</td>\n",
       "      <td>0.60</td>\n",
       "      <td>0.46</td>\n",
       "      <td>0.5</td>\n",
       "      <td>57371.03</td>\n",
       "      <td>0.43</td>\n",
       "    </tr>\n",
       "    <tr>\n",
       "      <th>min</th>\n",
       "      <td>15608437.00</td>\n",
       "      <td>350.00</td>\n",
       "      <td>18.00</td>\n",
       "      <td>0.00</td>\n",
       "      <td>0.00</td>\n",
       "      <td>1.00</td>\n",
       "      <td>0.00</td>\n",
       "      <td>0.0</td>\n",
       "      <td>91.75</td>\n",
       "      <td>0.00</td>\n",
       "    </tr>\n",
       "    <tr>\n",
       "      <th>25%</th>\n",
       "      <td>15671621.50</td>\n",
       "      <td>584.00</td>\n",
       "      <td>32.00</td>\n",
       "      <td>2.00</td>\n",
       "      <td>0.00</td>\n",
       "      <td>1.00</td>\n",
       "      <td>0.00</td>\n",
       "      <td>0.0</td>\n",
       "      <td>51224.48</td>\n",
       "      <td>0.00</td>\n",
       "    </tr>\n",
       "    <tr>\n",
       "      <th>50%</th>\n",
       "      <td>15734219.00</td>\n",
       "      <td>652.00</td>\n",
       "      <td>38.00</td>\n",
       "      <td>5.00</td>\n",
       "      <td>96147.55</td>\n",
       "      <td>1.00</td>\n",
       "      <td>1.00</td>\n",
       "      <td>1.0</td>\n",
       "      <td>101905.34</td>\n",
       "      <td>0.00</td>\n",
       "    </tr>\n",
       "    <tr>\n",
       "      <th>75%</th>\n",
       "      <td>15796378.50</td>\n",
       "      <td>717.00</td>\n",
       "      <td>45.00</td>\n",
       "      <td>7.00</td>\n",
       "      <td>127141.78</td>\n",
       "      <td>2.00</td>\n",
       "      <td>1.00</td>\n",
       "      <td>1.0</td>\n",
       "      <td>148963.12</td>\n",
       "      <td>1.00</td>\n",
       "    </tr>\n",
       "    <tr>\n",
       "      <th>max</th>\n",
       "      <td>15858426.00</td>\n",
       "      <td>850.00</td>\n",
       "      <td>85.00</td>\n",
       "      <td>10.00</td>\n",
       "      <td>238387.56</td>\n",
       "      <td>4.00</td>\n",
       "      <td>1.00</td>\n",
       "      <td>1.0</td>\n",
       "      <td>199992.48</td>\n",
       "      <td>1.00</td>\n",
       "    </tr>\n",
       "  </tbody>\n",
       "</table>\n",
       "</div>"
      ],
      "text/plain": [
       "           user_id    score      age  objects    balance  products  \\\n",
       "count      4543.00  4543.00  4543.00  4543.00    4543.00   4543.00   \n",
       "mean   15733884.79   650.83    39.24     4.97   75659.37      1.54   \n",
       "std       71803.16    96.79    10.59     2.91   62102.47      0.60   \n",
       "min    15608437.00   350.00    18.00     0.00       0.00      1.00   \n",
       "25%    15671621.50   584.00    32.00     2.00       0.00      1.00   \n",
       "50%    15734219.00   652.00    38.00     5.00   96147.55      1.00   \n",
       "75%    15796378.50   717.00    45.00     7.00  127141.78      2.00   \n",
       "max    15858426.00   850.00    85.00    10.00  238387.56      4.00   \n",
       "\n",
       "       credit_card  loyalty  estimated_salary    churn  \n",
       "count      4543.00   4543.0           4543.00  4543.00  \n",
       "mean          0.70      0.5         100601.54     0.25  \n",
       "std           0.46      0.5          57371.03     0.43  \n",
       "min           0.00      0.0             91.75     0.00  \n",
       "25%           0.00      0.0          51224.48     0.00  \n",
       "50%           1.00      1.0         101905.34     0.00  \n",
       "75%           1.00      1.0         148963.12     1.00  \n",
       "max           1.00      1.0         199992.48     1.00  "
      ]
     },
     "execution_count": 22,
     "metadata": {},
     "output_type": "execute_result"
    }
   ],
   "source": [
    "#большой отток наблюдается среди женщин, отфильтруем датасет по полу и просмотрим метрики\n",
    "data_women = data.query(\"gender == 'Ж'\")\n",
    "round(data_women.describe(),2)"
   ]
  },
  {
   "cell_type": "code",
   "execution_count": 23,
   "metadata": {},
   "outputs": [
    {
     "data": {
      "image/png": "[encoded data removed]",
      "text/plain": [
       "<Figure size 1080x360 with 1 Axes>"
      ]
     },
     "metadata": {
      "needs_background": "light"
     },
     "output_type": "display_data"
    },
    {
     "data": {
      "image/png": "[encoded data removed]",
      "text/plain": [
       "<Figure size 1080x360 with 1 Axes>"
      ]
     },
     "metadata": {
      "needs_background": "light"
     },
     "output_type": "display_data"
    },
    {
     "data": {
      "image/png": "[encoded data removed]",
      "text/plain": [
       "<Figure size 1080x360 with 1 Axes>"
      ]
     },
     "metadata": {
      "needs_background": "light"
     },
     "output_type": "display_data"
    },
    {
     "data": {
      "image/png": "[encoded data removed]",
      "text/plain": [
       "<Figure size 1080x360 with 1 Axes>"
      ]
     },
     "metadata": {
      "needs_background": "light"
     },
     "output_type": "display_data"
    }
   ],
   "source": [
    "#распределение клиентов по количеству продуктов в разрезе города, пола, возраста, количеством объектов, наличием кредитной карты, активности клиента. \n",
    "for col in ['city', 'gender', 'credit_card', 'loyalty']:\n",
    "    fig, ax = plt.subplots()\n",
    "    sns.countplot(data = data,\n",
    "                hue = 'products',\n",
    "                x = col,\n",
    "                ax = ax,\n",
    "                palette = 'flag'\n",
    "    )\n",
    "    plt.title(f'Распределение количества клиентов по признаку {col}')\n",
    "    plt.show()"
   ]
  },
  {
   "cell_type": "markdown",
   "metadata": {},
   "source": [
    "Вывод: \n",
    "- наибольшое количество клиентов, используют 1 продукт, данные клиенты есть во всех городах, затем идут клиенты, использующие 2 продукта, также данные клиенты есть во всех городах;\n",
    "- чаще 1 продуктом пользуются мужчины, также 2 продукта чаще всего заказывают тоже мужчины;\n",
    "- наибольшее количество клиентов, использующих 1 продуктов имеют возраст 38 лет, наибольшее количество клиентов, использующих 2 продукт, находятся в возрасте 37 лет;\n",
    "- у клиентов, использующих 1 или 2 продукта чаще всего есть кредитная карта;\n",
    "- клиенты, у которых есть 1 или 2 продукта находятся как в категории активных, так и в категории неактивных клиентов."
   ]
  },
  {
   "cell_type": "code",
   "execution_count": 24,
   "metadata": {},
   "outputs": [
    {
     "data": {
      "image/png": "[encoded data removed]",
      "text/plain": [
       "<Figure size 1080x360 with 1 Axes>"
      ]
     },
     "metadata": {
      "needs_background": "light"
     },
     "output_type": "display_data"
    },
    {
     "data": {
      "image/png": "[encoded data removed]",
      "text/plain": [
       "<Figure size 1080x360 with 1 Axes>"
      ]
     },
     "metadata": {
      "needs_background": "light"
     },
     "output_type": "display_data"
    },
    {
     "data": {
      "image/png": "[encoded data removed]",
      "text/plain": [
       "<Figure size 1080x360 with 1 Axes>"
      ]
     },
     "metadata": {
      "needs_background": "light"
     },
     "output_type": "display_data"
    },
    {
     "data": {
      "image/png": "[encoded data removed]",
      "text/plain": [
       "<Figure size 1080x360 with 1 Axes>"
      ]
     },
     "metadata": {
      "needs_background": "light"
     },
     "output_type": "display_data"
    },
    {
     "data": {
      "image/png": "[encoded data removed]",
      "text/plain": [
       "<Figure size 1080x360 with 1 Axes>"
      ]
     },
     "metadata": {
      "needs_background": "light"
     },
     "output_type": "display_data"
    }
   ],
   "source": [
    "#распределение клиентов по количеству продуктов в разрезе баллов скоринга, возраста, количеством объектов, наличием кредитной карты, активности клиента. \n",
    "for col in ['score', 'age', 'objects', 'balance', 'estimated_salary']:\n",
    "    fig, ax = plt.subplots()\n",
    "    sns.histplot(data = data,\n",
    "                hue = 'products',\n",
    "                x = col,\n",
    "                stat = \"density\",\n",
    "                common_norm = False,\n",
    "                ax = ax,\n",
    "                palette = 'flag'\n",
    "    )\n",
    "    plt.title(f'Распределение клиентов по признаку {col}')\n",
    "    plt.show()"
   ]
  },
  {
   "cell_type": "markdown",
   "metadata": {},
   "source": [
    "Вывод: \n",
    "- наибольшее количество клиентов, чьи баллы скоринга равны от 350 до 850, пользуются 1 продуктом;\n",
    "- наибольшее количество клиентов, использующих 1 продукт, находятся в возрасте от 18 до 42;\n",
    "- все клиенты, либо имеющие в собственности объекты, или нет, пользуются хотя бы 1 продуктом;\n",
    "- у клиентов, имеющих баланс на карте от 0 до 200.000 усл. ед. (0 обусловлен тем, что мы заполнили им пропущенные значения) пользуются в основном 1 продуктом;\n",
    "- клиенты с разным уровнем дохода в основном пользуются 1 продуктом."
   ]
  },
  {
   "cell_type": "markdown",
   "metadata": {},
   "source": [
    "Выделены следующие сегменты:\n",
    "1. Сегмент - клиенты, использующие 1 продукт банка и живущие в Ростове Великом, отток таких клиентов составляет 32%.\n",
    "2. Сегмент - клиенты, в возрасте от 48 лет, % оттока таких клиентов составляет от 51%.\n",
    "3. Сегмент - клиенты женщины с балансом от 0 до 127.000 усл. ед. и доходом от 50.000 до 150.000 усл. ед. "
   ]
  },
  {
   "cell_type": "code",
   "execution_count": 25,
   "metadata": {},
   "outputs": [
    {
     "data": {
      "text/plain": [
       "user_id    1349\n",
       "dtype: int64"
      ]
     },
     "execution_count": 25,
     "metadata": {},
     "output_type": "execute_result"
    }
   ],
   "source": [
    "#расчет количества клиентов в сегменте 1 \n",
    "data_products_1 = pd.pivot_table(data.query(\"products == 1 & city == 'Ростов Великий'\"), \n",
    "                                 index=['products', 'city'], values='user_id', aggfunc='count').sum()\n",
    "data_products_1"
   ]
  },
  {
   "cell_type": "code",
   "execution_count": 26,
   "metadata": {},
   "outputs": [
    {
     "data": {
      "text/plain": [
       "user_id    1710\n",
       "dtype: int64"
      ]
     },
     "execution_count": 26,
     "metadata": {},
     "output_type": "execute_result"
    }
   ],
   "source": [
    "#расчет количества клиентов в сегменте 2\n",
    "data_age = pd.pivot_table(data.query(\"age > = 48\"), \n",
    "                                 index=['age'], values='user_id', aggfunc='count').sum()\n",
    "data_age"
   ]
  },
  {
   "cell_type": "code",
   "execution_count": 27,
   "metadata": {},
   "outputs": [
    {
     "data": {
      "text/plain": [
       "user_id    2324\n",
       "dtype: int64"
      ]
     },
     "execution_count": 27,
     "metadata": {},
     "output_type": "execute_result"
    }
   ],
   "source": [
    "#расчет количества клиентов в сегменте 3\n",
    "data_gender_women =  pd.pivot_table(data.query(\"gender == 'Ж' &  50000 <= estimated_salary <= 150000\"),\n",
    "                                    index=['gender', 'estimated_salary', 'balance'], values='user_id', aggfunc='count').sum()\n",
    "data_gender_women"
   ]
  },
  {
   "cell_type": "markdown",
   "metadata": {},
   "source": [
    "Вывод по третьей части: выделены следующие сегменты клиентов, склонных уходить из банка.\n",
    "1. Сегмент - клиенты, использующие 1 продукт банка и живущие в Ростове Великом, отток таких клиентов составляет 32%, количество таких клиентов составляет 1349. \n",
    "2. Сегмент - клиенты, в возрасте от 48 лет, % оттока таких клиентов составляет от 51%, количество таких клиентов составляет 1710. \n",
    "3. Сегмент - клиенты женщины с балансом от 0 до 127.000 усл. ед. и доходом от 50.000 до 150.000 усл. ед., количество таких клиентов составляет 2324. "
   ]
  },
  {
   "cell_type": "markdown",
   "metadata": {},
   "source": [
    "## Четвертая часть"
   ]
  },
  {
   "cell_type": "markdown",
   "metadata": {},
   "source": [
    "### Проверка статистических гипотез "
   ]
  },
  {
   "cell_type": "markdown",
   "metadata": {},
   "source": [
    "#### Проверка гипотезы различия дохода между теми клиентами, которые ушли и теми, которые остались"
   ]
  },
  {
   "cell_type": "markdown",
   "metadata": {},
   "source": [
    "Формулировка гипотез:\n",
    "\n",
    "1. Нулевая гипотеза: примем за нулевую гипотезу суждение, что статистически значимых различий среднего дохода между теми клиентами, которые ушли, и теми клиентами. которые остались, нет. \n",
    "2. Альтернативная гипотеза: примем за альтернативную гипотезу суждение, что статистически значимые различия среднего дохода между теми клиентами, которые ушли, и теми клиентами. которые остались, есть. \n",
    "3. Применяем статистический критерий: U-критерий Манна — Уитни, так как данный критерий непараметрический статистический и используется для сравнения выраженности показателей в двух независимых выборках."
   ]
  },
  {
   "cell_type": "code",
   "execution_count": 28,
   "metadata": {},
   "outputs": [
    {
     "name": "stdout",
     "output_type": "stream",
     "text": [
      "p-значение: 0.22892461305145798\n",
      "Не получилось отвергнуть нулевую гипотезу\n"
     ]
    }
   ],
   "source": [
    "churn_estimated_salary = data[data['churn'] == 1]['estimated_salary']\n",
    "not_churn_estimated_salary = data[data['churn'] == 0]['estimated_salary']\n",
    "\n",
    "#вызов метода для проверки гипотезы\n",
    "results = st.ttest_ind(\n",
    "    churn_estimated_salary, \n",
    "    not_churn_estimated_salary,\n",
    "    equal_var=False)\n",
    "\n",
    "#значение уровня значимости\n",
    "alpha = 0.05\n",
    "\n",
    "# вывод значения p-value на экран \n",
    "# условный оператор с выводом строки с ответом\n",
    "print('p-значение:', results.pvalue)\n",
    "\n",
    "if (results.pvalue < alpha):\n",
    "    print(\"Отвергаем нулевую гипотезу\")\n",
    "else:\n",
    "    print(\"Не получилось отвергнуть нулевую гипотезу\")"
   ]
  },
  {
   "cell_type": "markdown",
   "metadata": {},
   "source": [
    "#### Проверка гипотезы различия между возрастами клиентов, которые ушли и теми, которые остались"
   ]
  },
  {
   "cell_type": "markdown",
   "metadata": {},
   "source": [
    "Формулировка гипотез:\n",
    "\n",
    "1. Нулевая гипотеза: примем за нулевую гипотезу суждение, что статистически значимых различий в среднем возрасте между теми клиентами, которые ушли, и теми клиентами. которые остались, нет. \n",
    "2. Альтернативная гипотеза: примем за альтернативную гипотезу суждение, что статистически значимые различия среднего возраста между теми клиентами, которые ушли, и теми клиентами. которые остались, есть. \n",
    "3. Применяем статистический критерий: U-критерий Манна — Уитни, так как данный критерий непараметрический статистический и используется для сравнения выраженности показателей в двух независимых выборках."
   ]
  },
  {
   "cell_type": "code",
   "execution_count": 29,
   "metadata": {},
   "outputs": [
    {
     "name": "stdout",
     "output_type": "stream",
     "text": [
      "p-значение: 4.7127272656641046e-179\n",
      "Отвергаем нулевую гипотезу\n"
     ]
    }
   ],
   "source": [
    "churn_age = data[data['churn'] == 1]['age']\n",
    "not_churn_age = data[data['churn'] == 0]['age']\n",
    "\n",
    "#вызов метода для проверки гипотезы\n",
    "results = st.ttest_ind(\n",
    "    churn_age, \n",
    "    not_churn_age,\n",
    "    equal_var=False)\n",
    "\n",
    "#значение уровня значимости\n",
    "alpha = 0.05\n",
    "\n",
    "# вывод значения p-value на экран \n",
    "# условный оператор с выводом строки с ответом\n",
    "print('p-значение:', results.pvalue)\n",
    "\n",
    "if (results.pvalue < alpha):\n",
    "    print(\"Отвергаем нулевую гипотезу\")\n",
    "else:\n",
    "    print(\"Не получилось отвергнуть нулевую гипотезу\")"
   ]
  },
  {
   "cell_type": "markdown",
   "metadata": {},
   "source": [
    "Вывод: \n",
    "- статистически значимых различий среднего дохода между теми клиентами, которые ушли, и теми клиентами. которые остались, нет;\n",
    "- статистически значимые различия среднего возраста между теми клиентами, которые ушли, и теми клиентами. которые остались, есть."
   ]
  },
  {
   "cell_type": "markdown",
   "metadata": {},
   "source": [
    "## Пятая часть"
   ]
  },
  {
   "cell_type": "markdown",
   "metadata": {},
   "source": [
    "### Общий вывод по проделанной работе"
   ]
  },
  {
   "cell_type": "markdown",
   "metadata": {},
   "source": [
    "Итог: \n",
    "1. Импортированы библиотеки, датасет, просмотрена общая информация о датасете: дан датасет, состоящий из 12 столбцов, 10000 строк, в данных имеются пропуски, также необходимо привести наименование колонок к общему виду, типы данных float, int, object.\n",
    "2. Выполнена предобработка данных, наименования столбцов приведены в общий вид, к нижнему регистру, проанализированы пропущенные значения столбца balance, пропущенные значения столбца balance заполнены нулями, выведены уникальные значения каждого столбца, построены боксплоты для просмотра аномалий.\n",
    "3. По датасету: баллы скоринга находятся в среднем в промежутке от 583 до 717 усл. ед., средний возраст клиентов составляет от 32 до 43 лет, количество объектов в собственности в среднем насчитывается в промежутке от 3 до 7 ед., баланса карты клиента в среднем находится в промежутке от 0 до 127660 усл. ед., среднее количество продуктов, используемых клиентами, варьируется в промежутке от 1 до 2 ед., средний уровень дохода клиентов варьируется в промежутке от 51113 до 149459 усл. ед.\n",
    "4. Исходя из матрицы корреляции делаем вывод, что возраст и баланс на карте наиболее влияют на активность клиентов. Зависимость возраста и оттока клиентов составляет 29 %, зависимость баланса на карте и оттока клиентов составляет 12 %.\n",
    "5. Выявлены следующие признаки оттока клиентов:\n",
    "- чаще всего клиенты уходят из банка в Ростове Великом, женщины, и клиенты, не имеющие кредитные карты;\n",
    "- чаще всего клиенты уходят с баллами скоринга до 400;\n",
    "- наблюдается уход клиентов с баллами скоринга в промежутке от 512 до 538;\n",
    "- чаще всего уходят клиенты в возрасте от 42 до 62 лет;\n",
    "- наблюдается большой отток клиентов, не имюещих объектов в собственности, либо имеющих 1 или 9, наблюдается отток клиентов; \n",
    "- наблюдается уход клиентов, имеющих 1, 3, 4 продукта банка;\n",
    "- наблюдается уход клиентов, имеющих баланс на карте от 100.000 до 250.000 усл. ед.;\n",
    "- наблюдается уход клиентов с уровнем дохода до 25.000, от 50.000 до 75.000, от 150.000 до 200.000 усл. ед. \n",
    "6. Выделены следующие ключевые признаки, сильно влияющие на отток клиентов: \n",
    "- возраст 48-62 лет, отток клиентов начинается с 51% и растет\n",
    "- количество продуктов, у людей, имеющих 3-4 продукта, отток клиентов составляет от 83% до 100%.\n",
    "- предложение: так как по признаку количества продуктов, % оттока является максимальным и критичным, предлагается проанализировать разделение признаков в зависимости от количества продуктов. \n",
    "7. Выделены следующие сегменты клиентов, склонных уходить из банка.\n",
    "- сегмент 1 - клиенты, использующие 1 продукт банка и живущие в Ростове Великом, отток таких клиентов составляет 32%, количество таких клиентов составляет 1349. \n",
    "- сегмент 2 - клиенты в возрасте от 48 лет, % оттока таких клиентов составляет от 51%, количество таких клиентов составляет 1710. \n",
    "- сегмент 3 - клиенты женщины с балансом от 0 до 127.000 усл. ед. и доходом от 50.000 до 150.000 усл. ед., количество таких клиентов составляет 2324.\n",
    "8. Проверены статистические гипотезы, выявлено:\n",
    "- статистически значимых различий среднего дохода между теми клиентами, которые ушли, и теми клиентами. которые остались, нет;\n",
    "- статистически значимые различия среднего возраста между теми клиентами, которые ушли, и теми клиентами. которые остались, есть.\n",
    "9. Рекомендации по удержанию клиентов: \n",
    "- по сегменту 1: проверить работу персонала, качество предоставляемых услуг в банке в городе Ростов Великий, также проанализировать каким именно продуктом пользуются клиенты банка, улучшить его;\n",
    "- по сегменту 2: предложить клиентам в возрасте от 48 лет более выгодные условия использования продуктов, запустить акции на привлечение клиентов;\n",
    "- по сегменту 3: предложить клиентам женщинам более выгодные условия использования продуктов, запустить акции на привлечение клиентов (кэшбек от партнеров, различные скидки в магазинах, на услуги бьюти-сфер). "
   ]
  },
  {
   "cell_type": "markdown",
   "metadata": {},
   "source": [
    "## Материалы"
   ]
  },
  {
   "cell_type": "markdown",
   "metadata": {},
   "source": [
    "* [Презентация] (https://disk.yandex.ru/i/-g3gB9chy5CYog)\n",
    "* [Дашборд] (https://public.tableau.com/views/Yandex_Project_Final/Dashboard1?:language=en-US&publish=yes&:display_count=n&:origin=viz_share_link)"
   ]
  },
  {
   "cell_type": "code",
   "execution_count": null,
   "metadata": {},
   "outputs": [],
   "source": []
  }
 ],
 "metadata": {
  "ExecuteTimeLog": [
   {
    "duration": 47,
    "start_time": "2023-05-23T09:27:36.502Z"
   },
   {
    "duration": 1282,
    "start_time": "2023-05-23T09:27:39.239Z"
   },
   {
    "duration": 128,
    "start_time": "2023-05-23T09:27:57.523Z"
   },
   {
    "duration": 49,
    "start_time": "2023-05-23T09:32:52.308Z"
   },
   {
    "duration": 53,
    "start_time": "2023-05-23T09:33:06.087Z"
   },
   {
    "duration": 4,
    "start_time": "2023-05-23T09:33:34.909Z"
   },
   {
    "duration": 59,
    "start_time": "2023-05-23T09:33:37.543Z"
   },
   {
    "duration": 82,
    "start_time": "2023-05-23T09:33:52.050Z"
   },
   {
    "duration": 1883,
    "start_time": "2023-05-23T09:36:03.120Z"
   },
   {
    "duration": 1846,
    "start_time": "2023-05-23T09:36:40.761Z"
   },
   {
    "duration": 2103,
    "start_time": "2023-05-23T09:37:54.913Z"
   },
   {
    "duration": 98,
    "start_time": "2023-05-23T09:40:59.044Z"
   },
   {
    "duration": 2636,
    "start_time": "2023-05-23T09:42:22.751Z"
   },
   {
    "duration": 146,
    "start_time": "2023-05-23T09:43:02.744Z"
   },
   {
    "duration": 68,
    "start_time": "2023-05-23T09:43:17.542Z"
   },
   {
    "duration": 15,
    "start_time": "2023-05-23T09:43:26.984Z"
   },
   {
    "duration": 69,
    "start_time": "2023-05-23T09:43:31.056Z"
   },
   {
    "duration": 35,
    "start_time": "2023-05-23T09:43:44.884Z"
   },
   {
    "duration": 18,
    "start_time": "2023-05-23T09:44:42.992Z"
   },
   {
    "duration": 163,
    "start_time": "2023-05-23T09:45:54.940Z"
   },
   {
    "duration": 12,
    "start_time": "2023-05-23T09:45:57.319Z"
   },
   {
    "duration": 219,
    "start_time": "2023-05-23T09:46:18.411Z"
   },
   {
    "duration": 10,
    "start_time": "2023-05-23T09:46:21.163Z"
   },
   {
    "duration": 249,
    "start_time": "2023-05-23T09:46:28.249Z"
   },
   {
    "duration": 11,
    "start_time": "2023-05-23T09:46:31.433Z"
   },
   {
    "duration": 1349,
    "start_time": "2023-05-23T09:47:09.633Z"
   },
   {
    "duration": 17,
    "start_time": "2023-05-23T09:47:12.198Z"
   },
   {
    "duration": 36,
    "start_time": "2023-05-23T09:49:10.290Z"
   },
   {
    "duration": 13,
    "start_time": "2023-05-23T09:49:11.652Z"
   },
   {
    "duration": 13,
    "start_time": "2023-05-23T09:51:23.885Z"
   },
   {
    "duration": 10,
    "start_time": "2023-05-23T10:02:12.579Z"
   },
   {
    "duration": 7,
    "start_time": "2023-05-23T10:02:21.953Z"
   },
   {
    "duration": 12,
    "start_time": "2023-05-23T10:03:10.656Z"
   },
   {
    "duration": 76,
    "start_time": "2023-05-23T10:07:52.746Z"
   },
   {
    "duration": 79,
    "start_time": "2023-05-23T10:08:03.600Z"
   },
   {
    "duration": 105,
    "start_time": "2023-05-23T10:08:12.086Z"
   },
   {
    "duration": 9,
    "start_time": "2023-05-23T10:08:18.087Z"
   },
   {
    "duration": 5,
    "start_time": "2023-05-23T10:08:27.975Z"
   },
   {
    "duration": 5,
    "start_time": "2023-05-23T10:08:49.478Z"
   },
   {
    "duration": 5,
    "start_time": "2023-05-23T10:09:06.844Z"
   },
   {
    "duration": 4,
    "start_time": "2023-05-23T10:09:36.070Z"
   },
   {
    "duration": 11,
    "start_time": "2023-05-23T10:10:37.071Z"
   },
   {
    "duration": 7,
    "start_time": "2023-05-23T10:13:56.048Z"
   },
   {
    "duration": 5,
    "start_time": "2023-05-23T10:14:03.283Z"
   },
   {
    "duration": 10,
    "start_time": "2023-05-23T10:14:07.113Z"
   },
   {
    "duration": 6,
    "start_time": "2023-05-23T10:14:08.488Z"
   },
   {
    "duration": 7,
    "start_time": "2023-05-23T10:14:14.654Z"
   },
   {
    "duration": 1168,
    "start_time": "2023-05-23T10:15:33.046Z"
   },
   {
    "duration": 3,
    "start_time": "2023-05-23T10:15:41.183Z"
   },
   {
    "duration": 39,
    "start_time": "2023-05-23T10:15:41.188Z"
   },
   {
    "duration": 13,
    "start_time": "2023-05-23T10:15:41.229Z"
   },
   {
    "duration": 20,
    "start_time": "2023-05-23T10:15:41.244Z"
   },
   {
    "duration": 7,
    "start_time": "2023-05-23T10:15:41.267Z"
   },
   {
    "duration": 12,
    "start_time": "2023-05-23T10:15:41.276Z"
   },
   {
    "duration": 6,
    "start_time": "2023-05-23T10:15:41.290Z"
   },
   {
    "duration": 11,
    "start_time": "2023-05-23T10:15:41.298Z"
   },
   {
    "duration": 8,
    "start_time": "2023-05-23T10:15:41.311Z"
   },
   {
    "duration": 12,
    "start_time": "2023-05-23T10:15:41.321Z"
   },
   {
    "duration": 6,
    "start_time": "2023-05-23T10:28:54.420Z"
   },
   {
    "duration": 4,
    "start_time": "2023-05-23T10:29:27.623Z"
   },
   {
    "duration": 242,
    "start_time": "2023-05-23T10:31:00.275Z"
   },
   {
    "duration": 131,
    "start_time": "2023-05-23T10:31:23.715Z"
   },
   {
    "duration": 140,
    "start_time": "2023-05-23T10:36:03.003Z"
   },
   {
    "duration": 139,
    "start_time": "2023-05-23T10:36:37.301Z"
   },
   {
    "duration": 136,
    "start_time": "2023-05-23T10:37:36.220Z"
   },
   {
    "duration": 13,
    "start_time": "2023-05-23T10:37:46.311Z"
   },
   {
    "duration": 22,
    "start_time": "2023-05-23T10:41:31.081Z"
   },
   {
    "duration": 14,
    "start_time": "2023-05-23T10:41:42.275Z"
   },
   {
    "duration": 19,
    "start_time": "2023-05-23T11:22:09.944Z"
   },
   {
    "duration": 11,
    "start_time": "2023-05-23T11:22:25.612Z"
   },
   {
    "duration": 10,
    "start_time": "2023-05-23T11:29:12.838Z"
   },
   {
    "duration": 10,
    "start_time": "2023-05-23T11:29:23.044Z"
   },
   {
    "duration": 10,
    "start_time": "2023-05-23T11:29:40.736Z"
   },
   {
    "duration": 3,
    "start_time": "2023-05-23T11:29:51.276Z"
   },
   {
    "duration": 60,
    "start_time": "2023-05-23T11:29:51.281Z"
   },
   {
    "duration": 12,
    "start_time": "2023-05-23T11:29:51.343Z"
   },
   {
    "duration": 13,
    "start_time": "2023-05-23T11:29:51.357Z"
   },
   {
    "duration": 13,
    "start_time": "2023-05-23T11:29:51.372Z"
   },
   {
    "duration": 18,
    "start_time": "2023-05-23T11:29:51.386Z"
   },
   {
    "duration": 10,
    "start_time": "2023-05-23T11:29:51.406Z"
   },
   {
    "duration": 30,
    "start_time": "2023-05-23T11:29:51.418Z"
   },
   {
    "duration": 9,
    "start_time": "2023-05-23T11:29:51.449Z"
   },
   {
    "duration": 12,
    "start_time": "2023-05-23T11:29:51.459Z"
   },
   {
    "duration": 7,
    "start_time": "2023-05-23T11:29:51.472Z"
   },
   {
    "duration": 17,
    "start_time": "2023-05-23T11:29:51.481Z"
   },
   {
    "duration": 42,
    "start_time": "2023-05-23T11:30:44.605Z"
   },
   {
    "duration": 35,
    "start_time": "2023-05-23T11:30:54.622Z"
   },
   {
    "duration": 21,
    "start_time": "2023-05-23T11:31:10.836Z"
   },
   {
    "duration": 17,
    "start_time": "2023-05-23T11:31:37.895Z"
   },
   {
    "duration": 4,
    "start_time": "2023-05-23T11:31:41.662Z"
   },
   {
    "duration": 1257,
    "start_time": "2023-05-23T11:33:32.762Z"
   },
   {
    "duration": 39,
    "start_time": "2023-05-23T11:33:34.022Z"
   },
   {
    "duration": 20,
    "start_time": "2023-05-23T11:33:34.063Z"
   },
   {
    "duration": 15,
    "start_time": "2023-05-23T11:33:34.085Z"
   },
   {
    "duration": 9,
    "start_time": "2023-05-23T11:33:34.103Z"
   },
   {
    "duration": 12,
    "start_time": "2023-05-23T11:33:34.113Z"
   },
   {
    "duration": 5,
    "start_time": "2023-05-23T11:33:34.127Z"
   },
   {
    "duration": 61,
    "start_time": "2023-05-23T11:33:34.133Z"
   },
   {
    "duration": 13,
    "start_time": "2023-05-23T11:33:34.196Z"
   },
   {
    "duration": 8,
    "start_time": "2023-05-23T11:33:34.210Z"
   },
   {
    "duration": 10,
    "start_time": "2023-05-23T11:33:34.219Z"
   },
   {
    "duration": 3,
    "start_time": "2023-05-23T11:33:34.231Z"
   },
   {
    "duration": 145,
    "start_time": "2023-05-23T11:33:34.236Z"
   },
   {
    "duration": 14,
    "start_time": "2023-05-23T11:38:19.479Z"
   },
   {
    "duration": 16,
    "start_time": "2023-05-23T11:38:56.913Z"
   },
   {
    "duration": 11,
    "start_time": "2023-05-23T11:39:59.287Z"
   },
   {
    "duration": 15,
    "start_time": "2023-05-23T11:40:57.811Z"
   },
   {
    "duration": 17,
    "start_time": "2023-05-23T11:41:21.935Z"
   },
   {
    "duration": 5,
    "start_time": "2023-05-23T11:42:05.346Z"
   },
   {
    "duration": 77,
    "start_time": "2023-05-23T11:42:05.354Z"
   },
   {
    "duration": 15,
    "start_time": "2023-05-23T11:42:05.433Z"
   },
   {
    "duration": 45,
    "start_time": "2023-05-23T11:42:05.450Z"
   },
   {
    "duration": 32,
    "start_time": "2023-05-23T11:42:05.497Z"
   },
   {
    "duration": 28,
    "start_time": "2023-05-23T11:42:05.531Z"
   },
   {
    "duration": 24,
    "start_time": "2023-05-23T11:42:05.562Z"
   },
   {
    "duration": 31,
    "start_time": "2023-05-23T11:42:05.588Z"
   },
   {
    "duration": 24,
    "start_time": "2023-05-23T11:42:05.621Z"
   },
   {
    "duration": 16,
    "start_time": "2023-05-23T11:42:05.648Z"
   },
   {
    "duration": 14,
    "start_time": "2023-05-23T11:42:05.666Z"
   },
   {
    "duration": 40,
    "start_time": "2023-05-23T11:42:05.682Z"
   },
   {
    "duration": 16,
    "start_time": "2023-05-23T11:42:11.207Z"
   },
   {
    "duration": 18,
    "start_time": "2023-05-23T11:42:25.597Z"
   },
   {
    "duration": 11,
    "start_time": "2023-05-23T11:44:35.289Z"
   },
   {
    "duration": 4,
    "start_time": "2023-05-23T11:45:05.066Z"
   },
   {
    "duration": 17,
    "start_time": "2023-05-23T11:45:10.126Z"
   },
   {
    "duration": 193,
    "start_time": "2023-05-23T11:45:23.998Z"
   },
   {
    "duration": 681,
    "start_time": "2023-05-23T11:46:21.521Z"
   },
   {
    "duration": 140,
    "start_time": "2023-05-23T11:47:45.115Z"
   },
   {
    "duration": 982,
    "start_time": "2023-05-23T11:47:50.918Z"
   },
   {
    "duration": 993,
    "start_time": "2023-05-23T11:49:01.851Z"
   },
   {
    "duration": 12,
    "start_time": "2023-05-23T11:49:37.262Z"
   },
   {
    "duration": 15,
    "start_time": "2023-05-23T11:49:43.794Z"
   },
   {
    "duration": 15,
    "start_time": "2023-05-23T11:49:56.414Z"
   },
   {
    "duration": 16,
    "start_time": "2023-05-23T11:50:31.551Z"
   },
   {
    "duration": 14,
    "start_time": "2023-05-23T11:50:39.894Z"
   },
   {
    "duration": 12,
    "start_time": "2023-05-23T11:50:50.090Z"
   },
   {
    "duration": 15,
    "start_time": "2023-05-23T11:51:07.360Z"
   },
   {
    "duration": 16,
    "start_time": "2023-05-23T11:51:16.634Z"
   },
   {
    "duration": 17,
    "start_time": "2023-05-23T11:57:46.048Z"
   },
   {
    "duration": 16,
    "start_time": "2023-05-23T11:59:40.373Z"
   },
   {
    "duration": 14,
    "start_time": "2023-05-23T11:59:44.578Z"
   },
   {
    "duration": 16,
    "start_time": "2023-05-23T12:00:11.763Z"
   },
   {
    "duration": 676,
    "start_time": "2023-05-23T12:00:18.512Z"
   },
   {
    "duration": 1270,
    "start_time": "2023-05-23T12:01:04.660Z"
   },
   {
    "duration": 38,
    "start_time": "2023-05-23T12:01:05.933Z"
   },
   {
    "duration": 17,
    "start_time": "2023-05-23T12:01:05.973Z"
   },
   {
    "duration": 16,
    "start_time": "2023-05-23T12:01:05.992Z"
   },
   {
    "duration": 19,
    "start_time": "2023-05-23T12:01:06.010Z"
   },
   {
    "duration": 14,
    "start_time": "2023-05-23T12:01:06.031Z"
   },
   {
    "duration": 11,
    "start_time": "2023-05-23T12:01:06.047Z"
   },
   {
    "duration": 21,
    "start_time": "2023-05-23T12:01:06.060Z"
   },
   {
    "duration": 21,
    "start_time": "2023-05-23T12:01:06.083Z"
   },
   {
    "duration": 22,
    "start_time": "2023-05-23T12:01:06.106Z"
   },
   {
    "duration": 6,
    "start_time": "2023-05-23T12:01:06.130Z"
   },
   {
    "duration": 572,
    "start_time": "2023-05-23T12:01:06.137Z"
   },
   {
    "duration": 107,
    "start_time": "2023-05-23T12:01:30.447Z"
   },
   {
    "duration": 5,
    "start_time": "2023-05-23T12:02:18.215Z"
   },
   {
    "duration": 37,
    "start_time": "2023-05-23T12:02:18.223Z"
   },
   {
    "duration": 13,
    "start_time": "2023-05-23T12:02:18.261Z"
   },
   {
    "duration": 13,
    "start_time": "2023-05-23T12:02:18.275Z"
   },
   {
    "duration": 8,
    "start_time": "2023-05-23T12:02:18.291Z"
   },
   {
    "duration": 20,
    "start_time": "2023-05-23T12:02:18.301Z"
   },
   {
    "duration": 5,
    "start_time": "2023-05-23T12:02:18.322Z"
   },
   {
    "duration": 19,
    "start_time": "2023-05-23T12:02:18.328Z"
   },
   {
    "duration": 7,
    "start_time": "2023-05-23T12:02:18.349Z"
   },
   {
    "duration": 10,
    "start_time": "2023-05-23T12:02:18.378Z"
   },
   {
    "duration": 3,
    "start_time": "2023-05-23T12:02:18.390Z"
   },
   {
    "duration": 21,
    "start_time": "2023-05-23T12:02:18.395Z"
   },
   {
    "duration": 14,
    "start_time": "2023-05-23T12:05:33.660Z"
   },
   {
    "duration": 16,
    "start_time": "2023-05-23T12:08:35.646Z"
   },
   {
    "duration": 15,
    "start_time": "2023-05-23T12:10:21.865Z"
   },
   {
    "duration": 13,
    "start_time": "2023-05-23T12:10:51.025Z"
   },
   {
    "duration": 229,
    "start_time": "2023-05-23T12:10:56.647Z"
   },
   {
    "duration": 14,
    "start_time": "2023-05-23T12:12:06.863Z"
   },
   {
    "duration": 12,
    "start_time": "2023-05-23T12:12:19.036Z"
   },
   {
    "duration": 13,
    "start_time": "2023-05-23T12:12:26.299Z"
   },
   {
    "duration": 26,
    "start_time": "2023-05-23T12:13:05.649Z"
   },
   {
    "duration": 298,
    "start_time": "2023-05-23T12:13:14.344Z"
   },
   {
    "duration": 23,
    "start_time": "2023-05-23T12:14:07.766Z"
   },
   {
    "duration": 18,
    "start_time": "2023-05-23T12:14:14.498Z"
   },
   {
    "duration": 247,
    "start_time": "2023-05-23T12:14:19.327Z"
   },
   {
    "duration": 20,
    "start_time": "2023-05-23T12:14:30.496Z"
   },
   {
    "duration": 22,
    "start_time": "2023-05-23T12:29:44.223Z"
   },
   {
    "duration": 20,
    "start_time": "2023-05-23T12:49:22.127Z"
   },
   {
    "duration": 14,
    "start_time": "2023-05-23T12:54:29.746Z"
   },
   {
    "duration": 9,
    "start_time": "2023-05-23T12:55:31.157Z"
   },
   {
    "duration": 3,
    "start_time": "2023-05-23T12:55:44.469Z"
   },
   {
    "duration": 42,
    "start_time": "2023-05-23T12:55:44.474Z"
   },
   {
    "duration": 14,
    "start_time": "2023-05-23T12:55:44.517Z"
   },
   {
    "duration": 14,
    "start_time": "2023-05-23T12:55:44.532Z"
   },
   {
    "duration": 7,
    "start_time": "2023-05-23T12:55:44.549Z"
   },
   {
    "duration": 11,
    "start_time": "2023-05-23T12:55:44.557Z"
   },
   {
    "duration": 9,
    "start_time": "2023-05-23T12:55:44.570Z"
   },
   {
    "duration": 11,
    "start_time": "2023-05-23T12:55:44.581Z"
   },
   {
    "duration": 7,
    "start_time": "2023-05-23T12:55:44.594Z"
   },
   {
    "duration": 16,
    "start_time": "2023-05-23T12:55:44.603Z"
   },
   {
    "duration": 10,
    "start_time": "2023-05-23T12:55:44.621Z"
   },
   {
    "duration": 11,
    "start_time": "2023-05-23T12:55:44.633Z"
   },
   {
    "duration": 0,
    "start_time": "2023-05-23T12:55:44.646Z"
   },
   {
    "duration": 54,
    "start_time": "2023-05-24T08:50:06.496Z"
   },
   {
    "duration": 1483,
    "start_time": "2023-05-24T08:50:16.919Z"
   },
   {
    "duration": 83,
    "start_time": "2023-05-24T08:50:18.404Z"
   },
   {
    "duration": 18,
    "start_time": "2023-05-24T08:50:18.489Z"
   },
   {
    "duration": 18,
    "start_time": "2023-05-24T08:50:18.510Z"
   },
   {
    "duration": 13,
    "start_time": "2023-05-24T08:50:18.530Z"
   },
   {
    "duration": 19,
    "start_time": "2023-05-24T08:50:18.544Z"
   },
   {
    "duration": 4,
    "start_time": "2023-05-24T08:50:18.565Z"
   },
   {
    "duration": 25,
    "start_time": "2023-05-24T08:50:18.571Z"
   },
   {
    "duration": 8,
    "start_time": "2023-05-24T08:50:18.598Z"
   },
   {
    "duration": 17,
    "start_time": "2023-05-24T08:50:18.610Z"
   },
   {
    "duration": 8,
    "start_time": "2023-05-24T08:50:18.629Z"
   },
   {
    "duration": 133,
    "start_time": "2023-05-24T08:50:18.639Z"
   },
   {
    "duration": 0,
    "start_time": "2023-05-24T08:50:18.774Z"
   },
   {
    "duration": 3,
    "start_time": "2023-05-24T08:59:43.289Z"
   },
   {
    "duration": 11,
    "start_time": "2023-05-24T08:59:46.761Z"
   },
   {
    "duration": 12,
    "start_time": "2023-05-24T09:01:36.907Z"
   },
   {
    "duration": 3,
    "start_time": "2023-05-24T09:12:29.602Z"
   },
   {
    "duration": 14,
    "start_time": "2023-05-24T09:12:36.914Z"
   },
   {
    "duration": 1220,
    "start_time": "2023-05-24T09:12:49.012Z"
   },
   {
    "duration": 42,
    "start_time": "2023-05-24T09:12:50.234Z"
   },
   {
    "duration": 18,
    "start_time": "2023-05-24T09:12:50.278Z"
   },
   {
    "duration": 36,
    "start_time": "2023-05-24T09:12:50.298Z"
   },
   {
    "duration": 9,
    "start_time": "2023-05-24T09:12:50.336Z"
   },
   {
    "duration": 14,
    "start_time": "2023-05-24T09:12:50.347Z"
   },
   {
    "duration": 512,
    "start_time": "2023-05-24T09:12:50.363Z"
   },
   {
    "duration": 0,
    "start_time": "2023-05-24T09:12:50.877Z"
   },
   {
    "duration": 0,
    "start_time": "2023-05-24T09:12:50.879Z"
   },
   {
    "duration": 0,
    "start_time": "2023-05-24T09:12:50.880Z"
   },
   {
    "duration": 0,
    "start_time": "2023-05-24T09:12:50.882Z"
   },
   {
    "duration": 0,
    "start_time": "2023-05-24T09:12:50.883Z"
   },
   {
    "duration": 0,
    "start_time": "2023-05-24T09:12:50.885Z"
   },
   {
    "duration": 0,
    "start_time": "2023-05-24T09:12:50.887Z"
   },
   {
    "duration": 4,
    "start_time": "2023-05-24T09:13:34.208Z"
   },
   {
    "duration": 1209,
    "start_time": "2023-05-24T09:13:43.370Z"
   },
   {
    "duration": 42,
    "start_time": "2023-05-24T09:13:44.581Z"
   },
   {
    "duration": 18,
    "start_time": "2023-05-24T09:13:44.625Z"
   },
   {
    "duration": 15,
    "start_time": "2023-05-24T09:13:44.645Z"
   },
   {
    "duration": 14,
    "start_time": "2023-05-24T09:13:44.662Z"
   },
   {
    "duration": 16,
    "start_time": "2023-05-24T09:13:44.678Z"
   },
   {
    "duration": 4,
    "start_time": "2023-05-24T09:13:44.696Z"
   },
   {
    "duration": 9,
    "start_time": "2023-05-24T09:13:44.702Z"
   },
   {
    "duration": 20,
    "start_time": "2023-05-24T09:13:44.712Z"
   },
   {
    "duration": 8,
    "start_time": "2023-05-24T09:13:44.745Z"
   },
   {
    "duration": 12,
    "start_time": "2023-05-24T09:13:44.755Z"
   },
   {
    "duration": 3,
    "start_time": "2023-05-24T09:13:44.769Z"
   },
   {
    "duration": 128,
    "start_time": "2023-05-24T09:13:44.774Z"
   },
   {
    "duration": 0,
    "start_time": "2023-05-24T09:13:44.903Z"
   },
   {
    "duration": 18,
    "start_time": "2023-05-24T09:14:34.081Z"
   },
   {
    "duration": 17,
    "start_time": "2023-05-24T09:15:31.620Z"
   },
   {
    "duration": 16,
    "start_time": "2023-05-24T09:20:17.965Z"
   },
   {
    "duration": 21,
    "start_time": "2023-05-24T09:37:22.681Z"
   },
   {
    "duration": 173,
    "start_time": "2023-05-24T09:37:29.481Z"
   },
   {
    "duration": 12,
    "start_time": "2023-05-24T09:38:22.257Z"
   },
   {
    "duration": 50,
    "start_time": "2023-05-24T09:39:57.795Z"
   },
   {
    "duration": 11,
    "start_time": "2023-05-24T09:40:18.721Z"
   },
   {
    "duration": 10,
    "start_time": "2023-05-24T09:40:30.927Z"
   },
   {
    "duration": 10,
    "start_time": "2023-05-24T09:40:45.484Z"
   },
   {
    "duration": 5,
    "start_time": "2023-05-24T09:40:55.455Z"
   },
   {
    "duration": 100,
    "start_time": "2023-05-24T09:40:55.463Z"
   },
   {
    "duration": 14,
    "start_time": "2023-05-24T09:40:55.565Z"
   },
   {
    "duration": 21,
    "start_time": "2023-05-24T09:40:55.581Z"
   },
   {
    "duration": 19,
    "start_time": "2023-05-24T09:40:55.605Z"
   },
   {
    "duration": 31,
    "start_time": "2023-05-24T09:40:55.626Z"
   },
   {
    "duration": 11,
    "start_time": "2023-05-24T09:40:55.659Z"
   },
   {
    "duration": 11,
    "start_time": "2023-05-24T09:40:55.671Z"
   },
   {
    "duration": 17,
    "start_time": "2023-05-24T09:40:55.683Z"
   },
   {
    "duration": 0,
    "start_time": "2023-05-24T09:40:55.702Z"
   },
   {
    "duration": 0,
    "start_time": "2023-05-24T09:40:55.703Z"
   },
   {
    "duration": 0,
    "start_time": "2023-05-24T09:40:55.704Z"
   },
   {
    "duration": 0,
    "start_time": "2023-05-24T09:40:55.705Z"
   },
   {
    "duration": 14,
    "start_time": "2023-05-24T09:42:03.481Z"
   },
   {
    "duration": 13,
    "start_time": "2023-05-24T09:42:22.673Z"
   },
   {
    "duration": 4,
    "start_time": "2023-05-24T09:43:12.153Z"
   },
   {
    "duration": 53,
    "start_time": "2023-05-24T09:43:12.159Z"
   },
   {
    "duration": 12,
    "start_time": "2023-05-24T09:43:12.214Z"
   },
   {
    "duration": 20,
    "start_time": "2023-05-24T09:43:12.228Z"
   },
   {
    "duration": 14,
    "start_time": "2023-05-24T09:43:12.250Z"
   },
   {
    "duration": 16,
    "start_time": "2023-05-24T09:43:12.265Z"
   },
   {
    "duration": 13,
    "start_time": "2023-05-24T09:43:12.283Z"
   },
   {
    "duration": 18,
    "start_time": "2023-05-24T09:43:12.299Z"
   },
   {
    "duration": 49,
    "start_time": "2023-05-24T09:43:12.320Z"
   },
   {
    "duration": 16,
    "start_time": "2023-05-24T09:43:12.372Z"
   },
   {
    "duration": 25,
    "start_time": "2023-05-24T09:43:12.393Z"
   },
   {
    "duration": 21,
    "start_time": "2023-05-24T09:43:12.420Z"
   },
   {
    "duration": 24,
    "start_time": "2023-05-24T09:43:12.444Z"
   },
   {
    "duration": 11,
    "start_time": "2023-05-24T09:47:46.428Z"
   },
   {
    "duration": 3,
    "start_time": "2023-05-24T09:51:23.957Z"
   },
   {
    "duration": 5,
    "start_time": "2023-05-24T09:51:26.779Z"
   },
   {
    "duration": 4,
    "start_time": "2023-05-24T09:51:33.939Z"
   },
   {
    "duration": 10,
    "start_time": "2023-05-24T09:53:45.758Z"
   },
   {
    "duration": 10,
    "start_time": "2023-05-24T09:54:13.607Z"
   },
   {
    "duration": 9,
    "start_time": "2023-05-24T09:54:29.080Z"
   },
   {
    "duration": 10,
    "start_time": "2023-05-24T09:54:34.896Z"
   },
   {
    "duration": 4,
    "start_time": "2023-05-24T09:54:45.294Z"
   },
   {
    "duration": 52,
    "start_time": "2023-05-24T09:54:45.300Z"
   },
   {
    "duration": 12,
    "start_time": "2023-05-24T09:54:45.354Z"
   },
   {
    "duration": 16,
    "start_time": "2023-05-24T09:54:45.368Z"
   },
   {
    "duration": 18,
    "start_time": "2023-05-24T09:54:45.386Z"
   },
   {
    "duration": 28,
    "start_time": "2023-05-24T09:54:45.406Z"
   },
   {
    "duration": 9,
    "start_time": "2023-05-24T09:54:45.435Z"
   },
   {
    "duration": 15,
    "start_time": "2023-05-24T09:54:45.446Z"
   },
   {
    "duration": 6,
    "start_time": "2023-05-24T09:54:45.463Z"
   },
   {
    "duration": 18,
    "start_time": "2023-05-24T09:54:45.470Z"
   },
   {
    "duration": 6,
    "start_time": "2023-05-24T09:54:45.489Z"
   },
   {
    "duration": 14,
    "start_time": "2023-05-24T09:54:45.496Z"
   },
   {
    "duration": 9,
    "start_time": "2023-05-24T09:58:07.657Z"
   },
   {
    "duration": 18,
    "start_time": "2023-05-24T10:00:36.184Z"
   },
   {
    "duration": 12,
    "start_time": "2023-05-24T10:02:24.022Z"
   },
   {
    "duration": 3,
    "start_time": "2023-05-24T10:09:16.747Z"
   },
   {
    "duration": 53,
    "start_time": "2023-05-24T10:09:16.752Z"
   },
   {
    "duration": 12,
    "start_time": "2023-05-24T10:09:16.809Z"
   },
   {
    "duration": 15,
    "start_time": "2023-05-24T10:09:16.823Z"
   },
   {
    "duration": 6,
    "start_time": "2023-05-24T10:09:16.840Z"
   },
   {
    "duration": 14,
    "start_time": "2023-05-24T10:09:16.848Z"
   },
   {
    "duration": 4,
    "start_time": "2023-05-24T10:09:16.863Z"
   },
   {
    "duration": 14,
    "start_time": "2023-05-24T10:09:16.869Z"
   },
   {
    "duration": 7,
    "start_time": "2023-05-24T10:09:16.885Z"
   },
   {
    "duration": 15,
    "start_time": "2023-05-24T10:09:16.893Z"
   },
   {
    "duration": 3,
    "start_time": "2023-05-24T10:09:16.910Z"
   },
   {
    "duration": 36,
    "start_time": "2023-05-24T10:09:16.914Z"
   },
   {
    "duration": 40,
    "start_time": "2023-05-24T10:11:20.622Z"
   },
   {
    "duration": 15,
    "start_time": "2023-05-24T10:11:22.665Z"
   },
   {
    "duration": 5,
    "start_time": "2023-05-24T10:11:39.486Z"
   },
   {
    "duration": 14,
    "start_time": "2023-05-24T10:11:54.259Z"
   },
   {
    "duration": 4,
    "start_time": "2023-05-24T10:14:50.511Z"
   },
   {
    "duration": 66,
    "start_time": "2023-05-24T10:14:50.517Z"
   },
   {
    "duration": 13,
    "start_time": "2023-05-24T10:14:50.584Z"
   },
   {
    "duration": 25,
    "start_time": "2023-05-24T10:14:50.599Z"
   },
   {
    "duration": 13,
    "start_time": "2023-05-24T10:14:50.626Z"
   },
   {
    "duration": 34,
    "start_time": "2023-05-24T10:14:50.640Z"
   },
   {
    "duration": 17,
    "start_time": "2023-05-24T10:14:50.676Z"
   },
   {
    "duration": 32,
    "start_time": "2023-05-24T10:14:50.694Z"
   },
   {
    "duration": 20,
    "start_time": "2023-05-24T10:14:50.728Z"
   },
   {
    "duration": 31,
    "start_time": "2023-05-24T10:14:50.749Z"
   },
   {
    "duration": 14,
    "start_time": "2023-05-24T10:14:50.781Z"
   },
   {
    "duration": 31,
    "start_time": "2023-05-24T10:14:50.796Z"
   },
   {
    "duration": 10,
    "start_time": "2023-05-24T10:16:58.602Z"
   },
   {
    "duration": 86,
    "start_time": "2023-05-24T10:17:56.364Z"
   },
   {
    "duration": 9,
    "start_time": "2023-05-24T10:18:04.248Z"
   },
   {
    "duration": 4,
    "start_time": "2023-05-24T10:19:09.003Z"
   },
   {
    "duration": 4,
    "start_time": "2023-05-24T10:19:12.541Z"
   },
   {
    "duration": 64,
    "start_time": "2023-05-24T10:19:12.548Z"
   },
   {
    "duration": 20,
    "start_time": "2023-05-24T10:19:12.615Z"
   },
   {
    "duration": 29,
    "start_time": "2023-05-24T10:19:12.637Z"
   },
   {
    "duration": 16,
    "start_time": "2023-05-24T10:19:12.669Z"
   },
   {
    "duration": 16,
    "start_time": "2023-05-24T10:19:12.688Z"
   },
   {
    "duration": 6,
    "start_time": "2023-05-24T10:19:12.707Z"
   },
   {
    "duration": 21,
    "start_time": "2023-05-24T10:19:12.715Z"
   },
   {
    "duration": 7,
    "start_time": "2023-05-24T10:19:12.746Z"
   },
   {
    "duration": 10,
    "start_time": "2023-05-24T10:19:12.755Z"
   },
   {
    "duration": 4,
    "start_time": "2023-05-24T10:19:12.766Z"
   },
   {
    "duration": 15,
    "start_time": "2023-05-24T10:19:12.771Z"
   },
   {
    "duration": 10,
    "start_time": "2023-05-24T10:20:11.699Z"
   },
   {
    "duration": 10,
    "start_time": "2023-05-24T10:20:29.864Z"
   },
   {
    "duration": 10,
    "start_time": "2023-05-24T10:23:03.100Z"
   },
   {
    "duration": 3,
    "start_time": "2023-05-24T10:23:10.618Z"
   },
   {
    "duration": 9,
    "start_time": "2023-05-24T10:23:12.586Z"
   },
   {
    "duration": 39,
    "start_time": "2023-05-24T10:24:19.516Z"
   },
   {
    "duration": 14,
    "start_time": "2023-05-24T10:24:20.994Z"
   },
   {
    "duration": 133,
    "start_time": "2023-05-24T10:25:49.956Z"
   },
   {
    "duration": 13,
    "start_time": "2023-05-24T10:25:51.981Z"
   },
   {
    "duration": 13,
    "start_time": "2023-05-24T10:25:57.292Z"
   },
   {
    "duration": 4,
    "start_time": "2023-05-24T10:26:01.453Z"
   },
   {
    "duration": 110,
    "start_time": "2023-05-24T10:26:01.459Z"
   },
   {
    "duration": 20,
    "start_time": "2023-05-24T10:26:01.571Z"
   },
   {
    "duration": 111,
    "start_time": "2023-05-24T10:26:01.593Z"
   },
   {
    "duration": 36,
    "start_time": "2023-05-24T10:26:01.707Z"
   },
   {
    "duration": 56,
    "start_time": "2023-05-24T10:26:01.745Z"
   },
   {
    "duration": 34,
    "start_time": "2023-05-24T10:26:01.803Z"
   },
   {
    "duration": 0,
    "start_time": "2023-05-24T10:26:01.839Z"
   },
   {
    "duration": 0,
    "start_time": "2023-05-24T10:26:01.840Z"
   },
   {
    "duration": 0,
    "start_time": "2023-05-24T10:26:01.841Z"
   },
   {
    "duration": 0,
    "start_time": "2023-05-24T10:26:01.842Z"
   },
   {
    "duration": 0,
    "start_time": "2023-05-24T10:26:01.843Z"
   },
   {
    "duration": 0,
    "start_time": "2023-05-24T10:26:01.844Z"
   },
   {
    "duration": 4,
    "start_time": "2023-05-24T10:26:17.849Z"
   },
   {
    "duration": 58,
    "start_time": "2023-05-24T10:26:17.855Z"
   },
   {
    "duration": 14,
    "start_time": "2023-05-24T10:26:17.914Z"
   },
   {
    "duration": 38,
    "start_time": "2023-05-24T10:26:17.929Z"
   },
   {
    "duration": 27,
    "start_time": "2023-05-24T10:26:17.969Z"
   },
   {
    "duration": 36,
    "start_time": "2023-05-24T10:26:17.997Z"
   },
   {
    "duration": 27,
    "start_time": "2023-05-24T10:26:18.035Z"
   },
   {
    "duration": 25,
    "start_time": "2023-05-24T10:26:18.063Z"
   },
   {
    "duration": 21,
    "start_time": "2023-05-24T10:26:18.090Z"
   },
   {
    "duration": 25,
    "start_time": "2023-05-24T10:26:18.112Z"
   },
   {
    "duration": 26,
    "start_time": "2023-05-24T10:26:18.139Z"
   },
   {
    "duration": 41,
    "start_time": "2023-05-24T10:26:18.167Z"
   },
   {
    "duration": 61,
    "start_time": "2023-05-24T10:28:50.510Z"
   },
   {
    "duration": 14241,
    "start_time": "2023-05-24T10:30:11.980Z"
   },
   {
    "duration": 1479,
    "start_time": "2023-05-24T10:35:48.563Z"
   },
   {
    "duration": 24,
    "start_time": "2023-05-24T10:35:53.660Z"
   },
   {
    "duration": 83,
    "start_time": "2023-05-24T10:38:51.779Z"
   },
   {
    "duration": 12,
    "start_time": "2023-05-24T10:38:54.205Z"
   },
   {
    "duration": 13,
    "start_time": "2023-05-24T10:38:57.665Z"
   },
   {
    "duration": 4,
    "start_time": "2023-05-24T10:39:03.011Z"
   },
   {
    "duration": 101,
    "start_time": "2023-05-24T10:39:03.017Z"
   },
   {
    "duration": 13,
    "start_time": "2023-05-24T10:39:03.120Z"
   },
   {
    "duration": 23,
    "start_time": "2023-05-24T10:39:03.134Z"
   },
   {
    "duration": 27,
    "start_time": "2023-05-24T10:39:03.160Z"
   },
   {
    "duration": 27,
    "start_time": "2023-05-24T10:39:03.189Z"
   },
   {
    "duration": 17,
    "start_time": "2023-05-24T10:39:03.217Z"
   },
   {
    "duration": 48,
    "start_time": "2023-05-24T10:39:03.236Z"
   },
   {
    "duration": 14,
    "start_time": "2023-05-24T10:39:03.286Z"
   },
   {
    "duration": 27,
    "start_time": "2023-05-24T10:39:03.301Z"
   },
   {
    "duration": 21,
    "start_time": "2023-05-24T10:39:03.329Z"
   },
   {
    "duration": 26,
    "start_time": "2023-05-24T10:39:03.352Z"
   },
   {
    "duration": 5,
    "start_time": "2023-05-24T10:40:36.990Z"
   },
   {
    "duration": 4,
    "start_time": "2023-05-24T10:40:41.966Z"
   },
   {
    "duration": 115,
    "start_time": "2023-05-24T10:40:41.972Z"
   },
   {
    "duration": 12,
    "start_time": "2023-05-24T10:40:42.089Z"
   },
   {
    "duration": 19,
    "start_time": "2023-05-24T10:40:42.102Z"
   },
   {
    "duration": 7,
    "start_time": "2023-05-24T10:40:42.123Z"
   },
   {
    "duration": 11,
    "start_time": "2023-05-24T10:40:42.131Z"
   },
   {
    "duration": 10,
    "start_time": "2023-05-24T10:40:42.143Z"
   },
   {
    "duration": 0,
    "start_time": "2023-05-24T10:40:42.155Z"
   },
   {
    "duration": 0,
    "start_time": "2023-05-24T10:40:42.156Z"
   },
   {
    "duration": 0,
    "start_time": "2023-05-24T10:40:42.157Z"
   },
   {
    "duration": 0,
    "start_time": "2023-05-24T10:40:42.158Z"
   },
   {
    "duration": 0,
    "start_time": "2023-05-24T10:40:42.160Z"
   },
   {
    "duration": 6,
    "start_time": "2023-05-24T10:42:33.560Z"
   },
   {
    "duration": 39,
    "start_time": "2023-05-24T10:42:59.184Z"
   },
   {
    "duration": 13,
    "start_time": "2023-05-24T10:43:01.473Z"
   },
   {
    "duration": 12,
    "start_time": "2023-05-24T10:43:04.912Z"
   },
   {
    "duration": 4,
    "start_time": "2023-05-24T10:43:08.715Z"
   },
   {
    "duration": 57,
    "start_time": "2023-05-24T10:43:08.721Z"
   },
   {
    "duration": 12,
    "start_time": "2023-05-24T10:43:08.780Z"
   },
   {
    "duration": 17,
    "start_time": "2023-05-24T10:43:08.794Z"
   },
   {
    "duration": 7,
    "start_time": "2023-05-24T10:43:08.814Z"
   },
   {
    "duration": 16,
    "start_time": "2023-05-24T10:43:08.823Z"
   },
   {
    "duration": 10,
    "start_time": "2023-05-24T10:43:08.840Z"
   },
   {
    "duration": 15,
    "start_time": "2023-05-24T10:43:08.851Z"
   },
   {
    "duration": 7,
    "start_time": "2023-05-24T10:43:08.868Z"
   },
   {
    "duration": 16,
    "start_time": "2023-05-24T10:43:08.877Z"
   },
   {
    "duration": 6,
    "start_time": "2023-05-24T10:43:08.895Z"
   },
   {
    "duration": 22,
    "start_time": "2023-05-24T10:43:08.903Z"
   },
   {
    "duration": 1206,
    "start_time": "2023-05-24T10:43:32.261Z"
   },
   {
    "duration": 40,
    "start_time": "2023-05-24T10:43:33.469Z"
   },
   {
    "duration": 16,
    "start_time": "2023-05-24T10:43:33.511Z"
   },
   {
    "duration": 14,
    "start_time": "2023-05-24T10:43:33.528Z"
   },
   {
    "duration": 7,
    "start_time": "2023-05-24T10:43:33.545Z"
   },
   {
    "duration": 21,
    "start_time": "2023-05-24T10:43:33.553Z"
   },
   {
    "duration": 9,
    "start_time": "2023-05-24T10:43:33.576Z"
   },
   {
    "duration": 12,
    "start_time": "2023-05-24T10:43:33.586Z"
   },
   {
    "duration": 12,
    "start_time": "2023-05-24T10:43:33.600Z"
   },
   {
    "duration": 16,
    "start_time": "2023-05-24T10:43:33.614Z"
   },
   {
    "duration": 19,
    "start_time": "2023-05-24T10:43:33.632Z"
   },
   {
    "duration": 133,
    "start_time": "2023-05-24T10:43:33.653Z"
   },
   {
    "duration": 11,
    "start_time": "2023-05-24T10:44:51.586Z"
   },
   {
    "duration": 13,
    "start_time": "2023-05-24T10:57:09.832Z"
   },
   {
    "duration": 5,
    "start_time": "2023-05-24T10:57:56.766Z"
   },
   {
    "duration": 13,
    "start_time": "2023-05-24T10:58:02.700Z"
   },
   {
    "duration": 11,
    "start_time": "2023-05-24T10:58:06.881Z"
   },
   {
    "duration": 10,
    "start_time": "2023-05-24T10:59:00.672Z"
   },
   {
    "duration": 3,
    "start_time": "2023-05-24T11:01:59.983Z"
   },
   {
    "duration": 1224,
    "start_time": "2023-05-24T11:02:09.269Z"
   },
   {
    "duration": 42,
    "start_time": "2023-05-24T11:02:10.495Z"
   },
   {
    "duration": 18,
    "start_time": "2023-05-24T11:02:10.539Z"
   },
   {
    "duration": 7,
    "start_time": "2023-05-24T11:02:10.559Z"
   },
   {
    "duration": 19,
    "start_time": "2023-05-24T11:02:10.569Z"
   },
   {
    "duration": 8,
    "start_time": "2023-05-24T11:02:10.590Z"
   },
   {
    "duration": 15,
    "start_time": "2023-05-24T11:02:10.600Z"
   },
   {
    "duration": 17,
    "start_time": "2023-05-24T11:02:10.617Z"
   },
   {
    "duration": 26,
    "start_time": "2023-05-24T11:02:10.647Z"
   },
   {
    "duration": 14,
    "start_time": "2023-05-24T11:02:10.676Z"
   },
   {
    "duration": 21,
    "start_time": "2023-05-24T11:02:10.691Z"
   },
   {
    "duration": 3,
    "start_time": "2023-05-24T11:02:10.714Z"
   },
   {
    "duration": 113,
    "start_time": "2023-05-24T11:02:10.719Z"
   },
   {
    "duration": 2467,
    "start_time": "2023-05-24T11:12:30.369Z"
   },
   {
    "duration": 2682,
    "start_time": "2023-05-24T11:13:37.369Z"
   },
   {
    "duration": 41,
    "start_time": "2023-05-24T11:15:46.949Z"
   },
   {
    "duration": 16,
    "start_time": "2023-05-24T11:15:48.309Z"
   },
   {
    "duration": 3,
    "start_time": "2023-05-24T11:16:14.942Z"
   },
   {
    "duration": 55,
    "start_time": "2023-05-24T11:16:14.948Z"
   },
   {
    "duration": 15,
    "start_time": "2023-05-24T11:16:15.004Z"
   },
   {
    "duration": 43,
    "start_time": "2023-05-24T11:16:15.021Z"
   },
   {
    "duration": 65,
    "start_time": "2023-05-24T11:16:15.067Z"
   },
   {
    "duration": 22,
    "start_time": "2023-05-24T11:16:15.134Z"
   },
   {
    "duration": 30,
    "start_time": "2023-05-24T11:16:15.158Z"
   },
   {
    "duration": 24,
    "start_time": "2023-05-24T11:16:15.189Z"
   },
   {
    "duration": 44,
    "start_time": "2023-05-24T11:16:15.215Z"
   },
   {
    "duration": 34,
    "start_time": "2023-05-24T11:16:15.260Z"
   },
   {
    "duration": 18,
    "start_time": "2023-05-24T11:16:15.296Z"
   },
   {
    "duration": 25,
    "start_time": "2023-05-24T11:16:15.316Z"
   },
   {
    "duration": 28,
    "start_time": "2023-05-24T11:16:15.343Z"
   },
   {
    "duration": 13,
    "start_time": "2023-05-24T11:16:23.200Z"
   },
   {
    "duration": 194,
    "start_time": "2023-05-24T11:21:23.078Z"
   },
   {
    "duration": 349,
    "start_time": "2023-05-24T11:21:27.098Z"
   },
   {
    "duration": 397,
    "start_time": "2023-05-24T11:21:42.500Z"
   },
   {
    "duration": 430,
    "start_time": "2023-05-24T11:22:27.016Z"
   },
   {
    "duration": 371,
    "start_time": "2023-05-24T11:22:39.863Z"
   },
   {
    "duration": 567,
    "start_time": "2023-05-24T11:23:19.965Z"
   },
   {
    "duration": 10,
    "start_time": "2023-05-24T12:21:48.068Z"
   },
   {
    "duration": 5,
    "start_time": "2023-05-24T12:40:51.784Z"
   },
   {
    "duration": 7,
    "start_time": "2023-05-24T12:52:47.605Z"
   },
   {
    "duration": 6,
    "start_time": "2023-05-24T12:57:07.585Z"
   },
   {
    "duration": 184,
    "start_time": "2023-05-24T13:13:32.951Z"
   },
   {
    "duration": 32,
    "start_time": "2023-05-24T13:14:22.772Z"
   },
   {
    "duration": 38,
    "start_time": "2023-05-24T13:17:34.279Z"
   },
   {
    "duration": 33,
    "start_time": "2023-05-24T13:17:41.659Z"
   },
   {
    "duration": 35,
    "start_time": "2023-05-24T13:17:55.902Z"
   },
   {
    "duration": 32,
    "start_time": "2023-05-24T13:18:05.559Z"
   },
   {
    "duration": 1470,
    "start_time": "2023-05-24T13:21:47.284Z"
   },
   {
    "duration": 2240,
    "start_time": "2023-05-24T13:21:59.051Z"
   },
   {
    "duration": 37,
    "start_time": "2023-05-24T13:22:26.859Z"
   },
   {
    "duration": 3026,
    "start_time": "2023-05-24T13:22:42.204Z"
   },
   {
    "duration": 244,
    "start_time": "2023-05-24T13:23:05.210Z"
   },
   {
    "duration": 184,
    "start_time": "2023-05-24T13:23:18.680Z"
   },
   {
    "duration": 1015,
    "start_time": "2023-05-24T13:23:29.190Z"
   },
   {
    "duration": 75,
    "start_time": "2023-05-24T13:52:25.965Z"
   },
   {
    "duration": 1442,
    "start_time": "2023-05-24T13:52:38.061Z"
   },
   {
    "duration": 394,
    "start_time": "2023-05-24T13:52:39.507Z"
   },
   {
    "duration": 16,
    "start_time": "2023-05-24T13:52:39.903Z"
   },
   {
    "duration": 3,
    "start_time": "2023-05-24T13:52:39.920Z"
   },
   {
    "duration": 18,
    "start_time": "2023-05-24T13:52:39.925Z"
   },
   {
    "duration": 7,
    "start_time": "2023-05-24T13:52:39.944Z"
   },
   {
    "duration": 13,
    "start_time": "2023-05-24T13:52:39.952Z"
   },
   {
    "duration": 12,
    "start_time": "2023-05-24T13:52:39.967Z"
   },
   {
    "duration": 24,
    "start_time": "2023-05-24T13:52:39.981Z"
   },
   {
    "duration": 10,
    "start_time": "2023-05-24T13:52:40.006Z"
   },
   {
    "duration": 19,
    "start_time": "2023-05-24T13:52:40.018Z"
   },
   {
    "duration": 17,
    "start_time": "2023-05-24T13:52:40.038Z"
   },
   {
    "duration": 34,
    "start_time": "2023-05-24T13:52:40.057Z"
   },
   {
    "duration": 587,
    "start_time": "2023-05-24T13:52:40.094Z"
   },
   {
    "duration": 12,
    "start_time": "2023-05-24T13:52:40.683Z"
   },
   {
    "duration": 134,
    "start_time": "2023-05-24T13:52:40.697Z"
   },
   {
    "duration": 415,
    "start_time": "2023-05-24T13:54:31.774Z"
   },
   {
    "duration": 459,
    "start_time": "2023-05-24T13:54:38.675Z"
   },
   {
    "duration": 386,
    "start_time": "2023-05-24T13:54:48.651Z"
   },
   {
    "duration": 28,
    "start_time": "2023-05-24T13:54:55.601Z"
   },
   {
    "duration": 1524,
    "start_time": "2023-05-24T13:55:04.102Z"
   },
   {
    "duration": 158,
    "start_time": "2023-05-24T13:55:57.505Z"
   },
   {
    "duration": 1715,
    "start_time": "2023-05-24T13:56:13.354Z"
   },
   {
    "duration": 19,
    "start_time": "2023-05-24T13:56:55.848Z"
   },
   {
    "duration": 18,
    "start_time": "2023-05-24T13:57:12.263Z"
   },
   {
    "duration": 80,
    "start_time": "2023-05-25T12:32:46.710Z"
   },
   {
    "duration": 74,
    "start_time": "2023-05-25T12:32:51.950Z"
   },
   {
    "duration": 42,
    "start_time": "2023-05-25T12:32:55.840Z"
   },
   {
    "duration": 1294,
    "start_time": "2023-05-25T12:33:04.418Z"
   },
   {
    "duration": 148,
    "start_time": "2023-05-25T12:33:05.714Z"
   },
   {
    "duration": 16,
    "start_time": "2023-05-25T12:33:05.864Z"
   },
   {
    "duration": 3,
    "start_time": "2023-05-25T12:33:05.882Z"
   },
   {
    "duration": 13,
    "start_time": "2023-05-25T12:33:05.886Z"
   },
   {
    "duration": 6,
    "start_time": "2023-05-25T12:33:05.900Z"
   },
   {
    "duration": 9,
    "start_time": "2023-05-25T12:33:05.907Z"
   },
   {
    "duration": 4,
    "start_time": "2023-05-25T12:33:05.917Z"
   },
   {
    "duration": 27,
    "start_time": "2023-05-25T12:33:05.922Z"
   },
   {
    "duration": 6,
    "start_time": "2023-05-25T12:33:05.951Z"
   },
   {
    "duration": 23,
    "start_time": "2023-05-25T12:33:05.958Z"
   },
   {
    "duration": 23,
    "start_time": "2023-05-25T12:33:05.982Z"
   },
   {
    "duration": 13,
    "start_time": "2023-05-25T12:33:06.006Z"
   },
   {
    "duration": 486,
    "start_time": "2023-05-25T12:33:06.021Z"
   },
   {
    "duration": 6,
    "start_time": "2023-05-25T12:33:06.509Z"
   },
   {
    "duration": 111,
    "start_time": "2023-05-25T12:33:06.517Z"
   },
   {
    "duration": 11,
    "start_time": "2023-05-25T12:46:23.727Z"
   },
   {
    "duration": 1508,
    "start_time": "2023-05-25T12:46:57.546Z"
   },
   {
    "duration": 73,
    "start_time": "2023-05-25T12:47:16.306Z"
   },
   {
    "duration": 117,
    "start_time": "2023-05-25T12:47:24.834Z"
   },
   {
    "duration": 72,
    "start_time": "2023-05-25T12:47:31.417Z"
   },
   {
    "duration": 83,
    "start_time": "2023-05-25T12:47:40.343Z"
   },
   {
    "duration": 277,
    "start_time": "2023-05-25T12:47:45.078Z"
   },
   {
    "duration": 76,
    "start_time": "2023-05-25T12:47:50.299Z"
   },
   {
    "duration": 1681,
    "start_time": "2023-05-25T12:47:56.899Z"
   },
   {
    "duration": 101,
    "start_time": "2023-05-25T12:48:01.235Z"
   },
   {
    "duration": 1646,
    "start_time": "2023-05-25T12:48:05.300Z"
   },
   {
    "duration": 451,
    "start_time": "2023-05-25T12:48:19.173Z"
   },
   {
    "duration": 1572,
    "start_time": "2023-05-25T12:48:22.257Z"
   },
   {
    "duration": 62,
    "start_time": "2023-05-25T12:51:23.938Z"
   },
   {
    "duration": 1034,
    "start_time": "2023-05-25T12:51:46.724Z"
   },
   {
    "duration": 15,
    "start_time": "2023-05-25T12:52:46.276Z"
   },
   {
    "duration": 810,
    "start_time": "2023-05-25T12:52:55.403Z"
   },
   {
    "duration": 121,
    "start_time": "2023-05-25T12:53:25.283Z"
   },
   {
    "duration": 966,
    "start_time": "2023-05-25T12:53:34.306Z"
   },
   {
    "duration": 1257,
    "start_time": "2023-05-25T12:55:36.860Z"
   },
   {
    "duration": 1310,
    "start_time": "2023-05-25T12:56:24.147Z"
   },
   {
    "duration": 1164,
    "start_time": "2023-05-25T13:05:01.226Z"
   },
   {
    "duration": 151,
    "start_time": "2023-05-25T13:05:02.391Z"
   },
   {
    "duration": 18,
    "start_time": "2023-05-25T13:05:02.544Z"
   },
   {
    "duration": 8,
    "start_time": "2023-05-25T13:05:02.564Z"
   },
   {
    "duration": 29,
    "start_time": "2023-05-25T13:05:02.573Z"
   },
   {
    "duration": 8,
    "start_time": "2023-05-25T13:05:02.603Z"
   },
   {
    "duration": 36,
    "start_time": "2023-05-25T13:05:02.613Z"
   },
   {
    "duration": 6,
    "start_time": "2023-05-25T13:05:02.650Z"
   },
   {
    "duration": 13,
    "start_time": "2023-05-25T13:05:02.658Z"
   },
   {
    "duration": 12,
    "start_time": "2023-05-25T13:05:02.674Z"
   },
   {
    "duration": 18,
    "start_time": "2023-05-25T13:05:02.687Z"
   },
   {
    "duration": 29,
    "start_time": "2023-05-25T13:05:02.706Z"
   },
   {
    "duration": 19,
    "start_time": "2023-05-25T13:05:02.736Z"
   },
   {
    "duration": 512,
    "start_time": "2023-05-25T13:05:02.756Z"
   },
   {
    "duration": 14,
    "start_time": "2023-05-25T13:05:03.270Z"
   },
   {
    "duration": 210,
    "start_time": "2023-05-25T13:05:03.285Z"
   },
   {
    "duration": 0,
    "start_time": "2023-05-25T13:05:03.497Z"
   },
   {
    "duration": 1770,
    "start_time": "2023-05-25T13:07:29.306Z"
   },
   {
    "duration": 512,
    "start_time": "2023-05-25T13:09:49.138Z"
   },
   {
    "duration": 566,
    "start_time": "2023-05-25T13:10:01.084Z"
   },
   {
    "duration": 358,
    "start_time": "2023-05-25T13:10:48.382Z"
   },
   {
    "duration": 40,
    "start_time": "2023-05-25T13:14:11.606Z"
   },
   {
    "duration": 41,
    "start_time": "2023-05-25T13:14:39.542Z"
   },
   {
    "duration": 39,
    "start_time": "2023-05-25T13:14:54.113Z"
   },
   {
    "duration": 38,
    "start_time": "2023-05-25T13:14:59.253Z"
   },
   {
    "duration": 42,
    "start_time": "2023-05-25T13:15:05.129Z"
   },
   {
    "duration": 928,
    "start_time": "2023-05-25T13:33:30.891Z"
   },
   {
    "duration": 940,
    "start_time": "2023-05-25T13:35:57.075Z"
   },
   {
    "duration": 825,
    "start_time": "2023-05-25T13:37:12.920Z"
   },
   {
    "duration": 982,
    "start_time": "2023-05-25T13:37:20.698Z"
   },
   {
    "duration": 900,
    "start_time": "2023-05-25T13:39:20.422Z"
   },
   {
    "duration": 965,
    "start_time": "2023-05-25T13:41:35.536Z"
   },
   {
    "duration": 14,
    "start_time": "2023-05-25T13:41:40.851Z"
   },
   {
    "duration": 13,
    "start_time": "2023-05-25T13:41:45.724Z"
   },
   {
    "duration": 31,
    "start_time": "2023-05-25T13:42:25.379Z"
   },
   {
    "duration": 20,
    "start_time": "2023-05-25T13:43:06.345Z"
   },
   {
    "duration": 77,
    "start_time": "2023-05-25T13:43:16.614Z"
   },
   {
    "duration": 21,
    "start_time": "2023-05-25T13:43:19.971Z"
   },
   {
    "duration": 29,
    "start_time": "2023-05-25T13:43:39.148Z"
   },
   {
    "duration": 835,
    "start_time": "2023-05-25T13:44:38.358Z"
   },
   {
    "duration": 370,
    "start_time": "2023-05-25T13:45:42.660Z"
   },
   {
    "duration": 382,
    "start_time": "2023-05-25T13:45:53.646Z"
   },
   {
    "duration": 430,
    "start_time": "2023-05-25T13:46:01.123Z"
   },
   {
    "duration": 632,
    "start_time": "2023-05-25T14:14:53.778Z"
   },
   {
    "duration": 899,
    "start_time": "2023-05-25T14:15:38.544Z"
   },
   {
    "duration": 36,
    "start_time": "2023-05-25T14:40:21.435Z"
   },
   {
    "duration": 43,
    "start_time": "2023-05-25T14:40:51.033Z"
   },
   {
    "duration": 26,
    "start_time": "2023-05-25T14:40:59.791Z"
   },
   {
    "duration": 38,
    "start_time": "2023-05-25T14:41:07.416Z"
   },
   {
    "duration": 5,
    "start_time": "2023-05-25T14:41:09.525Z"
   },
   {
    "duration": 79,
    "start_time": "2023-05-25T14:44:40.242Z"
   },
   {
    "duration": 33,
    "start_time": "2023-05-25T15:09:40.114Z"
   },
   {
    "duration": 806,
    "start_time": "2023-05-25T15:09:53.476Z"
   },
   {
    "duration": 31,
    "start_time": "2023-05-25T15:10:10.429Z"
   },
   {
    "duration": 45,
    "start_time": "2023-05-25T15:10:22.871Z"
   },
   {
    "duration": 37,
    "start_time": "2023-05-25T15:10:39.099Z"
   },
   {
    "duration": 38,
    "start_time": "2023-05-25T15:10:46.919Z"
   },
   {
    "duration": 37,
    "start_time": "2023-05-25T15:11:02.716Z"
   },
   {
    "duration": 4,
    "start_time": "2023-05-25T15:11:30.451Z"
   },
   {
    "duration": 66,
    "start_time": "2023-05-25T15:11:39.561Z"
   },
   {
    "duration": 562,
    "start_time": "2023-05-25T15:12:46.077Z"
   },
   {
    "duration": 15,
    "start_time": "2023-05-25T15:12:59.091Z"
   },
   {
    "duration": 14,
    "start_time": "2023-05-25T15:13:20.195Z"
   },
   {
    "duration": 90,
    "start_time": "2023-05-25T15:13:27.062Z"
   },
   {
    "duration": 23,
    "start_time": "2023-05-25T15:13:39.899Z"
   },
   {
    "duration": 60,
    "start_time": "2023-05-25T15:14:57.996Z"
   },
   {
    "duration": 16,
    "start_time": "2023-05-25T15:16:12.348Z"
   },
   {
    "duration": 11,
    "start_time": "2023-05-25T15:20:26.152Z"
   },
   {
    "duration": 4,
    "start_time": "2023-05-25T15:20:32.407Z"
   },
   {
    "duration": 40,
    "start_time": "2023-05-25T15:20:32.412Z"
   },
   {
    "duration": 12,
    "start_time": "2023-05-25T15:20:32.454Z"
   },
   {
    "duration": 4,
    "start_time": "2023-05-25T15:20:32.467Z"
   },
   {
    "duration": 15,
    "start_time": "2023-05-25T15:20:32.473Z"
   },
   {
    "duration": 9,
    "start_time": "2023-05-25T15:20:32.493Z"
   },
   {
    "duration": 11,
    "start_time": "2023-05-25T15:20:32.503Z"
   },
   {
    "duration": 7,
    "start_time": "2023-05-25T15:20:32.515Z"
   },
   {
    "duration": 3,
    "start_time": "2023-05-25T15:20:32.524Z"
   },
   {
    "duration": 9,
    "start_time": "2023-05-25T15:20:32.529Z"
   },
   {
    "duration": 6,
    "start_time": "2023-05-25T15:20:32.541Z"
   },
   {
    "duration": 47,
    "start_time": "2023-05-25T15:20:32.548Z"
   },
   {
    "duration": 4,
    "start_time": "2023-05-25T15:20:32.597Z"
   },
   {
    "duration": 11,
    "start_time": "2023-05-25T15:20:32.603Z"
   },
   {
    "duration": 530,
    "start_time": "2023-05-25T15:20:32.615Z"
   },
   {
    "duration": 6,
    "start_time": "2023-05-25T15:20:33.146Z"
   },
   {
    "duration": 43,
    "start_time": "2023-05-25T15:20:33.154Z"
   },
   {
    "duration": 437,
    "start_time": "2023-05-25T15:20:33.199Z"
   },
   {
    "duration": 1797,
    "start_time": "2023-05-25T15:20:33.638Z"
   },
   {
    "duration": 960,
    "start_time": "2023-05-25T15:20:35.437Z"
   },
   {
    "duration": 333,
    "start_time": "2023-05-25T15:20:36.398Z"
   },
   {
    "duration": 556,
    "start_time": "2023-05-25T15:20:36.733Z"
   },
   {
    "duration": 15,
    "start_time": "2023-05-25T15:20:37.293Z"
   },
   {
    "duration": 13,
    "start_time": "2023-05-25T15:20:37.309Z"
   },
   {
    "duration": 72,
    "start_time": "2023-05-25T15:20:37.324Z"
   },
   {
    "duration": 24,
    "start_time": "2023-05-25T15:20:37.397Z"
   },
   {
    "duration": 91,
    "start_time": "2023-05-25T15:20:37.423Z"
   },
   {
    "duration": 19,
    "start_time": "2023-05-25T15:20:37.517Z"
   },
   {
    "duration": 14,
    "start_time": "2023-05-25T15:21:30.703Z"
   },
   {
    "duration": 24,
    "start_time": "2023-05-25T15:21:49.471Z"
   },
   {
    "duration": 71,
    "start_time": "2023-05-25T15:21:54.943Z"
   },
   {
    "duration": 16,
    "start_time": "2023-05-25T15:22:08.300Z"
   },
   {
    "duration": 42,
    "start_time": "2023-05-25T15:22:16.053Z"
   },
   {
    "duration": 59,
    "start_time": "2023-05-25T15:22:18.809Z"
   },
   {
    "duration": 17,
    "start_time": "2023-05-25T15:22:21.876Z"
   },
   {
    "duration": 16,
    "start_time": "2023-05-25T15:22:25.940Z"
   },
   {
    "duration": 463,
    "start_time": "2023-05-25T15:22:28.711Z"
   },
   {
    "duration": 14,
    "start_time": "2023-05-25T15:23:05.833Z"
   },
   {
    "duration": 4,
    "start_time": "2023-05-25T15:23:52.840Z"
   },
   {
    "duration": 51,
    "start_time": "2023-05-25T15:23:52.846Z"
   },
   {
    "duration": 12,
    "start_time": "2023-05-25T15:23:52.899Z"
   },
   {
    "duration": 5,
    "start_time": "2023-05-25T15:23:52.913Z"
   },
   {
    "duration": 12,
    "start_time": "2023-05-25T15:23:52.920Z"
   },
   {
    "duration": 7,
    "start_time": "2023-05-25T15:23:52.933Z"
   },
   {
    "duration": 12,
    "start_time": "2023-05-25T15:23:52.941Z"
   },
   {
    "duration": 40,
    "start_time": "2023-05-25T15:23:52.954Z"
   },
   {
    "duration": 5,
    "start_time": "2023-05-25T15:23:52.996Z"
   },
   {
    "duration": 17,
    "start_time": "2023-05-25T15:23:53.002Z"
   },
   {
    "duration": 6,
    "start_time": "2023-05-25T15:23:53.021Z"
   },
   {
    "duration": 8,
    "start_time": "2023-05-25T15:23:53.029Z"
   },
   {
    "duration": 4,
    "start_time": "2023-05-25T15:23:53.038Z"
   },
   {
    "duration": 38,
    "start_time": "2023-05-25T15:23:53.044Z"
   },
   {
    "duration": 612,
    "start_time": "2023-05-25T15:23:53.085Z"
   },
   {
    "duration": 7,
    "start_time": "2023-05-25T15:23:53.698Z"
   },
   {
    "duration": 29,
    "start_time": "2023-05-25T15:23:53.706Z"
   },
   {
    "duration": 367,
    "start_time": "2023-05-25T15:23:53.737Z"
   },
   {
    "duration": 1862,
    "start_time": "2023-05-25T15:23:54.106Z"
   },
   {
    "duration": 930,
    "start_time": "2023-05-25T15:23:55.970Z"
   },
   {
    "duration": 330,
    "start_time": "2023-05-25T15:23:56.902Z"
   },
   {
    "duration": 553,
    "start_time": "2023-05-25T15:23:57.235Z"
   },
   {
    "duration": 20,
    "start_time": "2023-05-25T15:23:57.790Z"
   },
   {
    "duration": 19,
    "start_time": "2023-05-25T15:23:57.811Z"
   },
   {
    "duration": 110,
    "start_time": "2023-05-25T15:23:57.832Z"
   },
   {
    "duration": 23,
    "start_time": "2023-05-25T15:23:57.944Z"
   },
   {
    "duration": 60,
    "start_time": "2023-05-25T15:23:57.978Z"
   },
   {
    "duration": 15,
    "start_time": "2023-05-25T15:23:58.040Z"
   },
   {
    "duration": 39,
    "start_time": "2023-05-25T15:23:58.057Z"
   },
   {
    "duration": 14,
    "start_time": "2023-05-25T15:24:12.236Z"
   },
   {
    "duration": 11130,
    "start_time": "2023-05-25T15:25:20.824Z"
   },
   {
    "duration": 2190,
    "start_time": "2023-05-25T17:13:20.105Z"
   },
   {
    "duration": 133,
    "start_time": "2023-05-25T17:23:31.685Z"
   },
   {
    "duration": 143,
    "start_time": "2023-05-25T17:23:51.470Z"
   },
   {
    "duration": 113,
    "start_time": "2023-05-25T17:24:14.806Z"
   },
   {
    "duration": 208,
    "start_time": "2023-05-25T17:24:32.206Z"
   },
   {
    "duration": 107,
    "start_time": "2023-05-25T17:24:45.322Z"
   },
   {
    "duration": 297,
    "start_time": "2023-05-25T17:25:29.582Z"
   },
   {
    "duration": 139,
    "start_time": "2023-05-25T17:27:06.132Z"
   },
   {
    "duration": 139,
    "start_time": "2023-05-25T17:27:19.883Z"
   },
   {
    "duration": 1771,
    "start_time": "2023-05-25T17:27:27.396Z"
   },
   {
    "duration": 1830,
    "start_time": "2023-05-25T17:28:14.536Z"
   },
   {
    "duration": 124,
    "start_time": "2023-05-25T17:28:55.821Z"
   },
   {
    "duration": 133,
    "start_time": "2023-05-25T17:29:04.121Z"
   },
   {
    "duration": 98,
    "start_time": "2023-05-25T17:29:24.267Z"
   },
   {
    "duration": 143,
    "start_time": "2023-05-25T17:29:29.693Z"
   },
   {
    "duration": 6384,
    "start_time": "2023-05-25T17:29:35.071Z"
   },
   {
    "duration": 2507,
    "start_time": "2023-05-25T17:30:02.973Z"
   },
   {
    "duration": 131,
    "start_time": "2023-05-25T17:37:46.889Z"
   },
   {
    "duration": 1773,
    "start_time": "2023-05-25T17:45:33.076Z"
   },
   {
    "duration": 99,
    "start_time": "2023-05-25T17:49:30.277Z"
   },
   {
    "duration": 175,
    "start_time": "2023-05-25T17:49:39.024Z"
   },
   {
    "duration": 188,
    "start_time": "2023-05-25T17:51:31.656Z"
   },
   {
    "duration": 180,
    "start_time": "2023-05-25T17:52:01.763Z"
   },
   {
    "duration": 177,
    "start_time": "2023-05-25T17:57:15.191Z"
   },
   {
    "duration": 191,
    "start_time": "2023-05-25T17:57:49.321Z"
   },
   {
    "duration": 2047,
    "start_time": "2023-05-25T17:58:23.947Z"
   },
   {
    "duration": 1877,
    "start_time": "2023-05-25T17:58:52.259Z"
   },
   {
    "duration": 332,
    "start_time": "2023-05-25T17:59:25.317Z"
   },
   {
    "duration": 1913,
    "start_time": "2023-05-25T17:59:42.783Z"
   },
   {
    "duration": 1963,
    "start_time": "2023-05-25T18:00:03.783Z"
   },
   {
    "duration": 83,
    "start_time": "2023-05-25T18:03:39.265Z"
   },
   {
    "duration": 30,
    "start_time": "2023-05-25T18:03:48.446Z"
   },
   {
    "duration": 496,
    "start_time": "2023-05-25T18:04:03.978Z"
   },
   {
    "duration": 76,
    "start_time": "2023-05-26T11:09:54.732Z"
   },
   {
    "duration": 1539,
    "start_time": "2023-05-26T11:10:03.586Z"
   },
   {
    "duration": 85,
    "start_time": "2023-05-26T11:10:05.128Z"
   },
   {
    "duration": 18,
    "start_time": "2023-05-26T11:10:05.216Z"
   },
   {
    "duration": 35,
    "start_time": "2023-05-26T11:10:05.236Z"
   },
   {
    "duration": 35,
    "start_time": "2023-05-26T11:10:05.273Z"
   },
   {
    "duration": 38,
    "start_time": "2023-05-26T11:10:05.310Z"
   },
   {
    "duration": 58,
    "start_time": "2023-05-26T11:10:05.352Z"
   },
   {
    "duration": 21,
    "start_time": "2023-05-26T11:10:05.411Z"
   },
   {
    "duration": 22,
    "start_time": "2023-05-26T11:10:05.434Z"
   },
   {
    "duration": 62,
    "start_time": "2023-05-26T11:10:05.462Z"
   },
   {
    "duration": 46,
    "start_time": "2023-05-26T11:10:05.525Z"
   },
   {
    "duration": 48,
    "start_time": "2023-05-26T11:10:05.574Z"
   },
   {
    "duration": 42,
    "start_time": "2023-05-26T11:10:05.624Z"
   },
   {
    "duration": 43,
    "start_time": "2023-05-26T11:10:05.668Z"
   },
   {
    "duration": 630,
    "start_time": "2023-05-26T11:10:05.713Z"
   },
   {
    "duration": 23,
    "start_time": "2023-05-26T11:10:06.349Z"
   },
   {
    "duration": 61,
    "start_time": "2023-05-26T11:10:06.375Z"
   },
   {
    "duration": 469,
    "start_time": "2023-05-26T11:10:06.438Z"
   },
   {
    "duration": 2212,
    "start_time": "2023-05-26T11:10:06.910Z"
   },
   {
    "duration": 1190,
    "start_time": "2023-05-26T11:10:09.126Z"
   },
   {
    "duration": 556,
    "start_time": "2023-05-26T11:10:10.318Z"
   },
   {
    "duration": 618,
    "start_time": "2023-05-26T11:10:10.876Z"
   },
   {
    "duration": 20,
    "start_time": "2023-05-26T11:10:11.496Z"
   },
   {
    "duration": 47,
    "start_time": "2023-05-26T11:10:11.517Z"
   },
   {
    "duration": 93,
    "start_time": "2023-05-26T11:10:11.566Z"
   },
   {
    "duration": 38,
    "start_time": "2023-05-26T11:10:11.661Z"
   },
   {
    "duration": 20,
    "start_time": "2023-05-26T11:10:11.701Z"
   },
   {
    "duration": 38,
    "start_time": "2023-05-26T11:10:11.725Z"
   },
   {
    "duration": 147,
    "start_time": "2023-05-26T11:10:11.765Z"
   },
   {
    "duration": 0,
    "start_time": "2023-05-26T11:10:11.914Z"
   },
   {
    "duration": 0,
    "start_time": "2023-05-26T11:10:11.916Z"
   },
   {
    "duration": 0,
    "start_time": "2023-05-26T11:10:11.917Z"
   },
   {
    "duration": 1311,
    "start_time": "2023-05-26T11:13:27.502Z"
   },
   {
    "duration": 47,
    "start_time": "2023-05-26T11:13:28.815Z"
   },
   {
    "duration": 22,
    "start_time": "2023-05-26T11:13:28.865Z"
   },
   {
    "duration": 4,
    "start_time": "2023-05-26T11:13:28.890Z"
   },
   {
    "duration": 22,
    "start_time": "2023-05-26T11:13:28.896Z"
   },
   {
    "duration": 7,
    "start_time": "2023-05-26T11:13:28.920Z"
   },
   {
    "duration": 48,
    "start_time": "2023-05-26T11:13:28.928Z"
   },
   {
    "duration": 12,
    "start_time": "2023-05-26T11:13:28.978Z"
   },
   {
    "duration": 6,
    "start_time": "2023-05-26T11:13:28.992Z"
   },
   {
    "duration": 20,
    "start_time": "2023-05-26T11:13:29.001Z"
   },
   {
    "duration": 9,
    "start_time": "2023-05-26T11:13:29.022Z"
   },
   {
    "duration": 32,
    "start_time": "2023-05-26T11:13:29.032Z"
   },
   {
    "duration": 7,
    "start_time": "2023-05-26T11:13:29.066Z"
   },
   {
    "duration": 24,
    "start_time": "2023-05-26T11:13:29.074Z"
   },
   {
    "duration": 663,
    "start_time": "2023-05-26T11:13:29.100Z"
   },
   {
    "duration": 9,
    "start_time": "2023-05-26T11:13:29.766Z"
   },
   {
    "duration": 58,
    "start_time": "2023-05-26T11:13:29.777Z"
   },
   {
    "duration": 409,
    "start_time": "2023-05-26T11:13:29.837Z"
   },
   {
    "duration": 2127,
    "start_time": "2023-05-26T11:13:30.247Z"
   },
   {
    "duration": 1152,
    "start_time": "2023-05-26T11:13:32.376Z"
   },
   {
    "duration": 499,
    "start_time": "2023-05-26T11:13:33.530Z"
   },
   {
    "duration": 609,
    "start_time": "2023-05-26T11:13:34.031Z"
   },
   {
    "duration": 26,
    "start_time": "2023-05-26T11:13:34.642Z"
   },
   {
    "duration": 36,
    "start_time": "2023-05-26T11:13:34.671Z"
   },
   {
    "duration": 90,
    "start_time": "2023-05-26T11:13:34.710Z"
   },
   {
    "duration": 29,
    "start_time": "2023-05-26T11:13:34.802Z"
   },
   {
    "duration": 37,
    "start_time": "2023-05-26T11:13:34.834Z"
   },
   {
    "duration": 22,
    "start_time": "2023-05-26T11:13:34.876Z"
   },
   {
    "duration": 2414,
    "start_time": "2023-05-26T11:13:34.899Z"
   },
   {
    "duration": 2599,
    "start_time": "2023-05-26T11:13:37.315Z"
   },
   {
    "duration": 133,
    "start_time": "2023-05-26T11:13:39.916Z"
   },
   {
    "duration": 5,
    "start_time": "2023-05-26T11:14:58.166Z"
   },
   {
    "duration": 16,
    "start_time": "2023-05-26T11:15:08.208Z"
   },
   {
    "duration": 19,
    "start_time": "2023-05-26T11:15:54.467Z"
   },
   {
    "duration": 13,
    "start_time": "2023-05-26T12:04:14.614Z"
   },
   {
    "duration": 133,
    "start_time": "2023-05-26T12:04:20.706Z"
   },
   {
    "duration": 115,
    "start_time": "2023-05-26T12:05:22.766Z"
   },
   {
    "duration": 131,
    "start_time": "2023-05-26T12:06:00.979Z"
   },
   {
    "duration": 141,
    "start_time": "2023-05-26T12:10:37.877Z"
   },
   {
    "duration": 10,
    "start_time": "2023-05-26T12:12:54.938Z"
   },
   {
    "duration": 835,
    "start_time": "2023-05-26T12:13:05.753Z"
   },
   {
    "duration": 10,
    "start_time": "2023-05-26T12:13:19.232Z"
   },
   {
    "duration": 82,
    "start_time": "2023-05-26T12:13:28.424Z"
   },
   {
    "duration": 111,
    "start_time": "2023-05-26T12:14:11.027Z"
   },
   {
    "duration": 103,
    "start_time": "2023-05-26T12:14:26.725Z"
   },
   {
    "duration": 132,
    "start_time": "2023-05-26T12:15:57.833Z"
   },
   {
    "duration": 117,
    "start_time": "2023-05-26T12:19:57.805Z"
   },
   {
    "duration": 365,
    "start_time": "2023-05-26T12:24:57.819Z"
   },
   {
    "duration": 368,
    "start_time": "2023-05-26T12:26:01.795Z"
   },
   {
    "duration": 341,
    "start_time": "2023-05-26T12:26:10.192Z"
   },
   {
    "duration": 365,
    "start_time": "2023-05-26T12:26:21.912Z"
   },
   {
    "duration": 306,
    "start_time": "2023-05-26T12:26:27.676Z"
   },
   {
    "duration": 288,
    "start_time": "2023-05-26T12:32:33.716Z"
   },
   {
    "duration": 46,
    "start_time": "2023-05-26T12:37:11.980Z"
   },
   {
    "duration": 784,
    "start_time": "2023-05-26T12:45:37.555Z"
   },
   {
    "duration": 720,
    "start_time": "2023-05-26T12:45:52.819Z"
   },
   {
    "duration": 740,
    "start_time": "2023-05-26T12:46:10.990Z"
   },
   {
    "duration": 811,
    "start_time": "2023-05-26T12:46:31.250Z"
   },
   {
    "duration": 713,
    "start_time": "2023-05-26T12:46:44.091Z"
   },
   {
    "duration": 14,
    "start_time": "2023-05-26T12:51:41.707Z"
   },
   {
    "duration": 5,
    "start_time": "2023-05-26T12:51:54.445Z"
   },
   {
    "duration": 18,
    "start_time": "2023-05-26T12:52:00.055Z"
   },
   {
    "duration": 13,
    "start_time": "2023-05-26T12:52:12.446Z"
   },
   {
    "duration": 9,
    "start_time": "2023-05-26T12:52:31.418Z"
   },
   {
    "duration": 9,
    "start_time": "2023-05-26T12:52:46.275Z"
   },
   {
    "duration": 9,
    "start_time": "2023-05-26T12:52:56.214Z"
   },
   {
    "duration": 10,
    "start_time": "2023-05-26T12:57:51.814Z"
   },
   {
    "duration": 6,
    "start_time": "2023-05-26T13:03:38.571Z"
   },
   {
    "duration": 22,
    "start_time": "2023-05-26T13:04:18.038Z"
   },
   {
    "duration": 13,
    "start_time": "2023-05-26T13:04:45.336Z"
   },
   {
    "duration": 10,
    "start_time": "2023-05-26T13:06:16.380Z"
   },
   {
    "duration": 16,
    "start_time": "2023-05-26T13:06:22.701Z"
   },
   {
    "duration": 142,
    "start_time": "2023-05-26T13:06:28.758Z"
   },
   {
    "duration": 192,
    "start_time": "2023-05-26T13:07:31.837Z"
   },
   {
    "duration": 16,
    "start_time": "2023-05-26T13:07:54.719Z"
   },
   {
    "duration": 18,
    "start_time": "2023-05-26T13:08:56.457Z"
   },
   {
    "duration": 165,
    "start_time": "2023-05-26T13:15:53.022Z"
   },
   {
    "duration": 867,
    "start_time": "2023-05-26T13:21:32.275Z"
   },
   {
    "duration": 791,
    "start_time": "2023-05-26T13:21:59.378Z"
   },
   {
    "duration": 1259,
    "start_time": "2023-05-26T13:22:17.391Z"
   },
   {
    "duration": 46,
    "start_time": "2023-05-26T13:22:18.653Z"
   },
   {
    "duration": 19,
    "start_time": "2023-05-26T13:22:18.702Z"
   },
   {
    "duration": 23,
    "start_time": "2023-05-26T13:22:18.723Z"
   },
   {
    "duration": 7,
    "start_time": "2023-05-26T13:22:18.750Z"
   },
   {
    "duration": 15,
    "start_time": "2023-05-26T13:22:18.759Z"
   },
   {
    "duration": 126,
    "start_time": "2023-05-26T13:22:18.776Z"
   },
   {
    "duration": 0,
    "start_time": "2023-05-26T13:22:18.905Z"
   },
   {
    "duration": 0,
    "start_time": "2023-05-26T13:22:18.906Z"
   },
   {
    "duration": 0,
    "start_time": "2023-05-26T13:22:18.908Z"
   },
   {
    "duration": 0,
    "start_time": "2023-05-26T13:22:18.911Z"
   },
   {
    "duration": 0,
    "start_time": "2023-05-26T13:22:18.912Z"
   },
   {
    "duration": 0,
    "start_time": "2023-05-26T13:22:18.912Z"
   },
   {
    "duration": 0,
    "start_time": "2023-05-26T13:22:18.913Z"
   },
   {
    "duration": 0,
    "start_time": "2023-05-26T13:22:18.915Z"
   },
   {
    "duration": 0,
    "start_time": "2023-05-26T13:22:18.916Z"
   },
   {
    "duration": 0,
    "start_time": "2023-05-26T13:22:18.917Z"
   },
   {
    "duration": 0,
    "start_time": "2023-05-26T13:22:18.918Z"
   },
   {
    "duration": 0,
    "start_time": "2023-05-26T13:22:18.946Z"
   },
   {
    "duration": 0,
    "start_time": "2023-05-26T13:22:18.948Z"
   },
   {
    "duration": 0,
    "start_time": "2023-05-26T13:22:18.950Z"
   },
   {
    "duration": 0,
    "start_time": "2023-05-26T13:22:18.951Z"
   },
   {
    "duration": 0,
    "start_time": "2023-05-26T13:22:18.953Z"
   },
   {
    "duration": 0,
    "start_time": "2023-05-26T13:22:18.954Z"
   },
   {
    "duration": 0,
    "start_time": "2023-05-26T13:22:18.955Z"
   },
   {
    "duration": 0,
    "start_time": "2023-05-26T13:22:18.956Z"
   },
   {
    "duration": 0,
    "start_time": "2023-05-26T13:22:18.957Z"
   },
   {
    "duration": 0,
    "start_time": "2023-05-26T13:22:18.959Z"
   },
   {
    "duration": 0,
    "start_time": "2023-05-26T13:22:18.960Z"
   },
   {
    "duration": 0,
    "start_time": "2023-05-26T13:22:18.961Z"
   },
   {
    "duration": 0,
    "start_time": "2023-05-26T13:22:18.962Z"
   },
   {
    "duration": 0,
    "start_time": "2023-05-26T13:22:18.964Z"
   },
   {
    "duration": 0,
    "start_time": "2023-05-26T13:22:18.965Z"
   },
   {
    "duration": 0,
    "start_time": "2023-05-26T13:22:18.967Z"
   },
   {
    "duration": 0,
    "start_time": "2023-05-26T13:22:18.968Z"
   },
   {
    "duration": 14,
    "start_time": "2023-05-26T13:23:31.732Z"
   },
   {
    "duration": 9,
    "start_time": "2023-05-26T13:26:33.849Z"
   },
   {
    "duration": 10,
    "start_time": "2023-05-26T13:27:18.817Z"
   },
   {
    "duration": 1235,
    "start_time": "2023-05-26T13:27:58.344Z"
   },
   {
    "duration": 40,
    "start_time": "2023-05-26T13:27:59.583Z"
   },
   {
    "duration": 18,
    "start_time": "2023-05-26T13:27:59.625Z"
   },
   {
    "duration": 30,
    "start_time": "2023-05-26T13:27:59.645Z"
   },
   {
    "duration": 14,
    "start_time": "2023-05-26T13:27:59.677Z"
   },
   {
    "duration": 26,
    "start_time": "2023-05-26T13:27:59.693Z"
   },
   {
    "duration": 139,
    "start_time": "2023-05-26T13:27:59.721Z"
   },
   {
    "duration": 0,
    "start_time": "2023-05-26T13:27:59.863Z"
   },
   {
    "duration": 0,
    "start_time": "2023-05-26T13:27:59.865Z"
   },
   {
    "duration": 0,
    "start_time": "2023-05-26T13:27:59.866Z"
   },
   {
    "duration": 0,
    "start_time": "2023-05-26T13:27:59.867Z"
   },
   {
    "duration": 0,
    "start_time": "2023-05-26T13:27:59.869Z"
   },
   {
    "duration": 0,
    "start_time": "2023-05-26T13:27:59.870Z"
   },
   {
    "duration": 0,
    "start_time": "2023-05-26T13:27:59.871Z"
   },
   {
    "duration": 0,
    "start_time": "2023-05-26T13:27:59.872Z"
   },
   {
    "duration": 0,
    "start_time": "2023-05-26T13:27:59.873Z"
   },
   {
    "duration": 0,
    "start_time": "2023-05-26T13:27:59.874Z"
   },
   {
    "duration": 0,
    "start_time": "2023-05-26T13:27:59.875Z"
   },
   {
    "duration": 0,
    "start_time": "2023-05-26T13:27:59.876Z"
   },
   {
    "duration": 0,
    "start_time": "2023-05-26T13:27:59.878Z"
   },
   {
    "duration": 0,
    "start_time": "2023-05-26T13:27:59.879Z"
   },
   {
    "duration": 0,
    "start_time": "2023-05-26T13:27:59.880Z"
   },
   {
    "duration": 0,
    "start_time": "2023-05-26T13:27:59.881Z"
   },
   {
    "duration": 0,
    "start_time": "2023-05-26T13:27:59.882Z"
   },
   {
    "duration": 0,
    "start_time": "2023-05-26T13:27:59.883Z"
   },
   {
    "duration": 0,
    "start_time": "2023-05-26T13:27:59.884Z"
   },
   {
    "duration": 0,
    "start_time": "2023-05-26T13:27:59.891Z"
   },
   {
    "duration": 0,
    "start_time": "2023-05-26T13:27:59.892Z"
   },
   {
    "duration": 1,
    "start_time": "2023-05-26T13:27:59.893Z"
   },
   {
    "duration": 0,
    "start_time": "2023-05-26T13:27:59.895Z"
   },
   {
    "duration": 0,
    "start_time": "2023-05-26T13:27:59.896Z"
   },
   {
    "duration": 0,
    "start_time": "2023-05-26T13:27:59.897Z"
   },
   {
    "duration": 0,
    "start_time": "2023-05-26T13:27:59.946Z"
   },
   {
    "duration": 0,
    "start_time": "2023-05-26T13:27:59.948Z"
   },
   {
    "duration": 0,
    "start_time": "2023-05-26T13:27:59.950Z"
   },
   {
    "duration": 10,
    "start_time": "2023-05-26T13:29:50.893Z"
   },
   {
    "duration": 10,
    "start_time": "2023-05-26T13:30:02.176Z"
   },
   {
    "duration": 4,
    "start_time": "2023-05-26T13:31:21.345Z"
   },
   {
    "duration": 10,
    "start_time": "2023-05-26T13:31:29.109Z"
   },
   {
    "duration": 1238,
    "start_time": "2023-05-26T13:31:56.039Z"
   },
   {
    "duration": 42,
    "start_time": "2023-05-26T13:31:57.279Z"
   },
   {
    "duration": 17,
    "start_time": "2023-05-26T13:31:57.323Z"
   },
   {
    "duration": 35,
    "start_time": "2023-05-26T13:31:57.342Z"
   },
   {
    "duration": 14,
    "start_time": "2023-05-26T13:31:57.379Z"
   },
   {
    "duration": 21,
    "start_time": "2023-05-26T13:31:57.395Z"
   },
   {
    "duration": 26,
    "start_time": "2023-05-26T13:31:57.418Z"
   },
   {
    "duration": 31,
    "start_time": "2023-05-26T13:31:57.446Z"
   },
   {
    "duration": 7,
    "start_time": "2023-05-26T13:31:57.479Z"
   },
   {
    "duration": 35,
    "start_time": "2023-05-26T13:31:57.489Z"
   },
   {
    "duration": 21,
    "start_time": "2023-05-26T13:31:57.526Z"
   },
   {
    "duration": 17,
    "start_time": "2023-05-26T13:31:57.550Z"
   },
   {
    "duration": 38,
    "start_time": "2023-05-26T13:31:57.569Z"
   },
   {
    "duration": 1280,
    "start_time": "2023-05-26T13:31:57.609Z"
   },
   {
    "duration": 6,
    "start_time": "2023-05-26T13:31:58.892Z"
   },
   {
    "duration": 30,
    "start_time": "2023-05-26T13:31:58.900Z"
   },
   {
    "duration": 647,
    "start_time": "2023-05-26T13:31:58.932Z"
   },
   {
    "duration": 6,
    "start_time": "2023-05-26T13:31:59.581Z"
   },
   {
    "duration": 37,
    "start_time": "2023-05-26T13:31:59.589Z"
   },
   {
    "duration": 396,
    "start_time": "2023-05-26T13:31:59.627Z"
   },
   {
    "duration": 1971,
    "start_time": "2023-05-26T13:32:00.025Z"
   },
   {
    "duration": 1109,
    "start_time": "2023-05-26T13:32:01.999Z"
   },
   {
    "duration": 401,
    "start_time": "2023-05-26T13:32:03.111Z"
   },
   {
    "duration": 533,
    "start_time": "2023-05-26T13:32:03.513Z"
   },
   {
    "duration": 17,
    "start_time": "2023-05-26T13:32:04.049Z"
   },
   {
    "duration": 14,
    "start_time": "2023-05-26T13:32:04.068Z"
   },
   {
    "duration": 86,
    "start_time": "2023-05-26T13:32:04.084Z"
   },
   {
    "duration": 29,
    "start_time": "2023-05-26T13:32:04.173Z"
   },
   {
    "duration": 17,
    "start_time": "2023-05-26T13:32:04.204Z"
   },
   {
    "duration": 41,
    "start_time": "2023-05-26T13:32:04.222Z"
   },
   {
    "duration": 2019,
    "start_time": "2023-05-26T13:32:04.265Z"
   },
   {
    "duration": 2311,
    "start_time": "2023-05-26T13:32:06.286Z"
   },
   {
    "duration": 14,
    "start_time": "2023-05-26T13:32:08.599Z"
   },
   {
    "duration": 235,
    "start_time": "2023-05-26T13:32:08.615Z"
   },
   {
    "duration": 9,
    "start_time": "2023-05-26T13:32:08.852Z"
   },
   {
    "duration": 15,
    "start_time": "2023-05-26T13:32:08.863Z"
   },
   {
    "duration": 711,
    "start_time": "2023-05-26T14:45:37.371Z"
   },
   {
    "duration": 1026,
    "start_time": "2023-05-26T14:57:38.744Z"
   },
   {
    "duration": 387,
    "start_time": "2023-05-26T14:57:51.841Z"
   },
   {
    "duration": 1089,
    "start_time": "2023-05-26T15:18:17.561Z"
   },
   {
    "duration": 849,
    "start_time": "2023-05-26T15:21:19.853Z"
   },
   {
    "duration": 6,
    "start_time": "2023-05-26T16:12:25.591Z"
   },
   {
    "duration": 31,
    "start_time": "2023-05-26T16:12:34.928Z"
   },
   {
    "duration": 42,
    "start_time": "2023-05-26T16:12:47.289Z"
   },
   {
    "duration": 45,
    "start_time": "2023-05-26T16:12:57.563Z"
   },
   {
    "duration": 1412,
    "start_time": "2023-05-26T16:36:42.341Z"
   },
   {
    "duration": 46,
    "start_time": "2023-05-26T16:36:43.755Z"
   },
   {
    "duration": 19,
    "start_time": "2023-05-26T16:36:43.802Z"
   },
   {
    "duration": 14,
    "start_time": "2023-05-26T16:36:43.824Z"
   },
   {
    "duration": 22,
    "start_time": "2023-05-26T16:36:43.840Z"
   },
   {
    "duration": 34,
    "start_time": "2023-05-26T16:36:43.865Z"
   },
   {
    "duration": 7,
    "start_time": "2023-05-26T16:36:43.902Z"
   },
   {
    "duration": 23,
    "start_time": "2023-05-26T16:36:43.910Z"
   },
   {
    "duration": 7,
    "start_time": "2023-05-26T16:36:43.935Z"
   },
   {
    "duration": 39,
    "start_time": "2023-05-26T16:36:43.946Z"
   },
   {
    "duration": 8,
    "start_time": "2023-05-26T16:36:43.987Z"
   },
   {
    "duration": 12,
    "start_time": "2023-05-26T16:36:43.997Z"
   },
   {
    "duration": 23,
    "start_time": "2023-05-26T16:36:44.011Z"
   },
   {
    "duration": 1242,
    "start_time": "2023-05-26T16:36:44.036Z"
   },
   {
    "duration": 5,
    "start_time": "2023-05-26T16:36:45.280Z"
   },
   {
    "duration": 21,
    "start_time": "2023-05-26T16:36:45.287Z"
   },
   {
    "duration": 675,
    "start_time": "2023-05-26T16:36:45.309Z"
   },
   {
    "duration": 8,
    "start_time": "2023-05-26T16:36:45.986Z"
   },
   {
    "duration": 53,
    "start_time": "2023-05-26T16:36:45.996Z"
   },
   {
    "duration": 664,
    "start_time": "2023-05-26T16:36:46.050Z"
   },
   {
    "duration": 2187,
    "start_time": "2023-05-26T16:36:46.716Z"
   },
   {
    "duration": 1054,
    "start_time": "2023-05-26T16:36:48.905Z"
   },
   {
    "duration": 398,
    "start_time": "2023-05-26T16:36:49.964Z"
   },
   {
    "duration": 553,
    "start_time": "2023-05-26T16:36:50.364Z"
   },
   {
    "duration": 39,
    "start_time": "2023-05-26T16:36:50.919Z"
   },
   {
    "duration": 15,
    "start_time": "2023-05-26T16:36:50.960Z"
   },
   {
    "duration": 80,
    "start_time": "2023-05-26T16:36:50.977Z"
   },
   {
    "duration": 26,
    "start_time": "2023-05-26T16:36:51.064Z"
   },
   {
    "duration": 25,
    "start_time": "2023-05-26T16:36:51.092Z"
   },
   {
    "duration": 16,
    "start_time": "2023-05-26T16:36:51.119Z"
   },
   {
    "duration": 40,
    "start_time": "2023-05-26T16:36:51.149Z"
   },
   {
    "duration": 950,
    "start_time": "2023-05-26T16:36:51.191Z"
   },
   {
    "duration": 2446,
    "start_time": "2023-05-26T16:36:52.146Z"
   },
   {
    "duration": 10,
    "start_time": "2023-05-26T16:36:54.594Z"
   },
   {
    "duration": 10,
    "start_time": "2023-05-26T16:36:54.606Z"
   },
   {
    "duration": 50,
    "start_time": "2023-05-26T16:38:10.605Z"
   },
   {
    "duration": 45,
    "start_time": "2023-05-27T09:15:23.246Z"
   },
   {
    "duration": 1512,
    "start_time": "2023-05-27T09:15:31.502Z"
   },
   {
    "duration": 153,
    "start_time": "2023-05-27T09:15:33.017Z"
   },
   {
    "duration": 16,
    "start_time": "2023-05-27T09:15:33.172Z"
   },
   {
    "duration": 11,
    "start_time": "2023-05-27T09:15:33.190Z"
   },
   {
    "duration": 7,
    "start_time": "2023-05-27T09:15:33.203Z"
   },
   {
    "duration": 12,
    "start_time": "2023-05-27T09:15:33.211Z"
   },
   {
    "duration": 106,
    "start_time": "2023-05-27T09:15:33.225Z"
   },
   {
    "duration": 0,
    "start_time": "2023-05-27T09:15:33.333Z"
   },
   {
    "duration": 0,
    "start_time": "2023-05-27T09:15:33.334Z"
   },
   {
    "duration": 0,
    "start_time": "2023-05-27T09:15:33.335Z"
   },
   {
    "duration": 0,
    "start_time": "2023-05-27T09:15:33.336Z"
   },
   {
    "duration": 0,
    "start_time": "2023-05-27T09:15:33.338Z"
   },
   {
    "duration": 0,
    "start_time": "2023-05-27T09:15:33.339Z"
   },
   {
    "duration": 0,
    "start_time": "2023-05-27T09:15:33.340Z"
   },
   {
    "duration": 0,
    "start_time": "2023-05-27T09:15:33.341Z"
   },
   {
    "duration": 0,
    "start_time": "2023-05-27T09:15:33.342Z"
   },
   {
    "duration": 0,
    "start_time": "2023-05-27T09:15:33.343Z"
   },
   {
    "duration": 0,
    "start_time": "2023-05-27T09:15:33.345Z"
   },
   {
    "duration": 0,
    "start_time": "2023-05-27T09:15:33.347Z"
   },
   {
    "duration": 0,
    "start_time": "2023-05-27T09:15:33.349Z"
   },
   {
    "duration": 0,
    "start_time": "2023-05-27T09:15:33.350Z"
   },
   {
    "duration": 0,
    "start_time": "2023-05-27T09:15:33.352Z"
   },
   {
    "duration": 0,
    "start_time": "2023-05-27T09:15:33.353Z"
   },
   {
    "duration": 0,
    "start_time": "2023-05-27T09:15:33.354Z"
   },
   {
    "duration": 0,
    "start_time": "2023-05-27T09:15:33.356Z"
   },
   {
    "duration": 0,
    "start_time": "2023-05-27T09:15:33.358Z"
   },
   {
    "duration": 0,
    "start_time": "2023-05-27T09:15:33.359Z"
   },
   {
    "duration": 0,
    "start_time": "2023-05-27T09:15:33.360Z"
   },
   {
    "duration": 0,
    "start_time": "2023-05-27T09:15:33.407Z"
   },
   {
    "duration": 0,
    "start_time": "2023-05-27T09:15:33.408Z"
   },
   {
    "duration": 0,
    "start_time": "2023-05-27T09:15:33.410Z"
   },
   {
    "duration": 0,
    "start_time": "2023-05-27T09:15:33.412Z"
   },
   {
    "duration": 0,
    "start_time": "2023-05-27T09:15:33.413Z"
   },
   {
    "duration": 0,
    "start_time": "2023-05-27T09:15:33.416Z"
   },
   {
    "duration": 0,
    "start_time": "2023-05-27T09:15:33.417Z"
   },
   {
    "duration": 1172,
    "start_time": "2023-05-27T09:16:26.117Z"
   },
   {
    "duration": 38,
    "start_time": "2023-05-27T09:16:27.291Z"
   },
   {
    "duration": 17,
    "start_time": "2023-05-27T09:16:27.330Z"
   },
   {
    "duration": 19,
    "start_time": "2023-05-27T09:16:27.349Z"
   },
   {
    "duration": 6,
    "start_time": "2023-05-27T09:16:27.370Z"
   },
   {
    "duration": 22,
    "start_time": "2023-05-27T09:16:27.377Z"
   },
   {
    "duration": 4,
    "start_time": "2023-05-27T09:16:27.401Z"
   },
   {
    "duration": 7,
    "start_time": "2023-05-27T09:16:27.406Z"
   },
   {
    "duration": 12,
    "start_time": "2023-05-27T09:16:27.414Z"
   },
   {
    "duration": 7,
    "start_time": "2023-05-27T09:16:27.429Z"
   },
   {
    "duration": 10,
    "start_time": "2023-05-27T09:16:27.438Z"
   },
   {
    "duration": 17,
    "start_time": "2023-05-27T09:16:27.449Z"
   },
   {
    "duration": 1054,
    "start_time": "2023-05-27T09:16:27.467Z"
   },
   {
    "duration": 4,
    "start_time": "2023-05-27T09:16:28.523Z"
   },
   {
    "duration": 18,
    "start_time": "2023-05-27T09:16:28.529Z"
   },
   {
    "duration": 592,
    "start_time": "2023-05-27T09:16:28.548Z"
   },
   {
    "duration": 66,
    "start_time": "2023-05-27T09:16:29.142Z"
   },
   {
    "duration": 546,
    "start_time": "2023-05-27T09:16:29.210Z"
   },
   {
    "duration": 1899,
    "start_time": "2023-05-27T09:16:29.758Z"
   },
   {
    "duration": 926,
    "start_time": "2023-05-27T09:16:31.659Z"
   },
   {
    "duration": 382,
    "start_time": "2023-05-27T09:16:32.587Z"
   },
   {
    "duration": 482,
    "start_time": "2023-05-27T09:16:32.970Z"
   },
   {
    "duration": 16,
    "start_time": "2023-05-27T09:16:33.454Z"
   },
   {
    "duration": 14,
    "start_time": "2023-05-27T09:16:33.472Z"
   },
   {
    "duration": 78,
    "start_time": "2023-05-27T09:16:33.507Z"
   },
   {
    "duration": 38,
    "start_time": "2023-05-27T09:16:33.587Z"
   },
   {
    "duration": 15,
    "start_time": "2023-05-27T09:16:33.627Z"
   },
   {
    "duration": 12,
    "start_time": "2023-05-27T09:16:33.645Z"
   },
   {
    "duration": 66,
    "start_time": "2023-05-27T09:16:33.659Z"
   },
   {
    "duration": 762,
    "start_time": "2023-05-27T09:16:33.727Z"
   },
   {
    "duration": 2048,
    "start_time": "2023-05-27T09:16:34.491Z"
   },
   {
    "duration": 47,
    "start_time": "2023-05-27T09:16:36.540Z"
   },
   {
    "duration": 0,
    "start_time": "2023-05-27T09:16:36.589Z"
   },
   {
    "duration": 0,
    "start_time": "2023-05-27T09:16:36.591Z"
   },
   {
    "duration": 0,
    "start_time": "2023-05-27T09:16:36.592Z"
   },
   {
    "duration": 50,
    "start_time": "2023-05-27T09:17:13.856Z"
   },
   {
    "duration": 150,
    "start_time": "2023-05-27T09:17:21.127Z"
   },
   {
    "duration": 44,
    "start_time": "2023-05-27T09:17:36.446Z"
   },
   {
    "duration": 12,
    "start_time": "2023-05-27T09:17:58.841Z"
   },
   {
    "duration": 20,
    "start_time": "2023-05-27T09:18:07.030Z"
   },
   {
    "duration": 14,
    "start_time": "2023-05-27T09:18:27.486Z"
   },
   {
    "duration": 16,
    "start_time": "2023-05-27T09:18:49.433Z"
   },
   {
    "duration": 18,
    "start_time": "2023-05-27T09:18:57.220Z"
   },
   {
    "duration": 13,
    "start_time": "2023-05-27T09:22:24.929Z"
   },
   {
    "duration": 14,
    "start_time": "2023-05-27T09:22:44.054Z"
   },
   {
    "duration": 15,
    "start_time": "2023-05-27T09:22:53.458Z"
   },
   {
    "duration": 15,
    "start_time": "2023-05-27T09:23:20.398Z"
   },
   {
    "duration": 11,
    "start_time": "2023-05-27T09:23:30.104Z"
   },
   {
    "duration": 14,
    "start_time": "2023-05-27T09:24:47.331Z"
   },
   {
    "duration": 12,
    "start_time": "2023-05-27T09:25:55.453Z"
   },
   {
    "duration": 47,
    "start_time": "2023-05-27T09:26:56.890Z"
   },
   {
    "duration": 40,
    "start_time": "2023-05-27T09:27:08.930Z"
   },
   {
    "duration": 12,
    "start_time": "2023-05-27T09:30:26.219Z"
   },
   {
    "duration": 28,
    "start_time": "2023-05-27T09:30:36.613Z"
   },
   {
    "duration": 15,
    "start_time": "2023-05-27T09:30:45.724Z"
   },
   {
    "duration": 14,
    "start_time": "2023-05-27T09:34:17.836Z"
   },
   {
    "duration": 70,
    "start_time": "2023-05-27T09:39:10.797Z"
   },
   {
    "duration": 65,
    "start_time": "2023-05-27T09:39:18.724Z"
   },
   {
    "duration": 14,
    "start_time": "2023-05-27T09:40:30.436Z"
   },
   {
    "duration": 14,
    "start_time": "2023-05-27T09:40:36.782Z"
   },
   {
    "duration": 18,
    "start_time": "2023-05-27T09:41:33.222Z"
   },
   {
    "duration": 19,
    "start_time": "2023-05-27T09:42:29.251Z"
   },
   {
    "duration": 25,
    "start_time": "2023-05-27T09:43:10.406Z"
   },
   {
    "duration": 33,
    "start_time": "2023-05-27T09:43:25.007Z"
   },
   {
    "duration": 24,
    "start_time": "2023-05-27T09:43:39.605Z"
   },
   {
    "duration": 1225,
    "start_time": "2023-05-27T10:34:43.412Z"
   },
   {
    "duration": 613,
    "start_time": "2023-05-27T10:35:00.159Z"
   },
   {
    "duration": 658,
    "start_time": "2023-05-27T10:35:32.930Z"
   },
   {
    "duration": 322,
    "start_time": "2023-05-27T10:35:56.775Z"
   },
   {
    "duration": 1128,
    "start_time": "2023-05-27T10:38:11.702Z"
   },
   {
    "duration": 37,
    "start_time": "2023-05-27T10:38:12.832Z"
   },
   {
    "duration": 15,
    "start_time": "2023-05-27T10:38:12.871Z"
   },
   {
    "duration": 19,
    "start_time": "2023-05-27T10:38:12.888Z"
   },
   {
    "duration": 5,
    "start_time": "2023-05-27T10:38:12.909Z"
   },
   {
    "duration": 27,
    "start_time": "2023-05-27T10:38:12.916Z"
   },
   {
    "duration": 4,
    "start_time": "2023-05-27T10:38:12.945Z"
   },
   {
    "duration": 11,
    "start_time": "2023-05-27T10:38:12.951Z"
   },
   {
    "duration": 12,
    "start_time": "2023-05-27T10:38:12.963Z"
   },
   {
    "duration": 7,
    "start_time": "2023-05-27T10:38:12.977Z"
   },
   {
    "duration": 10,
    "start_time": "2023-05-27T10:38:12.985Z"
   },
   {
    "duration": 20,
    "start_time": "2023-05-27T10:38:12.996Z"
   },
   {
    "duration": 985,
    "start_time": "2023-05-27T10:38:13.017Z"
   },
   {
    "duration": 4,
    "start_time": "2023-05-27T10:38:14.006Z"
   },
   {
    "duration": 26,
    "start_time": "2023-05-27T10:38:14.011Z"
   },
   {
    "duration": 560,
    "start_time": "2023-05-27T10:38:14.038Z"
   },
   {
    "duration": 52,
    "start_time": "2023-05-27T10:38:14.606Z"
   },
   {
    "duration": 546,
    "start_time": "2023-05-27T10:38:14.660Z"
   },
   {
    "duration": 1727,
    "start_time": "2023-05-27T10:38:15.208Z"
   },
   {
    "duration": 641,
    "start_time": "2023-05-27T10:38:16.937Z"
   },
   {
    "duration": 348,
    "start_time": "2023-05-27T10:38:17.580Z"
   },
   {
    "duration": 13,
    "start_time": "2023-05-27T10:38:17.930Z"
   },
   {
    "duration": 88,
    "start_time": "2023-05-27T10:38:17.945Z"
   },
   {
    "duration": 21,
    "start_time": "2023-05-27T10:38:18.035Z"
   },
   {
    "duration": 15,
    "start_time": "2023-05-27T10:38:18.057Z"
   },
   {
    "duration": 34,
    "start_time": "2023-05-27T10:38:18.073Z"
   },
   {
    "duration": 39,
    "start_time": "2023-05-27T10:38:18.109Z"
   },
   {
    "duration": 794,
    "start_time": "2023-05-27T10:38:18.151Z"
   },
   {
    "duration": 2069,
    "start_time": "2023-05-27T10:38:18.947Z"
   },
   {
    "duration": 20,
    "start_time": "2023-05-27T10:38:21.019Z"
   },
   {
    "duration": 14,
    "start_time": "2023-05-27T10:38:21.041Z"
   },
   {
    "duration": 14,
    "start_time": "2023-05-27T10:38:21.057Z"
   },
   {
    "duration": 13,
    "start_time": "2023-05-27T10:38:21.072Z"
   },
   {
    "duration": 10,
    "start_time": "2023-05-27T10:38:21.107Z"
   },
   {
    "duration": 661,
    "start_time": "2023-05-27T10:39:32.772Z"
   },
   {
    "duration": 305,
    "start_time": "2023-05-27T10:39:48.160Z"
   },
   {
    "duration": 365,
    "start_time": "2023-05-27T13:13:59.264Z"
   },
   {
    "duration": 319,
    "start_time": "2023-05-27T13:17:07.180Z"
   },
   {
    "duration": 98,
    "start_time": "2023-05-27T13:17:34.286Z"
   },
   {
    "duration": 97,
    "start_time": "2023-05-27T13:17:42.088Z"
   },
   {
    "duration": 18,
    "start_time": "2023-05-27T13:17:45.802Z"
   },
   {
    "duration": 22,
    "start_time": "2023-05-27T13:18:34.110Z"
   },
   {
    "duration": 22,
    "start_time": "2023-05-27T13:18:42.551Z"
   },
   {
    "duration": 17,
    "start_time": "2023-05-27T13:18:59.686Z"
   },
   {
    "duration": 1052,
    "start_time": "2023-05-27T13:19:37.121Z"
   },
   {
    "duration": 38,
    "start_time": "2023-05-27T13:19:38.174Z"
   },
   {
    "duration": 14,
    "start_time": "2023-05-27T13:19:38.214Z"
   },
   {
    "duration": 15,
    "start_time": "2023-05-27T13:19:38.229Z"
   },
   {
    "duration": 5,
    "start_time": "2023-05-27T13:19:38.246Z"
   },
   {
    "duration": 12,
    "start_time": "2023-05-27T13:19:38.253Z"
   },
   {
    "duration": 3,
    "start_time": "2023-05-27T13:19:38.267Z"
   },
   {
    "duration": 17,
    "start_time": "2023-05-27T13:19:38.271Z"
   },
   {
    "duration": 19,
    "start_time": "2023-05-27T13:19:38.290Z"
   },
   {
    "duration": 6,
    "start_time": "2023-05-27T13:19:38.310Z"
   },
   {
    "duration": 7,
    "start_time": "2023-05-27T13:19:38.317Z"
   },
   {
    "duration": 28,
    "start_time": "2023-05-27T13:19:38.326Z"
   },
   {
    "duration": 925,
    "start_time": "2023-05-27T13:19:38.356Z"
   },
   {
    "duration": 4,
    "start_time": "2023-05-27T13:19:39.283Z"
   },
   {
    "duration": 24,
    "start_time": "2023-05-27T13:19:39.288Z"
   },
   {
    "duration": 525,
    "start_time": "2023-05-27T13:19:39.314Z"
   },
   {
    "duration": 37,
    "start_time": "2023-05-27T13:19:39.841Z"
   },
   {
    "duration": 520,
    "start_time": "2023-05-27T13:19:39.879Z"
   },
   {
    "duration": 1558,
    "start_time": "2023-05-27T13:19:40.400Z"
   },
   {
    "duration": 694,
    "start_time": "2023-05-27T13:19:41.959Z"
   },
   {
    "duration": 342,
    "start_time": "2023-05-27T13:19:42.655Z"
   },
   {
    "duration": 44,
    "start_time": "2023-05-27T13:19:42.998Z"
   },
   {
    "duration": 691,
    "start_time": "2023-05-27T13:19:43.044Z"
   },
   {
    "duration": 1926,
    "start_time": "2023-05-27T13:19:43.737Z"
   },
   {
    "duration": 15,
    "start_time": "2023-05-27T13:19:45.665Z"
   },
   {
    "duration": 26,
    "start_time": "2023-05-27T13:19:45.681Z"
   },
   {
    "duration": 17,
    "start_time": "2023-05-27T13:19:45.709Z"
   },
   {
    "duration": 7,
    "start_time": "2023-05-27T13:19:45.728Z"
   },
   {
    "duration": 8,
    "start_time": "2023-05-27T13:19:45.737Z"
   },
   {
    "duration": 5,
    "start_time": "2023-05-27T13:19:45.746Z"
   },
   {
    "duration": 279,
    "start_time": "2023-05-27T13:20:09.331Z"
   },
   {
    "duration": 307,
    "start_time": "2023-05-27T13:24:53.108Z"
   },
   {
    "duration": 1111,
    "start_time": "2023-05-27T14:35:10.418Z"
   },
   {
    "duration": 38,
    "start_time": "2023-05-27T14:35:11.531Z"
   },
   {
    "duration": 16,
    "start_time": "2023-05-27T14:35:11.570Z"
   },
   {
    "duration": 11,
    "start_time": "2023-05-27T14:35:11.588Z"
   },
   {
    "duration": 6,
    "start_time": "2023-05-27T14:35:11.602Z"
   },
   {
    "duration": 16,
    "start_time": "2023-05-27T14:35:11.609Z"
   },
   {
    "duration": 3,
    "start_time": "2023-05-27T14:35:11.626Z"
   },
   {
    "duration": 26,
    "start_time": "2023-05-27T14:35:11.631Z"
   },
   {
    "duration": 23,
    "start_time": "2023-05-27T14:35:11.660Z"
   },
   {
    "duration": 7,
    "start_time": "2023-05-27T14:35:11.685Z"
   },
   {
    "duration": 10,
    "start_time": "2023-05-27T14:35:11.693Z"
   },
   {
    "duration": 18,
    "start_time": "2023-05-27T14:35:11.705Z"
   },
   {
    "duration": 1061,
    "start_time": "2023-05-27T14:35:11.725Z"
   },
   {
    "duration": 5,
    "start_time": "2023-05-27T14:35:12.790Z"
   },
   {
    "duration": 25,
    "start_time": "2023-05-27T14:35:12.796Z"
   },
   {
    "duration": 550,
    "start_time": "2023-05-27T14:35:12.822Z"
   },
   {
    "duration": 48,
    "start_time": "2023-05-27T14:35:13.374Z"
   },
   {
    "duration": 536,
    "start_time": "2023-05-27T14:35:13.424Z"
   },
   {
    "duration": 1723,
    "start_time": "2023-05-27T14:35:13.962Z"
   },
   {
    "duration": 683,
    "start_time": "2023-05-27T14:35:15.686Z"
   },
   {
    "duration": 369,
    "start_time": "2023-05-27T14:35:16.371Z"
   },
   {
    "duration": 41,
    "start_time": "2023-05-27T14:35:16.741Z"
   },
   {
    "duration": 774,
    "start_time": "2023-05-27T14:35:16.783Z"
   },
   {
    "duration": 2295,
    "start_time": "2023-05-27T14:35:17.558Z"
   },
   {
    "duration": 14,
    "start_time": "2023-05-27T14:35:19.855Z"
   },
   {
    "duration": 11,
    "start_time": "2023-05-27T14:35:19.870Z"
   },
   {
    "duration": 38,
    "start_time": "2023-05-27T14:35:19.883Z"
   },
   {
    "duration": 8,
    "start_time": "2023-05-27T14:35:19.923Z"
   },
   {
    "duration": 25,
    "start_time": "2023-05-27T14:35:19.936Z"
   },
   {
    "duration": 3,
    "start_time": "2023-05-27T14:35:19.963Z"
   }
  ],
  "kernelspec": {
   "display_name": "Python 3 (ipykernel)",
   "language": "python",
   "name": "python3"
  },
  "language_info": {
   "codemirror_mode": {
    "name": "ipython",
    "version": 3
   },
   "file_extension": ".py",
   "mimetype": "text/x-python",
   "name": "python",
   "nbconvert_exporter": "python",
   "pygments_lexer": "ipython3",
   "version": "3.10.9"
  },
  "toc": {
   "base_numbering": 1,
   "nav_menu": {},
   "number_sections": true,
   "sideBar": true,
   "skip_h1_title": true,
   "title_cell": "Table of Contents",
   "title_sidebar": "Contents",
   "toc_cell": false,
   "toc_position": {},
   "toc_section_display": true,
   "toc_window_display": false
  }
 },
 "nbformat": 4,
 "nbformat_minor": 2
}
